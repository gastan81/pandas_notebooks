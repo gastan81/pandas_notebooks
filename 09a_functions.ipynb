{
 "cells": [
  {
   "cell_type": "markdown",
   "metadata": {
    "id": "m1F11KQNKhZk"
   },
   "source": [
    "# Functions"
   ]
  },
  {
   "cell_type": "markdown",
   "metadata": {
    "id": "tjVAASQJRlP5"
   },
   "source": [
    "There are times when you may wish to perform the same operation over and over. It could be an analysis repeated every day, or a common calculation, or some custom sort of data cleaning you use often.\n",
    "\n",
    "Functions allow you to take the steps of an operation, give them a name, and call them as often as you like. We've actually used many functions already — things like `len()` and `float()` are \"built-in\" functions in Python, and methods are functions \"attached\" to specific data types.\n",
    "\n",
    "Today, you'll learn to write your own, custom functions. Any lines of code that get used more than once are good candidates to be made into a function.\n",
    "\n",
    "We'll follow 3 easy steps:\n",
    "1. Write some lines of code that do the job you wish done — basically normal coding\n",
    "2. Indent the lines of code — this will all become part of the function\n",
    "3. Add `def` and `return` statements — this is what makes the code a function"
   ]
  },
  {
   "cell_type": "markdown",
   "metadata": {
    "id": "-cPTix1YadjT"
   },
   "source": [
    "## 1.&nbsp; A function with one agrument"
   ]
  },
  {
   "cell_type": "markdown",
   "metadata": {
    "id": "1NKYAUagakpo"
   },
   "source": [
    "Though it may seem simple, making a function to perform division will show the necessary steps."
   ]
  },
  {
   "cell_type": "markdown",
   "metadata": {
    "id": "B_9NuuUWbEmw"
   },
   "source": [
    "### 1.1 Write some code\n",
    "\n",
    "Let's start out by dividing a number by 2:"
   ]
  },
  {
   "cell_type": "code",
   "execution_count": 1,
   "metadata": {
    "id": "6TruyGt4bQk4"
   },
   "outputs": [],
   "source": [
    "a = 3"
   ]
  },
  {
   "cell_type": "code",
   "execution_count": 2,
   "metadata": {
    "colab": {
     "base_uri": "https://localhost:8080/"
    },
    "executionInfo": {
     "elapsed": 277,
     "status": "ok",
     "timestamp": 1712243048887,
     "user": {
      "displayName": "Christopher Galloway",
      "userId": "16329134674817848650"
     },
     "user_tz": -120
    },
    "id": "HZBNiltMbjuf",
    "outputId": "8967a717-55ce-4b85-f3d2-1d61b04adc77"
   },
   "outputs": [
    {
     "data": {
      "text/plain": [
       "1.5"
      ]
     },
     "execution_count": 2,
     "metadata": {},
     "output_type": "execute_result"
    }
   ],
   "source": [
    "div = a/2\n",
    "div"
   ]
  },
  {
   "cell_type": "markdown",
   "metadata": {
    "id": "KTu0bpnXbchU"
   },
   "source": [
    "Notice that above there is a separation between assiging the value and performing the operation. That's because the function should be able to accept any value, not just the ones assigned for a specific case.\n",
    "\n",
    "If you go and change the value of `a` , the cell containing `div` will still run just fine. That's a good sign."
   ]
  },
  {
   "cell_type": "markdown",
   "metadata": {
    "id": "RJIM_F2PcBvH"
   },
   "source": [
    "### 1.2 Indent the code\n",
    "\n",
    "We won't run this cell, just show how you'll want to take the operational code and indent it. The indent will show \"This code belongs to the function,\" just as in loops and conditional statements."
   ]
  },
  {
   "cell_type": "code",
   "execution_count": 3,
   "metadata": {
    "id": "676sfzrhb-dJ"
   },
   "outputs": [
    {
     "data": {
      "text/plain": [
       "1.5"
      ]
     },
     "execution_count": 3,
     "metadata": {},
     "output_type": "execute_result"
    }
   ],
   "source": [
    "\n",
    "    div = a/2\n",
    "    div"
   ]
  },
  {
   "cell_type": "markdown",
   "metadata": {
    "id": "ghLU1NIucok6"
   },
   "source": [
    "We've also left a blank line at the top. That's to leave space for step 3."
   ]
  },
  {
   "cell_type": "markdown",
   "metadata": {
    "id": "IrMT9Ym6dJB2"
   },
   "source": [
    "### 1.3 Add `def` and `return` statements"
   ]
  },
  {
   "cell_type": "code",
   "execution_count": 4,
   "metadata": {
    "id": "2utVEm_YdSwG"
   },
   "outputs": [],
   "source": [
    "def division (a):\n",
    "    div = a/2\n",
    "    return div"
   ]
  },
  {
   "cell_type": "markdown",
   "metadata": {
    "id": "7uPh8dhNdewm"
   },
   "source": [
    "Let's break down what's happened line by line:\n",
    "- Line 1:      \n",
    "&emsp; `def` is the keyword that means \"I am defining a function now\"     \n",
    "&emsp; `division` is the name of the function; this will be used later to call it into action     \n",
    "&emsp; `(a)` is the function's input; this is how a function accepts different values, making it a versatile tool      \n",
    "&emsp; `:` signals \"the function starts on the next line\", just like with loops and `if` statements\n",
    "- Line 2:     \n",
    "&emsp; nothing has changed here, but notice that we named `(a)` above to match the variable used inside the function\n",
    "- Line 3:    \n",
    "&emsp; `return` is used to declare the function's output; this is the value we're interested in when performing the operation"
   ]
  },
  {
   "cell_type": "markdown",
   "metadata": {
    "id": "f2_1OfxmkDkR"
   },
   "source": [
    "### 1.4 Call the function\n",
    "\n",
    "Our function now has a name `division` which we can use along with an *argument* to call it."
   ]
  },
  {
   "cell_type": "code",
   "execution_count": 5,
   "metadata": {
    "colab": {
     "base_uri": "https://localhost:8080/"
    },
    "executionInfo": {
     "elapsed": 260,
     "status": "ok",
     "timestamp": 1712243190862,
     "user": {
      "displayName": "Christopher Galloway",
      "userId": "16329134674817848650"
     },
     "user_tz": -120
    },
    "id": "F5Vqx7gRpY40",
    "outputId": "b5ad02e9-52f4-4af6-c8ad-efde5c84f836"
   },
   "outputs": [
    {
     "data": {
      "text/plain": [
       "2.0"
      ]
     },
     "execution_count": 5,
     "metadata": {},
     "output_type": "execute_result"
    }
   ],
   "source": [
    "division(4)"
   ]
  },
  {
   "cell_type": "markdown",
   "metadata": {
    "id": "PFEHyma4pckF"
   },
   "source": [
    "When calling `division` with an argument of `4`, the variable `a` inside the function takes the value `4`, which is then divided by `2`, resulting in the output `2.0`."
   ]
  },
  {
   "cell_type": "markdown",
   "metadata": {
    "id": "HL47N6WQuEic"
   },
   "source": [
    "The argument of a function can be another variable:"
   ]
  },
  {
   "cell_type": "code",
   "execution_count": 6,
   "metadata": {
    "colab": {
     "base_uri": "https://localhost:8080/"
    },
    "executionInfo": {
     "elapsed": 480,
     "status": "ok",
     "timestamp": 1712244458419,
     "user": {
      "displayName": "Christopher Galloway",
      "userId": "16329134674817848650"
     },
     "user_tz": -120
    },
    "id": "TgPuF7HpuKSi",
    "outputId": "2e0868b7-0f0b-4e95-8fea-55af82fa3813"
   },
   "outputs": [
    {
     "data": {
      "text/plain": [
       "1.57075"
      ]
     },
     "execution_count": 6,
     "metadata": {},
     "output_type": "execute_result"
    }
   ],
   "source": [
    "argument = 3.1415\n",
    "division(argument)"
   ]
  },
  {
   "cell_type": "markdown",
   "metadata": {
    "id": "VKWB2UcJuDPa"
   },
   "source": [
    "We saw the result of our function above on the screen, but it is also possible to save a function's output as a variable:"
   ]
  },
  {
   "cell_type": "code",
   "execution_count": 7,
   "metadata": {
    "id": "DLy4j0BjqYsX"
   },
   "outputs": [],
   "source": [
    "b = division(56)"
   ]
  },
  {
   "cell_type": "code",
   "execution_count": 8,
   "metadata": {
    "colab": {
     "base_uri": "https://localhost:8080/"
    },
    "executionInfo": {
     "elapsed": 245,
     "status": "ok",
     "timestamp": 1712243563434,
     "user": {
      "displayName": "Christopher Galloway",
      "userId": "16329134674817848650"
     },
     "user_tz": -120
    },
    "id": "tPyNStDeqwnL",
    "outputId": "c3168e74-6804-43d5-e63f-451a12e43346"
   },
   "outputs": [
    {
     "name": "stdout",
     "output_type": "stream",
     "text": [
      "The value of b is 28.0\n"
     ]
    }
   ],
   "source": [
    "print(f\"The value of b is {b}\")"
   ]
  },
  {
   "cell_type": "markdown",
   "metadata": {
    "id": "LDzLze1Hq7lx"
   },
   "source": [
    "### **A note on variables in functions:**\n",
    "Even though we given `division` many different arguments by now, this has not altered the value of `a` set at the top of the notebook, even though they have the same name."
   ]
  },
  {
   "cell_type": "code",
   "execution_count": 9,
   "metadata": {
    "colab": {
     "base_uri": "https://localhost:8080/"
    },
    "executionInfo": {
     "elapsed": 306,
     "status": "ok",
     "timestamp": 1712243906975,
     "user": {
      "displayName": "Christopher Galloway",
      "userId": "16329134674817848650"
     },
     "user_tz": -120
    },
    "id": "xAaHpEousI39",
    "outputId": "00e24c02-7aab-4ee5-fc1b-db8ffe99e0ce"
   },
   "outputs": [
    {
     "data": {
      "text/plain": [
       "3"
      ]
     },
     "execution_count": 9,
     "metadata": {},
     "output_type": "execute_result"
    }
   ],
   "source": [
    "a"
   ]
  },
  {
   "cell_type": "markdown",
   "metadata": {
    "id": "zC-1tvv4sQam"
   },
   "source": [
    "Variables internal to a function exist *only to that function*."
   ]
  },
  {
   "cell_type": "markdown",
   "metadata": {
    "id": "9hQCHRLPsyFf"
   },
   "source": [
    "## 2.&nbsp; A function with many arguments"
   ]
  },
  {
   "cell_type": "markdown",
   "metadata": {
    "id": "qQuAKTcVtWK6"
   },
   "source": [
    "A function can take more than one argument."
   ]
  },
  {
   "cell_type": "markdown",
   "metadata": {
    "id": "zuCDYAp-tu7Q"
   },
   "source": [
    "### 2.1 Write some code"
   ]
  },
  {
   "cell_type": "code",
   "execution_count": 10,
   "metadata": {
    "id": "BwjVzXdTtyS4"
   },
   "outputs": [],
   "source": [
    "# Start with many variables\n",
    "n1 = 54\n",
    "n2 = 78\n",
    "n3 = 43\n",
    "n4 = 66\n",
    "n5 = 51"
   ]
  },
  {
   "cell_type": "code",
   "execution_count": 11,
   "metadata": {
    "colab": {
     "base_uri": "https://localhost:8080/"
    },
    "executionInfo": {
     "elapsed": 253,
     "status": "ok",
     "timestamp": 1712311317367,
     "user": {
      "displayName": "Christopher Galloway",
      "userId": "16329134674817848650"
     },
     "user_tz": -120
    },
    "id": "Onx7NBWBub2V",
    "outputId": "bba4efcf-ab15-44a7-87bd-467fc9a33d02"
   },
   "outputs": [
    {
     "data": {
      "text/plain": [
       "1.2941176470588236"
      ]
     },
     "execution_count": 11,
     "metadata": {},
     "output_type": "execute_result"
    }
   ],
   "source": [
    "# This code is written to look complicated, but is ultimately meaningless\n",
    "mean = (n1+n2+n3+n4+n5)/5\n",
    "if ((n1*mean + n2/mean)/n3) > n4/n5:\n",
    "    complex_output = n4/n5\n",
    "else:\n",
    "    complex_output = 0\n",
    "complex_output"
   ]
  },
  {
   "cell_type": "markdown",
   "metadata": {
    "id": "rOSCCLWhTecS"
   },
   "source": [
    "### 2.2 Indent the code"
   ]
  },
  {
   "cell_type": "code",
   "execution_count": 12,
   "metadata": {
    "id": "T3UP6GlhTj41"
   },
   "outputs": [
    {
     "data": {
      "text/plain": [
       "1.2941176470588236"
      ]
     },
     "execution_count": 12,
     "metadata": {},
     "output_type": "execute_result"
    }
   ],
   "source": [
    "\n",
    "    mean = (n1+n2+n3+n4+n5)/5\n",
    "    if ((n1*mean + n2/mean)/n3) > n4/n5:\n",
    "        complex_output = n4/n5\n",
    "    else:\n",
    "        complex_output = 0\n",
    "    complex_output"
   ]
  },
  {
   "cell_type": "markdown",
   "metadata": {
    "id": "LeLICjcBTo8m"
   },
   "source": [
    "### 2.3 Add `def` and `return` statements"
   ]
  },
  {
   "cell_type": "code",
   "execution_count": 13,
   "metadata": {
    "id": "rjzXbHXDTvg-"
   },
   "outputs": [],
   "source": [
    "def complex_operation(n1, n2, n3, n4, n5):\n",
    "    mean = (n1+n2+n3+n4+n5)/5\n",
    "    if ((n1*mean + n2/mean)/n3) > n4/n5:\n",
    "        complex_output = n4/n5\n",
    "    else:\n",
    "        complex_output = 0\n",
    "    return complex_output"
   ]
  },
  {
   "cell_type": "markdown",
   "metadata": {
    "id": "nnDV3O_wUQVV"
   },
   "source": [
    "### 2.4 Call the function"
   ]
  },
  {
   "cell_type": "code",
   "execution_count": 14,
   "metadata": {
    "colab": {
     "base_uri": "https://localhost:8080/"
    },
    "executionInfo": {
     "elapsed": 273,
     "status": "ok",
     "timestamp": 1712311500868,
     "user": {
      "displayName": "Christopher Galloway",
      "userId": "16329134674817848650"
     },
     "user_tz": -120
    },
    "id": "eDvfuin8Ueyl",
    "outputId": "bdf5ac71-5641-4e67-a20e-ec9fc47b9951"
   },
   "outputs": [
    {
     "data": {
      "text/plain": [
       "-4.0"
      ]
     },
     "execution_count": 14,
     "metadata": {},
     "output_type": "execute_result"
    }
   ],
   "source": [
    "complex_operation(8, -9, 12, 4, -1)"
   ]
  },
  {
   "cell_type": "markdown",
   "metadata": {
    "id": "WAGHFqDvunJL"
   },
   "source": [
    "## 3.&nbsp; Positional and Keyword arguments"
   ]
  },
  {
   "cell_type": "markdown",
   "metadata": {
    "id": "vM1pgJay3ck0"
   },
   "source": [
    "There are different ways to assign which argument is assigned to which variable inside a function."
   ]
  },
  {
   "cell_type": "markdown",
   "metadata": {
    "id": "Pn_E-7-yzemU"
   },
   "source": [
    "We'll start by writing a function that prints the values of its arguments."
   ]
  },
  {
   "cell_type": "code",
   "execution_count": 15,
   "metadata": {
    "id": "quRs5edQzFX9"
   },
   "outputs": [],
   "source": [
    "def some_function (x, y, z):\n",
    "    print(f\"\"\"x has the value {x}\n",
    "y has the value {y}\n",
    "z has the value {z}\"\"\")"
   ]
  },
  {
   "cell_type": "markdown",
   "metadata": {
    "id": "9Z1ytnReumdq"
   },
   "source": [
    "### 3.1 Positional arguments\n",
    "By default, arguments will be assigned *in order* to the variables named in the function definition. These are known as \"positional arguments\"."
   ]
  },
  {
   "cell_type": "code",
   "execution_count": 16,
   "metadata": {
    "colab": {
     "base_uri": "https://localhost:8080/"
    },
    "executionInfo": {
     "elapsed": 235,
     "status": "ok",
     "timestamp": 1712649261401,
     "user": {
      "displayName": "Christopher Galloway",
      "userId": "16329134674817848650"
     },
     "user_tz": -120
    },
    "id": "UYD3GFwCvWQm",
    "outputId": "93af0aaf-3117-4eba-ad10-d3360853f463"
   },
   "outputs": [
    {
     "name": "stdout",
     "output_type": "stream",
     "text": [
      "x has the value 6\n",
      "y has the value 8\n",
      "z has the value some word\n"
     ]
    }
   ],
   "source": [
    "some_function(6, 8, 'some word')"
   ]
  },
  {
   "cell_type": "markdown",
   "metadata": {
    "id": "sJSdTiy_ltNQ"
   },
   "source": [
    "### 3.2 Keyword arguments"
   ]
  },
  {
   "cell_type": "markdown",
   "metadata": {
    "id": "sb91sNG8l0vI"
   },
   "source": [
    "Arguments can be identified by name instead of position. They follow the pattern     \n",
    "`variable_name=value`     \n",
    "and are known as \"keyword arguments\" and can be entered in any order."
   ]
  },
  {
   "cell_type": "code",
   "execution_count": 17,
   "metadata": {
    "colab": {
     "base_uri": "https://localhost:8080/"
    },
    "executionInfo": {
     "elapsed": 235,
     "status": "ok",
     "timestamp": 1712649266683,
     "user": {
      "displayName": "Christopher Galloway",
      "userId": "16329134674817848650"
     },
     "user_tz": -120
    },
    "id": "tkGBtY_rodRw",
    "outputId": "3ad46842-4278-42cd-a6ee-1989cd5c4da3"
   },
   "outputs": [
    {
     "name": "stdout",
     "output_type": "stream",
     "text": [
      "x has the value some word\n",
      "y has the value 6\n",
      "z has the value 8\n"
     ]
    }
   ],
   "source": [
    "some_function(y=6, z=8, x='some word')"
   ]
  },
  {
   "cell_type": "markdown",
   "metadata": {
    "id": "X8qJiqSQXj5-"
   },
   "source": [
    "### 3.3 Mixing positional and keyword arguments"
   ]
  },
  {
   "cell_type": "markdown",
   "metadata": {
    "id": "FPU2prLJyG8a"
   },
   "source": [
    "When mixing positional and keyword arguments, *unnamed arguments* will be assigned *positionally*.\n",
    "\n",
    "Here, since `6` is not assigned by name, its position will cause it to be assinged to `x`."
   ]
  },
  {
   "cell_type": "code",
   "execution_count": 18,
   "metadata": {
    "colab": {
     "base_uri": "https://localhost:8080/"
    },
    "executionInfo": {
     "elapsed": 318,
     "status": "ok",
     "timestamp": 1712649274632,
     "user": {
      "displayName": "Christopher Galloway",
      "userId": "16329134674817848650"
     },
     "user_tz": -120
    },
    "id": "0u_s93AcyfaJ",
    "outputId": "50d0667b-32fd-46ff-e4d4-5d1db56dc758"
   },
   "outputs": [
    {
     "name": "stdout",
     "output_type": "stream",
     "text": [
      "x has the value 6\n",
      "y has the value some word\n",
      "z has the value 8\n"
     ]
    }
   ],
   "source": [
    "some_function(6, z=8, y='some word')"
   ]
  },
  {
   "cell_type": "markdown",
   "metadata": {
    "id": "Zm4mVHQRyF6w"
   },
   "source": [
    "Positional arguments cannot follow keyword arguments.\n",
    "\n",
    "Since `6` has no given name below, it is considered a positional agrument."
   ]
  },
  {
   "cell_type": "code",
   "execution_count": 19,
   "metadata": {
    "colab": {
     "base_uri": "https://localhost:8080/",
     "height": 110
    },
    "executionInfo": {
     "elapsed": 242,
     "status": "error",
     "timestamp": 1712649429025,
     "user": {
      "displayName": "Christopher Galloway",
      "userId": "16329134674817848650"
     },
     "user_tz": -120
    },
    "id": "flDJLrV_o2BF",
    "outputId": "12383949-7236-4b6f-82e7-ad1ba2560ad1"
   },
   "outputs": [
    {
     "ename": "SyntaxError",
     "evalue": "positional argument follows keyword argument (3772478268.py, line 1)",
     "output_type": "error",
     "traceback": [
      "\u001b[1;36m  Cell \u001b[1;32mIn[19], line 1\u001b[1;36m\u001b[0m\n\u001b[1;33m    some_function(z=8, y='some word', 6)\u001b[0m\n\u001b[1;37m                                       ^\u001b[0m\n\u001b[1;31mSyntaxError\u001b[0m\u001b[1;31m:\u001b[0m positional argument follows keyword argument\n"
     ]
    }
   ],
   "source": [
    "some_function(z=8, y='some word', 6)"
   ]
  },
  {
   "cell_type": "markdown",
   "metadata": {
    "id": "yDIZFJUQU2ml"
   },
   "source": [
    "## 4.&nbsp; Default values"
   ]
  },
  {
   "cell_type": "markdown",
   "metadata": {
    "id": "gdkJQ-0LVY1M"
   },
   "source": [
    "Default values can be set for functions. If an argument has a default, that value will be used if no other is assigned during the function call.\n",
    "\n",
    "A default is assigned on the function's definition line."
   ]
  },
  {
   "cell_type": "code",
   "execution_count": null,
   "metadata": {
    "id": "sT2iUeSUVwQh"
   },
   "outputs": [],
   "source": [
    "# b is given the default value of 2\n",
    "def default_division (a, b=2):\n",
    "    div = a/b\n",
    "    return div"
   ]
  },
  {
   "cell_type": "markdown",
   "metadata": {
    "id": "9gaZ6LYxWaUS"
   },
   "source": [
    "The function will divide any two numbers."
   ]
  },
  {
   "cell_type": "code",
   "execution_count": null,
   "metadata": {
    "colab": {
     "base_uri": "https://localhost:8080/"
    },
    "executionInfo": {
     "elapsed": 9,
     "status": "ok",
     "timestamp": 1712305350027,
     "user": {
      "displayName": "Christopher Galloway",
      "userId": "16329134674817848650"
     },
     "user_tz": -120
    },
    "id": "KFG9oPYMWftU",
    "outputId": "9b47f821-bd69-430f-ed86-dd2f5c4826fe"
   },
   "outputs": [
    {
     "data": {
      "text/plain": [
       "0.75"
      ]
     },
     "execution_count": 22,
     "metadata": {},
     "output_type": "execute_result"
    }
   ],
   "source": [
    "default_division(3, 4)"
   ]
  },
  {
   "cell_type": "markdown",
   "metadata": {
    "id": "3GJ9SrUtWj1l"
   },
   "source": [
    "Providing only one argument will cause the default `2` to be used for `b`."
   ]
  },
  {
   "cell_type": "code",
   "execution_count": null,
   "metadata": {
    "colab": {
     "base_uri": "https://localhost:8080/"
    },
    "executionInfo": {
     "elapsed": 264,
     "status": "ok",
     "timestamp": 1712305398676,
     "user": {
      "displayName": "Christopher Galloway",
      "userId": "16329134674817848650"
     },
     "user_tz": -120
    },
    "id": "-n22_eqCWs60",
    "outputId": "777ca63a-5ea2-4e70-987a-9b90ad07845f"
   },
   "outputs": [
    {
     "data": {
      "text/plain": [
       "1.5"
      ]
     },
     "execution_count": 23,
     "metadata": {},
     "output_type": "execute_result"
    }
   ],
   "source": [
    "default_division(3)"
   ]
  },
  {
   "cell_type": "markdown",
   "metadata": {
    "id": "kQ-KBaxhKhZx"
   },
   "source": [
    "## 5.&nbsp; Exercises:"
   ]
  },
  {
   "cell_type": "markdown",
   "metadata": {
    "id": "Y6OVhUabKhZx"
   },
   "source": [
    "### Exercise 1:\n",
    "\n",
    "Build a function to filp coins. It should take as an argument how many coins to flip, and ouptut how many times the coin landed on heads.\n",
    "\n",
    "Hint: use the module `random` inside of your function!"
   ]
  },
  {
   "cell_type": "code",
   "execution_count": null,
   "metadata": {
    "id": "yOjFFzchKhZx"
   },
   "outputs": [
    {
     "data": {
      "text/plain": [
       "5"
      ]
     },
     "execution_count": 49,
     "metadata": {},
     "output_type": "execute_result"
    }
   ],
   "source": [
    "# Embrace the process and flex your problem-solving\n",
    "import random\n",
    "\n",
    "def coin_flip(n):\n",
    "    output = 0\n",
    "    for n in range(n):\n",
    "        flip = random.choice(['head', 'tail'])\n",
    "        output += flip == 'head'#output.append(n)\n",
    "    return output\n",
    "\n",
    "coin_flip(10)"
   ]
  },
  {
   "cell_type": "markdown",
   "metadata": {
    "id": "JHbhGAAgKhZx"
   },
   "source": [
    "### Exercise 2:\n",
    "\n",
    "Build a function that takes as input a string and returns it reversed\n",
    "\n",
    "Extra challenge: try not to use any built in Python string method!"
   ]
  },
  {
   "cell_type": "code",
   "execution_count": null,
   "metadata": {
    "id": "CyVfhIvuKhZx"
   },
   "outputs": [
    {
     "data": {
      "text/plain": [
       "'321'"
      ]
     },
     "execution_count": 72,
     "metadata": {},
     "output_type": "execute_result"
    }
   ],
   "source": [
    "# Don't get turned around, just try some things out\n",
    "def string_reverse(string):\n",
    "    new_string = ''\n",
    "    for n in range(len(string)):\n",
    "        new_string = new_string + string[- n - 1]\n",
    "    return new_string\n",
    "\n",
    "string_reverse('123')"
   ]
  },
  {
   "cell_type": "markdown",
   "metadata": {
    "id": "YBu20Uc5KhZx"
   },
   "source": [
    "Test your function:"
   ]
  },
  {
   "cell_type": "code",
   "execution_count": null,
   "metadata": {
    "colab": {
     "base_uri": "https://localhost:8080/",
     "height": 211
    },
    "executionInfo": {
     "elapsed": 15,
     "status": "error",
     "timestamp": 1692779370835,
     "user": {
      "displayName": "Joan Claverol",
      "userId": "15186312339871036973"
     },
     "user_tz": -120
    },
    "id": "aCvx-pxxKhZx",
    "outputId": "302646e8-47c2-4ef9-a67e-f35dccb00bdf"
   },
   "outputs": [
    {
     "data": {
      "text/plain": [
       "'arbadacarbA'"
      ]
     },
     "execution_count": 73,
     "metadata": {},
     "output_type": "execute_result"
    }
   ],
   "source": [
    "string_reverse(\"Abracadabra\")\n",
    "\n",
    "# expected output: 'arbadacarbA'"
   ]
  },
  {
   "cell_type": "markdown",
   "metadata": {
    "id": "58sWtafMKhZy"
   },
   "source": [
    "### Exercise 3:\n",
    "\n",
    "Build a function to return the intersection of two sets\n",
    "\n",
    "Find out more about Python sets here: https://www.w3schools.com/python/python_sets.asp"
   ]
  },
  {
   "cell_type": "code",
   "execution_count": null,
   "metadata": {
    "id": "nkopgxA4KhZy"
   },
   "outputs": [],
   "source": [
    "# One step at time builds the shining path\n",
    "def intersect(a, b):\n",
    "    intersect = set()\n",
    "    set_a = set(a)\n",
    "    set_b = set(b)\n",
    "    for a in set_a:\n",
    "        for b in set_b:\n",
    "            if a == b:\n",
    "                intersect.add(a)\n",
    "    return intersect\n"
   ]
  },
  {
   "cell_type": "code",
   "execution_count": null,
   "metadata": {
    "id": "5nEi6xnNKhZy"
   },
   "outputs": [
    {
     "data": {
      "text/plain": [
       "{1, 2, 3, 5, 13}"
      ]
     },
     "execution_count": 88,
     "metadata": {},
     "output_type": "execute_result"
    }
   ],
   "source": [
    "# test your function\n",
    "small_primes = (1, 2, 3, 5, 7, 11, 13)\n",
    "fibonacci = [0, 1, 1, 2, 3, 5, 8, 13]\n",
    "\n",
    "intersect(small_primes, fibonacci)\n",
    "\n",
    "# expected output: {1, 2, 3, 5, 13}"
   ]
  },
  {
   "cell_type": "code",
   "execution_count": null,
   "metadata": {
    "id": "6Ffq6J8uKhZy"
   },
   "outputs": [
    {
     "data": {
      "text/plain": [
       "{'a', 'e', 'l', 'n', 'p'}"
      ]
     },
     "execution_count": 90,
     "metadata": {},
     "output_type": "execute_result"
    }
   ],
   "source": [
    "# Should work with strings as well\n",
    "plane = \"plane\"\n",
    "planet = \"planet\"\n",
    "\n",
    "intersect(plane, planet)\n",
    "# expected output: {\"a\", \"e\", \"l\", \"n\", \"p\"}"
   ]
  },
  {
   "cell_type": "markdown",
   "metadata": {
    "id": "M14bynGrlJ56"
   },
   "source": [
    "## 6.&nbsp; **BONUS:** Modules\n",
    "\n",
    "You can save a notebook as Python script (a file with the `.py` extension). Then, it automatically becomes a Python \"module\". These modules can be imported the same way you import `pandas`, and then you can access any functions within them.\n",
    "\n",
    "This allows you to keep your functions in a clean and isolated place, where they will be less prone to getting \"corrupted\". Your notebook will also be cleaner without all the function definitions.\n",
    "\n",
    "Using modules is easier when working locally (with Jupyter Lab, for example).\n",
    "- Working locally, put your `.py` file and your notebook in the same folder.\n",
    "- With Google Colab, there's an extra step involved. Follow the instructions in [this video](https://www.youtube.com/watch?v=YP6APKLRf58).\n",
    "\n",
    "Once that is done, use `import` to gain access to the module. For example, if the function `my_function` were in the file \"my_module.py\", it would be used like this:\n",
    "```\n",
    "import my_module\n",
    "...\n",
    "my_module.my_function(arg1, arg2...)\n",
    "```"
   ]
  },
  {
   "cell_type": "markdown",
   "metadata": {
    "id": "E_bQ1zLN9g1Y"
   },
   "source": [
    "**Exercise:** Convert the function from the previous exercise into a module and import it to this notebook."
   ]
  },
  {
   "cell_type": "code",
   "execution_count": null,
   "metadata": {
    "id": "ph8_lXdG9lrv"
   },
   "outputs": [
    {
     "ename": "ModuleNotFoundError",
     "evalue": "No module named 'my_functions'",
     "output_type": "error",
     "traceback": [
      "\u001b[1;31m---------------------------------------------------------------------------\u001b[0m",
      "\u001b[1;31mModuleNotFoundError\u001b[0m                       Traceback (most recent call last)",
      "Cell \u001b[1;32mIn[91], line 2\u001b[0m\n\u001b[0;32m      1\u001b[0m \u001b[38;5;66;03m# Follow the steps and try it out\u001b[39;00m\n\u001b[1;32m----> 2\u001b[0m \u001b[38;5;28;01mimport\u001b[39;00m \u001b[38;5;21;01mmy_functions\u001b[39;00m\n",
      "\u001b[1;31mModuleNotFoundError\u001b[0m: No module named 'my_functions'"
     ]
    }
   ],
   "source": [
    "# Follow the steps and try it out\n",
    "import my_functions\n"
   ]
  },
  {
   "cell_type": "markdown",
   "metadata": {
    "id": "ljeAayDAXvRi"
   },
   "source": [
    "## 7.&nbsp; **BONUS:** More about arguments and `return`"
   ]
  },
  {
   "cell_type": "markdown",
   "metadata": {
    "id": "oIeA8QVqYKGT"
   },
   "source": [
    "### 7.1 No arguments\n",
    "A function does not have to have arguments. However, `( )` still needs to make an appearance in the definition and the call."
   ]
  },
  {
   "cell_type": "code",
   "execution_count": null,
   "metadata": {
    "id": "909lcrIPYIKP"
   },
   "outputs": [],
   "source": [
    "def hello_world():\n",
    "    return \"hello world\""
   ]
  },
  {
   "cell_type": "code",
   "execution_count": null,
   "metadata": {
    "colab": {
     "base_uri": "https://localhost:8080/",
     "height": 36
    },
    "executionInfo": {
     "elapsed": 245,
     "status": "ok",
     "timestamp": 1712305933223,
     "user": {
      "displayName": "Christopher Galloway",
      "userId": "16329134674817848650"
     },
     "user_tz": -120
    },
    "id": "ReaAHnlOYsP2",
    "outputId": "e3b6e217-ab87-4009-e8df-724483b2b86e"
   },
   "outputs": [
    {
     "data": {
      "application/vnd.google.colaboratory.intrinsic+json": {
       "type": "string"
      },
      "text/plain": [
       "'hello world'"
      ]
     },
     "execution_count": 9,
     "metadata": {},
     "output_type": "execute_result"
    }
   ],
   "source": [
    "hello_world()"
   ]
  },
  {
   "cell_type": "markdown",
   "metadata": {
    "id": "vIifAAfUX1Gy"
   },
   "source": [
    "### 7.2 No return\n",
    "A function does not have to have a `return` statement."
   ]
  },
  {
   "cell_type": "code",
   "execution_count": null,
   "metadata": {
    "id": "J2aE-_6eYAJ2"
   },
   "outputs": [],
   "source": [
    "def hello_world2():\n",
    "    print(\"hello world\")"
   ]
  },
  {
   "cell_type": "code",
   "execution_count": null,
   "metadata": {
    "colab": {
     "base_uri": "https://localhost:8080/"
    },
    "executionInfo": {
     "elapsed": 2,
     "status": "ok",
     "timestamp": 1712309019623,
     "user": {
      "displayName": "Christopher Galloway",
      "userId": "16329134674817848650"
     },
     "user_tz": -120
    },
    "id": "ZEiIW6ujY1lu",
    "outputId": "9aa48aec-8b99-4f92-a64a-a667d57f88b2"
   },
   "outputs": [
    {
     "name": "stdout",
     "output_type": "stream",
     "text": [
      "hello world\n"
     ]
    }
   ],
   "source": [
    "hello_world2()"
   ]
  },
  {
   "cell_type": "markdown",
   "metadata": {
    "id": "YlN9jVKfkeIU"
   },
   "source": [
    "We still see \"hello world\", but the function has made an *implicit return* of `None`. Trying to save the output to a variable reveals the behaviour."
   ]
  },
  {
   "cell_type": "code",
   "execution_count": null,
   "metadata": {
    "colab": {
     "base_uri": "https://localhost:8080/"
    },
    "executionInfo": {
     "elapsed": 339,
     "status": "ok",
     "timestamp": 1712309214306,
     "user": {
      "displayName": "Christopher Galloway",
      "userId": "16329134674817848650"
     },
     "user_tz": -120
    },
    "id": "VNsBEB8KbVxZ",
    "outputId": "030581c7-c498-457a-d849-d51fed5f1665"
   },
   "outputs": [
    {
     "name": "stdout",
     "output_type": "stream",
     "text": [
      "hello world\n"
     ]
    }
   ],
   "source": [
    "this = hello_world2()"
   ]
  },
  {
   "cell_type": "code",
   "execution_count": null,
   "metadata": {
    "colab": {
     "base_uri": "https://localhost:8080/"
    },
    "executionInfo": {
     "elapsed": 350,
     "status": "ok",
     "timestamp": 1712309272502,
     "user": {
      "displayName": "Christopher Galloway",
      "userId": "16329134674817848650"
     },
     "user_tz": -120
    },
    "id": "MPSEbcAhkMEO",
    "outputId": "0b65e7a5-cba4-44ce-d9b5-bbf4a36e3518"
   },
   "outputs": [
    {
     "name": "stdout",
     "output_type": "stream",
     "text": [
      "The output is None, and has type <class 'NoneType'>.\n"
     ]
    }
   ],
   "source": [
    "print(f\"The output is {this}, and has type {type(this)}.\")"
   ]
  },
  {
   "cell_type": "markdown",
   "metadata": {
    "id": "1XVJrRe9-zc9"
   },
   "source": [
    "When choosing to use `return` or `print()`, ask yourself if you need to use the result of your operation anywhere else in the code. If so, use `return`.\n",
    "\n",
    "If informing the user is the *only* goal, `print()` can do the job. Keep in mind though, that if your function exists as part of a larger process, introducing a `NoneType` to that process could cause disruptions.\n",
    "\n",
    "There's no hard rules, just consequences."
   ]
  },
  {
   "cell_type": "markdown",
   "metadata": {
    "id": "7rrgiVdsDRff"
   },
   "source": [
    "### 7.3 Multiple returns\n",
    "A function can return multiple values if they are separated by commas."
   ]
  },
  {
   "cell_type": "code",
   "execution_count": 20,
   "metadata": {
    "id": "Sln6PKpHDmLV"
   },
   "outputs": [],
   "source": [
    "def multiple_return():\n",
    "    i = \"some text\"\n",
    "    j = \"more text\"\n",
    "    k = \"final text\"\n",
    "    return i, j, k"
   ]
  },
  {
   "cell_type": "code",
   "execution_count": 22,
   "metadata": {
    "colab": {
     "base_uri": "https://localhost:8080/"
    },
    "executionInfo": {
     "elapsed": 233,
     "status": "ok",
     "timestamp": 1712652822271,
     "user": {
      "displayName": "Christopher Galloway",
      "userId": "16329134674817848650"
     },
     "user_tz": -120
    },
    "id": "Y2-DjXBsDygK",
    "outputId": "11ff1484-1d3e-48e8-c744-df007f7b0ad3"
   },
   "outputs": [
    {
     "name": "stdout",
     "output_type": "stream",
     "text": [
      "some text\n",
      "more text and final text\n"
     ]
    }
   ],
   "source": [
    "first, second, third = multiple_return()\n",
    "print(first)\n",
    "print(second +\" and \"+ third)"
   ]
  }
 ],
 "metadata": {
  "colab": {
   "provenance": [
    {
     "file_id": "1IHbnHJzjieT-w8K9LGGCoAviayhRqV-v",
     "timestamp": 1712236225332
    }
   ]
  },
  "kernelspec": {
   "display_name": "base",
   "language": "python",
   "name": "python3"
  },
  "language_info": {
   "codemirror_mode": {
    "name": "ipython",
    "version": 3
   },
   "file_extension": ".py",
   "mimetype": "text/x-python",
   "name": "python",
   "nbconvert_exporter": "python",
   "pygments_lexer": "ipython3",
   "version": "3.12.4"
  },
  "toc": {
   "base_numbering": 1,
   "nav_menu": {},
   "number_sections": true,
   "sideBar": true,
   "skip_h1_title": false,
   "title_cell": "Table of Contents",
   "title_sidebar": "Contents",
   "toc_cell": false,
   "toc_position": {},
   "toc_section_display": true,
   "toc_window_display": false
  },
  "varInspector": {
   "cols": {
    "lenName": 16,
    "lenType": 16,
    "lenVar": 40
   },
   "kernels_config": {
    "python": {
     "delete_cmd_postfix": "",
     "delete_cmd_prefix": "del ",
     "library": "var_list.py",
     "varRefreshCmd": "print(var_dic_list())"
    },
    "r": {
     "delete_cmd_postfix": ") ",
     "delete_cmd_prefix": "rm(",
     "library": "var_list.r",
     "varRefreshCmd": "cat(var_dic_list()) "
    }
   },
   "types_to_exclude": [
    "module",
    "function",
    "builtin_function_or_method",
    "instance",
    "_Feature"
   ],
   "window_display": false
  }
 },
 "nbformat": 4,
 "nbformat_minor": 0
}
