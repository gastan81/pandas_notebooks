{
 "cells": [
  {
   "cell_type": "code",
   "execution_count": 4,
   "id": "401c384f-4e33-402b-9fe1-e6f82c2aaaac",
   "metadata": {
    "id": "401c384f-4e33-402b-9fe1-e6f82c2aaaac"
   },
   "outputs": [],
   "source": [
    "import pandas as pd"
   ]
  },
  {
   "cell_type": "markdown",
   "id": "6d302f26-3055-44a2-8447-a8948e735c40",
   "metadata": {
    "id": "6d302f26-3055-44a2-8447-a8948e735c40"
   },
   "source": [
    "Read the csv file from this url:\n",
    "'https://drive.google.com/file/d/1P2EyVCFAPeJcQ_lAN2W-bjwtbizOeFXE/view?usp=drive_link'\n",
    "\n",
    "Name it `sets_df`"
   ]
  },
  {
   "cell_type": "code",
   "execution_count": 5,
   "id": "20203dbe-280f-455c-b93b-93e56254165f",
   "metadata": {
    "id": "20203dbe-280f-455c-b93b-93e56254165f"
   },
   "outputs": [],
   "source": [
    "# your code here\n",
    "url = 'https://drive.google.com/file/d/1P2EyVCFAPeJcQ_lAN2W-bjwtbizOeFXE/view?usp=drive_link'\n",
    "path = 'https://drive.google.com/uc?export=download&id=' + url.split('/')[-2]\n",
    "sets_df = pd.read_csv(path)"
   ]
  },
  {
   "cell_type": "markdown",
   "id": "4c29cfe6-0c3f-4d5a-9c6e-56b83e0a8d9b",
   "metadata": {
    "id": "4c29cfe6-0c3f-4d5a-9c6e-56b83e0a8d9b"
   },
   "source": [
    "#### Exercise 1\n",
    "Select and display only the `\"name\"` and `\"year\"` columns from `sets_df` using `.loc`"
   ]
  },
  {
   "cell_type": "code",
   "execution_count": 6,
   "id": "50a11407-c402-4a1c-896c-66859401760f",
   "metadata": {
    "id": "50a11407-c402-4a1c-896c-66859401760f"
   },
   "outputs": [
    {
     "data": {
      "text/html": [
       "<div>\n",
       "<style scoped>\n",
       "    .dataframe tbody tr th:only-of-type {\n",
       "        vertical-align: middle;\n",
       "    }\n",
       "\n",
       "    .dataframe tbody tr th {\n",
       "        vertical-align: top;\n",
       "    }\n",
       "\n",
       "    .dataframe thead th {\n",
       "        text-align: right;\n",
       "    }\n",
       "</style>\n",
       "<table border=\"1\" class=\"dataframe\">\n",
       "  <thead>\n",
       "    <tr style=\"text-align: right;\">\n",
       "      <th></th>\n",
       "      <th>name</th>\n",
       "      <th>year</th>\n",
       "    </tr>\n",
       "  </thead>\n",
       "  <tbody>\n",
       "    <tr>\n",
       "      <th>0</th>\n",
       "      <td>Wishing Well</td>\n",
       "      <td>2017</td>\n",
       "    </tr>\n",
       "    <tr>\n",
       "      <th>1</th>\n",
       "      <td>Advent Calendar 2011 Star Wars (Day  7) - Tool...</td>\n",
       "      <td>2011</td>\n",
       "    </tr>\n",
       "    <tr>\n",
       "      <th>2</th>\n",
       "      <td>Chief Wiggum</td>\n",
       "      <td>2014</td>\n",
       "    </tr>\n",
       "    <tr>\n",
       "      <th>3</th>\n",
       "      <td>Blaze Battler</td>\n",
       "      <td>1991</td>\n",
       "    </tr>\n",
       "    <tr>\n",
       "      <th>4</th>\n",
       "      <td>Dilophosaurus Ambush</td>\n",
       "      <td>2015</td>\n",
       "    </tr>\n",
       "    <tr>\n",
       "      <th>...</th>\n",
       "      <td>...</td>\n",
       "      <td>...</td>\n",
       "    </tr>\n",
       "    <tr>\n",
       "      <th>995</th>\n",
       "      <td>Basic Building Set Trial Size</td>\n",
       "      <td>1992</td>\n",
       "    </tr>\n",
       "    <tr>\n",
       "      <th>996</th>\n",
       "      <td>Aquaman and Aqua Watercraft</td>\n",
       "      <td>2016</td>\n",
       "    </tr>\n",
       "    <tr>\n",
       "      <th>997</th>\n",
       "      <td>Mia's Bedroom</td>\n",
       "      <td>2012</td>\n",
       "    </tr>\n",
       "    <tr>\n",
       "      <th>998</th>\n",
       "      <td>Inverted Slope Bricks</td>\n",
       "      <td>1987</td>\n",
       "    </tr>\n",
       "    <tr>\n",
       "      <th>999</th>\n",
       "      <td>Kingdoms Joust</td>\n",
       "      <td>2012</td>\n",
       "    </tr>\n",
       "  </tbody>\n",
       "</table>\n",
       "<p>1000 rows × 2 columns</p>\n",
       "</div>"
      ],
      "text/plain": [
       "                                                  name  year\n",
       "0                                         Wishing Well  2017\n",
       "1    Advent Calendar 2011 Star Wars (Day  7) - Tool...  2011\n",
       "2                                         Chief Wiggum  2014\n",
       "3                                        Blaze Battler  1991\n",
       "4                                 Dilophosaurus Ambush  2015\n",
       "..                                                 ...   ...\n",
       "995                      Basic Building Set Trial Size  1992\n",
       "996                        Aquaman and Aqua Watercraft  2016\n",
       "997                                      Mia's Bedroom  2012\n",
       "998                              Inverted Slope Bricks  1987\n",
       "999                                     Kingdoms Joust  2012\n",
       "\n",
       "[1000 rows x 2 columns]"
      ]
     },
     "execution_count": 6,
     "metadata": {},
     "output_type": "execute_result"
    }
   ],
   "source": [
    "# your code here\n",
    "sets_df.loc[:,['name', 'year']]"
   ]
  },
  {
   "cell_type": "markdown",
   "id": "7484954c-0af6-408f-8802-73efa4e618f7",
   "metadata": {
    "id": "7484954c-0af6-408f-8802-73efa4e618f7"
   },
   "source": [
    "#### Exercise 2\n",
    "Display the first 5 rows and first 3 columns of `sets_df` using `.iloc`"
   ]
  },
  {
   "cell_type": "code",
   "execution_count": 7,
   "id": "eb96610a-7731-4262-80f0-de6058d7c78a",
   "metadata": {
    "id": "eb96610a-7731-4262-80f0-de6058d7c78a"
   },
   "outputs": [
    {
     "data": {
      "text/html": [
       "<div>\n",
       "<style scoped>\n",
       "    .dataframe tbody tr th:only-of-type {\n",
       "        vertical-align: middle;\n",
       "    }\n",
       "\n",
       "    .dataframe tbody tr th {\n",
       "        vertical-align: top;\n",
       "    }\n",
       "\n",
       "    .dataframe thead th {\n",
       "        text-align: right;\n",
       "    }\n",
       "</style>\n",
       "<table border=\"1\" class=\"dataframe\">\n",
       "  <thead>\n",
       "    <tr style=\"text-align: right;\">\n",
       "      <th></th>\n",
       "      <th>set_num</th>\n",
       "      <th>name</th>\n",
       "      <th>year</th>\n",
       "    </tr>\n",
       "  </thead>\n",
       "  <tbody>\n",
       "    <tr>\n",
       "      <th>0</th>\n",
       "      <td>TRUFRIENDS-1</td>\n",
       "      <td>Wishing Well</td>\n",
       "      <td>2017</td>\n",
       "    </tr>\n",
       "    <tr>\n",
       "      <th>1</th>\n",
       "      <td>7958-8</td>\n",
       "      <td>Advent Calendar 2011 Star Wars (Day  7) - Tool...</td>\n",
       "      <td>2011</td>\n",
       "    </tr>\n",
       "    <tr>\n",
       "      <th>2</th>\n",
       "      <td>71005-15</td>\n",
       "      <td>Chief Wiggum</td>\n",
       "      <td>2014</td>\n",
       "    </tr>\n",
       "    <tr>\n",
       "      <th>3</th>\n",
       "      <td>6593-1</td>\n",
       "      <td>Blaze Battler</td>\n",
       "      <td>1991</td>\n",
       "    </tr>\n",
       "  </tbody>\n",
       "</table>\n",
       "</div>"
      ],
      "text/plain": [
       "        set_num                                               name  year\n",
       "0  TRUFRIENDS-1                                       Wishing Well  2017\n",
       "1        7958-8  Advent Calendar 2011 Star Wars (Day  7) - Tool...  2011\n",
       "2      71005-15                                       Chief Wiggum  2014\n",
       "3        6593-1                                      Blaze Battler  1991"
      ]
     },
     "execution_count": 7,
     "metadata": {},
     "output_type": "execute_result"
    }
   ],
   "source": [
    "# your code here\n",
    "sets_df.iloc[0:4, 0:3]"
   ]
  },
  {
   "cell_type": "markdown",
   "id": "2acea24c-2142-4880-b39c-720a34c76fa2",
   "metadata": {
    "id": "2acea24c-2142-4880-b39c-720a34c76fa2"
   },
   "source": [
    "#### Exercise 3\n",
    "Set the `set_num` column as an index using `.set_index()`. Make sure the change is done on the original DataFrame."
   ]
  },
  {
   "cell_type": "code",
   "execution_count": 8,
   "id": "dc02513f-56ad-495b-bd40-12004784efff",
   "metadata": {
    "id": "dc02513f-56ad-495b-bd40-12004784efff"
   },
   "outputs": [],
   "source": [
    "# your code here\n",
    "sets_df = sets_df.set_index(sets_df['set_num'].values)"
   ]
  },
  {
   "cell_type": "markdown",
   "id": "df2d9a25-5707-4cfa-a2de-a25c33a4da12",
   "metadata": {
    "id": "df2d9a25-5707-4cfa-a2de-a25c33a4da12"
   },
   "source": [
    "#### Exercise 4\n",
    "Select the lego sets   \n",
    "\\['2250-2', '7324-21', '9509-15', '2824-8', '7324-12', '60024-11']"
   ]
  },
  {
   "cell_type": "code",
   "execution_count": 9,
   "id": "44bae96f-0bd7-4b43-a881-a029e1948f3d",
   "metadata": {
    "id": "44bae96f-0bd7-4b43-a881-a029e1948f3d"
   },
   "outputs": [
    {
     "data": {
      "text/html": [
       "<div>\n",
       "<style scoped>\n",
       "    .dataframe tbody tr th:only-of-type {\n",
       "        vertical-align: middle;\n",
       "    }\n",
       "\n",
       "    .dataframe tbody tr th {\n",
       "        vertical-align: top;\n",
       "    }\n",
       "\n",
       "    .dataframe thead th {\n",
       "        text-align: right;\n",
       "    }\n",
       "</style>\n",
       "<table border=\"1\" class=\"dataframe\">\n",
       "  <thead>\n",
       "    <tr style=\"text-align: right;\">\n",
       "      <th></th>\n",
       "      <th>set_num</th>\n",
       "      <th>name</th>\n",
       "      <th>year</th>\n",
       "      <th>theme_id</th>\n",
       "      <th>num_parts</th>\n",
       "    </tr>\n",
       "  </thead>\n",
       "  <tbody>\n",
       "    <tr>\n",
       "      <th>2250-2</th>\n",
       "      <td>2250-2</td>\n",
       "      <td>Advent Calendar 2000 (Day  1) Plane</td>\n",
       "      <td>2000</td>\n",
       "      <td>217</td>\n",
       "      <td>12</td>\n",
       "    </tr>\n",
       "    <tr>\n",
       "      <th>7324-21</th>\n",
       "      <td>7324-21</td>\n",
       "      <td>Advent Calendar 2005 City (Day 20) Skateboard ...</td>\n",
       "      <td>2005</td>\n",
       "      <td>220</td>\n",
       "      <td>4</td>\n",
       "    </tr>\n",
       "    <tr>\n",
       "      <th>9509-15</th>\n",
       "      <td>9509-15</td>\n",
       "      <td>Advent Calendar 2012, Star Wars (Day 14) - Gen...</td>\n",
       "      <td>2012</td>\n",
       "      <td>225</td>\n",
       "      <td>10</td>\n",
       "    </tr>\n",
       "    <tr>\n",
       "      <th>2824-8</th>\n",
       "      <td>2824-8</td>\n",
       "      <td>Advent Calendar 2010 City (Day 7) Piano / Organ</td>\n",
       "      <td>2010</td>\n",
       "      <td>220</td>\n",
       "      <td>10</td>\n",
       "    </tr>\n",
       "    <tr>\n",
       "      <th>7324-12</th>\n",
       "      <td>7324-12</td>\n",
       "      <td>Advent Calendar 2005 City (Day 11) Barricade</td>\n",
       "      <td>2005</td>\n",
       "      <td>220</td>\n",
       "      <td>9</td>\n",
       "    </tr>\n",
       "    <tr>\n",
       "      <th>60024-11</th>\n",
       "      <td>60024-11</td>\n",
       "      <td>Advent Calendar 2013, City (Day 10)</td>\n",
       "      <td>2013</td>\n",
       "      <td>220</td>\n",
       "      <td>8</td>\n",
       "    </tr>\n",
       "  </tbody>\n",
       "</table>\n",
       "</div>"
      ],
      "text/plain": [
       "           set_num                                               name  year  \\\n",
       "2250-2      2250-2                Advent Calendar 2000 (Day  1) Plane  2000   \n",
       "7324-21    7324-21  Advent Calendar 2005 City (Day 20) Skateboard ...  2005   \n",
       "9509-15    9509-15  Advent Calendar 2012, Star Wars (Day 14) - Gen...  2012   \n",
       "2824-8      2824-8    Advent Calendar 2010 City (Day 7) Piano / Organ  2010   \n",
       "7324-12    7324-12       Advent Calendar 2005 City (Day 11) Barricade  2005   \n",
       "60024-11  60024-11                Advent Calendar 2013, City (Day 10)  2013   \n",
       "\n",
       "          theme_id  num_parts  \n",
       "2250-2         217         12  \n",
       "7324-21        220          4  \n",
       "9509-15        225         10  \n",
       "2824-8         220         10  \n",
       "7324-12        220          9  \n",
       "60024-11       220          8  "
      ]
     },
     "execution_count": 9,
     "metadata": {},
     "output_type": "execute_result"
    }
   ],
   "source": [
    "# your code here\n",
    "sets_df.loc[['2250-2', '7324-21', '9509-15', '2824-8', '7324-12', '60024-11']]"
   ]
  },
  {
   "cell_type": "markdown",
   "id": "LQw3c8O_aIEn",
   "metadata": {
    "id": "LQw3c8O_aIEn"
   },
   "source": [
    "#### Exercise 5\n",
    "Building on Exercise 4, select only the columns `\"num_parts\"` and `\"theme_id\"` for these sets."
   ]
  },
  {
   "cell_type": "code",
   "execution_count": 10,
   "id": "YzZi6eAfauI6",
   "metadata": {
    "id": "YzZi6eAfauI6"
   },
   "outputs": [
    {
     "data": {
      "text/html": [
       "<div>\n",
       "<style scoped>\n",
       "    .dataframe tbody tr th:only-of-type {\n",
       "        vertical-align: middle;\n",
       "    }\n",
       "\n",
       "    .dataframe tbody tr th {\n",
       "        vertical-align: top;\n",
       "    }\n",
       "\n",
       "    .dataframe thead th {\n",
       "        text-align: right;\n",
       "    }\n",
       "</style>\n",
       "<table border=\"1\" class=\"dataframe\">\n",
       "  <thead>\n",
       "    <tr style=\"text-align: right;\">\n",
       "      <th></th>\n",
       "      <th>num_parts</th>\n",
       "      <th>theme_id</th>\n",
       "    </tr>\n",
       "  </thead>\n",
       "  <tbody>\n",
       "    <tr>\n",
       "      <th>2250-2</th>\n",
       "      <td>12</td>\n",
       "      <td>217</td>\n",
       "    </tr>\n",
       "    <tr>\n",
       "      <th>7324-21</th>\n",
       "      <td>4</td>\n",
       "      <td>220</td>\n",
       "    </tr>\n",
       "    <tr>\n",
       "      <th>9509-15</th>\n",
       "      <td>10</td>\n",
       "      <td>225</td>\n",
       "    </tr>\n",
       "    <tr>\n",
       "      <th>2824-8</th>\n",
       "      <td>10</td>\n",
       "      <td>220</td>\n",
       "    </tr>\n",
       "    <tr>\n",
       "      <th>7324-12</th>\n",
       "      <td>9</td>\n",
       "      <td>220</td>\n",
       "    </tr>\n",
       "    <tr>\n",
       "      <th>60024-11</th>\n",
       "      <td>8</td>\n",
       "      <td>220</td>\n",
       "    </tr>\n",
       "  </tbody>\n",
       "</table>\n",
       "</div>"
      ],
      "text/plain": [
       "          num_parts  theme_id\n",
       "2250-2           12       217\n",
       "7324-21           4       220\n",
       "9509-15          10       225\n",
       "2824-8           10       220\n",
       "7324-12           9       220\n",
       "60024-11          8       220"
      ]
     },
     "execution_count": 10,
     "metadata": {},
     "output_type": "execute_result"
    }
   ],
   "source": [
    "# your code here\n",
    "sets_df.loc[['2250-2', '7324-21', '9509-15', '2824-8', '7324-12', '60024-11'], ['num_parts', 'theme_id']]"
   ]
  },
  {
   "cell_type": "markdown",
   "id": "5ec8778c-fd4b-46ca-adf2-6cc5f0f956ed",
   "metadata": {
    "id": "5ec8778c-fd4b-46ca-adf2-6cc5f0f956ed"
   },
   "source": [
    "#### Exercise 6\n",
    "Reset the index so that `\"num_set\"` is just a regular column again."
   ]
  },
  {
   "cell_type": "code",
   "execution_count": 11,
   "id": "3ff59626-9e7a-4368-942d-f5c23212b01b",
   "metadata": {
    "id": "3ff59626-9e7a-4368-942d-f5c23212b01b"
   },
   "outputs": [
    {
     "data": {
      "text/html": [
       "<div>\n",
       "<style scoped>\n",
       "    .dataframe tbody tr th:only-of-type {\n",
       "        vertical-align: middle;\n",
       "    }\n",
       "\n",
       "    .dataframe tbody tr th {\n",
       "        vertical-align: top;\n",
       "    }\n",
       "\n",
       "    .dataframe thead th {\n",
       "        text-align: right;\n",
       "    }\n",
       "</style>\n",
       "<table border=\"1\" class=\"dataframe\">\n",
       "  <thead>\n",
       "    <tr style=\"text-align: right;\">\n",
       "      <th></th>\n",
       "      <th>index</th>\n",
       "      <th>set_num</th>\n",
       "      <th>name</th>\n",
       "      <th>year</th>\n",
       "      <th>theme_id</th>\n",
       "      <th>num_parts</th>\n",
       "    </tr>\n",
       "  </thead>\n",
       "  <tbody>\n",
       "    <tr>\n",
       "      <th>0</th>\n",
       "      <td>TRUFRIENDS-1</td>\n",
       "      <td>TRUFRIENDS-1</td>\n",
       "      <td>Wishing Well</td>\n",
       "      <td>2017</td>\n",
       "      <td>494</td>\n",
       "      <td>33</td>\n",
       "    </tr>\n",
       "    <tr>\n",
       "      <th>1</th>\n",
       "      <td>7958-8</td>\n",
       "      <td>7958-8</td>\n",
       "      <td>Advent Calendar 2011 Star Wars (Day  7) - Tool...</td>\n",
       "      <td>2011</td>\n",
       "      <td>225</td>\n",
       "      <td>9</td>\n",
       "    </tr>\n",
       "    <tr>\n",
       "      <th>2</th>\n",
       "      <td>71005-15</td>\n",
       "      <td>71005-15</td>\n",
       "      <td>Chief Wiggum</td>\n",
       "      <td>2014</td>\n",
       "      <td>550</td>\n",
       "      <td>6</td>\n",
       "    </tr>\n",
       "    <tr>\n",
       "      <th>3</th>\n",
       "      <td>6593-1</td>\n",
       "      <td>6593-1</td>\n",
       "      <td>Blaze Battler</td>\n",
       "      <td>1991</td>\n",
       "      <td>74</td>\n",
       "      <td>126</td>\n",
       "    </tr>\n",
       "    <tr>\n",
       "      <th>4</th>\n",
       "      <td>75916-1</td>\n",
       "      <td>75916-1</td>\n",
       "      <td>Dilophosaurus Ambush</td>\n",
       "      <td>2015</td>\n",
       "      <td>602</td>\n",
       "      <td>246</td>\n",
       "    </tr>\n",
       "    <tr>\n",
       "      <th>...</th>\n",
       "      <td>...</td>\n",
       "      <td>...</td>\n",
       "      <td>...</td>\n",
       "      <td>...</td>\n",
       "      <td>...</td>\n",
       "      <td>...</td>\n",
       "    </tr>\n",
       "    <tr>\n",
       "      <th>995</th>\n",
       "      <td>1668-1</td>\n",
       "      <td>1668-1</td>\n",
       "      <td>Basic Building Set Trial Size</td>\n",
       "      <td>1992</td>\n",
       "      <td>469</td>\n",
       "      <td>30</td>\n",
       "    </tr>\n",
       "    <tr>\n",
       "      <th>996</th>\n",
       "      <td>71237-1</td>\n",
       "      <td>71237-1</td>\n",
       "      <td>Aquaman and Aqua Watercraft</td>\n",
       "      <td>2016</td>\n",
       "      <td>604</td>\n",
       "      <td>43</td>\n",
       "    </tr>\n",
       "    <tr>\n",
       "      <th>997</th>\n",
       "      <td>3939-1</td>\n",
       "      <td>3939-1</td>\n",
       "      <td>Mia's Bedroom</td>\n",
       "      <td>2012</td>\n",
       "      <td>494</td>\n",
       "      <td>86</td>\n",
       "    </tr>\n",
       "    <tr>\n",
       "      <th>998</th>\n",
       "      <td>5161-1</td>\n",
       "      <td>5161-1</td>\n",
       "      <td>Inverted Slope Bricks</td>\n",
       "      <td>1987</td>\n",
       "      <td>443</td>\n",
       "      <td>16</td>\n",
       "    </tr>\n",
       "    <tr>\n",
       "      <th>999</th>\n",
       "      <td>10223-1</td>\n",
       "      <td>10223-1</td>\n",
       "      <td>Kingdoms Joust</td>\n",
       "      <td>2012</td>\n",
       "      <td>196</td>\n",
       "      <td>1574</td>\n",
       "    </tr>\n",
       "  </tbody>\n",
       "</table>\n",
       "<p>1000 rows × 6 columns</p>\n",
       "</div>"
      ],
      "text/plain": [
       "            index       set_num  \\\n",
       "0    TRUFRIENDS-1  TRUFRIENDS-1   \n",
       "1          7958-8        7958-8   \n",
       "2        71005-15      71005-15   \n",
       "3          6593-1        6593-1   \n",
       "4         75916-1       75916-1   \n",
       "..            ...           ...   \n",
       "995        1668-1        1668-1   \n",
       "996       71237-1       71237-1   \n",
       "997        3939-1        3939-1   \n",
       "998        5161-1        5161-1   \n",
       "999       10223-1       10223-1   \n",
       "\n",
       "                                                  name  year  theme_id  \\\n",
       "0                                         Wishing Well  2017       494   \n",
       "1    Advent Calendar 2011 Star Wars (Day  7) - Tool...  2011       225   \n",
       "2                                         Chief Wiggum  2014       550   \n",
       "3                                        Blaze Battler  1991        74   \n",
       "4                                 Dilophosaurus Ambush  2015       602   \n",
       "..                                                 ...   ...       ...   \n",
       "995                      Basic Building Set Trial Size  1992       469   \n",
       "996                        Aquaman and Aqua Watercraft  2016       604   \n",
       "997                                      Mia's Bedroom  2012       494   \n",
       "998                              Inverted Slope Bricks  1987       443   \n",
       "999                                     Kingdoms Joust  2012       196   \n",
       "\n",
       "     num_parts  \n",
       "0           33  \n",
       "1            9  \n",
       "2            6  \n",
       "3          126  \n",
       "4          246  \n",
       "..         ...  \n",
       "995         30  \n",
       "996         43  \n",
       "997         86  \n",
       "998         16  \n",
       "999       1574  \n",
       "\n",
       "[1000 rows x 6 columns]"
      ]
     },
     "execution_count": 11,
     "metadata": {},
     "output_type": "execute_result"
    }
   ],
   "source": [
    "# your code here\n",
    "sets_df.reset_index()"
   ]
  },
  {
   "cell_type": "markdown",
   "id": "KSZYKI0tbdpo",
   "metadata": {
    "id": "KSZYKI0tbdpo"
   },
   "source": [
    "#### Exercise 7\n",
    "Now set `\"year\"` as the index and use `.loc` to select the year 1992. What happens?     \n",
    "Reset the index after."
   ]
  },
  {
   "cell_type": "code",
   "execution_count": 12,
   "id": "N24y_yRYXhyx",
   "metadata": {
    "id": "N24y_yRYXhyx"
   },
   "outputs": [
    {
     "name": "stdout",
     "output_type": "stream",
     "text": [
      "     set_num                                         name  year  theme_id  \\\n",
      "1992  1896-1                                  Trauma Team  1992        78   \n",
      "1992   846-1                              Lighting Bricks  1992       473   \n",
      "1992  1895-1                                   Sky Patrol  1992        80   \n",
      "1992  9870-1  Pneumatic Rubber Bands and Pneumatic Tubing  1992         1   \n",
      "1992  5274-1      8 Tires / Tyres (4x24, 4x 30 mm) w/hubs  1992       453   \n",
      "1992  1769-1                                     Aircraft  1992       466   \n",
      "1992  6405-1                               Sunset Stables  1992        90   \n",
      "1992  9874-1                        Building Cards - 1090  1992       532   \n",
      "1992  5304-1                                    Wheelsets  1992       456   \n",
      "1992  1668-1                Basic Building Set Trial Size  1992       469   \n",
      "\n",
      "      num_parts  \n",
      "1992        296  \n",
      "1992         45  \n",
      "1992         89  \n",
      "1992        144  \n",
      "1992         16  \n",
      "1992         23  \n",
      "1992        132  \n",
      "1992          5  \n",
      "1992          2  \n",
      "1992         30  \n",
      "           set_num                                               name  year  \\\n",
      "2017  TRUFRIENDS-1                                       Wishing Well  2017   \n",
      "2011        7958-8  Advent Calendar 2011 Star Wars (Day  7) - Tool...  2011   \n",
      "2014      71005-15                                       Chief Wiggum  2014   \n",
      "1991        6593-1                                      Blaze Battler  1991   \n",
      "2015       75916-1                               Dilophosaurus Ambush  2015   \n",
      "...            ...                                                ...   ...   \n",
      "1992        1668-1                      Basic Building Set Trial Size  1992   \n",
      "2016       71237-1                        Aquaman and Aqua Watercraft  2016   \n",
      "2012        3939-1                                      Mia's Bedroom  2012   \n",
      "1987        5161-1                              Inverted Slope Bricks  1987   \n",
      "2012       10223-1                                     Kingdoms Joust  2012   \n",
      "\n",
      "      theme_id  num_parts  \n",
      "2017       494         33  \n",
      "2011       225          9  \n",
      "2014       550          6  \n",
      "1991        74        126  \n",
      "2015       602        246  \n",
      "...        ...        ...  \n",
      "1992       469         30  \n",
      "2016       604         43  \n",
      "2012       494         86  \n",
      "1987       443         16  \n",
      "2012       196       1574  \n",
      "\n",
      "[1000 rows x 5 columns]\n"
     ]
    }
   ],
   "source": [
    "# your code here\n",
    "sets_df = sets_df.set_index(sets_df['year'].values)\n",
    "print(sets_df.loc[1992])\n",
    "# there are duplicate indices\n",
    "sets_df.reset_index()\n",
    "print(sets_df)"
   ]
  },
  {
   "cell_type": "markdown",
   "id": "17UPXJmJKGfi",
   "metadata": {
    "id": "17UPXJmJKGfi"
   },
   "source": [
    "#### Exercise 8\n",
    "Use `set_index` to create a DataFrame with [two indexes](https://pandas.pydata.org/pandas-docs/stable/user_guide/advanced.html)."
   ]
  },
  {
   "cell_type": "code",
   "execution_count": 13,
   "id": "JC4DS3-eJ7nr",
   "metadata": {
    "id": "JC4DS3-eJ7nr"
   },
   "outputs": [],
   "source": [
    "# your code here\n",
    "#sets_df.info()\n",
    "#sets_df.index = range(1000)\n",
    "#sets_df"
   ]
  },
  {
   "cell_type": "markdown",
   "id": "kQY7v1auN0dA",
   "metadata": {
    "id": "kQY7v1auN0dA"
   },
   "source": [
    "#### Exercise 9\n",
    "Display the columns `set_num`, `theme_id` and `num_parts` of the last 15 rows by using `.iloc`"
   ]
  },
  {
   "cell_type": "code",
   "execution_count": 14,
   "id": "DcdghIRZNe6q",
   "metadata": {
    "id": "DcdghIRZNe6q"
   },
   "outputs": [
    {
     "data": {
      "text/html": [
       "<div>\n",
       "<style scoped>\n",
       "    .dataframe tbody tr th:only-of-type {\n",
       "        vertical-align: middle;\n",
       "    }\n",
       "\n",
       "    .dataframe tbody tr th {\n",
       "        vertical-align: top;\n",
       "    }\n",
       "\n",
       "    .dataframe thead th {\n",
       "        text-align: right;\n",
       "    }\n",
       "</style>\n",
       "<table border=\"1\" class=\"dataframe\">\n",
       "  <thead>\n",
       "    <tr style=\"text-align: right;\">\n",
       "      <th></th>\n",
       "      <th>set_num</th>\n",
       "      <th>theme_id</th>\n",
       "      <th>num_parts</th>\n",
       "    </tr>\n",
       "  </thead>\n",
       "  <tbody>\n",
       "    <tr>\n",
       "      <th>2017</th>\n",
       "      <td>TRUFRIENDS-1</td>\n",
       "      <td>494</td>\n",
       "      <td>33</td>\n",
       "    </tr>\n",
       "    <tr>\n",
       "      <th>2011</th>\n",
       "      <td>7958-8</td>\n",
       "      <td>225</td>\n",
       "      <td>9</td>\n",
       "    </tr>\n",
       "    <tr>\n",
       "      <th>2014</th>\n",
       "      <td>71005-15</td>\n",
       "      <td>550</td>\n",
       "      <td>6</td>\n",
       "    </tr>\n",
       "    <tr>\n",
       "      <th>1991</th>\n",
       "      <td>6593-1</td>\n",
       "      <td>74</td>\n",
       "      <td>126</td>\n",
       "    </tr>\n",
       "    <tr>\n",
       "      <th>2015</th>\n",
       "      <td>75916-1</td>\n",
       "      <td>602</td>\n",
       "      <td>246</td>\n",
       "    </tr>\n",
       "    <tr>\n",
       "      <th>2009</th>\n",
       "      <td>5642-1</td>\n",
       "      <td>56</td>\n",
       "      <td>23</td>\n",
       "    </tr>\n",
       "    <tr>\n",
       "      <th>1957</th>\n",
       "      <td>200A-1</td>\n",
       "      <td>372</td>\n",
       "      <td>1</td>\n",
       "    </tr>\n",
       "    <tr>\n",
       "      <th>1974</th>\n",
       "      <td>145-1</td>\n",
       "      <td>469</td>\n",
       "      <td>412</td>\n",
       "    </tr>\n",
       "    <tr>\n",
       "      <th>1990</th>\n",
       "      <td>6389-1</td>\n",
       "      <td>74</td>\n",
       "      <td>542</td>\n",
       "    </tr>\n",
       "    <tr>\n",
       "      <th>2009</th>\n",
       "      <td>8184-1</td>\n",
       "      <td>117</td>\n",
       "      <td>238</td>\n",
       "    </tr>\n",
       "    <tr>\n",
       "      <th>2003</th>\n",
       "      <td>5872-1</td>\n",
       "      <td>320</td>\n",
       "      <td>32</td>\n",
       "    </tr>\n",
       "    <tr>\n",
       "      <th>2012</th>\n",
       "      <td>5001273-1</td>\n",
       "      <td>432</td>\n",
       "      <td>3</td>\n",
       "    </tr>\n",
       "    <tr>\n",
       "      <th>2010</th>\n",
       "      <td>30051-1</td>\n",
       "      <td>163</td>\n",
       "      <td>61</td>\n",
       "    </tr>\n",
       "    <tr>\n",
       "      <th>2003</th>\n",
       "      <td>10077-1</td>\n",
       "      <td>256</td>\n",
       "      <td>55</td>\n",
       "    </tr>\n",
       "    <tr>\n",
       "      <th>2009</th>\n",
       "      <td>8961-1</td>\n",
       "      <td>439</td>\n",
       "      <td>479</td>\n",
       "    </tr>\n",
       "  </tbody>\n",
       "</table>\n",
       "</div>"
      ],
      "text/plain": [
       "           set_num  theme_id  num_parts\n",
       "2017  TRUFRIENDS-1       494         33\n",
       "2011        7958-8       225          9\n",
       "2014      71005-15       550          6\n",
       "1991        6593-1        74        126\n",
       "2015       75916-1       602        246\n",
       "2009        5642-1        56         23\n",
       "1957        200A-1       372          1\n",
       "1974         145-1       469        412\n",
       "1990        6389-1        74        542\n",
       "2009        8184-1       117        238\n",
       "2003        5872-1       320         32\n",
       "2012     5001273-1       432          3\n",
       "2010       30051-1       163         61\n",
       "2003       10077-1       256         55\n",
       "2009        8961-1       439        479"
      ]
     },
     "execution_count": 14,
     "metadata": {},
     "output_type": "execute_result"
    }
   ],
   "source": [
    "# your code here\n",
    "set_num_index = sets_df.columns.get_loc('set_num')\n",
    "theme_id_index = sets_df.columns.get_loc('theme_id')\n",
    "num_parts_index = sets_df.columns.get_loc('num_parts')\n",
    "sets_df.iloc[0:15, [set_num_index, theme_id_index, num_parts_index]]"
   ]
  }
 ],
 "metadata": {
  "colab": {
   "provenance": [
    {
     "file_id": "173Z290riE_BEYIl2FH9716aJGP1mp9KT",
     "timestamp": 1712590372621
    }
   ]
  },
  "kernelspec": {
   "display_name": "base",
   "language": "python",
   "name": "python3"
  },
  "language_info": {
   "codemirror_mode": {
    "name": "ipython",
    "version": 3
   },
   "file_extension": ".py",
   "mimetype": "text/x-python",
   "name": "python",
   "nbconvert_exporter": "python",
   "pygments_lexer": "ipython3",
   "version": "3.12.4"
  }
 },
 "nbformat": 4,
 "nbformat_minor": 5
}
