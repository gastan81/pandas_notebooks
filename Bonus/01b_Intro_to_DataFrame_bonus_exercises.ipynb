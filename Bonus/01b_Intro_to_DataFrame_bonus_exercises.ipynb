{
 "cells": [
  {
   "cell_type": "code",
   "execution_count": 2,
   "id": "d1035447-1c63-40ee-b83d-85f88ac3a030",
   "metadata": {
    "id": "d1035447-1c63-40ee-b83d-85f88ac3a030"
   },
   "outputs": [],
   "source": [
    "import pandas as pd"
   ]
  },
  {
   "cell_type": "markdown",
   "id": "6d302f26-3055-44a2-8447-a8948e735c40",
   "metadata": {
    "id": "6d302f26-3055-44a2-8447-a8948e735c40"
   },
   "source": [
    "Read the csv file from this url:\n",
    "'https://drive.google.com/file/d/1P2EyVCFAPeJcQ_lAN2W-bjwtbizOeFXE/view?usp=drive_link'\n",
    "\n",
    "Name it `sets_df`"
   ]
  },
  {
   "cell_type": "code",
   "execution_count": 3,
   "id": "RecPyiYRQlxJ",
   "metadata": {
    "id": "RecPyiYRQlxJ"
   },
   "outputs": [],
   "source": [
    "# your code here\n",
    "url = 'https://drive.google.com/file/d/1P2EyVCFAPeJcQ_lAN2W-bjwtbizOeFXE/view?usp=drive_link'\n",
    "path = 'https://drive.google.com/uc?export=download&id=' + url.split('/')[-2]\n",
    "\n",
    "sets_df = pd.read_csv(path)"
   ]
  },
  {
   "cell_type": "markdown",
   "id": "RcSHvP55QMgc",
   "metadata": {
    "id": "RcSHvP55QMgc"
   },
   "source": [
    "##### Hint"
   ]
  },
  {
   "cell_type": "code",
   "execution_count": 4,
   "id": "20203dbe-280f-455c-b93b-93e56254165f",
   "metadata": {
    "id": "20203dbe-280f-455c-b93b-93e56254165f"
   },
   "outputs": [],
   "source": [
    "# url = ___________\n",
    "# path = 'https://drive.google.com/uc?export=download&id='+url.split('/')[-2]\n",
    "# sets_df = pd.read_csv(_______)"
   ]
  },
  {
   "cell_type": "markdown",
   "id": "74c8be12-a7c6-4d5f-945d-47078742a197",
   "metadata": {
    "id": "74c8be12-a7c6-4d5f-945d-47078742a197"
   },
   "source": [
    "#### Exercise 1\n",
    "Display the basic information about DataFrames `sets_df`  Check the number of rows, columns, data types, and non-null counts."
   ]
  },
  {
   "cell_type": "code",
   "execution_count": 5,
   "id": "671f2e58-fa6b-4ffb-a1cd-8564fc7f36b0",
   "metadata": {
    "id": "671f2e58-fa6b-4ffb-a1cd-8564fc7f36b0"
   },
   "outputs": [
    {
     "name": "stdout",
     "output_type": "stream",
     "text": [
      "<class 'pandas.core.frame.DataFrame'>\n",
      "RangeIndex: 1000 entries, 0 to 999\n",
      "Data columns (total 5 columns):\n",
      " #   Column     Non-Null Count  Dtype \n",
      "---  ------     --------------  ----- \n",
      " 0   set_num    1000 non-null   object\n",
      " 1   name       1000 non-null   object\n",
      " 2   year       1000 non-null   int64 \n",
      " 3   theme_id   1000 non-null   int64 \n",
      " 4   num_parts  1000 non-null   int64 \n",
      "dtypes: int64(3), object(2)\n",
      "memory usage: 39.2+ KB\n"
     ]
    }
   ],
   "source": [
    "# your code here\n",
    "sets_df.info()"
   ]
  },
  {
   "cell_type": "markdown",
   "id": "bd80cf53-00b9-44a6-be03-8309234910b9",
   "metadata": {
    "id": "bd80cf53-00b9-44a6-be03-8309234910b9"
   },
   "source": [
    "#### Exercise 2\n",
    "Show the first 5 rows of the DataFrame to get an initial idea about the data. Then show the first 7 instead."
   ]
  },
  {
   "cell_type": "code",
   "execution_count": 6,
   "id": "752f36a7-20c1-4541-bd87-8bde1394030b",
   "metadata": {
    "id": "752f36a7-20c1-4541-bd87-8bde1394030b"
   },
   "outputs": [
    {
     "data": {
      "text/html": [
       "<div>\n",
       "<style scoped>\n",
       "    .dataframe tbody tr th:only-of-type {\n",
       "        vertical-align: middle;\n",
       "    }\n",
       "\n",
       "    .dataframe tbody tr th {\n",
       "        vertical-align: top;\n",
       "    }\n",
       "\n",
       "    .dataframe thead th {\n",
       "        text-align: right;\n",
       "    }\n",
       "</style>\n",
       "<table border=\"1\" class=\"dataframe\">\n",
       "  <thead>\n",
       "    <tr style=\"text-align: right;\">\n",
       "      <th></th>\n",
       "      <th>set_num</th>\n",
       "      <th>name</th>\n",
       "      <th>year</th>\n",
       "      <th>theme_id</th>\n",
       "      <th>num_parts</th>\n",
       "    </tr>\n",
       "  </thead>\n",
       "  <tbody>\n",
       "    <tr>\n",
       "      <th>0</th>\n",
       "      <td>TRUFRIENDS-1</td>\n",
       "      <td>Wishing Well</td>\n",
       "      <td>2017</td>\n",
       "      <td>494</td>\n",
       "      <td>33</td>\n",
       "    </tr>\n",
       "    <tr>\n",
       "      <th>1</th>\n",
       "      <td>7958-8</td>\n",
       "      <td>Advent Calendar 2011 Star Wars (Day  7) - Tool...</td>\n",
       "      <td>2011</td>\n",
       "      <td>225</td>\n",
       "      <td>9</td>\n",
       "    </tr>\n",
       "    <tr>\n",
       "      <th>2</th>\n",
       "      <td>71005-15</td>\n",
       "      <td>Chief Wiggum</td>\n",
       "      <td>2014</td>\n",
       "      <td>550</td>\n",
       "      <td>6</td>\n",
       "    </tr>\n",
       "    <tr>\n",
       "      <th>3</th>\n",
       "      <td>6593-1</td>\n",
       "      <td>Blaze Battler</td>\n",
       "      <td>1991</td>\n",
       "      <td>74</td>\n",
       "      <td>126</td>\n",
       "    </tr>\n",
       "    <tr>\n",
       "      <th>4</th>\n",
       "      <td>75916-1</td>\n",
       "      <td>Dilophosaurus Ambush</td>\n",
       "      <td>2015</td>\n",
       "      <td>602</td>\n",
       "      <td>246</td>\n",
       "    </tr>\n",
       "    <tr>\n",
       "      <th>5</th>\n",
       "      <td>5642-1</td>\n",
       "      <td>Tipper Truck</td>\n",
       "      <td>2009</td>\n",
       "      <td>56</td>\n",
       "      <td>23</td>\n",
       "    </tr>\n",
       "    <tr>\n",
       "      <th>6</th>\n",
       "      <td>200A-1</td>\n",
       "      <td>LEGO Town Plan Wooden Board</td>\n",
       "      <td>1957</td>\n",
       "      <td>372</td>\n",
       "      <td>1</td>\n",
       "    </tr>\n",
       "  </tbody>\n",
       "</table>\n",
       "</div>"
      ],
      "text/plain": [
       "        set_num                                               name  year  \\\n",
       "0  TRUFRIENDS-1                                       Wishing Well  2017   \n",
       "1        7958-8  Advent Calendar 2011 Star Wars (Day  7) - Tool...  2011   \n",
       "2      71005-15                                       Chief Wiggum  2014   \n",
       "3        6593-1                                      Blaze Battler  1991   \n",
       "4       75916-1                               Dilophosaurus Ambush  2015   \n",
       "5        5642-1                                       Tipper Truck  2009   \n",
       "6        200A-1                        LEGO Town Plan Wooden Board  1957   \n",
       "\n",
       "   theme_id  num_parts  \n",
       "0       494         33  \n",
       "1       225          9  \n",
       "2       550          6  \n",
       "3        74        126  \n",
       "4       602        246  \n",
       "5        56         23  \n",
       "6       372          1  "
      ]
     },
     "execution_count": 6,
     "metadata": {},
     "output_type": "execute_result"
    }
   ],
   "source": [
    "# your code here\n",
    "sets_df.head()\n",
    "sets_df.head(7)"
   ]
  },
  {
   "cell_type": "markdown",
   "id": "07e60228-a0ef-49f2-9e2e-20c231897d98",
   "metadata": {
    "id": "07e60228-a0ef-49f2-9e2e-20c231897d98"
   },
   "source": [
    "#### Exercise 3\n",
    "Display the summary statistics of the numerical columns in `sets_df`."
   ]
  },
  {
   "cell_type": "code",
   "execution_count": 8,
   "id": "3350cc80-9b03-4970-ab92-dc5e048e1f44",
   "metadata": {
    "id": "3350cc80-9b03-4970-ab92-dc5e048e1f44"
   },
   "outputs": [
    {
     "data": {
      "text/html": [
       "<div>\n",
       "<style scoped>\n",
       "    .dataframe tbody tr th:only-of-type {\n",
       "        vertical-align: middle;\n",
       "    }\n",
       "\n",
       "    .dataframe tbody tr th {\n",
       "        vertical-align: top;\n",
       "    }\n",
       "\n",
       "    .dataframe thead th {\n",
       "        text-align: right;\n",
       "    }\n",
       "</style>\n",
       "<table border=\"1\" class=\"dataframe\">\n",
       "  <thead>\n",
       "    <tr style=\"text-align: right;\">\n",
       "      <th></th>\n",
       "      <th>year</th>\n",
       "      <th>theme_id</th>\n",
       "      <th>num_parts</th>\n",
       "    </tr>\n",
       "  </thead>\n",
       "  <tbody>\n",
       "    <tr>\n",
       "      <th>count</th>\n",
       "      <td>1000.000000</td>\n",
       "      <td>1000.000000</td>\n",
       "      <td>1000.000000</td>\n",
       "    </tr>\n",
       "    <tr>\n",
       "      <th>mean</th>\n",
       "      <td>2002.080000</td>\n",
       "      <td>316.247000</td>\n",
       "      <td>155.721000</td>\n",
       "    </tr>\n",
       "    <tr>\n",
       "      <th>std</th>\n",
       "      <td>13.650932</td>\n",
       "      <td>178.049194</td>\n",
       "      <td>289.391601</td>\n",
       "    </tr>\n",
       "    <tr>\n",
       "      <th>min</th>\n",
       "      <td>1954.000000</td>\n",
       "      <td>1.000000</td>\n",
       "      <td>0.000000</td>\n",
       "    </tr>\n",
       "    <tr>\n",
       "      <th>25%</th>\n",
       "      <td>1997.000000</td>\n",
       "      <td>163.750000</td>\n",
       "      <td>8.000000</td>\n",
       "    </tr>\n",
       "    <tr>\n",
       "      <th>50%</th>\n",
       "      <td>2006.000000</td>\n",
       "      <td>333.500000</td>\n",
       "      <td>45.000000</td>\n",
       "    </tr>\n",
       "    <tr>\n",
       "      <th>75%</th>\n",
       "      <td>2013.000000</td>\n",
       "      <td>478.000000</td>\n",
       "      <td>171.250000</td>\n",
       "    </tr>\n",
       "    <tr>\n",
       "      <th>max</th>\n",
       "      <td>2017.000000</td>\n",
       "      <td>616.000000</td>\n",
       "      <td>2741.000000</td>\n",
       "    </tr>\n",
       "  </tbody>\n",
       "</table>\n",
       "</div>"
      ],
      "text/plain": [
       "              year     theme_id    num_parts\n",
       "count  1000.000000  1000.000000  1000.000000\n",
       "mean   2002.080000   316.247000   155.721000\n",
       "std      13.650932   178.049194   289.391601\n",
       "min    1954.000000     1.000000     0.000000\n",
       "25%    1997.000000   163.750000     8.000000\n",
       "50%    2006.000000   333.500000    45.000000\n",
       "75%    2013.000000   478.000000   171.250000\n",
       "max    2017.000000   616.000000  2741.000000"
      ]
     },
     "execution_count": 8,
     "metadata": {},
     "output_type": "execute_result"
    }
   ],
   "source": [
    "# your code here\n",
    "sets_df.describe()"
   ]
  },
  {
   "cell_type": "markdown",
   "id": "c55f48ed-84b4-498b-98a7-607eaf3a480c",
   "metadata": {
    "id": "c55f48ed-84b4-498b-98a7-607eaf3a480c"
   },
   "source": [
    "#### Exercise 4\n",
    "Print out a sentence that shows number of rows and columns.  \n",
    "\\\n",
    "Get the numbers of rows and columns using `.shape`.  \n",
    "Save the number of columns in a variable `num_cols` and number of rows in a variable `num_rows`.  \n",
    "Use those variables in your `print()` function.   \n",
    "\n",
    "The sentence should look like this (the numbers should not be hardcoded - they need to come from the variables):  \n",
    "**\"This dataset has 1000 rows and 5 columns\"**"
   ]
  },
  {
   "cell_type": "code",
   "execution_count": null,
   "id": "01fc2d57-f81f-403d-b88b-3e41f20e5ca5",
   "metadata": {
    "id": "01fc2d57-f81f-403d-b88b-3e41f20e5ca5"
   },
   "outputs": [],
   "source": [
    "# your code here"
   ]
  },
  {
   "cell_type": "markdown",
   "id": "dcc0a102-d730-4228-8fff-31d2ddf713e5",
   "metadata": {
    "id": "dcc0a102-d730-4228-8fff-31d2ddf713e5"
   },
   "source": [
    "#### Exercise 5\n",
    "Select the column `year`"
   ]
  },
  {
   "cell_type": "code",
   "execution_count": null,
   "id": "5dfebf76-a700-4254-919b-afe4dc871219",
   "metadata": {
    "id": "5dfebf76-a700-4254-919b-afe4dc871219"
   },
   "outputs": [],
   "source": [
    "# your code here"
   ]
  },
  {
   "cell_type": "markdown",
   "id": "88d8550d-7dba-4d32-afaa-1a7c14b3e0b4",
   "metadata": {
    "id": "88d8550d-7dba-4d32-afaa-1a7c14b3e0b4"
   },
   "source": [
    "#### Exercise 6\n",
    "Select all unique years from the column `year` using `.unique()`."
   ]
  },
  {
   "cell_type": "code",
   "execution_count": null,
   "id": "f6f7a391-7964-4345-a304-834d3983aeb2",
   "metadata": {
    "id": "f6f7a391-7964-4345-a304-834d3983aeb2"
   },
   "outputs": [],
   "source": [
    "# your code here"
   ]
  },
  {
   "cell_type": "markdown",
   "id": "6693ab2a-3ac1-4afb-a304-2fb8059221d4",
   "metadata": {
    "id": "6693ab2a-3ac1-4afb-a304-2fb8059221d4"
   },
   "source": [
    "#### Exercise 7\n",
    "Select the earliest year by using `.min()`"
   ]
  },
  {
   "cell_type": "code",
   "execution_count": null,
   "id": "35c98da9-9061-419b-ad7b-6d7fa9902143",
   "metadata": {
    "id": "35c98da9-9061-419b-ad7b-6d7fa9902143"
   },
   "outputs": [],
   "source": [
    "# your code here"
   ]
  },
  {
   "cell_type": "markdown",
   "id": "9863a799-1d2d-4fc7-8aef-f6ccb6fd048a",
   "metadata": {
    "id": "9863a799-1d2d-4fc7-8aef-f6ccb6fd048a"
   },
   "source": [
    "#### Exercise 8\n",
    "Select the latest year by using `.max()`"
   ]
  },
  {
   "cell_type": "code",
   "execution_count": null,
   "id": "8cd5da23-da59-4f00-976e-dd0bd046e575",
   "metadata": {
    "id": "8cd5da23-da59-4f00-976e-dd0bd046e575"
   },
   "outputs": [],
   "source": [
    "# your code here"
   ]
  },
  {
   "cell_type": "markdown",
   "id": "xnSlVXpvGUB_",
   "metadata": {
    "id": "xnSlVXpvGUB_"
   },
   "source": [
    "#### Exercise 9\n",
    "How many different themes are represented?"
   ]
  },
  {
   "cell_type": "code",
   "execution_count": null,
   "id": "k_NDMdt5F7fx",
   "metadata": {
    "id": "k_NDMdt5F7fx"
   },
   "outputs": [],
   "source": [
    "# your code here"
   ]
  },
  {
   "cell_type": "markdown",
   "id": "R4fCsHydNeGI",
   "metadata": {
    "id": "R4fCsHydNeGI"
   },
   "source": [
    "#### Exercise 10\n",
    "What's the largest number of pieces in one set? The smallest?"
   ]
  },
  {
   "cell_type": "code",
   "execution_count": null,
   "id": "nAOHMpsqNkvc",
   "metadata": {
    "id": "nAOHMpsqNkvc"
   },
   "outputs": [],
   "source": [
    "# your code here"
   ]
  },
  {
   "cell_type": "markdown",
   "id": "iUwY66fdOHKM",
   "metadata": {
    "id": "iUwY66fdOHKM"
   },
   "source": [
    "#### Exercise 11\n",
    "Select 10 random entries from the DataFrame."
   ]
  },
  {
   "cell_type": "code",
   "execution_count": null,
   "id": "uVD4qKItRduT",
   "metadata": {
    "id": "uVD4qKItRduT"
   },
   "outputs": [],
   "source": [
    "# your code here"
   ]
  },
  {
   "cell_type": "markdown",
   "id": "rNGQmIQCULcU",
   "metadata": {
    "id": "rNGQmIQCULcU"
   },
   "source": [
    "#### Exercise 12\n",
    "What's the most common number of pieces in a set?"
   ]
  },
  {
   "cell_type": "code",
   "execution_count": null,
   "id": "49zhBSGKSv-s",
   "metadata": {
    "id": "49zhBSGKSv-s"
   },
   "outputs": [],
   "source": [
    "# your code here"
   ]
  },
  {
   "cell_type": "markdown",
   "id": "cUxWiAAoVDuX",
   "metadata": {
    "id": "cUxWiAAoVDuX"
   },
   "source": [
    "#### Exercise 13\n",
    "Which five years have the most sets associated with them?"
   ]
  },
  {
   "cell_type": "code",
   "execution_count": null,
   "id": "w9dE-BwYU1lB",
   "metadata": {
    "id": "w9dE-BwYU1lB"
   },
   "outputs": [],
   "source": [
    "# your code here"
   ]
  },
  {
   "cell_type": "markdown",
   "id": "V7KomRviWmyA",
   "metadata": {
    "id": "V7KomRviWmyA"
   },
   "source": [
    "#### Exercise 14\n",
    "Are all `set_num` values unique? Compare the number of unique `set_num` values to the number of rows in the DataFrame."
   ]
  },
  {
   "cell_type": "code",
   "execution_count": null,
   "id": "wU-ySDrGWtSf",
   "metadata": {
    "id": "wU-ySDrGWtSf"
   },
   "outputs": [],
   "source": [
    "# your code here"
   ]
  }
 ],
 "metadata": {
  "colab": {
   "collapsed_sections": [
    "RcSHvP55QMgc"
   ],
   "provenance": [
    {
     "file_id": "1BJztAKuSirPLbyYLNmKDsjZj1sPTVqLx",
     "timestamp": 1709132183259
    }
   ]
  },
  "kernelspec": {
   "display_name": "base",
   "language": "python",
   "name": "python3"
  },
  "language_info": {
   "codemirror_mode": {
    "name": "ipython",
    "version": 3
   },
   "file_extension": ".py",
   "mimetype": "text/x-python",
   "name": "python",
   "nbconvert_exporter": "python",
   "pygments_lexer": "ipython3",
   "version": "3.12.4"
  }
 },
 "nbformat": 4,
 "nbformat_minor": 5
}
