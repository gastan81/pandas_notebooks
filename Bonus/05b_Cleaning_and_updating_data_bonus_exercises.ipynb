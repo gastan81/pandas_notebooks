{
 "cells": [
  {
   "cell_type": "code",
   "execution_count": 1,
   "id": "38c56e66-4cd6-496a-98d0-f84c69a892f8",
   "metadata": {
    "executionInfo": {
     "elapsed": 1119,
     "status": "ok",
     "timestamp": 1713801031738,
     "user": {
      "displayName": "Christopher Galloway",
      "userId": "16329134674817848650"
     },
     "user_tz": -120
    },
    "id": "38c56e66-4cd6-496a-98d0-f84c69a892f8"
   },
   "outputs": [],
   "source": [
    "import pandas as pd"
   ]
  },
  {
   "cell_type": "markdown",
   "id": "6d302f26-3055-44a2-8447-a8948e735c40",
   "metadata": {
    "id": "6d302f26-3055-44a2-8447-a8948e735c40"
   },
   "source": [
    "Read the csv file from this url:\n",
    "'https://drive.google.com/file/d/15TuODOc2m-BNeimNi7Hb3-bw7m8OmYQu/view?usp=drive_link'\n",
    "\n",
    "Name it `sets_df`"
   ]
  },
  {
   "cell_type": "code",
   "execution_count": null,
   "id": "20203dbe-280f-455c-b93b-93e56254165f",
   "metadata": {
    "executionInfo": {
     "elapsed": 2,
     "status": "ok",
     "timestamp": 1713801031738,
     "user": {
      "displayName": "Christopher Galloway",
      "userId": "16329134674817848650"
     },
     "user_tz": -120
    },
    "id": "20203dbe-280f-455c-b93b-93e56254165f"
   },
   "outputs": [
    {
     "data": {
      "text/plain": [
       "'chocolatepanda'"
      ]
     },
     "execution_count": 2,
     "metadata": {},
     "output_type": "execute_result"
    }
   ],
   "source": [
    "# Your code here\n"
   ]
  },
  {
   "cell_type": "markdown",
   "id": "26746dbf-e75a-4e8d-98e1-e6dbe6cf2379",
   "metadata": {
    "id": "26746dbf-e75a-4e8d-98e1-e6dbe6cf2379"
   },
   "source": [
    "> Make sure you save the changes by overwriting the original DataFrame:  \n",
    "e.g. `df = df.drop_duplicates()`"
   ]
  },
  {
   "cell_type": "markdown",
   "id": "c0256540-bd22-477f-9706-d75681909557",
   "metadata": {
    "id": "c0256540-bd22-477f-9706-d75681909557"
   },
   "source": [
    "#### Exercise 1\n",
    "Explore the `sets_df` with `.info()`"
   ]
  },
  {
   "cell_type": "code",
   "execution_count": 3,
   "id": "2b1dd000-f145-42ef-a2e2-6e22f80c03b1",
   "metadata": {
    "executionInfo": {
     "elapsed": 2,
     "status": "ok",
     "timestamp": 1713801031738,
     "user": {
      "displayName": "Christopher Galloway",
      "userId": "16329134674817848650"
     },
     "user_tz": -120
    },
    "id": "2b1dd000-f145-42ef-a2e2-6e22f80c03b1"
   },
   "outputs": [],
   "source": [
    "# Your code here"
   ]
  },
  {
   "cell_type": "markdown",
   "id": "899093db-2247-4d4b-95b4-d805f9cd92a4",
   "metadata": {
    "id": "899093db-2247-4d4b-95b4-d805f9cd92a4"
   },
   "source": [
    "#### Exercise 2\n",
    "Rename the columns:  \n",
    "s -> set_num  \n",
    "n -> name  \n",
    "y -> year  \n",
    "ti -> theme_id  \n",
    "np -> num_parts  \n",
    "q -> qty  \n",
    "\n",
    "> **Hint:** You can do it either by using `.rename()` method or by setting `.columns` attribute directly to a list of new names."
   ]
  },
  {
   "cell_type": "code",
   "execution_count": 4,
   "id": "e8af76a4-ac17-4c6b-99f8-699f41619a82",
   "metadata": {
    "executionInfo": {
     "elapsed": 3,
     "status": "ok",
     "timestamp": 1713801031739,
     "user": {
      "displayName": "Christopher Galloway",
      "userId": "16329134674817848650"
     },
     "user_tz": -120
    },
    "id": "e8af76a4-ac17-4c6b-99f8-699f41619a82"
   },
   "outputs": [],
   "source": [
    "# Your code here"
   ]
  },
  {
   "cell_type": "markdown",
   "id": "5826512d-5d59-4db4-b996-9fa12fb63022",
   "metadata": {
    "id": "5826512d-5d59-4db4-b996-9fa12fb63022"
   },
   "source": [
    "Review the change"
   ]
  },
  {
   "cell_type": "code",
   "execution_count": 5,
   "id": "H2Np2seiC7UO",
   "metadata": {
    "executionInfo": {
     "elapsed": 3,
     "status": "ok",
     "timestamp": 1713801031739,
     "user": {
      "displayName": "Christopher Galloway",
      "userId": "16329134674817848650"
     },
     "user_tz": -120
    },
    "id": "H2Np2seiC7UO"
   },
   "outputs": [],
   "source": [
    "# Your code here"
   ]
  },
  {
   "cell_type": "markdown",
   "id": "184741ba-f9a2-477a-a128-5250c4aadf7c",
   "metadata": {
    "id": "184741ba-f9a2-477a-a128-5250c4aadf7c"
   },
   "source": [
    "#### Exercise 3\n",
    "Check if there are any null values in the dataset"
   ]
  },
  {
   "cell_type": "code",
   "execution_count": 6,
   "id": "7f9279f0-15ba-4803-ab2b-10ba2929df50",
   "metadata": {
    "executionInfo": {
     "elapsed": 3,
     "status": "ok",
     "timestamp": 1713801031739,
     "user": {
      "displayName": "Christopher Galloway",
      "userId": "16329134674817848650"
     },
     "user_tz": -120
    },
    "id": "7f9279f0-15ba-4803-ab2b-10ba2929df50"
   },
   "outputs": [],
   "source": [
    "# Your code here"
   ]
  },
  {
   "cell_type": "markdown",
   "id": "3b089426-e76b-48d1-88b3-8fea5822c341",
   "metadata": {
    "id": "3b089426-e76b-48d1-88b3-8fea5822c341"
   },
   "source": [
    "#### Exercise 4\n",
    "There are 6 null values in the `'num_parts'` column.  \n",
    "Find the mean of that column using `.mean()`.  \n",
    "Fill the null values with the mean using `.fillna()`.  \n",
    "Check once again if there are any null values."
   ]
  },
  {
   "cell_type": "code",
   "execution_count": 7,
   "id": "da83227e-d5b0-4c7a-a16a-551550c6496d",
   "metadata": {
    "executionInfo": {
     "elapsed": 341,
     "status": "ok",
     "timestamp": 1713801032078,
     "user": {
      "displayName": "Christopher Galloway",
      "userId": "16329134674817848650"
     },
     "user_tz": -120
    },
    "id": "da83227e-d5b0-4c7a-a16a-551550c6496d"
   },
   "outputs": [],
   "source": [
    "# Your code here"
   ]
  },
  {
   "cell_type": "markdown",
   "id": "ae5cc062-a056-4b7c-93d0-3ee38675f603",
   "metadata": {
    "id": "ae5cc062-a056-4b7c-93d0-3ee38675f603"
   },
   "source": [
    "#### Exercise 5\n",
    "Check if there are any duplicated rows using `.duplicated()`.  \n",
    "If there are, drop them.  \n",
    "Check again if there are any duplicates left."
   ]
  },
  {
   "cell_type": "code",
   "execution_count": 8,
   "id": "e69d55a4-cbd2-4e60-87ad-15ff13969450",
   "metadata": {
    "executionInfo": {
     "elapsed": 2,
     "status": "ok",
     "timestamp": 1713801032078,
     "user": {
      "displayName": "Christopher Galloway",
      "userId": "16329134674817848650"
     },
     "user_tz": -120
    },
    "id": "e69d55a4-cbd2-4e60-87ad-15ff13969450"
   },
   "outputs": [],
   "source": [
    "# Your code here"
   ]
  },
  {
   "cell_type": "markdown",
   "id": "47613b91-9a30-483a-a712-76bb8eaf017c",
   "metadata": {
    "id": "47613b91-9a30-483a-a712-76bb8eaf017c"
   },
   "source": [
    "#### Exercise 5\n",
    "Explore the column `qty`.    \n",
    "Think about why this column is not usefull to us and then drop it.  "
   ]
  },
  {
   "cell_type": "code",
   "execution_count": 9,
   "id": "c58abb6e-6156-4b7a-9429-3d39daf5594a",
   "metadata": {
    "executionInfo": {
     "elapsed": 2,
     "status": "ok",
     "timestamp": 1713801032078,
     "user": {
      "displayName": "Christopher Galloway",
      "userId": "16329134674817848650"
     },
     "user_tz": -120
    },
    "id": "c58abb6e-6156-4b7a-9429-3d39daf5594a"
   },
   "outputs": [],
   "source": [
    "# Your code here"
   ]
  },
  {
   "cell_type": "markdown",
   "id": "cf85980b-3191-4508-ae26-62cfb78a9123",
   "metadata": {
    "id": "cf85980b-3191-4508-ae26-62cfb78a9123"
   },
   "source": [
    "#### Exercise 6\n",
    "There is a small dataset of extra lego sets. Using `pd.concat()` concatinate it with `sets_df` so that `extra_sets` becomes part of `sets_df`.  \n",
    "Make sure the index stays unique in the end."
   ]
  },
  {
   "cell_type": "code",
   "execution_count": 10,
   "id": "f8f82fd7-e07c-4de2-85a4-8cb9fb4330e3",
   "metadata": {
    "colab": {
     "base_uri": "https://localhost:8080/",
     "height": 676
    },
    "executionInfo": {
     "elapsed": 416,
     "status": "ok",
     "timestamp": 1713801032493,
     "user": {
      "displayName": "Christopher Galloway",
      "userId": "16329134674817848650"
     },
     "user_tz": -120
    },
    "id": "f8f82fd7-e07c-4de2-85a4-8cb9fb4330e3",
    "outputId": "94f96e80-a82e-49e0-868c-bcdee011a716"
   },
   "outputs": [
    {
     "data": {
      "application/vnd.google.colaboratory.intrinsic+json": {
       "summary": "{\n  \"name\": \"extra_sets\",\n  \"rows\": 20,\n  \"fields\": [\n    {\n      \"column\": \"set_num\",\n      \"properties\": {\n        \"dtype\": \"string\",\n        \"num_unique_values\": 20,\n        \"samples\": [\n          \"1094-1\",\n          \"3939-1\",\n          \"1668-1\"\n        ],\n        \"semantic_type\": \"\",\n        \"description\": \"\"\n      }\n    },\n    {\n      \"column\": \"name\",\n      \"properties\": {\n        \"dtype\": \"string\",\n        \"num_unique_values\": 20,\n        \"samples\": [\n          \"Johnny Thunder\",\n          \"Mia's Bedroom\",\n          \"Basic Building Set Trial Size\"\n        ],\n        \"semantic_type\": \"\",\n        \"description\": \"\"\n      }\n    },\n    {\n      \"column\": \"year\",\n      \"properties\": {\n        \"dtype\": \"number\",\n        \"std\": 11,\n        \"min\": 1974,\n        \"max\": 2016,\n        \"num_unique_values\": 13,\n        \"samples\": [\n          1992,\n          2004,\n          1999\n        ],\n        \"semantic_type\": \"\",\n        \"description\": \"\"\n      }\n    },\n    {\n      \"column\": \"theme_id\",\n      \"properties\": {\n        \"dtype\": \"number\",\n        \"std\": 151,\n        \"min\": 165,\n        \"max\": 604,\n        \"num_unique_values\": 19,\n        \"samples\": [\n          297,\n          538,\n          167\n        ],\n        \"semantic_type\": \"\",\n        \"description\": \"\"\n      }\n    },\n    {\n      \"column\": \"num_parts\",\n      \"properties\": {\n        \"dtype\": \"number\",\n        \"std\": 385.274949668552,\n        \"min\": 0.0,\n        \"max\": 1574.0,\n        \"num_unique_values\": 18,\n        \"samples\": [\n          13.0,\n          18.0,\n          33.0\n        ],\n        \"semantic_type\": \"\",\n        \"description\": \"\"\n      }\n    }\n  ]\n}",
       "type": "dataframe",
       "variable_name": "extra_sets"
      },
      "text/html": [
       "\n",
       "  <div id=\"df-3c450537-f6c3-412c-b005-5ffec778148c\" class=\"colab-df-container\">\n",
       "    <div>\n",
       "<style scoped>\n",
       "    .dataframe tbody tr th:only-of-type {\n",
       "        vertical-align: middle;\n",
       "    }\n",
       "\n",
       "    .dataframe tbody tr th {\n",
       "        vertical-align: top;\n",
       "    }\n",
       "\n",
       "    .dataframe thead th {\n",
       "        text-align: right;\n",
       "    }\n",
       "</style>\n",
       "<table border=\"1\" class=\"dataframe\">\n",
       "  <thead>\n",
       "    <tr style=\"text-align: right;\">\n",
       "      <th></th>\n",
       "      <th>set_num</th>\n",
       "      <th>name</th>\n",
       "      <th>year</th>\n",
       "      <th>theme_id</th>\n",
       "      <th>num_parts</th>\n",
       "    </tr>\n",
       "  </thead>\n",
       "  <tbody>\n",
       "    <tr>\n",
       "      <th>0</th>\n",
       "      <td>1094-1</td>\n",
       "      <td>Johnny Thunder</td>\n",
       "      <td>1999</td>\n",
       "      <td>297</td>\n",
       "      <td>13.0</td>\n",
       "    </tr>\n",
       "    <tr>\n",
       "      <th>1</th>\n",
       "      <td>3642-1</td>\n",
       "      <td>Fire Engine</td>\n",
       "      <td>1985</td>\n",
       "      <td>395</td>\n",
       "      <td>18.0</td>\n",
       "    </tr>\n",
       "    <tr>\n",
       "      <th>2</th>\n",
       "      <td>7724-14</td>\n",
       "      <td>Advent Calendar 2008 City (Day 13) Diver and S...</td>\n",
       "      <td>2008</td>\n",
       "      <td>220</td>\n",
       "      <td>1.0</td>\n",
       "    </tr>\n",
       "    <tr>\n",
       "      <th>3</th>\n",
       "      <td>264-1</td>\n",
       "      <td>Living Room Set</td>\n",
       "      <td>1974</td>\n",
       "      <td>405</td>\n",
       "      <td>241.0</td>\n",
       "    </tr>\n",
       "    <tr>\n",
       "      <th>4</th>\n",
       "      <td>70736-1</td>\n",
       "      <td>Attack of the Morro Dragon</td>\n",
       "      <td>2015</td>\n",
       "      <td>435</td>\n",
       "      <td>655.0</td>\n",
       "    </tr>\n",
       "    <tr>\n",
       "      <th>5</th>\n",
       "      <td>8803-0</td>\n",
       "      <td>Minifigure Series 3 [Random Bag]</td>\n",
       "      <td>2011</td>\n",
       "      <td>538</td>\n",
       "      <td>0.0</td>\n",
       "    </tr>\n",
       "    <tr>\n",
       "      <th>6</th>\n",
       "      <td>71008-4</td>\n",
       "      <td>Snake Charmer</td>\n",
       "      <td>2015</td>\n",
       "      <td>551</td>\n",
       "      <td>7.0</td>\n",
       "    </tr>\n",
       "    <tr>\n",
       "      <th>7</th>\n",
       "      <td>3829-1</td>\n",
       "      <td>Fire Nation Ship</td>\n",
       "      <td>2006</td>\n",
       "      <td>317</td>\n",
       "      <td>724.0</td>\n",
       "    </tr>\n",
       "    <tr>\n",
       "      <th>8</th>\n",
       "      <td>30108-1</td>\n",
       "      <td>Summer Picnic</td>\n",
       "      <td>2013</td>\n",
       "      <td>494</td>\n",
       "      <td>33.0</td>\n",
       "    </tr>\n",
       "    <tr>\n",
       "      <th>9</th>\n",
       "      <td>71001-7</td>\n",
       "      <td>Bumblebee Girl - Complete Set</td>\n",
       "      <td>2013</td>\n",
       "      <td>545</td>\n",
       "      <td>7.0</td>\n",
       "    </tr>\n",
       "    <tr>\n",
       "      <th>10</th>\n",
       "      <td>41563-1</td>\n",
       "      <td>Splasho</td>\n",
       "      <td>2016</td>\n",
       "      <td>588</td>\n",
       "      <td>67.0</td>\n",
       "    </tr>\n",
       "    <tr>\n",
       "      <th>11</th>\n",
       "      <td>4478-2</td>\n",
       "      <td>Geonosian Fighter Blue Box</td>\n",
       "      <td>2004</td>\n",
       "      <td>167</td>\n",
       "      <td>153.0</td>\n",
       "    </tr>\n",
       "    <tr>\n",
       "      <th>12</th>\n",
       "      <td>65579-1</td>\n",
       "      <td>Knights' Kingdom Value Pack 8770 and 8771 with...</td>\n",
       "      <td>2004</td>\n",
       "      <td>198</td>\n",
       "      <td>3.0</td>\n",
       "    </tr>\n",
       "    <tr>\n",
       "      <th>13</th>\n",
       "      <td>9491-1</td>\n",
       "      <td>Geonosian Cannon</td>\n",
       "      <td>2012</td>\n",
       "      <td>165</td>\n",
       "      <td>133.0</td>\n",
       "    </tr>\n",
       "    <tr>\n",
       "      <th>14</th>\n",
       "      <td>7979-5</td>\n",
       "      <td>Advent Calendar 2008 Castle  (Day 4) - White S...</td>\n",
       "      <td>2008</td>\n",
       "      <td>219</td>\n",
       "      <td>7.0</td>\n",
       "    </tr>\n",
       "    <tr>\n",
       "      <th>15</th>\n",
       "      <td>1668-1</td>\n",
       "      <td>Basic Building Set Trial Size</td>\n",
       "      <td>1992</td>\n",
       "      <td>469</td>\n",
       "      <td>30.0</td>\n",
       "    </tr>\n",
       "    <tr>\n",
       "      <th>16</th>\n",
       "      <td>71237-1</td>\n",
       "      <td>Aquaman and Aqua Watercraft</td>\n",
       "      <td>2016</td>\n",
       "      <td>604</td>\n",
       "      <td>43.0</td>\n",
       "    </tr>\n",
       "    <tr>\n",
       "      <th>17</th>\n",
       "      <td>3939-1</td>\n",
       "      <td>Mia's Bedroom</td>\n",
       "      <td>2012</td>\n",
       "      <td>494</td>\n",
       "      <td>86.0</td>\n",
       "    </tr>\n",
       "    <tr>\n",
       "      <th>18</th>\n",
       "      <td>5161-1</td>\n",
       "      <td>Inverted Slope Bricks</td>\n",
       "      <td>1987</td>\n",
       "      <td>443</td>\n",
       "      <td>16.0</td>\n",
       "    </tr>\n",
       "    <tr>\n",
       "      <th>19</th>\n",
       "      <td>10223-1</td>\n",
       "      <td>Kingdoms Joust</td>\n",
       "      <td>2012</td>\n",
       "      <td>196</td>\n",
       "      <td>1574.0</td>\n",
       "    </tr>\n",
       "  </tbody>\n",
       "</table>\n",
       "</div>\n",
       "    <div class=\"colab-df-buttons\">\n",
       "\n",
       "  <div class=\"colab-df-container\">\n",
       "    <button class=\"colab-df-convert\" onclick=\"convertToInteractive('df-3c450537-f6c3-412c-b005-5ffec778148c')\"\n",
       "            title=\"Convert this dataframe to an interactive table.\"\n",
       "            style=\"display:none;\">\n",
       "\n",
       "  <svg xmlns=\"http://www.w3.org/2000/svg\" height=\"24px\" viewBox=\"0 -960 960 960\">\n",
       "    <path d=\"M120-120v-720h720v720H120Zm60-500h600v-160H180v160Zm220 220h160v-160H400v160Zm0 220h160v-160H400v160ZM180-400h160v-160H180v160Zm440 0h160v-160H620v160ZM180-180h160v-160H180v160Zm440 0h160v-160H620v160Z\"/>\n",
       "  </svg>\n",
       "    </button>\n",
       "\n",
       "  <style>\n",
       "    .colab-df-container {\n",
       "      display:flex;\n",
       "      gap: 12px;\n",
       "    }\n",
       "\n",
       "    .colab-df-convert {\n",
       "      background-color: #E8F0FE;\n",
       "      border: none;\n",
       "      border-radius: 50%;\n",
       "      cursor: pointer;\n",
       "      display: none;\n",
       "      fill: #1967D2;\n",
       "      height: 32px;\n",
       "      padding: 0 0 0 0;\n",
       "      width: 32px;\n",
       "    }\n",
       "\n",
       "    .colab-df-convert:hover {\n",
       "      background-color: #E2EBFA;\n",
       "      box-shadow: 0px 1px 2px rgba(60, 64, 67, 0.3), 0px 1px 3px 1px rgba(60, 64, 67, 0.15);\n",
       "      fill: #174EA6;\n",
       "    }\n",
       "\n",
       "    .colab-df-buttons div {\n",
       "      margin-bottom: 4px;\n",
       "    }\n",
       "\n",
       "    [theme=dark] .colab-df-convert {\n",
       "      background-color: #3B4455;\n",
       "      fill: #D2E3FC;\n",
       "    }\n",
       "\n",
       "    [theme=dark] .colab-df-convert:hover {\n",
       "      background-color: #434B5C;\n",
       "      box-shadow: 0px 1px 3px 1px rgba(0, 0, 0, 0.15);\n",
       "      filter: drop-shadow(0px 1px 2px rgba(0, 0, 0, 0.3));\n",
       "      fill: #FFFFFF;\n",
       "    }\n",
       "  </style>\n",
       "\n",
       "    <script>\n",
       "      const buttonEl =\n",
       "        document.querySelector('#df-3c450537-f6c3-412c-b005-5ffec778148c button.colab-df-convert');\n",
       "      buttonEl.style.display =\n",
       "        google.colab.kernel.accessAllowed ? 'block' : 'none';\n",
       "\n",
       "      async function convertToInteractive(key) {\n",
       "        const element = document.querySelector('#df-3c450537-f6c3-412c-b005-5ffec778148c');\n",
       "        const dataTable =\n",
       "          await google.colab.kernel.invokeFunction('convertToInteractive',\n",
       "                                                    [key], {});\n",
       "        if (!dataTable) return;\n",
       "\n",
       "        const docLinkHtml = 'Like what you see? Visit the ' +\n",
       "          '<a target=\"_blank\" href=https://colab.research.google.com/notebooks/data_table.ipynb>data table notebook</a>'\n",
       "          + ' to learn more about interactive tables.';\n",
       "        element.innerHTML = '';\n",
       "        dataTable['output_type'] = 'display_data';\n",
       "        await google.colab.output.renderOutput(dataTable, element);\n",
       "        const docLink = document.createElement('div');\n",
       "        docLink.innerHTML = docLinkHtml;\n",
       "        element.appendChild(docLink);\n",
       "      }\n",
       "    </script>\n",
       "  </div>\n",
       "\n",
       "\n",
       "<div id=\"df-2b46400f-9513-437f-91bc-6e410d313883\">\n",
       "  <button class=\"colab-df-quickchart\" onclick=\"quickchart('df-2b46400f-9513-437f-91bc-6e410d313883')\"\n",
       "            title=\"Suggest charts\"\n",
       "            style=\"display:none;\">\n",
       "\n",
       "<svg xmlns=\"http://www.w3.org/2000/svg\" height=\"24px\"viewBox=\"0 0 24 24\"\n",
       "     width=\"24px\">\n",
       "    <g>\n",
       "        <path d=\"M19 3H5c-1.1 0-2 .9-2 2v14c0 1.1.9 2 2 2h14c1.1 0 2-.9 2-2V5c0-1.1-.9-2-2-2zM9 17H7v-7h2v7zm4 0h-2V7h2v10zm4 0h-2v-4h2v4z\"/>\n",
       "    </g>\n",
       "</svg>\n",
       "  </button>\n",
       "\n",
       "<style>\n",
       "  .colab-df-quickchart {\n",
       "      --bg-color: #E8F0FE;\n",
       "      --fill-color: #1967D2;\n",
       "      --hover-bg-color: #E2EBFA;\n",
       "      --hover-fill-color: #174EA6;\n",
       "      --disabled-fill-color: #AAA;\n",
       "      --disabled-bg-color: #DDD;\n",
       "  }\n",
       "\n",
       "  [theme=dark] .colab-df-quickchart {\n",
       "      --bg-color: #3B4455;\n",
       "      --fill-color: #D2E3FC;\n",
       "      --hover-bg-color: #434B5C;\n",
       "      --hover-fill-color: #FFFFFF;\n",
       "      --disabled-bg-color: #3B4455;\n",
       "      --disabled-fill-color: #666;\n",
       "  }\n",
       "\n",
       "  .colab-df-quickchart {\n",
       "    background-color: var(--bg-color);\n",
       "    border: none;\n",
       "    border-radius: 50%;\n",
       "    cursor: pointer;\n",
       "    display: none;\n",
       "    fill: var(--fill-color);\n",
       "    height: 32px;\n",
       "    padding: 0;\n",
       "    width: 32px;\n",
       "  }\n",
       "\n",
       "  .colab-df-quickchart:hover {\n",
       "    background-color: var(--hover-bg-color);\n",
       "    box-shadow: 0 1px 2px rgba(60, 64, 67, 0.3), 0 1px 3px 1px rgba(60, 64, 67, 0.15);\n",
       "    fill: var(--button-hover-fill-color);\n",
       "  }\n",
       "\n",
       "  .colab-df-quickchart-complete:disabled,\n",
       "  .colab-df-quickchart-complete:disabled:hover {\n",
       "    background-color: var(--disabled-bg-color);\n",
       "    fill: var(--disabled-fill-color);\n",
       "    box-shadow: none;\n",
       "  }\n",
       "\n",
       "  .colab-df-spinner {\n",
       "    border: 2px solid var(--fill-color);\n",
       "    border-color: transparent;\n",
       "    border-bottom-color: var(--fill-color);\n",
       "    animation:\n",
       "      spin 1s steps(1) infinite;\n",
       "  }\n",
       "\n",
       "  @keyframes spin {\n",
       "    0% {\n",
       "      border-color: transparent;\n",
       "      border-bottom-color: var(--fill-color);\n",
       "      border-left-color: var(--fill-color);\n",
       "    }\n",
       "    20% {\n",
       "      border-color: transparent;\n",
       "      border-left-color: var(--fill-color);\n",
       "      border-top-color: var(--fill-color);\n",
       "    }\n",
       "    30% {\n",
       "      border-color: transparent;\n",
       "      border-left-color: var(--fill-color);\n",
       "      border-top-color: var(--fill-color);\n",
       "      border-right-color: var(--fill-color);\n",
       "    }\n",
       "    40% {\n",
       "      border-color: transparent;\n",
       "      border-right-color: var(--fill-color);\n",
       "      border-top-color: var(--fill-color);\n",
       "    }\n",
       "    60% {\n",
       "      border-color: transparent;\n",
       "      border-right-color: var(--fill-color);\n",
       "    }\n",
       "    80% {\n",
       "      border-color: transparent;\n",
       "      border-right-color: var(--fill-color);\n",
       "      border-bottom-color: var(--fill-color);\n",
       "    }\n",
       "    90% {\n",
       "      border-color: transparent;\n",
       "      border-bottom-color: var(--fill-color);\n",
       "    }\n",
       "  }\n",
       "</style>\n",
       "\n",
       "  <script>\n",
       "    async function quickchart(key) {\n",
       "      const quickchartButtonEl =\n",
       "        document.querySelector('#' + key + ' button');\n",
       "      quickchartButtonEl.disabled = true;  // To prevent multiple clicks.\n",
       "      quickchartButtonEl.classList.add('colab-df-spinner');\n",
       "      try {\n",
       "        const charts = await google.colab.kernel.invokeFunction(\n",
       "            'suggestCharts', [key], {});\n",
       "      } catch (error) {\n",
       "        console.error('Error during call to suggestCharts:', error);\n",
       "      }\n",
       "      quickchartButtonEl.classList.remove('colab-df-spinner');\n",
       "      quickchartButtonEl.classList.add('colab-df-quickchart-complete');\n",
       "    }\n",
       "    (() => {\n",
       "      let quickchartButtonEl =\n",
       "        document.querySelector('#df-2b46400f-9513-437f-91bc-6e410d313883 button');\n",
       "      quickchartButtonEl.style.display =\n",
       "        google.colab.kernel.accessAllowed ? 'block' : 'none';\n",
       "    })();\n",
       "  </script>\n",
       "</div>\n",
       "    </div>\n",
       "  </div>\n"
      ],
      "text/plain": [
       "    set_num                                               name  year  \\\n",
       "0    1094-1                                     Johnny Thunder  1999   \n",
       "1    3642-1                                        Fire Engine  1985   \n",
       "2   7724-14  Advent Calendar 2008 City (Day 13) Diver and S...  2008   \n",
       "3     264-1                                    Living Room Set  1974   \n",
       "4   70736-1                         Attack of the Morro Dragon  2015   \n",
       "5    8803-0                   Minifigure Series 3 [Random Bag]  2011   \n",
       "6   71008-4                                      Snake Charmer  2015   \n",
       "7    3829-1                                   Fire Nation Ship  2006   \n",
       "8   30108-1                                      Summer Picnic  2013   \n",
       "9   71001-7                      Bumblebee Girl - Complete Set  2013   \n",
       "10  41563-1                                            Splasho  2016   \n",
       "11   4478-2                         Geonosian Fighter Blue Box  2004   \n",
       "12  65579-1  Knights' Kingdom Value Pack 8770 and 8771 with...  2004   \n",
       "13   9491-1                                   Geonosian Cannon  2012   \n",
       "14   7979-5  Advent Calendar 2008 Castle  (Day 4) - White S...  2008   \n",
       "15   1668-1                      Basic Building Set Trial Size  1992   \n",
       "16  71237-1                        Aquaman and Aqua Watercraft  2016   \n",
       "17   3939-1                                      Mia's Bedroom  2012   \n",
       "18   5161-1                              Inverted Slope Bricks  1987   \n",
       "19  10223-1                                     Kingdoms Joust  2012   \n",
       "\n",
       "    theme_id  num_parts  \n",
       "0        297       13.0  \n",
       "1        395       18.0  \n",
       "2        220        1.0  \n",
       "3        405      241.0  \n",
       "4        435      655.0  \n",
       "5        538        0.0  \n",
       "6        551        7.0  \n",
       "7        317      724.0  \n",
       "8        494       33.0  \n",
       "9        545        7.0  \n",
       "10       588       67.0  \n",
       "11       167      153.0  \n",
       "12       198        3.0  \n",
       "13       165      133.0  \n",
       "14       219        7.0  \n",
       "15       469       30.0  \n",
       "16       604       43.0  \n",
       "17       494       86.0  \n",
       "18       443       16.0  \n",
       "19       196     1574.0  "
      ]
     },
     "execution_count": 10,
     "metadata": {},
     "output_type": "execute_result"
    }
   ],
   "source": [
    "url = 'https://drive.google.com/file/d/1neEZwA60mOosscTJjTH9jw2ISbI5K9dw/view?usp=drive_link'\n",
    "path = 'https://drive.google.com/uc?export=download&id='+url.split('/')[-2]\n",
    "extra_sets = pd.read_csv(path)\n",
    "extra_sets"
   ]
  },
  {
   "cell_type": "code",
   "execution_count": 11,
   "id": "33b46241-9999-4a9c-b8bf-23d8b8765a7a",
   "metadata": {
    "executionInfo": {
     "elapsed": 3,
     "status": "ok",
     "timestamp": 1713801032494,
     "user": {
      "displayName": "Christopher Galloway",
      "userId": "16329134674817848650"
     },
     "user_tz": -120
    },
    "id": "33b46241-9999-4a9c-b8bf-23d8b8765a7a"
   },
   "outputs": [],
   "source": [
    "# Your code here"
   ]
  },
  {
   "cell_type": "markdown",
   "id": "b0f8bfaa-cf6c-4f95-84ba-fb3a80e959d6",
   "metadata": {
    "id": "b0f8bfaa-cf6c-4f95-84ba-fb3a80e959d6"
   },
   "source": [
    "#### Exercise 8\n",
    "The Lego set with `set_num` '70905-1' has a strange number of parts.  \n",
    "Think about what would be the best value to replace the strange one with and then change it."
   ]
  },
  {
   "cell_type": "code",
   "execution_count": 12,
   "id": "7e785836-9079-4b4e-a0b4-9a98de4cb04d",
   "metadata": {
    "executionInfo": {
     "elapsed": 3,
     "status": "ok",
     "timestamp": 1713801032494,
     "user": {
      "displayName": "Christopher Galloway",
      "userId": "16329134674817848650"
     },
     "user_tz": -120
    },
    "id": "7e785836-9079-4b4e-a0b4-9a98de4cb04d"
   },
   "outputs": [],
   "source": [
    "# Your code here"
   ]
  },
  {
   "cell_type": "markdown",
   "id": "60839a0f-526f-4e2c-8e2c-f09d4708af6b",
   "metadata": {
    "id": "60839a0f-526f-4e2c-8e2c-f09d4708af6b"
   },
   "source": [
    "#### Exercise 9\n",
    "The Lego set with set_num '1873-1' has a strange value in `year`  \n",
    "Think about what would be the best value to replace the strange one with and then change it."
   ]
  },
  {
   "cell_type": "code",
   "execution_count": 13,
   "id": "956d84a4-9c2f-4d2c-979e-68f52e3f062f",
   "metadata": {
    "executionInfo": {
     "elapsed": 2,
     "status": "ok",
     "timestamp": 1713801032494,
     "user": {
      "displayName": "Christopher Galloway",
      "userId": "16329134674817848650"
     },
     "user_tz": -120
    },
    "id": "956d84a4-9c2f-4d2c-979e-68f52e3f062f"
   },
   "outputs": [],
   "source": [
    "# Your code here"
   ]
  },
  {
   "cell_type": "markdown",
   "id": "FCZyzIWmHa0s",
   "metadata": {
    "id": "FCZyzIWmHa0s"
   },
   "source": [
    "### Exercise 10\n",
    "Organize the Lego sets first by release year and then by theme.      \n",
    "Reset the index after."
   ]
  },
  {
   "cell_type": "code",
   "execution_count": 14,
   "id": "kNKr3mh0HNoK",
   "metadata": {
    "executionInfo": {
     "elapsed": 2,
     "status": "ok",
     "timestamp": 1713801032819,
     "user": {
      "displayName": "Christopher Galloway",
      "userId": "16329134674817848650"
     },
     "user_tz": -120
    },
    "id": "kNKr3mh0HNoK"
   },
   "outputs": [],
   "source": [
    "# Your code here"
   ]
  },
  {
   "cell_type": "markdown",
   "id": "_PYKOJ4oIGuK",
   "metadata": {
    "id": "_PYKOJ4oIGuK"
   },
   "source": [
    "### Exercise 11\n",
    "It has been decided that theme should be incorporated into the set number.    \n",
    "Make a new column combining the two and call it `combined_id`. The resulting value should have the form    \n",
    "`theme_id/set_num`       \n",
    "The new column should appear on the left of the DataFrame (column index 0). `set_num` and `theme_id` should not appear in the final DataFrame."
   ]
  },
  {
   "cell_type": "code",
   "execution_count": 15,
   "id": "N3TWRt-yIx8g",
   "metadata": {
    "executionInfo": {
     "elapsed": 2,
     "status": "ok",
     "timestamp": 1713801032819,
     "user": {
      "displayName": "Christopher Galloway",
      "userId": "16329134674817848650"
     },
     "user_tz": -120
    },
    "id": "N3TWRt-yIx8g"
   },
   "outputs": [],
   "source": [
    "# Your code here"
   ]
  }
 ],
 "metadata": {
  "colab": {
   "provenance": [
    {
     "file_id": "1HCo8LPnZyj50ZsPbm6ylkCPkgpOqW19G",
     "timestamp": 1712752547528
    }
   ]
  },
  "kernelspec": {
   "display_name": "base",
   "language": "python",
   "name": "python3"
  },
  "language_info": {
   "codemirror_mode": {
    "name": "ipython",
    "version": 3
   },
   "file_extension": ".py",
   "mimetype": "text/x-python",
   "name": "python",
   "nbconvert_exporter": "python",
   "pygments_lexer": "ipython3",
   "version": "3.12.4"
  }
 },
 "nbformat": 4,
 "nbformat_minor": 5
}
