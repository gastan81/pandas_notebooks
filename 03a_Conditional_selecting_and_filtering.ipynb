{
 "cells": [
  {
   "cell_type": "code",
   "execution_count": 1,
   "metadata": {
    "executionInfo": {
     "elapsed": 634,
     "status": "ok",
     "timestamp": 1713789436555,
     "user": {
      "displayName": "Christopher Galloway",
      "userId": "16329134674817848650"
     },
     "user_tz": -120
    },
    "id": "YvoUiZd1yGye"
   },
   "outputs": [],
   "source": [
    "import pandas as pd"
   ]
  },
  {
   "cell_type": "code",
   "execution_count": 2,
   "metadata": {
    "colab": {
     "base_uri": "https://localhost:8080/",
     "height": 206
    },
    "executionInfo": {
     "elapsed": 5,
     "status": "ok",
     "timestamp": 1713789436555,
     "user": {
      "displayName": "Christopher Galloway",
      "userId": "16329134674817848650"
     },
     "user_tz": -120
    },
    "id": "QgEXdMpLm4SY",
    "outputId": "be0e0c55-381d-4163-e054-8bc3b1bb2b0c"
   },
   "outputs": [
    {
     "data": {
      "text/html": [
       "<div>\n",
       "<style scoped>\n",
       "    .dataframe tbody tr th:only-of-type {\n",
       "        vertical-align: middle;\n",
       "    }\n",
       "\n",
       "    .dataframe tbody tr th {\n",
       "        vertical-align: top;\n",
       "    }\n",
       "\n",
       "    .dataframe thead th {\n",
       "        text-align: right;\n",
       "    }\n",
       "</style>\n",
       "<table border=\"1\" class=\"dataframe\">\n",
       "  <thead>\n",
       "    <tr style=\"text-align: right;\">\n",
       "      <th></th>\n",
       "      <th>Name</th>\n",
       "      <th>Age</th>\n",
       "      <th>Salary USD</th>\n",
       "      <th>Department</th>\n",
       "      <th>Gender</th>\n",
       "    </tr>\n",
       "  </thead>\n",
       "  <tbody>\n",
       "    <tr>\n",
       "      <th>0</th>\n",
       "      <td>Alice</td>\n",
       "      <td>25</td>\n",
       "      <td>50000</td>\n",
       "      <td>HR</td>\n",
       "      <td>Female</td>\n",
       "    </tr>\n",
       "    <tr>\n",
       "      <th>1</th>\n",
       "      <td>Bob</td>\n",
       "      <td>30</td>\n",
       "      <td>60000</td>\n",
       "      <td>IT</td>\n",
       "      <td>Male</td>\n",
       "    </tr>\n",
       "    <tr>\n",
       "      <th>2</th>\n",
       "      <td>Claire</td>\n",
       "      <td>22</td>\n",
       "      <td>45000</td>\n",
       "      <td>Finance</td>\n",
       "      <td>Female</td>\n",
       "    </tr>\n",
       "    <tr>\n",
       "      <th>3</th>\n",
       "      <td>David</td>\n",
       "      <td>28</td>\n",
       "      <td>70000</td>\n",
       "      <td>IT</td>\n",
       "      <td>Male</td>\n",
       "    </tr>\n",
       "    <tr>\n",
       "      <th>4</th>\n",
       "      <td>Emma</td>\n",
       "      <td>35</td>\n",
       "      <td>80000</td>\n",
       "      <td>Marketing</td>\n",
       "      <td>Female</td>\n",
       "    </tr>\n",
       "  </tbody>\n",
       "</table>\n",
       "</div>"
      ],
      "text/plain": [
       "     Name  Age  Salary USD Department  Gender\n",
       "0   Alice   25       50000         HR  Female\n",
       "1     Bob   30       60000         IT    Male\n",
       "2  Claire   22       45000    Finance  Female\n",
       "3   David   28       70000         IT    Male\n",
       "4    Emma   35       80000  Marketing  Female"
      ]
     },
     "execution_count": 2,
     "metadata": {},
     "output_type": "execute_result"
    }
   ],
   "source": [
    "data = {\n",
    "    'Name': ['Alice', 'Bob', 'Claire', 'David', 'Emma'],\n",
    "    'Age': [25, 30, 22, 28, 35],\n",
    "    'Salary USD': [50000, 60000, 45000, 70000, 80000],\n",
    "    'Department': ['HR', 'IT', 'Finance', 'IT', 'Marketing'],\n",
    "    'Gender': ['Female', 'Male', 'Female', 'Male', 'Female']\n",
    "}\n",
    "\n",
    "df = pd.DataFrame(data)\n",
    "\n",
    "df"
   ]
  },
  {
   "cell_type": "markdown",
   "metadata": {
    "id": "y-ZYrlZDWavA"
   },
   "source": [
    "## Preliminary exploration\n",
    "Before deciding to look into a particular department or age group, it would helpful to know things like\n",
    "- What are the different departments in this DataFrame?\n",
    "- What's the range of ages in this DataFrame?"
   ]
  },
  {
   "cell_type": "markdown",
   "metadata": {
    "id": "3fq8UNOCXKX5"
   },
   "source": [
    "### `.unique()`\n",
    "\n",
    "One way to see the distinct values in a column is to use `.unique()`. For readability, it is best to use this method on columns where you only expect a relatively small number of different values."
   ]
  },
  {
   "cell_type": "code",
   "execution_count": 3,
   "metadata": {
    "colab": {
     "base_uri": "https://localhost:8080/"
    },
    "executionInfo": {
     "elapsed": 415,
     "status": "ok",
     "timestamp": 1713789436966,
     "user": {
      "displayName": "Christopher Galloway",
      "userId": "16329134674817848650"
     },
     "user_tz": -120
    },
    "id": "XlhK-o-XX5t5",
    "outputId": "d17de1c3-1e4b-47d9-cbb3-93050ca3c482"
   },
   "outputs": [
    {
     "data": {
      "text/plain": [
       "array(['HR', 'IT', 'Finance', 'Marketing'], dtype=object)"
      ]
     },
     "execution_count": 3,
     "metadata": {},
     "output_type": "execute_result"
    }
   ],
   "source": [
    "df['Department'].unique()"
   ]
  },
  {
   "cell_type": "markdown",
   "metadata": {
    "id": "xZqjFOgLWen1"
   },
   "source": [
    "### Ranges\n",
    "For continuous numerical values, it might be more useful to know the range of available values. One way to accomplish this is to use `.max()` and `.min()`. Another could be to use `.describe()`, which provides information about the range as well as the quartiles."
   ]
  },
  {
   "cell_type": "code",
   "execution_count": 4,
   "metadata": {
    "colab": {
     "base_uri": "https://localhost:8080/"
    },
    "executionInfo": {
     "elapsed": 4,
     "status": "ok",
     "timestamp": 1713789436966,
     "user": {
      "displayName": "Christopher Galloway",
      "userId": "16329134674817848650"
     },
     "user_tz": -120
    },
    "id": "oFX334KhYnAK",
    "outputId": "b75b9fc0-e55a-4961-ad91-c5c87886a281"
   },
   "outputs": [
    {
     "name": "stdout",
     "output_type": "stream",
     "text": [
      "22 35\n"
     ]
    }
   ],
   "source": [
    "print(df['Age'].min(), df['Age'].max())"
   ]
  },
  {
   "cell_type": "code",
   "execution_count": 5,
   "metadata": {
    "colab": {
     "base_uri": "https://localhost:8080/"
    },
    "executionInfo": {
     "elapsed": 4,
     "status": "ok",
     "timestamp": 1713789436966,
     "user": {
      "displayName": "Christopher Galloway",
      "userId": "16329134674817848650"
     },
     "user_tz": -120
    },
    "id": "CdpVj6NoYwRq",
    "outputId": "c8e308b5-0445-460c-81c8-d866f2514b69"
   },
   "outputs": [
    {
     "data": {
      "text/plain": [
       "count     5.000000\n",
       "mean     28.000000\n",
       "std       4.949747\n",
       "min      22.000000\n",
       "25%      25.000000\n",
       "50%      28.000000\n",
       "75%      30.000000\n",
       "max      35.000000\n",
       "Name: Age, dtype: float64"
      ]
     },
     "execution_count": 5,
     "metadata": {},
     "output_type": "execute_result"
    }
   ],
   "source": [
    "df['Age'].describe()"
   ]
  },
  {
   "cell_type": "markdown",
   "metadata": {
    "id": "b3biiz9Xnpwu"
   },
   "source": [
    "## Boolean indexing\n",
    "\n",
    "Boolean indexing allows you to filter and select data based on specific conditions. The first step is to create a boolean mask (a Series of `True` and `False`). This mask then acts as a sort of filter to return rows that line up with `True` in the Series."
   ]
  },
  {
   "cell_type": "markdown",
   "metadata": {
    "id": "1JihMLbawIl5"
   },
   "source": [
    "### Single condition"
   ]
  },
  {
   "cell_type": "markdown",
   "metadata": {
    "id": "gOAYXnEuoEn6"
   },
   "source": [
    "Let's say you want to know about those people in your DataFrame older than 29 years of age.\n",
    "\n",
    "You can start by formilising the condition:"
   ]
  },
  {
   "cell_type": "code",
   "execution_count": 6,
   "metadata": {
    "colab": {
     "base_uri": "https://localhost:8080/"
    },
    "executionInfo": {
     "elapsed": 3,
     "status": "ok",
     "timestamp": 1713789436966,
     "user": {
      "displayName": "Christopher Galloway",
      "userId": "16329134674817848650"
     },
     "user_tz": -120
    },
    "id": "h-oZJxTRnpQQ",
    "outputId": "cde0d00b-f920-4eeb-c9da-a5e77f85f762"
   },
   "outputs": [
    {
     "data": {
      "text/plain": [
       "0    False\n",
       "1     True\n",
       "2    False\n",
       "3    False\n",
       "4     True\n",
       "Name: Age, dtype: bool"
      ]
     },
     "execution_count": 6,
     "metadata": {},
     "output_type": "execute_result"
    }
   ],
   "source": [
    "df['Age'] > 29"
   ]
  },
  {
   "cell_type": "markdown",
   "metadata": {
    "id": "zlUtShAuKdUI"
   },
   "source": [
    "Comparing the output to 'df', you can see that for every row where the listed age is over 29, the above Series contains the value `True`."
   ]
  },
  {
   "cell_type": "markdown",
   "metadata": {
    "id": "-9BGBSXLsX-R"
   },
   "source": [
    "This Series can then be used inside `.loc` to select rows. Since `df` and the Series have the same index, this technique returns all rows aligned to `True` values."
   ]
  },
  {
   "cell_type": "code",
   "execution_count": 7,
   "metadata": {
    "colab": {
     "base_uri": "https://localhost:8080/",
     "height": 112
    },
    "executionInfo": {
     "elapsed": 268,
     "status": "ok",
     "timestamp": 1713789437232,
     "user": {
      "displayName": "Christopher Galloway",
      "userId": "16329134674817848650"
     },
     "user_tz": -120
    },
    "id": "UsYy4Z8Ysdq9",
    "outputId": "896f8c50-daa9-4fe1-d124-55ffb4597067"
   },
   "outputs": [
    {
     "data": {
      "text/html": [
       "<div>\n",
       "<style scoped>\n",
       "    .dataframe tbody tr th:only-of-type {\n",
       "        vertical-align: middle;\n",
       "    }\n",
       "\n",
       "    .dataframe tbody tr th {\n",
       "        vertical-align: top;\n",
       "    }\n",
       "\n",
       "    .dataframe thead th {\n",
       "        text-align: right;\n",
       "    }\n",
       "</style>\n",
       "<table border=\"1\" class=\"dataframe\">\n",
       "  <thead>\n",
       "    <tr style=\"text-align: right;\">\n",
       "      <th></th>\n",
       "      <th>Name</th>\n",
       "      <th>Age</th>\n",
       "      <th>Salary USD</th>\n",
       "      <th>Department</th>\n",
       "      <th>Gender</th>\n",
       "    </tr>\n",
       "  </thead>\n",
       "  <tbody>\n",
       "    <tr>\n",
       "      <th>1</th>\n",
       "      <td>Bob</td>\n",
       "      <td>30</td>\n",
       "      <td>60000</td>\n",
       "      <td>IT</td>\n",
       "      <td>Male</td>\n",
       "    </tr>\n",
       "    <tr>\n",
       "      <th>4</th>\n",
       "      <td>Emma</td>\n",
       "      <td>35</td>\n",
       "      <td>80000</td>\n",
       "      <td>Marketing</td>\n",
       "      <td>Female</td>\n",
       "    </tr>\n",
       "  </tbody>\n",
       "</table>\n",
       "</div>"
      ],
      "text/plain": [
       "   Name  Age  Salary USD Department  Gender\n",
       "1   Bob   30       60000         IT    Male\n",
       "4  Emma   35       80000  Marketing  Female"
      ]
     },
     "execution_count": 7,
     "metadata": {},
     "output_type": "execute_result"
    }
   ],
   "source": [
    "df.loc[df['Age'] > 29,:]"
   ]
  },
  {
   "cell_type": "markdown",
   "metadata": {
    "id": "yBz-h8b0ueQf"
   },
   "source": [
    "Logical conditions can become long and messy for some tasks, so it is sometimes a good practice to save the boolean mask as a separate variable and pass this variable to `.loc`."
   ]
  },
  {
   "cell_type": "code",
   "execution_count": 8,
   "metadata": {
    "executionInfo": {
     "elapsed": 4,
     "status": "ok",
     "timestamp": 1713789437232,
     "user": {
      "displayName": "Christopher Galloway",
      "userId": "16329134674817848650"
     },
     "user_tz": -120
    },
    "id": "z4pF68cmvBLm"
   },
   "outputs": [],
   "source": [
    "age_mask = df['Age'] > 29"
   ]
  },
  {
   "cell_type": "code",
   "execution_count": 9,
   "metadata": {
    "colab": {
     "base_uri": "https://localhost:8080/",
     "height": 112
    },
    "executionInfo": {
     "elapsed": 4,
     "status": "ok",
     "timestamp": 1713789437232,
     "user": {
      "displayName": "Christopher Galloway",
      "userId": "16329134674817848650"
     },
     "user_tz": -120
    },
    "id": "HXPixMJAvEod",
    "outputId": "207c0116-c7e1-453d-a0e4-212ce7278644"
   },
   "outputs": [
    {
     "data": {
      "text/html": [
       "<div>\n",
       "<style scoped>\n",
       "    .dataframe tbody tr th:only-of-type {\n",
       "        vertical-align: middle;\n",
       "    }\n",
       "\n",
       "    .dataframe tbody tr th {\n",
       "        vertical-align: top;\n",
       "    }\n",
       "\n",
       "    .dataframe thead th {\n",
       "        text-align: right;\n",
       "    }\n",
       "</style>\n",
       "<table border=\"1\" class=\"dataframe\">\n",
       "  <thead>\n",
       "    <tr style=\"text-align: right;\">\n",
       "      <th></th>\n",
       "      <th>Name</th>\n",
       "      <th>Age</th>\n",
       "      <th>Salary USD</th>\n",
       "      <th>Department</th>\n",
       "      <th>Gender</th>\n",
       "    </tr>\n",
       "  </thead>\n",
       "  <tbody>\n",
       "    <tr>\n",
       "      <th>1</th>\n",
       "      <td>Bob</td>\n",
       "      <td>30</td>\n",
       "      <td>60000</td>\n",
       "      <td>IT</td>\n",
       "      <td>Male</td>\n",
       "    </tr>\n",
       "    <tr>\n",
       "      <th>4</th>\n",
       "      <td>Emma</td>\n",
       "      <td>35</td>\n",
       "      <td>80000</td>\n",
       "      <td>Marketing</td>\n",
       "      <td>Female</td>\n",
       "    </tr>\n",
       "  </tbody>\n",
       "</table>\n",
       "</div>"
      ],
      "text/plain": [
       "   Name  Age  Salary USD Department  Gender\n",
       "1   Bob   30       60000         IT    Male\n",
       "4  Emma   35       80000  Marketing  Female"
      ]
     },
     "execution_count": 9,
     "metadata": {},
     "output_type": "execute_result"
    }
   ],
   "source": [
    "df.loc[age_mask,:]"
   ]
  },
  {
   "cell_type": "code",
   "execution_count": 10,
   "metadata": {
    "executionInfo": {
     "elapsed": 4,
     "status": "ok",
     "timestamp": 1713789437232,
     "user": {
      "displayName": "Christopher Galloway",
      "userId": "16329134674817848650"
     },
     "user_tz": -120
    },
    "id": "CUyhFaJFvOYC"
   },
   "outputs": [],
   "source": [
    "department_mask = df['Department'] == \"IT\""
   ]
  },
  {
   "cell_type": "code",
   "execution_count": 11,
   "metadata": {
    "colab": {
     "base_uri": "https://localhost:8080/",
     "height": 112
    },
    "executionInfo": {
     "elapsed": 340,
     "status": "ok",
     "timestamp": 1713789437569,
     "user": {
      "displayName": "Christopher Galloway",
      "userId": "16329134674817848650"
     },
     "user_tz": -120
    },
    "id": "IzB_-kiQvh0b",
    "outputId": "24631d2c-ad16-4368-fd52-706c7ea3e0f0"
   },
   "outputs": [
    {
     "data": {
      "text/html": [
       "<div>\n",
       "<style scoped>\n",
       "    .dataframe tbody tr th:only-of-type {\n",
       "        vertical-align: middle;\n",
       "    }\n",
       "\n",
       "    .dataframe tbody tr th {\n",
       "        vertical-align: top;\n",
       "    }\n",
       "\n",
       "    .dataframe thead th {\n",
       "        text-align: right;\n",
       "    }\n",
       "</style>\n",
       "<table border=\"1\" class=\"dataframe\">\n",
       "  <thead>\n",
       "    <tr style=\"text-align: right;\">\n",
       "      <th></th>\n",
       "      <th>Name</th>\n",
       "      <th>Age</th>\n",
       "      <th>Salary USD</th>\n",
       "      <th>Department</th>\n",
       "      <th>Gender</th>\n",
       "    </tr>\n",
       "  </thead>\n",
       "  <tbody>\n",
       "    <tr>\n",
       "      <th>1</th>\n",
       "      <td>Bob</td>\n",
       "      <td>30</td>\n",
       "      <td>60000</td>\n",
       "      <td>IT</td>\n",
       "      <td>Male</td>\n",
       "    </tr>\n",
       "    <tr>\n",
       "      <th>3</th>\n",
       "      <td>David</td>\n",
       "      <td>28</td>\n",
       "      <td>70000</td>\n",
       "      <td>IT</td>\n",
       "      <td>Male</td>\n",
       "    </tr>\n",
       "  </tbody>\n",
       "</table>\n",
       "</div>"
      ],
      "text/plain": [
       "    Name  Age  Salary USD Department Gender\n",
       "1    Bob   30       60000         IT   Male\n",
       "3  David   28       70000         IT   Male"
      ]
     },
     "execution_count": 11,
     "metadata": {},
     "output_type": "execute_result"
    }
   ],
   "source": [
    "df.loc[department_mask,:]"
   ]
  },
  {
   "cell_type": "markdown",
   "metadata": {
    "id": "nhiM2kPCwHfn"
   },
   "source": [
    "### Multiple conditions\n",
    "\n",
    "Conditions can be combined using logical operators:\n",
    "* **|** for OR,\n",
    "* **&** for AND\n",
    "* **~** for NOT.\n",
    "\n",
    "When typing conditions in full, these must be grouped by using parentheses. Named variables, on the other hand, need not be enclosed."
   ]
  },
  {
   "cell_type": "code",
   "execution_count": 12,
   "metadata": {
    "colab": {
     "base_uri": "https://localhost:8080/",
     "height": 81
    },
    "executionInfo": {
     "elapsed": 7,
     "status": "ok",
     "timestamp": 1713789437570,
     "user": {
      "displayName": "Christopher Galloway",
      "userId": "16329134674817848650"
     },
     "user_tz": -120
    },
    "id": "xXiKbDhDz5jQ",
    "outputId": "d5e954fd-82d3-46b6-dd98-f550f41474f5"
   },
   "outputs": [
    {
     "data": {
      "text/html": [
       "<div>\n",
       "<style scoped>\n",
       "    .dataframe tbody tr th:only-of-type {\n",
       "        vertical-align: middle;\n",
       "    }\n",
       "\n",
       "    .dataframe tbody tr th {\n",
       "        vertical-align: top;\n",
       "    }\n",
       "\n",
       "    .dataframe thead th {\n",
       "        text-align: right;\n",
       "    }\n",
       "</style>\n",
       "<table border=\"1\" class=\"dataframe\">\n",
       "  <thead>\n",
       "    <tr style=\"text-align: right;\">\n",
       "      <th></th>\n",
       "      <th>Name</th>\n",
       "      <th>Age</th>\n",
       "      <th>Salary USD</th>\n",
       "      <th>Department</th>\n",
       "      <th>Gender</th>\n",
       "    </tr>\n",
       "  </thead>\n",
       "  <tbody>\n",
       "    <tr>\n",
       "      <th>1</th>\n",
       "      <td>Bob</td>\n",
       "      <td>30</td>\n",
       "      <td>60000</td>\n",
       "      <td>IT</td>\n",
       "      <td>Male</td>\n",
       "    </tr>\n",
       "  </tbody>\n",
       "</table>\n",
       "</div>"
      ],
      "text/plain": [
       "  Name  Age  Salary USD Department Gender\n",
       "1  Bob   30       60000         IT   Male"
      ]
     },
     "execution_count": 12,
     "metadata": {},
     "output_type": "execute_result"
    }
   ],
   "source": [
    "df.loc[ (df['Age'] > 29) & (df['Department']== \"IT\") , :]"
   ]
  },
  {
   "cell_type": "code",
   "execution_count": 13,
   "metadata": {
    "colab": {
     "base_uri": "https://localhost:8080/",
     "height": 81
    },
    "executionInfo": {
     "elapsed": 7,
     "status": "ok",
     "timestamp": 1713789437570,
     "user": {
      "displayName": "Christopher Galloway",
      "userId": "16329134674817848650"
     },
     "user_tz": -120
    },
    "id": "EDBK3VIQ443R",
    "outputId": "0625db49-be12-46f2-e716-7de810804995"
   },
   "outputs": [
    {
     "data": {
      "text/html": [
       "<div>\n",
       "<style scoped>\n",
       "    .dataframe tbody tr th:only-of-type {\n",
       "        vertical-align: middle;\n",
       "    }\n",
       "\n",
       "    .dataframe tbody tr th {\n",
       "        vertical-align: top;\n",
       "    }\n",
       "\n",
       "    .dataframe thead th {\n",
       "        text-align: right;\n",
       "    }\n",
       "</style>\n",
       "<table border=\"1\" class=\"dataframe\">\n",
       "  <thead>\n",
       "    <tr style=\"text-align: right;\">\n",
       "      <th></th>\n",
       "      <th>Name</th>\n",
       "      <th>Age</th>\n",
       "      <th>Salary USD</th>\n",
       "      <th>Department</th>\n",
       "      <th>Gender</th>\n",
       "    </tr>\n",
       "  </thead>\n",
       "  <tbody>\n",
       "    <tr>\n",
       "      <th>1</th>\n",
       "      <td>Bob</td>\n",
       "      <td>30</td>\n",
       "      <td>60000</td>\n",
       "      <td>IT</td>\n",
       "      <td>Male</td>\n",
       "    </tr>\n",
       "  </tbody>\n",
       "</table>\n",
       "</div>"
      ],
      "text/plain": [
       "  Name  Age  Salary USD Department Gender\n",
       "1  Bob   30       60000         IT   Male"
      ]
     },
     "execution_count": 13,
     "metadata": {},
     "output_type": "execute_result"
    }
   ],
   "source": [
    "df.loc[age_mask & department_mask, :]"
   ]
  },
  {
   "cell_type": "markdown",
   "metadata": {
    "id": "-mDD64TD6MUS"
   },
   "source": [
    "## Pandas filtering methods"
   ]
  },
  {
   "cell_type": "markdown",
   "metadata": {
    "id": "T3brfWyZTXRC"
   },
   "source": [
    "Pandas also provides several methods which return boolean masks, and thus can be used in combination with `.loc` to filter DataFrames."
   ]
  },
  {
   "cell_type": "markdown",
   "metadata": {
    "id": "gmopqBb26RGg"
   },
   "source": [
    "### .isin()\n",
    "Used to compare a Series or DataFrame against a given collection, this method will return `True` for each value compared if the value is contained in the collection.     \n",
    "We will most often use this to compare a single column (Series) of a DataFrame to a given list."
   ]
  },
  {
   "cell_type": "code",
   "execution_count": 14,
   "metadata": {
    "colab": {
     "base_uri": "https://localhost:8080/"
    },
    "executionInfo": {
     "elapsed": 6,
     "status": "ok",
     "timestamp": 1713789437570,
     "user": {
      "displayName": "Christopher Galloway",
      "userId": "16329134674817848650"
     },
     "user_tz": -120
    },
    "id": "nqUjX6jc6ngE",
    "outputId": "bc84b4c4-a3a6-4e69-cf6f-49e4fc6c7060"
   },
   "outputs": [
    {
     "data": {
      "text/plain": [
       "0     True\n",
       "1    False\n",
       "2    False\n",
       "3     True\n",
       "4    False\n",
       "Name: Name, dtype: bool"
      ]
     },
     "execution_count": 14,
     "metadata": {},
     "output_type": "execute_result"
    }
   ],
   "source": [
    "df['Name'].isin([\"Alice\",\"David\"])"
   ]
  },
  {
   "cell_type": "code",
   "execution_count": 15,
   "metadata": {
    "executionInfo": {
     "elapsed": 274,
     "status": "ok",
     "timestamp": 1713789437839,
     "user": {
      "displayName": "Christopher Galloway",
      "userId": "16329134674817848650"
     },
     "user_tz": -120
    },
    "id": "iGka2x8N7VPD"
   },
   "outputs": [],
   "source": [
    "alice_david_mask = df['Name'].isin([\"Alice\",\"David\"])"
   ]
  },
  {
   "cell_type": "code",
   "execution_count": 16,
   "metadata": {
    "colab": {
     "base_uri": "https://localhost:8080/",
     "height": 112
    },
    "executionInfo": {
     "elapsed": 8,
     "status": "ok",
     "timestamp": 1713789437839,
     "user": {
      "displayName": "Christopher Galloway",
      "userId": "16329134674817848650"
     },
     "user_tz": -120
    },
    "id": "itB6xEwl7v2O",
    "outputId": "bc04ff73-cf28-4af0-ddfa-63be33dc456f"
   },
   "outputs": [
    {
     "data": {
      "text/html": [
       "<div>\n",
       "<style scoped>\n",
       "    .dataframe tbody tr th:only-of-type {\n",
       "        vertical-align: middle;\n",
       "    }\n",
       "\n",
       "    .dataframe tbody tr th {\n",
       "        vertical-align: top;\n",
       "    }\n",
       "\n",
       "    .dataframe thead th {\n",
       "        text-align: right;\n",
       "    }\n",
       "</style>\n",
       "<table border=\"1\" class=\"dataframe\">\n",
       "  <thead>\n",
       "    <tr style=\"text-align: right;\">\n",
       "      <th></th>\n",
       "      <th>Name</th>\n",
       "      <th>Age</th>\n",
       "      <th>Salary USD</th>\n",
       "      <th>Department</th>\n",
       "      <th>Gender</th>\n",
       "    </tr>\n",
       "  </thead>\n",
       "  <tbody>\n",
       "    <tr>\n",
       "      <th>0</th>\n",
       "      <td>Alice</td>\n",
       "      <td>25</td>\n",
       "      <td>50000</td>\n",
       "      <td>HR</td>\n",
       "      <td>Female</td>\n",
       "    </tr>\n",
       "    <tr>\n",
       "      <th>3</th>\n",
       "      <td>David</td>\n",
       "      <td>28</td>\n",
       "      <td>70000</td>\n",
       "      <td>IT</td>\n",
       "      <td>Male</td>\n",
       "    </tr>\n",
       "  </tbody>\n",
       "</table>\n",
       "</div>"
      ],
      "text/plain": [
       "    Name  Age  Salary USD Department  Gender\n",
       "0  Alice   25       50000         HR  Female\n",
       "3  David   28       70000         IT    Male"
      ]
     },
     "execution_count": 16,
     "metadata": {},
     "output_type": "execute_result"
    }
   ],
   "source": [
    "df.loc[alice_david_mask,:]"
   ]
  },
  {
   "cell_type": "markdown",
   "metadata": {
    "id": "F5NUes7SAAg5"
   },
   "source": [
    "### .between()\n",
    "Used to evaluate a Series, `.between()` returns `True` on any row whose value lies in the range of the two given arguments.        \n",
    "By default, results will be inclusive of the two boundary values."
   ]
  },
  {
   "cell_type": "code",
   "execution_count": 17,
   "metadata": {
    "colab": {
     "base_uri": "https://localhost:8080/"
    },
    "executionInfo": {
     "elapsed": 351,
     "status": "ok",
     "timestamp": 1713789438184,
     "user": {
      "displayName": "Christopher Galloway",
      "userId": "16329134674817848650"
     },
     "user_tz": -120
    },
    "id": "EN8Vowt8A44N",
    "outputId": "c3700734-d3f8-4ffd-9b62-5416d8495429"
   },
   "outputs": [
    {
     "data": {
      "text/plain": [
       "0     True\n",
       "1     True\n",
       "2    False\n",
       "3     True\n",
       "4    False\n",
       "Name: Age, dtype: bool"
      ]
     },
     "execution_count": 17,
     "metadata": {},
     "output_type": "execute_result"
    }
   ],
   "source": [
    "df['Age'].between(25,30)"
   ]
  },
  {
   "cell_type": "code",
   "execution_count": 18,
   "metadata": {
    "colab": {
     "base_uri": "https://localhost:8080/",
     "height": 143
    },
    "executionInfo": {
     "elapsed": 8,
     "status": "ok",
     "timestamp": 1713789438185,
     "user": {
      "displayName": "Christopher Galloway",
      "userId": "16329134674817848650"
     },
     "user_tz": -120
    },
    "id": "-dzzyPFNBA6l",
    "outputId": "bccd5d7e-1d56-4c88-f173-96f2c1ee9673"
   },
   "outputs": [
    {
     "data": {
      "text/html": [
       "<div>\n",
       "<style scoped>\n",
       "    .dataframe tbody tr th:only-of-type {\n",
       "        vertical-align: middle;\n",
       "    }\n",
       "\n",
       "    .dataframe tbody tr th {\n",
       "        vertical-align: top;\n",
       "    }\n",
       "\n",
       "    .dataframe thead th {\n",
       "        text-align: right;\n",
       "    }\n",
       "</style>\n",
       "<table border=\"1\" class=\"dataframe\">\n",
       "  <thead>\n",
       "    <tr style=\"text-align: right;\">\n",
       "      <th></th>\n",
       "      <th>Name</th>\n",
       "      <th>Age</th>\n",
       "      <th>Salary USD</th>\n",
       "      <th>Department</th>\n",
       "      <th>Gender</th>\n",
       "    </tr>\n",
       "  </thead>\n",
       "  <tbody>\n",
       "    <tr>\n",
       "      <th>0</th>\n",
       "      <td>Alice</td>\n",
       "      <td>25</td>\n",
       "      <td>50000</td>\n",
       "      <td>HR</td>\n",
       "      <td>Female</td>\n",
       "    </tr>\n",
       "    <tr>\n",
       "      <th>1</th>\n",
       "      <td>Bob</td>\n",
       "      <td>30</td>\n",
       "      <td>60000</td>\n",
       "      <td>IT</td>\n",
       "      <td>Male</td>\n",
       "    </tr>\n",
       "    <tr>\n",
       "      <th>3</th>\n",
       "      <td>David</td>\n",
       "      <td>28</td>\n",
       "      <td>70000</td>\n",
       "      <td>IT</td>\n",
       "      <td>Male</td>\n",
       "    </tr>\n",
       "  </tbody>\n",
       "</table>\n",
       "</div>"
      ],
      "text/plain": [
       "    Name  Age  Salary USD Department  Gender\n",
       "0  Alice   25       50000         HR  Female\n",
       "1    Bob   30       60000         IT    Male\n",
       "3  David   28       70000         IT    Male"
      ]
     },
     "execution_count": 18,
     "metadata": {},
     "output_type": "execute_result"
    }
   ],
   "source": [
    "df.loc[df['Age'].between(25,30),:]"
   ]
  },
  {
   "cell_type": "code",
   "execution_count": 19,
   "metadata": {
    "colab": {
     "base_uri": "https://localhost:8080/",
     "height": 112
    },
    "executionInfo": {
     "elapsed": 7,
     "status": "ok",
     "timestamp": 1713789438185,
     "user": {
      "displayName": "Christopher Galloway",
      "userId": "16329134674817848650"
     },
     "user_tz": -120
    },
    "id": "iT3P36b-BFwl",
    "outputId": "c39b964b-c8ae-4c19-d82b-6a81ab673f2d"
   },
   "outputs": [
    {
     "data": {
      "text/html": [
       "<div>\n",
       "<style scoped>\n",
       "    .dataframe tbody tr th:only-of-type {\n",
       "        vertical-align: middle;\n",
       "    }\n",
       "\n",
       "    .dataframe tbody tr th {\n",
       "        vertical-align: top;\n",
       "    }\n",
       "\n",
       "    .dataframe thead th {\n",
       "        text-align: right;\n",
       "    }\n",
       "</style>\n",
       "<table border=\"1\" class=\"dataframe\">\n",
       "  <thead>\n",
       "    <tr style=\"text-align: right;\">\n",
       "      <th></th>\n",
       "      <th>Name</th>\n",
       "      <th>Age</th>\n",
       "      <th>Salary USD</th>\n",
       "      <th>Department</th>\n",
       "      <th>Gender</th>\n",
       "    </tr>\n",
       "  </thead>\n",
       "  <tbody>\n",
       "    <tr>\n",
       "      <th>1</th>\n",
       "      <td>Bob</td>\n",
       "      <td>30</td>\n",
       "      <td>60000</td>\n",
       "      <td>IT</td>\n",
       "      <td>Male</td>\n",
       "    </tr>\n",
       "    <tr>\n",
       "      <th>2</th>\n",
       "      <td>Claire</td>\n",
       "      <td>22</td>\n",
       "      <td>45000</td>\n",
       "      <td>Finance</td>\n",
       "      <td>Female</td>\n",
       "    </tr>\n",
       "  </tbody>\n",
       "</table>\n",
       "</div>"
      ],
      "text/plain": [
       "     Name  Age  Salary USD Department  Gender\n",
       "1     Bob   30       60000         IT    Male\n",
       "2  Claire   22       45000    Finance  Female"
      ]
     },
     "execution_count": 19,
     "metadata": {},
     "output_type": "execute_result"
    }
   ],
   "source": [
    "df.loc[df['Name'].between(\"Bella\",\"Daniel\"),:]"
   ]
  },
  {
   "cell_type": "markdown",
   "metadata": {
    "id": "vy0jLUYh-68U"
   },
   "source": [
    "### .nlargest() and .nsmallest()\n",
    "Capable of filtering and sorting all at once, these methods return the `n` rows containing the largest or smallest values in a specified column or columns."
   ]
  },
  {
   "cell_type": "code",
   "execution_count": 20,
   "metadata": {
    "colab": {
     "base_uri": "https://localhost:8080/",
     "height": 143
    },
    "executionInfo": {
     "elapsed": 6,
     "status": "ok",
     "timestamp": 1713789438185,
     "user": {
      "displayName": "Christopher Galloway",
      "userId": "16329134674817848650"
     },
     "user_tz": -120
    },
    "id": "x2Huj4ec_TSc",
    "outputId": "c80ff511-f4a8-45fe-f603-f992c21c12f3"
   },
   "outputs": [
    {
     "data": {
      "text/html": [
       "<div>\n",
       "<style scoped>\n",
       "    .dataframe tbody tr th:only-of-type {\n",
       "        vertical-align: middle;\n",
       "    }\n",
       "\n",
       "    .dataframe tbody tr th {\n",
       "        vertical-align: top;\n",
       "    }\n",
       "\n",
       "    .dataframe thead th {\n",
       "        text-align: right;\n",
       "    }\n",
       "</style>\n",
       "<table border=\"1\" class=\"dataframe\">\n",
       "  <thead>\n",
       "    <tr style=\"text-align: right;\">\n",
       "      <th></th>\n",
       "      <th>Name</th>\n",
       "      <th>Age</th>\n",
       "      <th>Salary USD</th>\n",
       "      <th>Department</th>\n",
       "      <th>Gender</th>\n",
       "    </tr>\n",
       "  </thead>\n",
       "  <tbody>\n",
       "    <tr>\n",
       "      <th>4</th>\n",
       "      <td>Emma</td>\n",
       "      <td>35</td>\n",
       "      <td>80000</td>\n",
       "      <td>Marketing</td>\n",
       "      <td>Female</td>\n",
       "    </tr>\n",
       "    <tr>\n",
       "      <th>3</th>\n",
       "      <td>David</td>\n",
       "      <td>28</td>\n",
       "      <td>70000</td>\n",
       "      <td>IT</td>\n",
       "      <td>Male</td>\n",
       "    </tr>\n",
       "    <tr>\n",
       "      <th>1</th>\n",
       "      <td>Bob</td>\n",
       "      <td>30</td>\n",
       "      <td>60000</td>\n",
       "      <td>IT</td>\n",
       "      <td>Male</td>\n",
       "    </tr>\n",
       "  </tbody>\n",
       "</table>\n",
       "</div>"
      ],
      "text/plain": [
       "    Name  Age  Salary USD Department  Gender\n",
       "4   Emma   35       80000  Marketing  Female\n",
       "3  David   28       70000         IT    Male\n",
       "1    Bob   30       60000         IT    Male"
      ]
     },
     "execution_count": 20,
     "metadata": {},
     "output_type": "execute_result"
    }
   ],
   "source": [
    "df.nlargest(3,columns=\"Salary USD\")"
   ]
  },
  {
   "cell_type": "code",
   "execution_count": 21,
   "metadata": {
    "colab": {
     "base_uri": "https://localhost:8080/",
     "height": 206
    },
    "executionInfo": {
     "elapsed": 285,
     "status": "ok",
     "timestamp": 1713789438464,
     "user": {
      "displayName": "Christopher Galloway",
      "userId": "16329134674817848650"
     },
     "user_tz": -120
    },
    "id": "F1WE7as9_ti5",
    "outputId": "30e11a5d-2b52-437a-df7d-02c7ea264361"
   },
   "outputs": [
    {
     "data": {
      "text/html": [
       "<div>\n",
       "<style scoped>\n",
       "    .dataframe tbody tr th:only-of-type {\n",
       "        vertical-align: middle;\n",
       "    }\n",
       "\n",
       "    .dataframe tbody tr th {\n",
       "        vertical-align: top;\n",
       "    }\n",
       "\n",
       "    .dataframe thead th {\n",
       "        text-align: right;\n",
       "    }\n",
       "</style>\n",
       "<table border=\"1\" class=\"dataframe\">\n",
       "  <thead>\n",
       "    <tr style=\"text-align: right;\">\n",
       "      <th></th>\n",
       "      <th>Name</th>\n",
       "      <th>Age</th>\n",
       "      <th>Salary USD</th>\n",
       "      <th>Department</th>\n",
       "      <th>Gender</th>\n",
       "    </tr>\n",
       "  </thead>\n",
       "  <tbody>\n",
       "    <tr>\n",
       "      <th>2</th>\n",
       "      <td>Claire</td>\n",
       "      <td>22</td>\n",
       "      <td>45000</td>\n",
       "      <td>Finance</td>\n",
       "      <td>Female</td>\n",
       "    </tr>\n",
       "    <tr>\n",
       "      <th>0</th>\n",
       "      <td>Alice</td>\n",
       "      <td>25</td>\n",
       "      <td>50000</td>\n",
       "      <td>HR</td>\n",
       "      <td>Female</td>\n",
       "    </tr>\n",
       "    <tr>\n",
       "      <th>3</th>\n",
       "      <td>David</td>\n",
       "      <td>28</td>\n",
       "      <td>70000</td>\n",
       "      <td>IT</td>\n",
       "      <td>Male</td>\n",
       "    </tr>\n",
       "    <tr>\n",
       "      <th>1</th>\n",
       "      <td>Bob</td>\n",
       "      <td>30</td>\n",
       "      <td>60000</td>\n",
       "      <td>IT</td>\n",
       "      <td>Male</td>\n",
       "    </tr>\n",
       "    <tr>\n",
       "      <th>4</th>\n",
       "      <td>Emma</td>\n",
       "      <td>35</td>\n",
       "      <td>80000</td>\n",
       "      <td>Marketing</td>\n",
       "      <td>Female</td>\n",
       "    </tr>\n",
       "  </tbody>\n",
       "</table>\n",
       "</div>"
      ],
      "text/plain": [
       "     Name  Age  Salary USD Department  Gender\n",
       "2  Claire   22       45000    Finance  Female\n",
       "0   Alice   25       50000         HR  Female\n",
       "3   David   28       70000         IT    Male\n",
       "1     Bob   30       60000         IT    Male\n",
       "4    Emma   35       80000  Marketing  Female"
      ]
     },
     "execution_count": 21,
     "metadata": {},
     "output_type": "execute_result"
    }
   ],
   "source": [
    "df.nsmallest(5,columns=\"Age\")"
   ]
  },
  {
   "cell_type": "markdown",
   "metadata": {
    "id": "k9DyzUs-nGxT"
   },
   "source": [
    "# Challenges"
   ]
  },
  {
   "cell_type": "code",
   "execution_count": 22,
   "metadata": {
    "colab": {
     "base_uri": "https://localhost:8080/",
     "height": 269
    },
    "executionInfo": {
     "elapsed": 12,
     "status": "ok",
     "timestamp": 1713789438465,
     "user": {
      "displayName": "Christopher Galloway",
      "userId": "16329134674817848650"
     },
     "user_tz": -120
    },
    "id": "HuQUZ1qeoTER",
    "outputId": "be5b21aa-0dc5-457a-aa19-ac5668051892"
   },
   "outputs": [
    {
     "data": {
      "text/html": [
       "<div>\n",
       "<style scoped>\n",
       "    .dataframe tbody tr th:only-of-type {\n",
       "        vertical-align: middle;\n",
       "    }\n",
       "\n",
       "    .dataframe tbody tr th {\n",
       "        vertical-align: top;\n",
       "    }\n",
       "\n",
       "    .dataframe thead th {\n",
       "        text-align: right;\n",
       "    }\n",
       "</style>\n",
       "<table border=\"1\" class=\"dataframe\">\n",
       "  <thead>\n",
       "    <tr style=\"text-align: right;\">\n",
       "      <th></th>\n",
       "      <th>City</th>\n",
       "      <th>Population</th>\n",
       "      <th>Area_sq_miles</th>\n",
       "      <th>Country</th>\n",
       "      <th>Year_Founded</th>\n",
       "    </tr>\n",
       "  </thead>\n",
       "  <tbody>\n",
       "    <tr>\n",
       "      <th>0</th>\n",
       "      <td>New York</td>\n",
       "      <td>8622698</td>\n",
       "      <td>302.6</td>\n",
       "      <td>USA</td>\n",
       "      <td>1624</td>\n",
       "    </tr>\n",
       "    <tr>\n",
       "      <th>1</th>\n",
       "      <td>Los Angeles</td>\n",
       "      <td>3990456</td>\n",
       "      <td>468.7</td>\n",
       "      <td>USA</td>\n",
       "      <td>1781</td>\n",
       "    </tr>\n",
       "    <tr>\n",
       "      <th>2</th>\n",
       "      <td>Chicago</td>\n",
       "      <td>2716000</td>\n",
       "      <td>227.3</td>\n",
       "      <td>USA</td>\n",
       "      <td>1833</td>\n",
       "    </tr>\n",
       "    <tr>\n",
       "      <th>3</th>\n",
       "      <td>Houston</td>\n",
       "      <td>2312717</td>\n",
       "      <td>627.8</td>\n",
       "      <td>USA</td>\n",
       "      <td>1836</td>\n",
       "    </tr>\n",
       "    <tr>\n",
       "      <th>4</th>\n",
       "      <td>San Francisco</td>\n",
       "      <td>870887</td>\n",
       "      <td>46.9</td>\n",
       "      <td>USA</td>\n",
       "      <td>1776</td>\n",
       "    </tr>\n",
       "    <tr>\n",
       "      <th>5</th>\n",
       "      <td>London</td>\n",
       "      <td>8982000</td>\n",
       "      <td>607.0</td>\n",
       "      <td>UK</td>\n",
       "      <td>43</td>\n",
       "    </tr>\n",
       "    <tr>\n",
       "      <th>6</th>\n",
       "      <td>Boston</td>\n",
       "      <td>675647</td>\n",
       "      <td>89.6</td>\n",
       "      <td>USA</td>\n",
       "      <td>1625</td>\n",
       "    </tr>\n",
       "  </tbody>\n",
       "</table>\n",
       "</div>"
      ],
      "text/plain": [
       "            City  Population  Area_sq_miles Country  Year_Founded\n",
       "0       New York     8622698          302.6     USA          1624\n",
       "1    Los Angeles     3990456          468.7     USA          1781\n",
       "2        Chicago     2716000          227.3     USA          1833\n",
       "3        Houston     2312717          627.8     USA          1836\n",
       "4  San Francisco      870887           46.9     USA          1776\n",
       "5         London     8982000          607.0      UK            43\n",
       "6         Boston      675647           89.6     USA          1625"
      ]
     },
     "execution_count": 22,
     "metadata": {},
     "output_type": "execute_result"
    }
   ],
   "source": [
    "data = {\n",
    "    'City': ['New York', 'Los Angeles', 'Chicago', 'Houston', 'San Francisco','London', 'Boston'],\n",
    "    'Population': [8622698, 3990456, 2716000, 2312717, 870887, 8982000, 675647],\n",
    "    'Area_sq_miles': [302.6, 468.7, 227.3, 627.8, 46.9, 607.0, 89.6],\n",
    "    'Country': ['USA', 'USA', 'USA', 'USA', 'USA', 'UK', 'USA'],\n",
    "    'Year_Founded': [1624, 1781, 1833, 1836, 1776, 43, 1625]\n",
    "}\n",
    "cities_df = pd.DataFrame(data)\n",
    "cities_df"
   ]
  },
  {
   "cell_type": "markdown",
   "metadata": {
    "id": "G1JN_GLuoRGJ"
   },
   "source": [
    "### Challenge 1\n",
    "Select all cities with a population greater than 2 million.\n"
   ]
  },
  {
   "cell_type": "code",
   "execution_count": 23,
   "metadata": {
    "executionInfo": {
     "elapsed": 11,
     "status": "ok",
     "timestamp": 1713789438465,
     "user": {
      "displayName": "Christopher Galloway",
      "userId": "16329134674817848650"
     },
     "user_tz": -120
    },
    "id": "iGXsT8sioQq0"
   },
   "outputs": [
    {
     "data": {
      "text/html": [
       "<div>\n",
       "<style scoped>\n",
       "    .dataframe tbody tr th:only-of-type {\n",
       "        vertical-align: middle;\n",
       "    }\n",
       "\n",
       "    .dataframe tbody tr th {\n",
       "        vertical-align: top;\n",
       "    }\n",
       "\n",
       "    .dataframe thead th {\n",
       "        text-align: right;\n",
       "    }\n",
       "</style>\n",
       "<table border=\"1\" class=\"dataframe\">\n",
       "  <thead>\n",
       "    <tr style=\"text-align: right;\">\n",
       "      <th></th>\n",
       "      <th>City</th>\n",
       "      <th>Population</th>\n",
       "      <th>Area_sq_miles</th>\n",
       "      <th>Country</th>\n",
       "      <th>Year_Founded</th>\n",
       "    </tr>\n",
       "  </thead>\n",
       "  <tbody>\n",
       "    <tr>\n",
       "      <th>0</th>\n",
       "      <td>New York</td>\n",
       "      <td>8622698</td>\n",
       "      <td>302.6</td>\n",
       "      <td>USA</td>\n",
       "      <td>1624</td>\n",
       "    </tr>\n",
       "    <tr>\n",
       "      <th>1</th>\n",
       "      <td>Los Angeles</td>\n",
       "      <td>3990456</td>\n",
       "      <td>468.7</td>\n",
       "      <td>USA</td>\n",
       "      <td>1781</td>\n",
       "    </tr>\n",
       "    <tr>\n",
       "      <th>2</th>\n",
       "      <td>Chicago</td>\n",
       "      <td>2716000</td>\n",
       "      <td>227.3</td>\n",
       "      <td>USA</td>\n",
       "      <td>1833</td>\n",
       "    </tr>\n",
       "    <tr>\n",
       "      <th>3</th>\n",
       "      <td>Houston</td>\n",
       "      <td>2312717</td>\n",
       "      <td>627.8</td>\n",
       "      <td>USA</td>\n",
       "      <td>1836</td>\n",
       "    </tr>\n",
       "    <tr>\n",
       "      <th>5</th>\n",
       "      <td>London</td>\n",
       "      <td>8982000</td>\n",
       "      <td>607.0</td>\n",
       "      <td>UK</td>\n",
       "      <td>43</td>\n",
       "    </tr>\n",
       "  </tbody>\n",
       "</table>\n",
       "</div>"
      ],
      "text/plain": [
       "          City  Population  Area_sq_miles Country  Year_Founded\n",
       "0     New York     8622698          302.6     USA          1624\n",
       "1  Los Angeles     3990456          468.7     USA          1781\n",
       "2      Chicago     2716000          227.3     USA          1833\n",
       "3      Houston     2312717          627.8     USA          1836\n",
       "5       London     8982000          607.0      UK            43"
      ]
     },
     "execution_count": 23,
     "metadata": {},
     "output_type": "execute_result"
    }
   ],
   "source": [
    "# Your code here\n",
    "cities_population_mask = cities_df['Population'] > 2000000\n",
    "cities_df[cities_population_mask]\n",
    "cities_df.loc[cities_population_mask]\n",
    "cities_df[cities_df['Population'] > 2000000]"
   ]
  },
  {
   "cell_type": "markdown",
   "metadata": {
    "id": "ol1muBplpadB"
   },
   "source": [
    "### Challenge 2\n",
    "Select the 'City' and 'Area_sq_miles' columns for cities with an area greater than 300 square miles.\n"
   ]
  },
  {
   "cell_type": "code",
   "execution_count": 24,
   "metadata": {
    "executionInfo": {
     "elapsed": 11,
     "status": "ok",
     "timestamp": 1713789438466,
     "user": {
      "displayName": "Christopher Galloway",
      "userId": "16329134674817848650"
     },
     "user_tz": -120
    },
    "id": "j7on2ZaEpp0b"
   },
   "outputs": [
    {
     "data": {
      "text/html": [
       "<div>\n",
       "<style scoped>\n",
       "    .dataframe tbody tr th:only-of-type {\n",
       "        vertical-align: middle;\n",
       "    }\n",
       "\n",
       "    .dataframe tbody tr th {\n",
       "        vertical-align: top;\n",
       "    }\n",
       "\n",
       "    .dataframe thead th {\n",
       "        text-align: right;\n",
       "    }\n",
       "</style>\n",
       "<table border=\"1\" class=\"dataframe\">\n",
       "  <thead>\n",
       "    <tr style=\"text-align: right;\">\n",
       "      <th></th>\n",
       "      <th>City</th>\n",
       "      <th>Area_sq_miles</th>\n",
       "    </tr>\n",
       "  </thead>\n",
       "  <tbody>\n",
       "    <tr>\n",
       "      <th>0</th>\n",
       "      <td>New York</td>\n",
       "      <td>302.6</td>\n",
       "    </tr>\n",
       "    <tr>\n",
       "      <th>1</th>\n",
       "      <td>Los Angeles</td>\n",
       "      <td>468.7</td>\n",
       "    </tr>\n",
       "    <tr>\n",
       "      <th>3</th>\n",
       "      <td>Houston</td>\n",
       "      <td>627.8</td>\n",
       "    </tr>\n",
       "    <tr>\n",
       "      <th>5</th>\n",
       "      <td>London</td>\n",
       "      <td>607.0</td>\n",
       "    </tr>\n",
       "  </tbody>\n",
       "</table>\n",
       "</div>"
      ],
      "text/plain": [
       "          City  Area_sq_miles\n",
       "0     New York          302.6\n",
       "1  Los Angeles          468.7\n",
       "3      Houston          627.8\n",
       "5       London          607.0"
      ]
     },
     "execution_count": 24,
     "metadata": {},
     "output_type": "execute_result"
    }
   ],
   "source": [
    "# Your code here\n",
    "cities_area_mask = cities_df['Area_sq_miles'] > 300\n",
    "cities_df.loc[cities_area_mask, ['City', 'Area_sq_miles']]"
   ]
  },
  {
   "cell_type": "markdown",
   "metadata": {
    "id": "NdfOfRr6pasC"
   },
   "source": [
    "### Challenge 3\n",
    "Select the 'City', 'Area_sq_miles', and 'Year_Founded' columns for cities with a population less than 1 million or an area less than 500 square miles.\n"
   ]
  },
  {
   "cell_type": "code",
   "execution_count": 25,
   "metadata": {
    "executionInfo": {
     "elapsed": 11,
     "status": "ok",
     "timestamp": 1713789438466,
     "user": {
      "displayName": "Christopher Galloway",
      "userId": "16329134674817848650"
     },
     "user_tz": -120
    },
    "id": "bJqVqYWSpx4V"
   },
   "outputs": [
    {
     "data": {
      "text/html": [
       "<div>\n",
       "<style scoped>\n",
       "    .dataframe tbody tr th:only-of-type {\n",
       "        vertical-align: middle;\n",
       "    }\n",
       "\n",
       "    .dataframe tbody tr th {\n",
       "        vertical-align: top;\n",
       "    }\n",
       "\n",
       "    .dataframe thead th {\n",
       "        text-align: right;\n",
       "    }\n",
       "</style>\n",
       "<table border=\"1\" class=\"dataframe\">\n",
       "  <thead>\n",
       "    <tr style=\"text-align: right;\">\n",
       "      <th></th>\n",
       "      <th>City</th>\n",
       "      <th>Area_sq_miles</th>\n",
       "      <th>Year_Founded</th>\n",
       "    </tr>\n",
       "  </thead>\n",
       "  <tbody>\n",
       "    <tr>\n",
       "      <th>0</th>\n",
       "      <td>New York</td>\n",
       "      <td>302.6</td>\n",
       "      <td>1624</td>\n",
       "    </tr>\n",
       "    <tr>\n",
       "      <th>1</th>\n",
       "      <td>Los Angeles</td>\n",
       "      <td>468.7</td>\n",
       "      <td>1781</td>\n",
       "    </tr>\n",
       "    <tr>\n",
       "      <th>2</th>\n",
       "      <td>Chicago</td>\n",
       "      <td>227.3</td>\n",
       "      <td>1833</td>\n",
       "    </tr>\n",
       "    <tr>\n",
       "      <th>4</th>\n",
       "      <td>San Francisco</td>\n",
       "      <td>46.9</td>\n",
       "      <td>1776</td>\n",
       "    </tr>\n",
       "    <tr>\n",
       "      <th>6</th>\n",
       "      <td>Boston</td>\n",
       "      <td>89.6</td>\n",
       "      <td>1625</td>\n",
       "    </tr>\n",
       "  </tbody>\n",
       "</table>\n",
       "</div>"
      ],
      "text/plain": [
       "            City  Area_sq_miles  Year_Founded\n",
       "0       New York          302.6          1624\n",
       "1    Los Angeles          468.7          1781\n",
       "2        Chicago          227.3          1833\n",
       "4  San Francisco           46.9          1776\n",
       "6         Boston           89.6          1625"
      ]
     },
     "execution_count": 25,
     "metadata": {},
     "output_type": "execute_result"
    }
   ],
   "source": [
    "# Your code here\n",
    "cities_mask = (cities_df['Population'] < 1000000) | (cities_df['Area_sq_miles'] < 500)\n",
    "cities_df.loc[cities_mask, ['City', 'Area_sq_miles', 'Year_Founded']]"
   ]
  },
  {
   "cell_type": "markdown",
   "metadata": {
    "id": "fqs30sGipaye"
   },
   "source": [
    "### Challenge 4\n",
    "Using `.nlargest()`, select the 'City', 'Population', and 'Area_sq_miles' columns for the top 3 largest cities by population.\n"
   ]
  },
  {
   "cell_type": "code",
   "execution_count": 26,
   "metadata": {
    "executionInfo": {
     "elapsed": 295,
     "status": "ok",
     "timestamp": 1713789438750,
     "user": {
      "displayName": "Christopher Galloway",
      "userId": "16329134674817848650"
     },
     "user_tz": -120
    },
    "id": "HwjDYPi-pyeA"
   },
   "outputs": [
    {
     "data": {
      "text/html": [
       "<div>\n",
       "<style scoped>\n",
       "    .dataframe tbody tr th:only-of-type {\n",
       "        vertical-align: middle;\n",
       "    }\n",
       "\n",
       "    .dataframe tbody tr th {\n",
       "        vertical-align: top;\n",
       "    }\n",
       "\n",
       "    .dataframe thead th {\n",
       "        text-align: right;\n",
       "    }\n",
       "</style>\n",
       "<table border=\"1\" class=\"dataframe\">\n",
       "  <thead>\n",
       "    <tr style=\"text-align: right;\">\n",
       "      <th></th>\n",
       "      <th>City</th>\n",
       "      <th>Population</th>\n",
       "      <th>Area_sq_miles</th>\n",
       "    </tr>\n",
       "  </thead>\n",
       "  <tbody>\n",
       "    <tr>\n",
       "      <th>5</th>\n",
       "      <td>London</td>\n",
       "      <td>8982000</td>\n",
       "      <td>607.0</td>\n",
       "    </tr>\n",
       "    <tr>\n",
       "      <th>0</th>\n",
       "      <td>New York</td>\n",
       "      <td>8622698</td>\n",
       "      <td>302.6</td>\n",
       "    </tr>\n",
       "    <tr>\n",
       "      <th>1</th>\n",
       "      <td>Los Angeles</td>\n",
       "      <td>3990456</td>\n",
       "      <td>468.7</td>\n",
       "    </tr>\n",
       "  </tbody>\n",
       "</table>\n",
       "</div>"
      ],
      "text/plain": [
       "          City  Population  Area_sq_miles\n",
       "5       London     8982000          607.0\n",
       "0     New York     8622698          302.6\n",
       "1  Los Angeles     3990456          468.7"
      ]
     },
     "execution_count": 26,
     "metadata": {},
     "output_type": "execute_result"
    }
   ],
   "source": [
    "# Your code here\n",
    "cities_df.nlargest(3, columns = 'Population').loc[:, ['City', 'Population', 'Area_sq_miles']]\n",
    "cities_df.nlargest(3, 'Population')[['City', 'Population', 'Area_sq_miles']]"
   ]
  },
  {
   "cell_type": "markdown",
   "metadata": {
    "id": "-25f7A9Bpa32"
   },
   "source": [
    "### Challenge 5\n",
    "Using `.isin()`, select the 'City', 'Population', and 'Year_Founded' columns for the cities San Francisco and Boston."
   ]
  },
  {
   "cell_type": "code",
   "execution_count": 27,
   "metadata": {
    "executionInfo": {
     "elapsed": 14,
     "status": "ok",
     "timestamp": 1713789438750,
     "user": {
      "displayName": "Christopher Galloway",
      "userId": "16329134674817848650"
     },
     "user_tz": -120
    },
    "id": "2zzsGB47pyvv"
   },
   "outputs": [
    {
     "data": {
      "text/html": [
       "<div>\n",
       "<style scoped>\n",
       "    .dataframe tbody tr th:only-of-type {\n",
       "        vertical-align: middle;\n",
       "    }\n",
       "\n",
       "    .dataframe tbody tr th {\n",
       "        vertical-align: top;\n",
       "    }\n",
       "\n",
       "    .dataframe thead th {\n",
       "        text-align: right;\n",
       "    }\n",
       "</style>\n",
       "<table border=\"1\" class=\"dataframe\">\n",
       "  <thead>\n",
       "    <tr style=\"text-align: right;\">\n",
       "      <th></th>\n",
       "      <th>City</th>\n",
       "      <th>Population</th>\n",
       "      <th>Year_Founded</th>\n",
       "    </tr>\n",
       "  </thead>\n",
       "  <tbody>\n",
       "    <tr>\n",
       "      <th>4</th>\n",
       "      <td>San Francisco</td>\n",
       "      <td>870887</td>\n",
       "      <td>1776</td>\n",
       "    </tr>\n",
       "    <tr>\n",
       "      <th>6</th>\n",
       "      <td>Boston</td>\n",
       "      <td>675647</td>\n",
       "      <td>1625</td>\n",
       "    </tr>\n",
       "  </tbody>\n",
       "</table>\n",
       "</div>"
      ],
      "text/plain": [
       "            City  Population  Year_Founded\n",
       "4  San Francisco      870887          1776\n",
       "6         Boston      675647          1625"
      ]
     },
     "execution_count": 27,
     "metadata": {},
     "output_type": "execute_result"
    }
   ],
   "source": [
    "# Your code here\n",
    "cities_mask = cities_df['City'].isin(['San Francisco', 'Boston'])\n",
    "cities_df.loc[cities_mask, ['City', 'Population', 'Year_Founded']]"
   ]
  },
  {
   "cell_type": "markdown",
   "metadata": {
    "id": "V5tGN2GyqLuH"
   },
   "source": [
    "### Challenge 6\n",
    "Select the 3 cities with smallest populations."
   ]
  },
  {
   "cell_type": "code",
   "execution_count": 28,
   "metadata": {
    "executionInfo": {
     "elapsed": 14,
     "status": "ok",
     "timestamp": 1713789438750,
     "user": {
      "displayName": "Christopher Galloway",
      "userId": "16329134674817848650"
     },
     "user_tz": -120
    },
    "id": "8mVMwS0LqLuP"
   },
   "outputs": [
    {
     "data": {
      "text/html": [
       "<div>\n",
       "<style scoped>\n",
       "    .dataframe tbody tr th:only-of-type {\n",
       "        vertical-align: middle;\n",
       "    }\n",
       "\n",
       "    .dataframe tbody tr th {\n",
       "        vertical-align: top;\n",
       "    }\n",
       "\n",
       "    .dataframe thead th {\n",
       "        text-align: right;\n",
       "    }\n",
       "</style>\n",
       "<table border=\"1\" class=\"dataframe\">\n",
       "  <thead>\n",
       "    <tr style=\"text-align: right;\">\n",
       "      <th></th>\n",
       "      <th>City</th>\n",
       "      <th>Population</th>\n",
       "      <th>Area_sq_miles</th>\n",
       "      <th>Country</th>\n",
       "      <th>Year_Founded</th>\n",
       "    </tr>\n",
       "  </thead>\n",
       "  <tbody>\n",
       "    <tr>\n",
       "      <th>6</th>\n",
       "      <td>Boston</td>\n",
       "      <td>675647</td>\n",
       "      <td>89.6</td>\n",
       "      <td>USA</td>\n",
       "      <td>1625</td>\n",
       "    </tr>\n",
       "    <tr>\n",
       "      <th>4</th>\n",
       "      <td>San Francisco</td>\n",
       "      <td>870887</td>\n",
       "      <td>46.9</td>\n",
       "      <td>USA</td>\n",
       "      <td>1776</td>\n",
       "    </tr>\n",
       "    <tr>\n",
       "      <th>3</th>\n",
       "      <td>Houston</td>\n",
       "      <td>2312717</td>\n",
       "      <td>627.8</td>\n",
       "      <td>USA</td>\n",
       "      <td>1836</td>\n",
       "    </tr>\n",
       "  </tbody>\n",
       "</table>\n",
       "</div>"
      ],
      "text/plain": [
       "            City  Population  Area_sq_miles Country  Year_Founded\n",
       "6         Boston      675647           89.6     USA          1625\n",
       "4  San Francisco      870887           46.9     USA          1776\n",
       "3        Houston     2312717          627.8     USA          1836"
      ]
     },
     "execution_count": 28,
     "metadata": {},
     "output_type": "execute_result"
    }
   ],
   "source": [
    "# Your code here\n",
    "cities_df.nsmallest(3, 'Population')"
   ]
  },
  {
   "cell_type": "markdown",
   "metadata": {
    "id": "rAFqnn8itvoz"
   },
   "source": [
    "### Challenge 7\n",
    "Using the ~ operator, select the 'City', 'Country', 'Population', and 'Area_sq_miles' columns for cities located outside the USA."
   ]
  },
  {
   "cell_type": "code",
   "execution_count": 29,
   "metadata": {
    "executionInfo": {
     "elapsed": 13,
     "status": "ok",
     "timestamp": 1713789438750,
     "user": {
      "displayName": "Christopher Galloway",
      "userId": "16329134674817848650"
     },
     "user_tz": -120
    },
    "id": "6BHw15w7tvoz"
   },
   "outputs": [
    {
     "data": {
      "text/html": [
       "<div>\n",
       "<style scoped>\n",
       "    .dataframe tbody tr th:only-of-type {\n",
       "        vertical-align: middle;\n",
       "    }\n",
       "\n",
       "    .dataframe tbody tr th {\n",
       "        vertical-align: top;\n",
       "    }\n",
       "\n",
       "    .dataframe thead th {\n",
       "        text-align: right;\n",
       "    }\n",
       "</style>\n",
       "<table border=\"1\" class=\"dataframe\">\n",
       "  <thead>\n",
       "    <tr style=\"text-align: right;\">\n",
       "      <th></th>\n",
       "      <th>City</th>\n",
       "      <th>Country</th>\n",
       "      <th>Population</th>\n",
       "    </tr>\n",
       "  </thead>\n",
       "  <tbody>\n",
       "    <tr>\n",
       "      <th>5</th>\n",
       "      <td>London</td>\n",
       "      <td>UK</td>\n",
       "      <td>8982000</td>\n",
       "    </tr>\n",
       "  </tbody>\n",
       "</table>\n",
       "</div>"
      ],
      "text/plain": [
       "     City Country  Population\n",
       "5  London      UK     8982000"
      ]
     },
     "execution_count": 29,
     "metadata": {},
     "output_type": "execute_result"
    }
   ],
   "source": [
    "# Your code here\n",
    "cities_country_mask = cities_df['Country'].isin(['USA'])\n",
    "cities_df.loc[~cities_country_mask, ['City', 'Country', 'Population']]"
   ]
  },
  {
   "cell_type": "markdown",
   "metadata": {
    "id": "zEsY7O1077Dt"
   },
   "source": [
    "# Bonus\n",
    "## A note on method chaining and a different way to filter\n",
    "\n",
    "`.query()` allows you to filter data using a logical expression as a string. Since this method does not require column names to take reference to `df`, complex conditions can be written more easily. On the other hand, referencing strings within strings requires careful attention to the mixing of double and single quotes."
   ]
  },
  {
   "cell_type": "code",
   "execution_count": 30,
   "metadata": {
    "colab": {
     "base_uri": "https://localhost:8080/",
     "height": 112
    },
    "executionInfo": {
     "elapsed": 13,
     "status": "ok",
     "timestamp": 1713789438750,
     "user": {
      "displayName": "Christopher Galloway",
      "userId": "16329134674817848650"
     },
     "user_tz": -120
    },
    "id": "vMFRwN0m8FnD",
    "outputId": "f4b9c127-bc36-4424-efcf-cc375a367dda"
   },
   "outputs": [
    {
     "data": {
      "text/html": [
       "<div>\n",
       "<style scoped>\n",
       "    .dataframe tbody tr th:only-of-type {\n",
       "        vertical-align: middle;\n",
       "    }\n",
       "\n",
       "    .dataframe tbody tr th {\n",
       "        vertical-align: top;\n",
       "    }\n",
       "\n",
       "    .dataframe thead th {\n",
       "        text-align: right;\n",
       "    }\n",
       "</style>\n",
       "<table border=\"1\" class=\"dataframe\">\n",
       "  <thead>\n",
       "    <tr style=\"text-align: right;\">\n",
       "      <th></th>\n",
       "      <th>Name</th>\n",
       "      <th>Age</th>\n",
       "      <th>Salary USD</th>\n",
       "      <th>Department</th>\n",
       "      <th>Gender</th>\n",
       "    </tr>\n",
       "  </thead>\n",
       "  <tbody>\n",
       "    <tr>\n",
       "      <th>1</th>\n",
       "      <td>Bob</td>\n",
       "      <td>30</td>\n",
       "      <td>60000</td>\n",
       "      <td>IT</td>\n",
       "      <td>Male</td>\n",
       "    </tr>\n",
       "    <tr>\n",
       "      <th>3</th>\n",
       "      <td>David</td>\n",
       "      <td>28</td>\n",
       "      <td>70000</td>\n",
       "      <td>IT</td>\n",
       "      <td>Male</td>\n",
       "    </tr>\n",
       "  </tbody>\n",
       "</table>\n",
       "</div>"
      ],
      "text/plain": [
       "    Name  Age  Salary USD Department Gender\n",
       "1    Bob   30       60000         IT   Male\n",
       "3  David   28       70000         IT   Male"
      ]
     },
     "execution_count": 30,
     "metadata": {},
     "output_type": "execute_result"
    }
   ],
   "source": [
    "df.query(\"Department == 'IT'\")"
   ]
  },
  {
   "cell_type": "code",
   "execution_count": 31,
   "metadata": {
    "colab": {
     "base_uri": "https://localhost:8080/",
     "height": 81
    },
    "executionInfo": {
     "elapsed": 11,
     "status": "ok",
     "timestamp": 1713789438750,
     "user": {
      "displayName": "Christopher Galloway",
      "userId": "16329134674817848650"
     },
     "user_tz": -120
    },
    "id": "NNGGOdKY8ohr",
    "outputId": "d67e9781-b2df-464d-d30a-a1b67a79bc99"
   },
   "outputs": [
    {
     "data": {
      "text/html": [
       "<div>\n",
       "<style scoped>\n",
       "    .dataframe tbody tr th:only-of-type {\n",
       "        vertical-align: middle;\n",
       "    }\n",
       "\n",
       "    .dataframe tbody tr th {\n",
       "        vertical-align: top;\n",
       "    }\n",
       "\n",
       "    .dataframe thead th {\n",
       "        text-align: right;\n",
       "    }\n",
       "</style>\n",
       "<table border=\"1\" class=\"dataframe\">\n",
       "  <thead>\n",
       "    <tr style=\"text-align: right;\">\n",
       "      <th></th>\n",
       "      <th>Name</th>\n",
       "      <th>Age</th>\n",
       "      <th>Salary USD</th>\n",
       "      <th>Department</th>\n",
       "      <th>Gender</th>\n",
       "    </tr>\n",
       "  </thead>\n",
       "  <tbody>\n",
       "    <tr>\n",
       "      <th>1</th>\n",
       "      <td>Bob</td>\n",
       "      <td>30</td>\n",
       "      <td>60000</td>\n",
       "      <td>IT</td>\n",
       "      <td>Male</td>\n",
       "    </tr>\n",
       "  </tbody>\n",
       "</table>\n",
       "</div>"
      ],
      "text/plain": [
       "  Name  Age  Salary USD Department Gender\n",
       "1  Bob   30       60000         IT   Male"
      ]
     },
     "execution_count": 31,
     "metadata": {},
     "output_type": "execute_result"
    }
   ],
   "source": [
    "df.query(\"Department == 'IT' & Age > 29\")"
   ]
  },
  {
   "cell_type": "markdown",
   "metadata": {
    "id": "p6-OlRZ3f4Ta"
   },
   "source": [
    "Because `.query()` does not require you to refer to a DataFrame by name, it can be used in-line with other methods which transform or select data.\n",
    "\n",
    "As an example, we can select the four youngest employees and then filter for those making a certain salary:"
   ]
  },
  {
   "cell_type": "code",
   "execution_count": 32,
   "metadata": {
    "colab": {
     "base_uri": "https://localhost:8080/",
     "height": 112
    },
    "executionInfo": {
     "elapsed": 10,
     "status": "ok",
     "timestamp": 1713789438750,
     "user": {
      "displayName": "Christopher Galloway",
      "userId": "16329134674817848650"
     },
     "user_tz": -120
    },
    "id": "NSjteCsgfmQn",
    "outputId": "0a419365-0dca-4b03-81df-7e86dd977e62"
   },
   "outputs": [
    {
     "data": {
      "text/html": [
       "<div>\n",
       "<style scoped>\n",
       "    .dataframe tbody tr th:only-of-type {\n",
       "        vertical-align: middle;\n",
       "    }\n",
       "\n",
       "    .dataframe tbody tr th {\n",
       "        vertical-align: top;\n",
       "    }\n",
       "\n",
       "    .dataframe thead th {\n",
       "        text-align: right;\n",
       "    }\n",
       "</style>\n",
       "<table border=\"1\" class=\"dataframe\">\n",
       "  <thead>\n",
       "    <tr style=\"text-align: right;\">\n",
       "      <th></th>\n",
       "      <th>Name</th>\n",
       "      <th>Age</th>\n",
       "      <th>Salary USD</th>\n",
       "      <th>Department</th>\n",
       "      <th>Gender</th>\n",
       "    </tr>\n",
       "  </thead>\n",
       "  <tbody>\n",
       "    <tr>\n",
       "      <th>3</th>\n",
       "      <td>David</td>\n",
       "      <td>28</td>\n",
       "      <td>70000</td>\n",
       "      <td>IT</td>\n",
       "      <td>Male</td>\n",
       "    </tr>\n",
       "    <tr>\n",
       "      <th>1</th>\n",
       "      <td>Bob</td>\n",
       "      <td>30</td>\n",
       "      <td>60000</td>\n",
       "      <td>IT</td>\n",
       "      <td>Male</td>\n",
       "    </tr>\n",
       "  </tbody>\n",
       "</table>\n",
       "</div>"
      ],
      "text/plain": [
       "    Name  Age  Salary USD Department Gender\n",
       "3  David   28       70000         IT   Male\n",
       "1    Bob   30       60000         IT   Male"
      ]
     },
     "execution_count": 32,
     "metadata": {},
     "output_type": "execute_result"
    }
   ],
   "source": [
    "df.nsmallest(4, 'Age').query('Department == \"IT\"')"
   ]
  },
  {
   "cell_type": "markdown",
   "metadata": {
    "id": "yLfRyfiJ9Kwj"
   },
   "source": [
    "Since the argument of `.query()` is itself a string, there are some special cases you might consider:  \n",
    "1. When refering to a column that has a whitespace in the name, enclose the column with a backtick (`)\n",
    "2. When refering to variables, prefix the variable with @"
   ]
  },
  {
   "cell_type": "code",
   "execution_count": 33,
   "metadata": {
    "colab": {
     "base_uri": "https://localhost:8080/",
     "height": 81
    },
    "executionInfo": {
     "elapsed": 357,
     "status": "ok",
     "timestamp": 1713789439098,
     "user": {
      "displayName": "Christopher Galloway",
      "userId": "16329134674817848650"
     },
     "user_tz": -120
    },
    "id": "U8viA4Gk-H3R",
    "outputId": "100655a6-41ee-4b0c-9bb2-432365b8a5be"
   },
   "outputs": [
    {
     "data": {
      "text/html": [
       "<div>\n",
       "<style scoped>\n",
       "    .dataframe tbody tr th:only-of-type {\n",
       "        vertical-align: middle;\n",
       "    }\n",
       "\n",
       "    .dataframe tbody tr th {\n",
       "        vertical-align: top;\n",
       "    }\n",
       "\n",
       "    .dataframe thead th {\n",
       "        text-align: right;\n",
       "    }\n",
       "</style>\n",
       "<table border=\"1\" class=\"dataframe\">\n",
       "  <thead>\n",
       "    <tr style=\"text-align: right;\">\n",
       "      <th></th>\n",
       "      <th>Name</th>\n",
       "      <th>Age</th>\n",
       "      <th>Salary USD</th>\n",
       "      <th>Department</th>\n",
       "      <th>Gender</th>\n",
       "    </tr>\n",
       "  </thead>\n",
       "  <tbody>\n",
       "    <tr>\n",
       "      <th>2</th>\n",
       "      <td>Claire</td>\n",
       "      <td>22</td>\n",
       "      <td>45000</td>\n",
       "      <td>Finance</td>\n",
       "      <td>Female</td>\n",
       "    </tr>\n",
       "  </tbody>\n",
       "</table>\n",
       "</div>"
      ],
      "text/plain": [
       "     Name  Age  Salary USD Department  Gender\n",
       "2  Claire   22       45000    Finance  Female"
      ]
     },
     "execution_count": 33,
     "metadata": {},
     "output_type": "execute_result"
    }
   ],
   "source": [
    "df.query(\" `Salary USD` < 50000\")"
   ]
  },
  {
   "cell_type": "code",
   "execution_count": 34,
   "metadata": {
    "executionInfo": {
     "elapsed": 4,
     "status": "ok",
     "timestamp": 1713789439098,
     "user": {
      "displayName": "Christopher Galloway",
      "userId": "16329134674817848650"
     },
     "user_tz": -120
    },
    "id": "goqld-an-S_J"
   },
   "outputs": [],
   "source": [
    "age_limit = 25"
   ]
  },
  {
   "cell_type": "code",
   "execution_count": 35,
   "metadata": {
    "colab": {
     "base_uri": "https://localhost:8080/",
     "height": 143
    },
    "executionInfo": {
     "elapsed": 5,
     "status": "ok",
     "timestamp": 1713789439099,
     "user": {
      "displayName": "Christopher Galloway",
      "userId": "16329134674817848650"
     },
     "user_tz": -120
    },
    "id": "1K6JQ5_9-VxH",
    "outputId": "b6a6a31f-8a26-4ac2-a6f8-9437874f6ae3"
   },
   "outputs": [
    {
     "data": {
      "text/html": [
       "<div>\n",
       "<style scoped>\n",
       "    .dataframe tbody tr th:only-of-type {\n",
       "        vertical-align: middle;\n",
       "    }\n",
       "\n",
       "    .dataframe tbody tr th {\n",
       "        vertical-align: top;\n",
       "    }\n",
       "\n",
       "    .dataframe thead th {\n",
       "        text-align: right;\n",
       "    }\n",
       "</style>\n",
       "<table border=\"1\" class=\"dataframe\">\n",
       "  <thead>\n",
       "    <tr style=\"text-align: right;\">\n",
       "      <th></th>\n",
       "      <th>Name</th>\n",
       "      <th>Age</th>\n",
       "      <th>Salary USD</th>\n",
       "      <th>Department</th>\n",
       "      <th>Gender</th>\n",
       "    </tr>\n",
       "  </thead>\n",
       "  <tbody>\n",
       "    <tr>\n",
       "      <th>1</th>\n",
       "      <td>Bob</td>\n",
       "      <td>30</td>\n",
       "      <td>60000</td>\n",
       "      <td>IT</td>\n",
       "      <td>Male</td>\n",
       "    </tr>\n",
       "    <tr>\n",
       "      <th>3</th>\n",
       "      <td>David</td>\n",
       "      <td>28</td>\n",
       "      <td>70000</td>\n",
       "      <td>IT</td>\n",
       "      <td>Male</td>\n",
       "    </tr>\n",
       "    <tr>\n",
       "      <th>4</th>\n",
       "      <td>Emma</td>\n",
       "      <td>35</td>\n",
       "      <td>80000</td>\n",
       "      <td>Marketing</td>\n",
       "      <td>Female</td>\n",
       "    </tr>\n",
       "  </tbody>\n",
       "</table>\n",
       "</div>"
      ],
      "text/plain": [
       "    Name  Age  Salary USD Department  Gender\n",
       "1    Bob   30       60000         IT    Male\n",
       "3  David   28       70000         IT    Male\n",
       "4   Emma   35       80000  Marketing  Female"
      ]
     },
     "execution_count": 35,
     "metadata": {},
     "output_type": "execute_result"
    }
   ],
   "source": [
    "df.query(\"Age > @age_limit\")"
   ]
  },
  {
   "cell_type": "markdown",
   "metadata": {
    "id": "R3lqTNbttvoy"
   },
   "source": [
    "### Challenge 8\n",
    "Using `.query()`, select all cities with a population greater than 2 million and founded after the year 1800.\n"
   ]
  },
  {
   "cell_type": "code",
   "execution_count": 36,
   "metadata": {
    "executionInfo": {
     "elapsed": 4,
     "status": "ok",
     "timestamp": 1713789439099,
     "user": {
      "displayName": "Christopher Galloway",
      "userId": "16329134674817848650"
     },
     "user_tz": -120
    },
    "id": "OiWzxxk0tvoy"
   },
   "outputs": [
    {
     "data": {
      "text/html": [
       "<div>\n",
       "<style scoped>\n",
       "    .dataframe tbody tr th:only-of-type {\n",
       "        vertical-align: middle;\n",
       "    }\n",
       "\n",
       "    .dataframe tbody tr th {\n",
       "        vertical-align: top;\n",
       "    }\n",
       "\n",
       "    .dataframe thead th {\n",
       "        text-align: right;\n",
       "    }\n",
       "</style>\n",
       "<table border=\"1\" class=\"dataframe\">\n",
       "  <thead>\n",
       "    <tr style=\"text-align: right;\">\n",
       "      <th></th>\n",
       "      <th>City</th>\n",
       "      <th>Population</th>\n",
       "      <th>Area_sq_miles</th>\n",
       "      <th>Country</th>\n",
       "      <th>Year_Founded</th>\n",
       "    </tr>\n",
       "  </thead>\n",
       "  <tbody>\n",
       "    <tr>\n",
       "      <th>2</th>\n",
       "      <td>Chicago</td>\n",
       "      <td>2716000</td>\n",
       "      <td>227.3</td>\n",
       "      <td>USA</td>\n",
       "      <td>1833</td>\n",
       "    </tr>\n",
       "    <tr>\n",
       "      <th>3</th>\n",
       "      <td>Houston</td>\n",
       "      <td>2312717</td>\n",
       "      <td>627.8</td>\n",
       "      <td>USA</td>\n",
       "      <td>1836</td>\n",
       "    </tr>\n",
       "  </tbody>\n",
       "</table>\n",
       "</div>"
      ],
      "text/plain": [
       "      City  Population  Area_sq_miles Country  Year_Founded\n",
       "2  Chicago     2716000          227.3     USA          1833\n",
       "3  Houston     2312717          627.8     USA          1836"
      ]
     },
     "execution_count": 36,
     "metadata": {},
     "output_type": "execute_result"
    }
   ],
   "source": [
    "# Your code here\n",
    "cities_df.query('Population > 2000000 & Year_Founded > 1800')"
   ]
  },
  {
   "cell_type": "markdown",
   "metadata": {
    "id": "2koTA9lOtvoz"
   },
   "source": [
    "### Challenge 9\n",
    "Using `.query()`, select all cities with an area between 100 and 300 square miles.\n"
   ]
  },
  {
   "cell_type": "code",
   "execution_count": 37,
   "metadata": {
    "executionInfo": {
     "elapsed": 4,
     "status": "ok",
     "timestamp": 1713789439099,
     "user": {
      "displayName": "Christopher Galloway",
      "userId": "16329134674817848650"
     },
     "user_tz": -120
    },
    "id": "0bpQDAy_tvoz"
   },
   "outputs": [
    {
     "data": {
      "text/html": [
       "<div>\n",
       "<style scoped>\n",
       "    .dataframe tbody tr th:only-of-type {\n",
       "        vertical-align: middle;\n",
       "    }\n",
       "\n",
       "    .dataframe tbody tr th {\n",
       "        vertical-align: top;\n",
       "    }\n",
       "\n",
       "    .dataframe thead th {\n",
       "        text-align: right;\n",
       "    }\n",
       "</style>\n",
       "<table border=\"1\" class=\"dataframe\">\n",
       "  <thead>\n",
       "    <tr style=\"text-align: right;\">\n",
       "      <th></th>\n",
       "      <th>City</th>\n",
       "      <th>Population</th>\n",
       "      <th>Area_sq_miles</th>\n",
       "      <th>Country</th>\n",
       "      <th>Year_Founded</th>\n",
       "    </tr>\n",
       "  </thead>\n",
       "  <tbody>\n",
       "    <tr>\n",
       "      <th>2</th>\n",
       "      <td>Chicago</td>\n",
       "      <td>2716000</td>\n",
       "      <td>227.3</td>\n",
       "      <td>USA</td>\n",
       "      <td>1833</td>\n",
       "    </tr>\n",
       "  </tbody>\n",
       "</table>\n",
       "</div>"
      ],
      "text/plain": [
       "      City  Population  Area_sq_miles Country  Year_Founded\n",
       "2  Chicago     2716000          227.3     USA          1833"
      ]
     },
     "execution_count": 37,
     "metadata": {},
     "output_type": "execute_result"
    }
   ],
   "source": [
    "# Your code here\n",
    "cities_area_mask = cities_df['Area_sq_miles'].between(100, 300)\n",
    "cities_area_mask = cities_df['Area_sq_miles'].between(100, 300)\n",
    "cities_df.query('@cities_area_mask')\n",
    "cities_df.query('Area_sq_miles.between(100, 300)')"
   ]
  }
 ],
 "metadata": {
  "colab": {
   "provenance": [
    {
     "file_id": "1-4jECeEz_bSlOLz0kgejyOWnm-bAsoEa",
     "timestamp": 1712674981384
    }
   ]
  },
  "kernelspec": {
   "display_name": "base",
   "language": "python",
   "name": "python3"
  },
  "language_info": {
   "codemirror_mode": {
    "name": "ipython",
    "version": 3
   },
   "file_extension": ".py",
   "mimetype": "text/x-python",
   "name": "python",
   "nbconvert_exporter": "python",
   "pygments_lexer": "ipython3",
   "version": "3.12.4"
  }
 },
 "nbformat": 4,
 "nbformat_minor": 0
}
