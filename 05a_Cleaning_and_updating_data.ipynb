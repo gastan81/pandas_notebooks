{
 "cells": [
  {
   "cell_type": "markdown",
   "metadata": {
    "id": "jcA6Yz8QXQQ5"
   },
   "source": [
    "## Import the Pandas library and create DataFrame\n",
    "\n",
    "Before doing anything else, you'll need to import Pandas and get some data to work with."
   ]
  },
  {
   "cell_type": "code",
   "execution_count": 98,
   "metadata": {
    "id": "GKLU_qtAXOsg"
   },
   "outputs": [],
   "source": [
    "#!pip install pandas\n",
    "import pandas as pd"
   ]
  },
  {
   "cell_type": "code",
   "execution_count": 99,
   "metadata": {
    "colab": {
     "base_uri": "https://localhost:8080/",
     "height": 237
    },
    "executionInfo": {
     "elapsed": 4,
     "status": "ok",
     "timestamp": 1713797641486,
     "user": {
      "displayName": "Christopher Galloway",
      "userId": "16329134674817848650"
     },
     "user_tz": -120
    },
    "id": "4g2YGgtXZpwY",
    "outputId": "9b2f707f-6c55-41c3-bfd5-f79895dd2bc2"
   },
   "outputs": [
    {
     "data": {
      "text/html": [
       "<div>\n",
       "<style scoped>\n",
       "    .dataframe tbody tr th:only-of-type {\n",
       "        vertical-align: middle;\n",
       "    }\n",
       "\n",
       "    .dataframe tbody tr th {\n",
       "        vertical-align: top;\n",
       "    }\n",
       "\n",
       "    .dataframe thead th {\n",
       "        text-align: right;\n",
       "    }\n",
       "</style>\n",
       "<table border=\"1\" class=\"dataframe\">\n",
       "  <thead>\n",
       "    <tr style=\"text-align: right;\">\n",
       "      <th></th>\n",
       "      <th>Name</th>\n",
       "      <th>Age</th>\n",
       "      <th>Salary</th>\n",
       "      <th>Department</th>\n",
       "      <th>Gender</th>\n",
       "      <th>Hire_Date</th>\n",
       "      <th>Performance_Rating</th>\n",
       "      <th>ID</th>\n",
       "    </tr>\n",
       "  </thead>\n",
       "  <tbody>\n",
       "    <tr>\n",
       "      <th>0</th>\n",
       "      <td>Alice</td>\n",
       "      <td>25.0</td>\n",
       "      <td>50000</td>\n",
       "      <td>HR</td>\n",
       "      <td>Female</td>\n",
       "      <td>2020-03-15</td>\n",
       "      <td>4.5</td>\n",
       "      <td>1.5</td>\n",
       "    </tr>\n",
       "    <tr>\n",
       "      <th>1</th>\n",
       "      <td>Bob</td>\n",
       "      <td>30.0</td>\n",
       "      <td>60000</td>\n",
       "      <td>None</td>\n",
       "      <td>Male</td>\n",
       "      <td>2019-05-20</td>\n",
       "      <td>3.8</td>\n",
       "      <td>1.6</td>\n",
       "    </tr>\n",
       "    <tr>\n",
       "      <th>2</th>\n",
       "      <td>Claire</td>\n",
       "      <td>22.0</td>\n",
       "      <td>45000€</td>\n",
       "      <td>Finance</td>\n",
       "      <td>Female</td>\n",
       "      <td>2021-01-10</td>\n",
       "      <td>None</td>\n",
       "      <td>1.7</td>\n",
       "    </tr>\n",
       "    <tr>\n",
       "      <th>3</th>\n",
       "      <td>David</td>\n",
       "      <td>NaN</td>\n",
       "      <td>70000</td>\n",
       "      <td>IT</td>\n",
       "      <td>Male</td>\n",
       "      <td>2018-11-05</td>\n",
       "      <td>4.0</td>\n",
       "      <td>1.8</td>\n",
       "    </tr>\n",
       "    <tr>\n",
       "      <th>4</th>\n",
       "      <td>Emma</td>\n",
       "      <td>35.0</td>\n",
       "      <td>80000</td>\n",
       "      <td>Marketing</td>\n",
       "      <td>Female</td>\n",
       "      <td>2022-02-28</td>\n",
       "      <td>4.7</td>\n",
       "      <td>1.9</td>\n",
       "    </tr>\n",
       "    <tr>\n",
       "      <th>5</th>\n",
       "      <td>Emma</td>\n",
       "      <td>35.0</td>\n",
       "      <td>80000</td>\n",
       "      <td>Marketing</td>\n",
       "      <td>Female</td>\n",
       "      <td>2022-02-28</td>\n",
       "      <td>4.7</td>\n",
       "      <td>1.9</td>\n",
       "    </tr>\n",
       "  </tbody>\n",
       "</table>\n",
       "</div>"
      ],
      "text/plain": [
       "     Name   Age  Salary Department  Gender   Hire_Date Performance_Rating   ID\n",
       "0   Alice  25.0   50000         HR  Female  2020-03-15                4.5  1.5\n",
       "1     Bob  30.0   60000       None    Male  2019-05-20                3.8  1.6\n",
       "2  Claire  22.0  45000€    Finance  Female  2021-01-10               None  1.7\n",
       "3   David   NaN   70000         IT    Male  2018-11-05                4.0  1.8\n",
       "4    Emma  35.0   80000  Marketing  Female  2022-02-28                4.7  1.9\n",
       "5    Emma  35.0   80000  Marketing  Female  2022-02-28                4.7  1.9"
      ]
     },
     "execution_count": 99,
     "metadata": {},
     "output_type": "execute_result"
    }
   ],
   "source": [
    "data = {\n",
    "    'Name': ['Alice', 'Bob', 'Claire', 'David', 'Emma','Emma'],\n",
    "    'Age': [25, 30, 22, None, 35,35],\n",
    "    'Salary': ['50000', '60000', '45000€', '70000', '80000', '80000'],\n",
    "    'Department': ['HR', None, 'Finance', 'IT', 'Marketing', 'Marketing'],\n",
    "    'Gender': ['Female', 'Male', 'Female', 'Male', 'Female', 'Female'],\n",
    "    'Hire_Date': ['2020-03-15', '2019-05-20', '2021-01-10', '2018-11-05', '2022-02-28', '2022-02-28'],\n",
    "    'Performance_Rating': ['4.5', '3.8', None, '4.0', '4.7', '4.7'],\n",
    "    'ID':['1.5','1.6','1.7','1.8','1.9','1.9']\n",
    "}\n",
    "\n",
    "df = pd.DataFrame(data)\n",
    "df"
   ]
  },
  {
   "cell_type": "markdown",
   "metadata": {
    "id": "mBS-5apbYByG"
   },
   "source": [
    "## 1. Dealing with missing values"
   ]
  },
  {
   "cell_type": "markdown",
   "metadata": {
    "id": "3oSw-HeGjNTh"
   },
   "source": [
    "Missing values, also known as null values, can be a headache when handling data. They might cause errors, or throw off counts."
   ]
  },
  {
   "cell_type": "markdown",
   "metadata": {
    "id": "9Xko4XO6Ys3G"
   },
   "source": [
    "### .dropna()\n",
    "One strategy to deal with missing values is to simply eliminate them. `.dropna()` will delete either rows or columns containing missing values."
   ]
  },
  {
   "cell_type": "markdown",
   "metadata": {
    "id": "nAZ2p1YgZH_c"
   },
   "source": [
    "> **Axis:** Several Pandas methods contain a parameter called 'axis'. This parameter determines in which direction the function will be applied.  \n",
    "`axis=0` applies along rows  \n",
    "`axis=1` applies along columns"
   ]
  },
  {
   "cell_type": "code",
   "execution_count": 100,
   "metadata": {
    "colab": {
     "base_uri": "https://localhost:8080/",
     "height": 143
    },
    "executionInfo": {
     "elapsed": 467,
     "status": "ok",
     "timestamp": 1713797641950,
     "user": {
      "displayName": "Christopher Galloway",
      "userId": "16329134674817848650"
     },
     "user_tz": -120
    },
    "id": "RtwtAc52YNoF",
    "outputId": "55f0d481-6fda-4b03-a3f8-646aa72fb39b"
   },
   "outputs": [
    {
     "data": {
      "text/html": [
       "<div>\n",
       "<style scoped>\n",
       "    .dataframe tbody tr th:only-of-type {\n",
       "        vertical-align: middle;\n",
       "    }\n",
       "\n",
       "    .dataframe tbody tr th {\n",
       "        vertical-align: top;\n",
       "    }\n",
       "\n",
       "    .dataframe thead th {\n",
       "        text-align: right;\n",
       "    }\n",
       "</style>\n",
       "<table border=\"1\" class=\"dataframe\">\n",
       "  <thead>\n",
       "    <tr style=\"text-align: right;\">\n",
       "      <th></th>\n",
       "      <th>Name</th>\n",
       "      <th>Age</th>\n",
       "      <th>Salary</th>\n",
       "      <th>Department</th>\n",
       "      <th>Gender</th>\n",
       "      <th>Hire_Date</th>\n",
       "      <th>Performance_Rating</th>\n",
       "      <th>ID</th>\n",
       "    </tr>\n",
       "  </thead>\n",
       "  <tbody>\n",
       "    <tr>\n",
       "      <th>0</th>\n",
       "      <td>Alice</td>\n",
       "      <td>25.0</td>\n",
       "      <td>50000</td>\n",
       "      <td>HR</td>\n",
       "      <td>Female</td>\n",
       "      <td>2020-03-15</td>\n",
       "      <td>4.5</td>\n",
       "      <td>1.5</td>\n",
       "    </tr>\n",
       "    <tr>\n",
       "      <th>4</th>\n",
       "      <td>Emma</td>\n",
       "      <td>35.0</td>\n",
       "      <td>80000</td>\n",
       "      <td>Marketing</td>\n",
       "      <td>Female</td>\n",
       "      <td>2022-02-28</td>\n",
       "      <td>4.7</td>\n",
       "      <td>1.9</td>\n",
       "    </tr>\n",
       "    <tr>\n",
       "      <th>5</th>\n",
       "      <td>Emma</td>\n",
       "      <td>35.0</td>\n",
       "      <td>80000</td>\n",
       "      <td>Marketing</td>\n",
       "      <td>Female</td>\n",
       "      <td>2022-02-28</td>\n",
       "      <td>4.7</td>\n",
       "      <td>1.9</td>\n",
       "    </tr>\n",
       "  </tbody>\n",
       "</table>\n",
       "</div>"
      ],
      "text/plain": [
       "    Name   Age Salary Department  Gender   Hire_Date Performance_Rating   ID\n",
       "0  Alice  25.0  50000         HR  Female  2020-03-15                4.5  1.5\n",
       "4   Emma  35.0  80000  Marketing  Female  2022-02-28                4.7  1.9\n",
       "5   Emma  35.0  80000  Marketing  Female  2022-02-28                4.7  1.9"
      ]
     },
     "execution_count": 100,
     "metadata": {},
     "output_type": "execute_result"
    }
   ],
   "source": [
    "df.dropna(axis=0)   # to drop rows"
   ]
  },
  {
   "cell_type": "markdown",
   "metadata": {
    "id": "MCUOs8BjaJyK"
   },
   "source": [
    "Each row containing at least one missing value (None or NaN) has been removed from the output."
   ]
  },
  {
   "cell_type": "code",
   "execution_count": 101,
   "metadata": {
    "colab": {
     "base_uri": "https://localhost:8080/",
     "height": 237
    },
    "executionInfo": {
     "elapsed": 18,
     "status": "ok",
     "timestamp": 1713797641950,
     "user": {
      "displayName": "Christopher Galloway",
      "userId": "16329134674817848650"
     },
     "user_tz": -120
    },
    "id": "edEgr8AUafqb",
    "outputId": "77f68f37-ba05-453a-f1d1-29957803312c"
   },
   "outputs": [
    {
     "data": {
      "text/html": [
       "<div>\n",
       "<style scoped>\n",
       "    .dataframe tbody tr th:only-of-type {\n",
       "        vertical-align: middle;\n",
       "    }\n",
       "\n",
       "    .dataframe tbody tr th {\n",
       "        vertical-align: top;\n",
       "    }\n",
       "\n",
       "    .dataframe thead th {\n",
       "        text-align: right;\n",
       "    }\n",
       "</style>\n",
       "<table border=\"1\" class=\"dataframe\">\n",
       "  <thead>\n",
       "    <tr style=\"text-align: right;\">\n",
       "      <th></th>\n",
       "      <th>Name</th>\n",
       "      <th>Salary</th>\n",
       "      <th>Gender</th>\n",
       "      <th>Hire_Date</th>\n",
       "      <th>ID</th>\n",
       "    </tr>\n",
       "  </thead>\n",
       "  <tbody>\n",
       "    <tr>\n",
       "      <th>0</th>\n",
       "      <td>Alice</td>\n",
       "      <td>50000</td>\n",
       "      <td>Female</td>\n",
       "      <td>2020-03-15</td>\n",
       "      <td>1.5</td>\n",
       "    </tr>\n",
       "    <tr>\n",
       "      <th>1</th>\n",
       "      <td>Bob</td>\n",
       "      <td>60000</td>\n",
       "      <td>Male</td>\n",
       "      <td>2019-05-20</td>\n",
       "      <td>1.6</td>\n",
       "    </tr>\n",
       "    <tr>\n",
       "      <th>2</th>\n",
       "      <td>Claire</td>\n",
       "      <td>45000€</td>\n",
       "      <td>Female</td>\n",
       "      <td>2021-01-10</td>\n",
       "      <td>1.7</td>\n",
       "    </tr>\n",
       "    <tr>\n",
       "      <th>3</th>\n",
       "      <td>David</td>\n",
       "      <td>70000</td>\n",
       "      <td>Male</td>\n",
       "      <td>2018-11-05</td>\n",
       "      <td>1.8</td>\n",
       "    </tr>\n",
       "    <tr>\n",
       "      <th>4</th>\n",
       "      <td>Emma</td>\n",
       "      <td>80000</td>\n",
       "      <td>Female</td>\n",
       "      <td>2022-02-28</td>\n",
       "      <td>1.9</td>\n",
       "    </tr>\n",
       "    <tr>\n",
       "      <th>5</th>\n",
       "      <td>Emma</td>\n",
       "      <td>80000</td>\n",
       "      <td>Female</td>\n",
       "      <td>2022-02-28</td>\n",
       "      <td>1.9</td>\n",
       "    </tr>\n",
       "  </tbody>\n",
       "</table>\n",
       "</div>"
      ],
      "text/plain": [
       "     Name  Salary  Gender   Hire_Date   ID\n",
       "0   Alice   50000  Female  2020-03-15  1.5\n",
       "1     Bob   60000    Male  2019-05-20  1.6\n",
       "2  Claire  45000€  Female  2021-01-10  1.7\n",
       "3   David   70000    Male  2018-11-05  1.8\n",
       "4    Emma   80000  Female  2022-02-28  1.9\n",
       "5    Emma   80000  Female  2022-02-28  1.9"
      ]
     },
     "execution_count": 101,
     "metadata": {},
     "output_type": "execute_result"
    }
   ],
   "source": [
    "df.dropna(axis=1)   # to drop columns"
   ]
  },
  {
   "cell_type": "markdown",
   "metadata": {
    "id": "CZIHK-P5aiZR"
   },
   "source": [
    "This time, all columns containing at least one missing value have been dropped."
   ]
  },
  {
   "cell_type": "markdown",
   "metadata": {
    "id": "P9eFJUBJaw4v"
   },
   "source": [
    "### .fillna()\n",
    "Another method is to fill in missing values. These can be inferred from other values in the row or column, or set to a constant.   \n",
    "Let's take the mean of everyones age and use that value to fill in any missing data in the column."
   ]
  },
  {
   "cell_type": "code",
   "execution_count": 102,
   "metadata": {
    "colab": {
     "base_uri": "https://localhost:8080/"
    },
    "executionInfo": {
     "elapsed": 16,
     "status": "ok",
     "timestamp": 1713797641950,
     "user": {
      "displayName": "Christopher Galloway",
      "userId": "16329134674817848650"
     },
     "user_tz": -120
    },
    "id": "O1RecujBa9zd",
    "outputId": "45ba2e58-9e1b-4c52-a622-9979ab4fbbab"
   },
   "outputs": [
    {
     "data": {
      "text/plain": [
       "29.4"
      ]
     },
     "execution_count": 102,
     "metadata": {},
     "output_type": "execute_result"
    }
   ],
   "source": [
    "age_mean = df['Age'].mean()\n",
    "age_mean"
   ]
  },
  {
   "cell_type": "code",
   "execution_count": 103,
   "metadata": {
    "colab": {
     "base_uri": "https://localhost:8080/"
    },
    "executionInfo": {
     "elapsed": 15,
     "status": "ok",
     "timestamp": 1713797641950,
     "user": {
      "displayName": "Christopher Galloway",
      "userId": "16329134674817848650"
     },
     "user_tz": -120
    },
    "id": "AQx6ez81b-Zn",
    "outputId": "63613b27-1afd-4d26-9438-a17a8fe73161"
   },
   "outputs": [
    {
     "data": {
      "text/plain": [
       "0    25.0\n",
       "1    30.0\n",
       "2    22.0\n",
       "3     NaN\n",
       "4    35.0\n",
       "5    35.0\n",
       "Name: Age, dtype: float64"
      ]
     },
     "execution_count": 103,
     "metadata": {},
     "output_type": "execute_result"
    }
   ],
   "source": [
    "df['Age'] # here we see one missing age"
   ]
  },
  {
   "cell_type": "code",
   "execution_count": 104,
   "metadata": {
    "colab": {
     "base_uri": "https://localhost:8080/"
    },
    "executionInfo": {
     "elapsed": 13,
     "status": "ok",
     "timestamp": 1713797641950,
     "user": {
      "displayName": "Christopher Galloway",
      "userId": "16329134674817848650"
     },
     "user_tz": -120
    },
    "id": "H156ew0SbZGX",
    "outputId": "4fc3d934-3bc6-48ff-a331-f208a71b9163"
   },
   "outputs": [
    {
     "data": {
      "text/plain": [
       "0    25.0\n",
       "1    30.0\n",
       "2    22.0\n",
       "3    29.4\n",
       "4    35.0\n",
       "5    35.0\n",
       "Name: Age, dtype: float64"
      ]
     },
     "execution_count": 104,
     "metadata": {},
     "output_type": "execute_result"
    }
   ],
   "source": [
    "df['Age'].fillna(age_mean)"
   ]
  },
  {
   "cell_type": "markdown",
   "metadata": {
    "id": "xySW_BIycY5G"
   },
   "source": [
    "## 2. Handling duplicates"
   ]
  },
  {
   "cell_type": "markdown",
   "metadata": {
    "id": "R91b6jFdkadL"
   },
   "source": [
    "Duplicates can throw off an analysis. They might make it seem as if more sales were made or more customers exist than is actually true."
   ]
  },
  {
   "cell_type": "markdown",
   "metadata": {
    "id": "qTGiuPTscsUX"
   },
   "source": [
    "### .drop_duplicates()\n",
    "Look closely at the last two lines of `df`. They contain all of the same information! `.drop_duplicates()` exists to spot such repeats and get rid of them in one easy step."
   ]
  },
  {
   "cell_type": "code",
   "execution_count": 105,
   "metadata": {
    "colab": {
     "base_uri": "https://localhost:8080/",
     "height": 237
    },
    "executionInfo": {
     "elapsed": 12,
     "status": "ok",
     "timestamp": 1713797641950,
     "user": {
      "displayName": "Christopher Galloway",
      "userId": "16329134674817848650"
     },
     "user_tz": -120
    },
    "id": "XPr9pfMbdsUF",
    "outputId": "6f8e44f1-3477-4193-d3a1-4db968e79dc8"
   },
   "outputs": [
    {
     "data": {
      "text/html": [
       "<div>\n",
       "<style scoped>\n",
       "    .dataframe tbody tr th:only-of-type {\n",
       "        vertical-align: middle;\n",
       "    }\n",
       "\n",
       "    .dataframe tbody tr th {\n",
       "        vertical-align: top;\n",
       "    }\n",
       "\n",
       "    .dataframe thead th {\n",
       "        text-align: right;\n",
       "    }\n",
       "</style>\n",
       "<table border=\"1\" class=\"dataframe\">\n",
       "  <thead>\n",
       "    <tr style=\"text-align: right;\">\n",
       "      <th></th>\n",
       "      <th>Name</th>\n",
       "      <th>Age</th>\n",
       "      <th>Salary</th>\n",
       "      <th>Department</th>\n",
       "      <th>Gender</th>\n",
       "      <th>Hire_Date</th>\n",
       "      <th>Performance_Rating</th>\n",
       "      <th>ID</th>\n",
       "    </tr>\n",
       "  </thead>\n",
       "  <tbody>\n",
       "    <tr>\n",
       "      <th>0</th>\n",
       "      <td>Alice</td>\n",
       "      <td>25.0</td>\n",
       "      <td>50000</td>\n",
       "      <td>HR</td>\n",
       "      <td>Female</td>\n",
       "      <td>2020-03-15</td>\n",
       "      <td>4.5</td>\n",
       "      <td>1.5</td>\n",
       "    </tr>\n",
       "    <tr>\n",
       "      <th>1</th>\n",
       "      <td>Bob</td>\n",
       "      <td>30.0</td>\n",
       "      <td>60000</td>\n",
       "      <td>None</td>\n",
       "      <td>Male</td>\n",
       "      <td>2019-05-20</td>\n",
       "      <td>3.8</td>\n",
       "      <td>1.6</td>\n",
       "    </tr>\n",
       "    <tr>\n",
       "      <th>2</th>\n",
       "      <td>Claire</td>\n",
       "      <td>22.0</td>\n",
       "      <td>45000€</td>\n",
       "      <td>Finance</td>\n",
       "      <td>Female</td>\n",
       "      <td>2021-01-10</td>\n",
       "      <td>None</td>\n",
       "      <td>1.7</td>\n",
       "    </tr>\n",
       "    <tr>\n",
       "      <th>3</th>\n",
       "      <td>David</td>\n",
       "      <td>NaN</td>\n",
       "      <td>70000</td>\n",
       "      <td>IT</td>\n",
       "      <td>Male</td>\n",
       "      <td>2018-11-05</td>\n",
       "      <td>4.0</td>\n",
       "      <td>1.8</td>\n",
       "    </tr>\n",
       "    <tr>\n",
       "      <th>4</th>\n",
       "      <td>Emma</td>\n",
       "      <td>35.0</td>\n",
       "      <td>80000</td>\n",
       "      <td>Marketing</td>\n",
       "      <td>Female</td>\n",
       "      <td>2022-02-28</td>\n",
       "      <td>4.7</td>\n",
       "      <td>1.9</td>\n",
       "    </tr>\n",
       "    <tr>\n",
       "      <th>5</th>\n",
       "      <td>Emma</td>\n",
       "      <td>35.0</td>\n",
       "      <td>80000</td>\n",
       "      <td>Marketing</td>\n",
       "      <td>Female</td>\n",
       "      <td>2022-02-28</td>\n",
       "      <td>4.7</td>\n",
       "      <td>1.9</td>\n",
       "    </tr>\n",
       "  </tbody>\n",
       "</table>\n",
       "</div>"
      ],
      "text/plain": [
       "     Name   Age  Salary Department  Gender   Hire_Date Performance_Rating   ID\n",
       "0   Alice  25.0   50000         HR  Female  2020-03-15                4.5  1.5\n",
       "1     Bob  30.0   60000       None    Male  2019-05-20                3.8  1.6\n",
       "2  Claire  22.0  45000€    Finance  Female  2021-01-10               None  1.7\n",
       "3   David   NaN   70000         IT    Male  2018-11-05                4.0  1.8\n",
       "4    Emma  35.0   80000  Marketing  Female  2022-02-28                4.7  1.9\n",
       "5    Emma  35.0   80000  Marketing  Female  2022-02-28                4.7  1.9"
      ]
     },
     "execution_count": 105,
     "metadata": {},
     "output_type": "execute_result"
    }
   ],
   "source": [
    "df"
   ]
  },
  {
   "cell_type": "code",
   "execution_count": 106,
   "metadata": {
    "colab": {
     "base_uri": "https://localhost:8080/",
     "height": 206
    },
    "executionInfo": {
     "elapsed": 12,
     "status": "ok",
     "timestamp": 1713797641951,
     "user": {
      "displayName": "Christopher Galloway",
      "userId": "16329134674817848650"
     },
     "user_tz": -120
    },
    "id": "f14ywNAjc3sp",
    "outputId": "92d7f780-e8b0-48a2-d825-c81fe626c688"
   },
   "outputs": [
    {
     "data": {
      "text/html": [
       "<div>\n",
       "<style scoped>\n",
       "    .dataframe tbody tr th:only-of-type {\n",
       "        vertical-align: middle;\n",
       "    }\n",
       "\n",
       "    .dataframe tbody tr th {\n",
       "        vertical-align: top;\n",
       "    }\n",
       "\n",
       "    .dataframe thead th {\n",
       "        text-align: right;\n",
       "    }\n",
       "</style>\n",
       "<table border=\"1\" class=\"dataframe\">\n",
       "  <thead>\n",
       "    <tr style=\"text-align: right;\">\n",
       "      <th></th>\n",
       "      <th>Name</th>\n",
       "      <th>Age</th>\n",
       "      <th>Salary</th>\n",
       "      <th>Department</th>\n",
       "      <th>Gender</th>\n",
       "      <th>Hire_Date</th>\n",
       "      <th>Performance_Rating</th>\n",
       "      <th>ID</th>\n",
       "    </tr>\n",
       "  </thead>\n",
       "  <tbody>\n",
       "    <tr>\n",
       "      <th>0</th>\n",
       "      <td>Alice</td>\n",
       "      <td>25.0</td>\n",
       "      <td>50000</td>\n",
       "      <td>HR</td>\n",
       "      <td>Female</td>\n",
       "      <td>2020-03-15</td>\n",
       "      <td>4.5</td>\n",
       "      <td>1.5</td>\n",
       "    </tr>\n",
       "    <tr>\n",
       "      <th>1</th>\n",
       "      <td>Bob</td>\n",
       "      <td>30.0</td>\n",
       "      <td>60000</td>\n",
       "      <td>None</td>\n",
       "      <td>Male</td>\n",
       "      <td>2019-05-20</td>\n",
       "      <td>3.8</td>\n",
       "      <td>1.6</td>\n",
       "    </tr>\n",
       "    <tr>\n",
       "      <th>2</th>\n",
       "      <td>Claire</td>\n",
       "      <td>22.0</td>\n",
       "      <td>45000€</td>\n",
       "      <td>Finance</td>\n",
       "      <td>Female</td>\n",
       "      <td>2021-01-10</td>\n",
       "      <td>None</td>\n",
       "      <td>1.7</td>\n",
       "    </tr>\n",
       "    <tr>\n",
       "      <th>3</th>\n",
       "      <td>David</td>\n",
       "      <td>NaN</td>\n",
       "      <td>70000</td>\n",
       "      <td>IT</td>\n",
       "      <td>Male</td>\n",
       "      <td>2018-11-05</td>\n",
       "      <td>4.0</td>\n",
       "      <td>1.8</td>\n",
       "    </tr>\n",
       "    <tr>\n",
       "      <th>4</th>\n",
       "      <td>Emma</td>\n",
       "      <td>35.0</td>\n",
       "      <td>80000</td>\n",
       "      <td>Marketing</td>\n",
       "      <td>Female</td>\n",
       "      <td>2022-02-28</td>\n",
       "      <td>4.7</td>\n",
       "      <td>1.9</td>\n",
       "    </tr>\n",
       "  </tbody>\n",
       "</table>\n",
       "</div>"
      ],
      "text/plain": [
       "     Name   Age  Salary Department  Gender   Hire_Date Performance_Rating   ID\n",
       "0   Alice  25.0   50000         HR  Female  2020-03-15                4.5  1.5\n",
       "1     Bob  30.0   60000       None    Male  2019-05-20                3.8  1.6\n",
       "2  Claire  22.0  45000€    Finance  Female  2021-01-10               None  1.7\n",
       "3   David   NaN   70000         IT    Male  2018-11-05                4.0  1.8\n",
       "4    Emma  35.0   80000  Marketing  Female  2022-02-28                4.7  1.9"
      ]
     },
     "execution_count": 106,
     "metadata": {},
     "output_type": "execute_result"
    }
   ],
   "source": [
    "df.drop_duplicates()"
   ]
  },
  {
   "cell_type": "markdown",
   "metadata": {
    "id": "6La6HiYvFcpK"
   },
   "source": [
    "What if we had actually hired two people named Emma to the marketing department on the same day?\n",
    "    \n",
    "`.drop_duplicates()` can also target a *single column* for repeated information by using the `subset=` parameter. In this way, items that should be unique — such as \"ID\" — can be used to determine which rows should be dropped."
   ]
  },
  {
   "cell_type": "code",
   "execution_count": 107,
   "metadata": {
    "colab": {
     "base_uri": "https://localhost:8080/",
     "height": 206
    },
    "executionInfo": {
     "elapsed": 12,
     "status": "ok",
     "timestamp": 1713797641951,
     "user": {
      "displayName": "Christopher Galloway",
      "userId": "16329134674817848650"
     },
     "user_tz": -120
    },
    "id": "AnMvje9vGfug",
    "outputId": "7d892aa2-f224-4aa0-f3b6-a92829f51baa"
   },
   "outputs": [
    {
     "data": {
      "text/html": [
       "<div>\n",
       "<style scoped>\n",
       "    .dataframe tbody tr th:only-of-type {\n",
       "        vertical-align: middle;\n",
       "    }\n",
       "\n",
       "    .dataframe tbody tr th {\n",
       "        vertical-align: top;\n",
       "    }\n",
       "\n",
       "    .dataframe thead th {\n",
       "        text-align: right;\n",
       "    }\n",
       "</style>\n",
       "<table border=\"1\" class=\"dataframe\">\n",
       "  <thead>\n",
       "    <tr style=\"text-align: right;\">\n",
       "      <th></th>\n",
       "      <th>Name</th>\n",
       "      <th>Age</th>\n",
       "      <th>Salary</th>\n",
       "      <th>Department</th>\n",
       "      <th>Gender</th>\n",
       "      <th>Hire_Date</th>\n",
       "      <th>Performance_Rating</th>\n",
       "      <th>ID</th>\n",
       "    </tr>\n",
       "  </thead>\n",
       "  <tbody>\n",
       "    <tr>\n",
       "      <th>0</th>\n",
       "      <td>Alice</td>\n",
       "      <td>25.0</td>\n",
       "      <td>50000</td>\n",
       "      <td>HR</td>\n",
       "      <td>Female</td>\n",
       "      <td>2020-03-15</td>\n",
       "      <td>4.5</td>\n",
       "      <td>1.5</td>\n",
       "    </tr>\n",
       "    <tr>\n",
       "      <th>1</th>\n",
       "      <td>Bob</td>\n",
       "      <td>30.0</td>\n",
       "      <td>60000</td>\n",
       "      <td>None</td>\n",
       "      <td>Male</td>\n",
       "      <td>2019-05-20</td>\n",
       "      <td>3.8</td>\n",
       "      <td>1.6</td>\n",
       "    </tr>\n",
       "    <tr>\n",
       "      <th>2</th>\n",
       "      <td>Claire</td>\n",
       "      <td>22.0</td>\n",
       "      <td>45000€</td>\n",
       "      <td>Finance</td>\n",
       "      <td>Female</td>\n",
       "      <td>2021-01-10</td>\n",
       "      <td>None</td>\n",
       "      <td>1.7</td>\n",
       "    </tr>\n",
       "    <tr>\n",
       "      <th>3</th>\n",
       "      <td>David</td>\n",
       "      <td>NaN</td>\n",
       "      <td>70000</td>\n",
       "      <td>IT</td>\n",
       "      <td>Male</td>\n",
       "      <td>2018-11-05</td>\n",
       "      <td>4.0</td>\n",
       "      <td>1.8</td>\n",
       "    </tr>\n",
       "    <tr>\n",
       "      <th>4</th>\n",
       "      <td>Emma</td>\n",
       "      <td>35.0</td>\n",
       "      <td>80000</td>\n",
       "      <td>Marketing</td>\n",
       "      <td>Female</td>\n",
       "      <td>2022-02-28</td>\n",
       "      <td>4.7</td>\n",
       "      <td>1.9</td>\n",
       "    </tr>\n",
       "  </tbody>\n",
       "</table>\n",
       "</div>"
      ],
      "text/plain": [
       "     Name   Age  Salary Department  Gender   Hire_Date Performance_Rating   ID\n",
       "0   Alice  25.0   50000         HR  Female  2020-03-15                4.5  1.5\n",
       "1     Bob  30.0   60000       None    Male  2019-05-20                3.8  1.6\n",
       "2  Claire  22.0  45000€    Finance  Female  2021-01-10               None  1.7\n",
       "3   David   NaN   70000         IT    Male  2018-11-05                4.0  1.8\n",
       "4    Emma  35.0   80000  Marketing  Female  2022-02-28                4.7  1.9"
      ]
     },
     "execution_count": 107,
     "metadata": {},
     "output_type": "execute_result"
    }
   ],
   "source": [
    "df.drop_duplicates(subset=\"ID\")"
   ]
  },
  {
   "cell_type": "markdown",
   "metadata": {
    "id": "O8qZN6iMy05k"
   },
   "source": [
    "## 3. Data types conversions"
   ]
  },
  {
   "cell_type": "markdown",
   "metadata": {
    "id": "gqdw01QZHj36"
   },
   "source": [
    "To perform certain operations, data must have the right type. There is no way to find the median of a collection of strings, only of floats or integers.    \n",
    "In Pandas, the data type of a Series or value is known as its \"dtype\"."
   ]
  },
  {
   "cell_type": "markdown",
   "metadata": {
    "id": "ygxX4K-2zNaL"
   },
   "source": [
    "### .astype()\n",
    "By entering the desired dtype as a parameter, this method can change a Series, or even an entire DataFrame. This is also known as \"casting\"."
   ]
  },
  {
   "cell_type": "code",
   "execution_count": 108,
   "metadata": {
    "colab": {
     "base_uri": "https://localhost:8080/"
    },
    "executionInfo": {
     "elapsed": 478,
     "status": "ok",
     "timestamp": 1713797642418,
     "user": {
      "displayName": "Christopher Galloway",
      "userId": "16329134674817848650"
     },
     "user_tz": -120
    },
    "id": "R50UiJAlYIZk",
    "outputId": "09fdc909-15f6-4eb2-9ddd-854dc8d495da"
   },
   "outputs": [
    {
     "data": {
      "text/plain": [
       "0    4.5\n",
       "1    3.8\n",
       "2    NaN\n",
       "3    4.0\n",
       "4    4.7\n",
       "5    4.7\n",
       "Name: Performance_Rating, dtype: float64"
      ]
     },
     "execution_count": 108,
     "metadata": {},
     "output_type": "execute_result"
    }
   ],
   "source": [
    "df['Performance_Rating'].astype('float')"
   ]
  },
  {
   "cell_type": "markdown",
   "metadata": {
    "id": "lCo5qcyF0xKU"
   },
   "source": [
    "### pd.to_numeric()\n",
    "A bit more robust than `.astype()`, `pd.to_numeric()` is able to handle non-convertable values by returning nulls."
   ]
  },
  {
   "cell_type": "markdown",
   "metadata": {
    "id": "_MXOQg6pfedk"
   },
   "source": [
    "> **Note:** Unlike the other techniques seen so far in this notebook, this one is not a method attached to `DataFrame` or `Series`. Instead, it is a function contained in the Pandas library. This is why it is called with `pd` in front, rather than `df` or `df['column']`."
   ]
  },
  {
   "cell_type": "code",
   "execution_count": 109,
   "metadata": {
    "colab": {
     "base_uri": "https://localhost:8080/"
    },
    "executionInfo": {
     "elapsed": 14,
     "status": "ok",
     "timestamp": 1713797642418,
     "user": {
      "displayName": "Christopher Galloway",
      "userId": "16329134674817848650"
     },
     "user_tz": -120
    },
    "id": "sFnpPmSR0pID",
    "outputId": "06dea28b-7f58-4bee-c185-d154ed67df30"
   },
   "outputs": [
    {
     "data": {
      "text/plain": [
       "0    50000.0\n",
       "1    60000.0\n",
       "2        NaN\n",
       "3    70000.0\n",
       "4    80000.0\n",
       "5    80000.0\n",
       "Name: Salary, dtype: float64"
      ]
     },
     "execution_count": 109,
     "metadata": {},
     "output_type": "execute_result"
    }
   ],
   "source": [
    "pd.to_numeric(df['Salary'], errors='coerce')"
   ]
  },
  {
   "cell_type": "markdown",
   "metadata": {
    "id": "fx4Eb5wfLplQ"
   },
   "source": [
    "## 4. Combining"
   ]
  },
  {
   "cell_type": "markdown",
   "metadata": {
    "id": "6LQHVnlgfYWj"
   },
   "source": [
    "You may wish sometimes to turn two DataFrames into one. This can be especially helpful when extracting data from multipe sources but analysing it all together."
   ]
  },
  {
   "cell_type": "markdown",
   "metadata": {
    "id": "O4j8L7XtLwfA"
   },
   "source": [
    "### pd.concat()\n",
    "Another *function* in the Pandas library, `pd.concat()` combines DataFrames one-atop-the-other or side-by-side. Alignments are made on the labels of the specified axis."
   ]
  },
  {
   "cell_type": "code",
   "execution_count": 110,
   "metadata": {
    "colab": {
     "base_uri": "https://localhost:8080/",
     "height": 237
    },
    "executionInfo": {
     "elapsed": 12,
     "status": "ok",
     "timestamp": 1713797642418,
     "user": {
      "displayName": "Christopher Galloway",
      "userId": "16329134674817848650"
     },
     "user_tz": -120
    },
    "id": "ReMB3dfSMZfR",
    "outputId": "b41f5f65-2ff1-4645-812b-6ebfeb7fbe37"
   },
   "outputs": [
    {
     "data": {
      "text/html": [
       "<div>\n",
       "<style scoped>\n",
       "    .dataframe tbody tr th:only-of-type {\n",
       "        vertical-align: middle;\n",
       "    }\n",
       "\n",
       "    .dataframe tbody tr th {\n",
       "        vertical-align: top;\n",
       "    }\n",
       "\n",
       "    .dataframe thead th {\n",
       "        text-align: right;\n",
       "    }\n",
       "</style>\n",
       "<table border=\"1\" class=\"dataframe\">\n",
       "  <thead>\n",
       "    <tr style=\"text-align: right;\">\n",
       "      <th></th>\n",
       "      <th>Name</th>\n",
       "      <th>Skills</th>\n",
       "    </tr>\n",
       "  </thead>\n",
       "  <tbody>\n",
       "    <tr>\n",
       "      <th>0</th>\n",
       "      <td>Alice</td>\n",
       "      <td>Python</td>\n",
       "    </tr>\n",
       "    <tr>\n",
       "      <th>1</th>\n",
       "      <td>Bob</td>\n",
       "      <td>Java</td>\n",
       "    </tr>\n",
       "    <tr>\n",
       "      <th>2</th>\n",
       "      <td>Claire</td>\n",
       "      <td>SQL</td>\n",
       "    </tr>\n",
       "    <tr>\n",
       "      <th>3</th>\n",
       "      <td>David</td>\n",
       "      <td>Python, C++</td>\n",
       "    </tr>\n",
       "    <tr>\n",
       "      <th>4</th>\n",
       "      <td>Emma</td>\n",
       "      <td>R, Excel</td>\n",
       "    </tr>\n",
       "    <tr>\n",
       "      <th>5</th>\n",
       "      <td>Emma</td>\n",
       "      <td>R, Excel</td>\n",
       "    </tr>\n",
       "  </tbody>\n",
       "</table>\n",
       "</div>"
      ],
      "text/plain": [
       "     Name       Skills\n",
       "0   Alice       Python\n",
       "1     Bob         Java\n",
       "2  Claire          SQL\n",
       "3   David  Python, C++\n",
       "4    Emma     R, Excel\n",
       "5    Emma     R, Excel"
      ]
     },
     "execution_count": 110,
     "metadata": {},
     "output_type": "execute_result"
    }
   ],
   "source": [
    "skills_data = {\n",
    "     'Name': ['Alice', 'Bob', 'Claire', 'David', 'Emma', 'Emma'],\n",
    "    'Skills': ['Python', 'Java', 'SQL', 'Python, C++', 'R, Excel', 'R, Excel']\n",
    "}\n",
    "skills_df = pd.DataFrame(skills_data)\n",
    "skills_df"
   ]
  },
  {
   "cell_type": "code",
   "execution_count": 111,
   "metadata": {
    "colab": {
     "base_uri": "https://localhost:8080/",
     "height": 237
    },
    "executionInfo": {
     "elapsed": 12,
     "status": "ok",
     "timestamp": 1713797642418,
     "user": {
      "displayName": "Christopher Galloway",
      "userId": "16329134674817848650"
     },
     "user_tz": -120
    },
    "id": "4oXmm7aMMjkE",
    "outputId": "a030dbd0-bbeb-4f86-e08c-2631cc2926fe"
   },
   "outputs": [
    {
     "data": {
      "text/html": [
       "<div>\n",
       "<style scoped>\n",
       "    .dataframe tbody tr th:only-of-type {\n",
       "        vertical-align: middle;\n",
       "    }\n",
       "\n",
       "    .dataframe tbody tr th {\n",
       "        vertical-align: top;\n",
       "    }\n",
       "\n",
       "    .dataframe thead th {\n",
       "        text-align: right;\n",
       "    }\n",
       "</style>\n",
       "<table border=\"1\" class=\"dataframe\">\n",
       "  <thead>\n",
       "    <tr style=\"text-align: right;\">\n",
       "      <th></th>\n",
       "      <th>Name</th>\n",
       "      <th>Age</th>\n",
       "      <th>Salary</th>\n",
       "      <th>Department</th>\n",
       "      <th>Gender</th>\n",
       "      <th>Hire_Date</th>\n",
       "      <th>Performance_Rating</th>\n",
       "      <th>ID</th>\n",
       "      <th>Skills</th>\n",
       "    </tr>\n",
       "  </thead>\n",
       "  <tbody>\n",
       "    <tr>\n",
       "      <th>0</th>\n",
       "      <td>Alice</td>\n",
       "      <td>25.0</td>\n",
       "      <td>50000</td>\n",
       "      <td>HR</td>\n",
       "      <td>Female</td>\n",
       "      <td>2020-03-15</td>\n",
       "      <td>4.5</td>\n",
       "      <td>1.5</td>\n",
       "      <td>Python</td>\n",
       "    </tr>\n",
       "    <tr>\n",
       "      <th>1</th>\n",
       "      <td>Bob</td>\n",
       "      <td>30.0</td>\n",
       "      <td>60000</td>\n",
       "      <td>None</td>\n",
       "      <td>Male</td>\n",
       "      <td>2019-05-20</td>\n",
       "      <td>3.8</td>\n",
       "      <td>1.6</td>\n",
       "      <td>Java</td>\n",
       "    </tr>\n",
       "    <tr>\n",
       "      <th>2</th>\n",
       "      <td>Claire</td>\n",
       "      <td>22.0</td>\n",
       "      <td>45000€</td>\n",
       "      <td>Finance</td>\n",
       "      <td>Female</td>\n",
       "      <td>2021-01-10</td>\n",
       "      <td>None</td>\n",
       "      <td>1.7</td>\n",
       "      <td>SQL</td>\n",
       "    </tr>\n",
       "    <tr>\n",
       "      <th>3</th>\n",
       "      <td>David</td>\n",
       "      <td>NaN</td>\n",
       "      <td>70000</td>\n",
       "      <td>IT</td>\n",
       "      <td>Male</td>\n",
       "      <td>2018-11-05</td>\n",
       "      <td>4.0</td>\n",
       "      <td>1.8</td>\n",
       "      <td>Python, C++</td>\n",
       "    </tr>\n",
       "    <tr>\n",
       "      <th>4</th>\n",
       "      <td>Emma</td>\n",
       "      <td>35.0</td>\n",
       "      <td>80000</td>\n",
       "      <td>Marketing</td>\n",
       "      <td>Female</td>\n",
       "      <td>2022-02-28</td>\n",
       "      <td>4.7</td>\n",
       "      <td>1.9</td>\n",
       "      <td>R, Excel</td>\n",
       "    </tr>\n",
       "    <tr>\n",
       "      <th>5</th>\n",
       "      <td>Emma</td>\n",
       "      <td>35.0</td>\n",
       "      <td>80000</td>\n",
       "      <td>Marketing</td>\n",
       "      <td>Female</td>\n",
       "      <td>2022-02-28</td>\n",
       "      <td>4.7</td>\n",
       "      <td>1.9</td>\n",
       "      <td>R, Excel</td>\n",
       "    </tr>\n",
       "  </tbody>\n",
       "</table>\n",
       "</div>"
      ],
      "text/plain": [
       "     Name   Age  Salary Department  Gender   Hire_Date Performance_Rating  \\\n",
       "0   Alice  25.0   50000         HR  Female  2020-03-15                4.5   \n",
       "1     Bob  30.0   60000       None    Male  2019-05-20                3.8   \n",
       "2  Claire  22.0  45000€    Finance  Female  2021-01-10               None   \n",
       "3   David   NaN   70000         IT    Male  2018-11-05                4.0   \n",
       "4    Emma  35.0   80000  Marketing  Female  2022-02-28                4.7   \n",
       "5    Emma  35.0   80000  Marketing  Female  2022-02-28                4.7   \n",
       "\n",
       "    ID       Skills  \n",
       "0  1.5       Python  \n",
       "1  1.6         Java  \n",
       "2  1.7          SQL  \n",
       "3  1.8  Python, C++  \n",
       "4  1.9     R, Excel  \n",
       "5  1.9     R, Excel  "
      ]
     },
     "execution_count": 111,
     "metadata": {},
     "output_type": "execute_result"
    }
   ],
   "source": [
    "pd.concat([df,skills_df['Skills']], axis=1)"
   ]
  },
  {
   "cell_type": "markdown",
   "metadata": {
    "id": "bQ3EfNbSkLn6"
   },
   "source": [
    "A few things to notice above:\n",
    "- The DataFrames are passed to `pd.concat()` *as a list*\n",
    "- Only one column of `skills_df` appears, because only that column was called with the indexing operator\n",
    "- `axis=1` controls the *direction* of concatenation; remember `1` in terms of Pandas axes means column-wise"
   ]
  },
  {
   "cell_type": "code",
   "execution_count": 112,
   "metadata": {
    "colab": {
     "base_uri": "https://localhost:8080/",
     "height": 112
    },
    "executionInfo": {
     "elapsed": 11,
     "status": "ok",
     "timestamp": 1713797642418,
     "user": {
      "displayName": "Christopher Galloway",
      "userId": "16329134674817848650"
     },
     "user_tz": -120
    },
    "id": "C7QlvDt-NQTc",
    "outputId": "afb6a7ed-9a92-4e72-d7ef-0931d5939068"
   },
   "outputs": [
    {
     "data": {
      "text/html": [
       "<div>\n",
       "<style scoped>\n",
       "    .dataframe tbody tr th:only-of-type {\n",
       "        vertical-align: middle;\n",
       "    }\n",
       "\n",
       "    .dataframe tbody tr th {\n",
       "        vertical-align: top;\n",
       "    }\n",
       "\n",
       "    .dataframe thead th {\n",
       "        text-align: right;\n",
       "    }\n",
       "</style>\n",
       "<table border=\"1\" class=\"dataframe\">\n",
       "  <thead>\n",
       "    <tr style=\"text-align: right;\">\n",
       "      <th></th>\n",
       "      <th>Name</th>\n",
       "      <th>Age</th>\n",
       "      <th>Salary</th>\n",
       "      <th>Department</th>\n",
       "      <th>Gender</th>\n",
       "      <th>Hire_Date</th>\n",
       "      <th>Performance_Rating</th>\n",
       "      <th>ID</th>\n",
       "    </tr>\n",
       "  </thead>\n",
       "  <tbody>\n",
       "    <tr>\n",
       "      <th>0</th>\n",
       "      <td>Grace</td>\n",
       "      <td>29</td>\n",
       "      <td>60000</td>\n",
       "      <td>Marketing</td>\n",
       "      <td>Female</td>\n",
       "      <td>2023-08-10</td>\n",
       "      <td>4.5</td>\n",
       "      <td>2.0</td>\n",
       "    </tr>\n",
       "    <tr>\n",
       "      <th>1</th>\n",
       "      <td>Henry</td>\n",
       "      <td>31</td>\n",
       "      <td>68000</td>\n",
       "      <td>IT</td>\n",
       "      <td>Male</td>\n",
       "      <td>2023-08-15</td>\n",
       "      <td>4.2</td>\n",
       "      <td>2.1</td>\n",
       "    </tr>\n",
       "  </tbody>\n",
       "</table>\n",
       "</div>"
      ],
      "text/plain": [
       "    Name  Age  Salary Department  Gender   Hire_Date  Performance_Rating   ID\n",
       "0  Grace   29   60000  Marketing  Female  2023-08-10                 4.5  2.0\n",
       "1  Henry   31   68000         IT    Male  2023-08-15                 4.2  2.1"
      ]
     },
     "execution_count": 112,
     "metadata": {},
     "output_type": "execute_result"
    }
   ],
   "source": [
    "new_people_data = {\n",
    "    'Name': ['Grace', 'Henry'],\n",
    "    'Age': [29, 31],\n",
    "    'Salary': [60000, 68000],\n",
    "    'Department': ['Marketing', 'IT'],\n",
    "    'Gender': ['Female', 'Male'],\n",
    "    'Hire_Date': ['2023-08-10', '2023-08-15'],\n",
    "    'Performance_Rating': [4.5, 4.2],\n",
    "    'ID':['2.0','2.1']\n",
    "}\n",
    "new_people_df = pd.DataFrame(new_people_data)\n",
    "new_people_df"
   ]
  },
  {
   "cell_type": "code",
   "execution_count": 113,
   "metadata": {
    "colab": {
     "base_uri": "https://localhost:8080/",
     "height": 300
    },
    "executionInfo": {
     "elapsed": 11,
     "status": "ok",
     "timestamp": 1713797642418,
     "user": {
      "displayName": "Christopher Galloway",
      "userId": "16329134674817848650"
     },
     "user_tz": -120
    },
    "id": "igLV0zWyOJzK",
    "outputId": "47aa588e-028b-428c-925a-8bf91f5086a6"
   },
   "outputs": [
    {
     "data": {
      "text/html": [
       "<div>\n",
       "<style scoped>\n",
       "    .dataframe tbody tr th:only-of-type {\n",
       "        vertical-align: middle;\n",
       "    }\n",
       "\n",
       "    .dataframe tbody tr th {\n",
       "        vertical-align: top;\n",
       "    }\n",
       "\n",
       "    .dataframe thead th {\n",
       "        text-align: right;\n",
       "    }\n",
       "</style>\n",
       "<table border=\"1\" class=\"dataframe\">\n",
       "  <thead>\n",
       "    <tr style=\"text-align: right;\">\n",
       "      <th></th>\n",
       "      <th>Name</th>\n",
       "      <th>Age</th>\n",
       "      <th>Salary</th>\n",
       "      <th>Department</th>\n",
       "      <th>Gender</th>\n",
       "      <th>Hire_Date</th>\n",
       "      <th>Performance_Rating</th>\n",
       "      <th>ID</th>\n",
       "    </tr>\n",
       "  </thead>\n",
       "  <tbody>\n",
       "    <tr>\n",
       "      <th>0</th>\n",
       "      <td>Alice</td>\n",
       "      <td>25.0</td>\n",
       "      <td>50000</td>\n",
       "      <td>HR</td>\n",
       "      <td>Female</td>\n",
       "      <td>2020-03-15</td>\n",
       "      <td>4.5</td>\n",
       "      <td>1.5</td>\n",
       "    </tr>\n",
       "    <tr>\n",
       "      <th>1</th>\n",
       "      <td>Bob</td>\n",
       "      <td>30.0</td>\n",
       "      <td>60000</td>\n",
       "      <td>None</td>\n",
       "      <td>Male</td>\n",
       "      <td>2019-05-20</td>\n",
       "      <td>3.8</td>\n",
       "      <td>1.6</td>\n",
       "    </tr>\n",
       "    <tr>\n",
       "      <th>2</th>\n",
       "      <td>Claire</td>\n",
       "      <td>22.0</td>\n",
       "      <td>45000€</td>\n",
       "      <td>Finance</td>\n",
       "      <td>Female</td>\n",
       "      <td>2021-01-10</td>\n",
       "      <td>None</td>\n",
       "      <td>1.7</td>\n",
       "    </tr>\n",
       "    <tr>\n",
       "      <th>3</th>\n",
       "      <td>David</td>\n",
       "      <td>NaN</td>\n",
       "      <td>70000</td>\n",
       "      <td>IT</td>\n",
       "      <td>Male</td>\n",
       "      <td>2018-11-05</td>\n",
       "      <td>4.0</td>\n",
       "      <td>1.8</td>\n",
       "    </tr>\n",
       "    <tr>\n",
       "      <th>4</th>\n",
       "      <td>Emma</td>\n",
       "      <td>35.0</td>\n",
       "      <td>80000</td>\n",
       "      <td>Marketing</td>\n",
       "      <td>Female</td>\n",
       "      <td>2022-02-28</td>\n",
       "      <td>4.7</td>\n",
       "      <td>1.9</td>\n",
       "    </tr>\n",
       "    <tr>\n",
       "      <th>5</th>\n",
       "      <td>Emma</td>\n",
       "      <td>35.0</td>\n",
       "      <td>80000</td>\n",
       "      <td>Marketing</td>\n",
       "      <td>Female</td>\n",
       "      <td>2022-02-28</td>\n",
       "      <td>4.7</td>\n",
       "      <td>1.9</td>\n",
       "    </tr>\n",
       "    <tr>\n",
       "      <th>6</th>\n",
       "      <td>Grace</td>\n",
       "      <td>29.0</td>\n",
       "      <td>60000</td>\n",
       "      <td>Marketing</td>\n",
       "      <td>Female</td>\n",
       "      <td>2023-08-10</td>\n",
       "      <td>4.5</td>\n",
       "      <td>2.0</td>\n",
       "    </tr>\n",
       "    <tr>\n",
       "      <th>7</th>\n",
       "      <td>Henry</td>\n",
       "      <td>31.0</td>\n",
       "      <td>68000</td>\n",
       "      <td>IT</td>\n",
       "      <td>Male</td>\n",
       "      <td>2023-08-15</td>\n",
       "      <td>4.2</td>\n",
       "      <td>2.1</td>\n",
       "    </tr>\n",
       "  </tbody>\n",
       "</table>\n",
       "</div>"
      ],
      "text/plain": [
       "     Name   Age  Salary Department  Gender   Hire_Date Performance_Rating   ID\n",
       "0   Alice  25.0   50000         HR  Female  2020-03-15                4.5  1.5\n",
       "1     Bob  30.0   60000       None    Male  2019-05-20                3.8  1.6\n",
       "2  Claire  22.0  45000€    Finance  Female  2021-01-10               None  1.7\n",
       "3   David   NaN   70000         IT    Male  2018-11-05                4.0  1.8\n",
       "4    Emma  35.0   80000  Marketing  Female  2022-02-28                4.7  1.9\n",
       "5    Emma  35.0   80000  Marketing  Female  2022-02-28                4.7  1.9\n",
       "6   Grace  29.0   60000  Marketing  Female  2023-08-10                4.5  2.0\n",
       "7   Henry  31.0   68000         IT    Male  2023-08-15                4.2  2.1"
      ]
     },
     "execution_count": 113,
     "metadata": {},
     "output_type": "execute_result"
    }
   ],
   "source": [
    "pd.concat([df, new_people_df], axis=0, ignore_index=True)"
   ]
  },
  {
   "cell_type": "markdown",
   "metadata": {
    "id": "fNc77wIZlJ-9"
   },
   "source": [
    "This time, by using `axis=0`, new *rows* are added to `df`.    \n",
    "`ignore_index=True` stops the indexes in `new_people_df` from carrying over. Otherwise, the resulting index would have been      \n",
    "`[0, 1, 2, 3, 4, 5, 0, 1]`"
   ]
  },
  {
   "cell_type": "markdown",
   "metadata": {
    "id": "SGmt2MotV96J"
   },
   "source": [
    "## Sorting"
   ]
  },
  {
   "cell_type": "markdown",
   "metadata": {
    "id": "vs4AEI1NEDNh"
   },
   "source": [
    "### .sort_values()\n",
    "As you might guess, `.sort_values()` will sort the given column(s) numerically or alphabetically. By default, results will be sorted in ascending order and null values will be sorted last."
   ]
  },
  {
   "cell_type": "code",
   "execution_count": 114,
   "metadata": {
    "colab": {
     "base_uri": "https://localhost:8080/",
     "height": 237
    },
    "executionInfo": {
     "elapsed": 439,
     "status": "ok",
     "timestamp": 1713797642847,
     "user": {
      "displayName": "Christopher Galloway",
      "userId": "16329134674817848650"
     },
     "user_tz": -120
    },
    "id": "12c1QReUEBti",
    "outputId": "3674cc9d-c386-4663-9666-d7d4ea385b1a"
   },
   "outputs": [
    {
     "data": {
      "text/html": [
       "<div>\n",
       "<style scoped>\n",
       "    .dataframe tbody tr th:only-of-type {\n",
       "        vertical-align: middle;\n",
       "    }\n",
       "\n",
       "    .dataframe tbody tr th {\n",
       "        vertical-align: top;\n",
       "    }\n",
       "\n",
       "    .dataframe thead th {\n",
       "        text-align: right;\n",
       "    }\n",
       "</style>\n",
       "<table border=\"1\" class=\"dataframe\">\n",
       "  <thead>\n",
       "    <tr style=\"text-align: right;\">\n",
       "      <th></th>\n",
       "      <th>Name</th>\n",
       "      <th>Age</th>\n",
       "      <th>Salary</th>\n",
       "      <th>Department</th>\n",
       "      <th>Gender</th>\n",
       "      <th>Hire_Date</th>\n",
       "      <th>Performance_Rating</th>\n",
       "      <th>ID</th>\n",
       "    </tr>\n",
       "  </thead>\n",
       "  <tbody>\n",
       "    <tr>\n",
       "      <th>2</th>\n",
       "      <td>Claire</td>\n",
       "      <td>22.0</td>\n",
       "      <td>45000€</td>\n",
       "      <td>Finance</td>\n",
       "      <td>Female</td>\n",
       "      <td>2021-01-10</td>\n",
       "      <td>None</td>\n",
       "      <td>1.7</td>\n",
       "    </tr>\n",
       "    <tr>\n",
       "      <th>0</th>\n",
       "      <td>Alice</td>\n",
       "      <td>25.0</td>\n",
       "      <td>50000</td>\n",
       "      <td>HR</td>\n",
       "      <td>Female</td>\n",
       "      <td>2020-03-15</td>\n",
       "      <td>4.5</td>\n",
       "      <td>1.5</td>\n",
       "    </tr>\n",
       "    <tr>\n",
       "      <th>1</th>\n",
       "      <td>Bob</td>\n",
       "      <td>30.0</td>\n",
       "      <td>60000</td>\n",
       "      <td>None</td>\n",
       "      <td>Male</td>\n",
       "      <td>2019-05-20</td>\n",
       "      <td>3.8</td>\n",
       "      <td>1.6</td>\n",
       "    </tr>\n",
       "    <tr>\n",
       "      <th>4</th>\n",
       "      <td>Emma</td>\n",
       "      <td>35.0</td>\n",
       "      <td>80000</td>\n",
       "      <td>Marketing</td>\n",
       "      <td>Female</td>\n",
       "      <td>2022-02-28</td>\n",
       "      <td>4.7</td>\n",
       "      <td>1.9</td>\n",
       "    </tr>\n",
       "    <tr>\n",
       "      <th>5</th>\n",
       "      <td>Emma</td>\n",
       "      <td>35.0</td>\n",
       "      <td>80000</td>\n",
       "      <td>Marketing</td>\n",
       "      <td>Female</td>\n",
       "      <td>2022-02-28</td>\n",
       "      <td>4.7</td>\n",
       "      <td>1.9</td>\n",
       "    </tr>\n",
       "    <tr>\n",
       "      <th>3</th>\n",
       "      <td>David</td>\n",
       "      <td>NaN</td>\n",
       "      <td>70000</td>\n",
       "      <td>IT</td>\n",
       "      <td>Male</td>\n",
       "      <td>2018-11-05</td>\n",
       "      <td>4.0</td>\n",
       "      <td>1.8</td>\n",
       "    </tr>\n",
       "  </tbody>\n",
       "</table>\n",
       "</div>"
      ],
      "text/plain": [
       "     Name   Age  Salary Department  Gender   Hire_Date Performance_Rating   ID\n",
       "2  Claire  22.0  45000€    Finance  Female  2021-01-10               None  1.7\n",
       "0   Alice  25.0   50000         HR  Female  2020-03-15                4.5  1.5\n",
       "1     Bob  30.0   60000       None    Male  2019-05-20                3.8  1.6\n",
       "4    Emma  35.0   80000  Marketing  Female  2022-02-28                4.7  1.9\n",
       "5    Emma  35.0   80000  Marketing  Female  2022-02-28                4.7  1.9\n",
       "3   David   NaN   70000         IT    Male  2018-11-05                4.0  1.8"
      ]
     },
     "execution_count": 114,
     "metadata": {},
     "output_type": "execute_result"
    }
   ],
   "source": [
    "df.sort_values('Age')"
   ]
  },
  {
   "cell_type": "code",
   "execution_count": 115,
   "metadata": {
    "colab": {
     "base_uri": "https://localhost:8080/",
     "height": 237
    },
    "executionInfo": {
     "elapsed": 25,
     "status": "ok",
     "timestamp": 1713797642847,
     "user": {
      "displayName": "Christopher Galloway",
      "userId": "16329134674817848650"
     },
     "user_tz": -120
    },
    "id": "Uxda8S-zYx41",
    "outputId": "9738967f-11d9-4390-a8c0-36d5c335acba"
   },
   "outputs": [
    {
     "data": {
      "text/html": [
       "<div>\n",
       "<style scoped>\n",
       "    .dataframe tbody tr th:only-of-type {\n",
       "        vertical-align: middle;\n",
       "    }\n",
       "\n",
       "    .dataframe tbody tr th {\n",
       "        vertical-align: top;\n",
       "    }\n",
       "\n",
       "    .dataframe thead th {\n",
       "        text-align: right;\n",
       "    }\n",
       "</style>\n",
       "<table border=\"1\" class=\"dataframe\">\n",
       "  <thead>\n",
       "    <tr style=\"text-align: right;\">\n",
       "      <th></th>\n",
       "      <th>Name</th>\n",
       "      <th>Age</th>\n",
       "      <th>Salary</th>\n",
       "      <th>Department</th>\n",
       "      <th>Gender</th>\n",
       "      <th>Hire_Date</th>\n",
       "      <th>Performance_Rating</th>\n",
       "      <th>ID</th>\n",
       "    </tr>\n",
       "  </thead>\n",
       "  <tbody>\n",
       "    <tr>\n",
       "      <th>4</th>\n",
       "      <td>Emma</td>\n",
       "      <td>35.0</td>\n",
       "      <td>80000</td>\n",
       "      <td>Marketing</td>\n",
       "      <td>Female</td>\n",
       "      <td>2022-02-28</td>\n",
       "      <td>4.7</td>\n",
       "      <td>1.9</td>\n",
       "    </tr>\n",
       "    <tr>\n",
       "      <th>5</th>\n",
       "      <td>Emma</td>\n",
       "      <td>35.0</td>\n",
       "      <td>80000</td>\n",
       "      <td>Marketing</td>\n",
       "      <td>Female</td>\n",
       "      <td>2022-02-28</td>\n",
       "      <td>4.7</td>\n",
       "      <td>1.9</td>\n",
       "    </tr>\n",
       "    <tr>\n",
       "      <th>1</th>\n",
       "      <td>Bob</td>\n",
       "      <td>30.0</td>\n",
       "      <td>60000</td>\n",
       "      <td>None</td>\n",
       "      <td>Male</td>\n",
       "      <td>2019-05-20</td>\n",
       "      <td>3.8</td>\n",
       "      <td>1.6</td>\n",
       "    </tr>\n",
       "    <tr>\n",
       "      <th>0</th>\n",
       "      <td>Alice</td>\n",
       "      <td>25.0</td>\n",
       "      <td>50000</td>\n",
       "      <td>HR</td>\n",
       "      <td>Female</td>\n",
       "      <td>2020-03-15</td>\n",
       "      <td>4.5</td>\n",
       "      <td>1.5</td>\n",
       "    </tr>\n",
       "    <tr>\n",
       "      <th>2</th>\n",
       "      <td>Claire</td>\n",
       "      <td>22.0</td>\n",
       "      <td>45000€</td>\n",
       "      <td>Finance</td>\n",
       "      <td>Female</td>\n",
       "      <td>2021-01-10</td>\n",
       "      <td>None</td>\n",
       "      <td>1.7</td>\n",
       "    </tr>\n",
       "    <tr>\n",
       "      <th>3</th>\n",
       "      <td>David</td>\n",
       "      <td>NaN</td>\n",
       "      <td>70000</td>\n",
       "      <td>IT</td>\n",
       "      <td>Male</td>\n",
       "      <td>2018-11-05</td>\n",
       "      <td>4.0</td>\n",
       "      <td>1.8</td>\n",
       "    </tr>\n",
       "  </tbody>\n",
       "</table>\n",
       "</div>"
      ],
      "text/plain": [
       "     Name   Age  Salary Department  Gender   Hire_Date Performance_Rating   ID\n",
       "4    Emma  35.0   80000  Marketing  Female  2022-02-28                4.7  1.9\n",
       "5    Emma  35.0   80000  Marketing  Female  2022-02-28                4.7  1.9\n",
       "1     Bob  30.0   60000       None    Male  2019-05-20                3.8  1.6\n",
       "0   Alice  25.0   50000         HR  Female  2020-03-15                4.5  1.5\n",
       "2  Claire  22.0  45000€    Finance  Female  2021-01-10               None  1.7\n",
       "3   David   NaN   70000         IT    Male  2018-11-05                4.0  1.8"
      ]
     },
     "execution_count": 115,
     "metadata": {},
     "output_type": "execute_result"
    }
   ],
   "source": [
    "df.sort_values('Age', ascending=False)"
   ]
  },
  {
   "cell_type": "markdown",
   "metadata": {
    "id": "ORGVR2Cfknrp"
   },
   "source": [
    "## Save the change!!"
   ]
  },
  {
   "cell_type": "code",
   "execution_count": 116,
   "metadata": {
    "colab": {
     "base_uri": "https://localhost:8080/",
     "height": 237
    },
    "executionInfo": {
     "elapsed": 24,
     "status": "ok",
     "timestamp": 1713797642848,
     "user": {
      "displayName": "Christopher Galloway",
      "userId": "16329134674817848650"
     },
     "user_tz": -120
    },
    "id": "AcDWA1q3krtV",
    "outputId": "5d474c19-f8a9-4112-b8ec-e41732e5d072"
   },
   "outputs": [
    {
     "data": {
      "text/html": [
       "<div>\n",
       "<style scoped>\n",
       "    .dataframe tbody tr th:only-of-type {\n",
       "        vertical-align: middle;\n",
       "    }\n",
       "\n",
       "    .dataframe tbody tr th {\n",
       "        vertical-align: top;\n",
       "    }\n",
       "\n",
       "    .dataframe thead th {\n",
       "        text-align: right;\n",
       "    }\n",
       "</style>\n",
       "<table border=\"1\" class=\"dataframe\">\n",
       "  <thead>\n",
       "    <tr style=\"text-align: right;\">\n",
       "      <th></th>\n",
       "      <th>Name</th>\n",
       "      <th>Age</th>\n",
       "      <th>Salary</th>\n",
       "      <th>Department</th>\n",
       "      <th>Gender</th>\n",
       "      <th>Hire_Date</th>\n",
       "      <th>Performance_Rating</th>\n",
       "      <th>ID</th>\n",
       "    </tr>\n",
       "  </thead>\n",
       "  <tbody>\n",
       "    <tr>\n",
       "      <th>0</th>\n",
       "      <td>Alice</td>\n",
       "      <td>25.0</td>\n",
       "      <td>50000</td>\n",
       "      <td>HR</td>\n",
       "      <td>Female</td>\n",
       "      <td>2020-03-15</td>\n",
       "      <td>4.5</td>\n",
       "      <td>1.5</td>\n",
       "    </tr>\n",
       "    <tr>\n",
       "      <th>1</th>\n",
       "      <td>Bob</td>\n",
       "      <td>30.0</td>\n",
       "      <td>60000</td>\n",
       "      <td>None</td>\n",
       "      <td>Male</td>\n",
       "      <td>2019-05-20</td>\n",
       "      <td>3.8</td>\n",
       "      <td>1.6</td>\n",
       "    </tr>\n",
       "    <tr>\n",
       "      <th>2</th>\n",
       "      <td>Claire</td>\n",
       "      <td>22.0</td>\n",
       "      <td>45000€</td>\n",
       "      <td>Finance</td>\n",
       "      <td>Female</td>\n",
       "      <td>2021-01-10</td>\n",
       "      <td>None</td>\n",
       "      <td>1.7</td>\n",
       "    </tr>\n",
       "    <tr>\n",
       "      <th>3</th>\n",
       "      <td>David</td>\n",
       "      <td>NaN</td>\n",
       "      <td>70000</td>\n",
       "      <td>IT</td>\n",
       "      <td>Male</td>\n",
       "      <td>2018-11-05</td>\n",
       "      <td>4.0</td>\n",
       "      <td>1.8</td>\n",
       "    </tr>\n",
       "    <tr>\n",
       "      <th>4</th>\n",
       "      <td>Emma</td>\n",
       "      <td>35.0</td>\n",
       "      <td>80000</td>\n",
       "      <td>Marketing</td>\n",
       "      <td>Female</td>\n",
       "      <td>2022-02-28</td>\n",
       "      <td>4.7</td>\n",
       "      <td>1.9</td>\n",
       "    </tr>\n",
       "    <tr>\n",
       "      <th>5</th>\n",
       "      <td>Emma</td>\n",
       "      <td>35.0</td>\n",
       "      <td>80000</td>\n",
       "      <td>Marketing</td>\n",
       "      <td>Female</td>\n",
       "      <td>2022-02-28</td>\n",
       "      <td>4.7</td>\n",
       "      <td>1.9</td>\n",
       "    </tr>\n",
       "  </tbody>\n",
       "</table>\n",
       "</div>"
      ],
      "text/plain": [
       "     Name   Age  Salary Department  Gender   Hire_Date Performance_Rating   ID\n",
       "0   Alice  25.0   50000         HR  Female  2020-03-15                4.5  1.5\n",
       "1     Bob  30.0   60000       None    Male  2019-05-20                3.8  1.6\n",
       "2  Claire  22.0  45000€    Finance  Female  2021-01-10               None  1.7\n",
       "3   David   NaN   70000         IT    Male  2018-11-05                4.0  1.8\n",
       "4    Emma  35.0   80000  Marketing  Female  2022-02-28                4.7  1.9\n",
       "5    Emma  35.0   80000  Marketing  Female  2022-02-28                4.7  1.9"
      ]
     },
     "execution_count": 116,
     "metadata": {},
     "output_type": "execute_result"
    }
   ],
   "source": [
    "df"
   ]
  },
  {
   "cell_type": "markdown",
   "metadata": {
    "id": "jwQ6gTRkjvQU"
   },
   "source": [
    "⚠️ Notice that not a single change has actually been made to the `df` — there are still duplicates and missing values, and neither skills nor new people have been added.  \n",
    "\n",
    "In each case, the outputs of the above techniques need to be *explicitly assigned* in order to remain. In otherwise to \"change\" `df`, you need to overwrite it with one of the *new* outputs you've seen."
   ]
  },
  {
   "cell_type": "code",
   "execution_count": 117,
   "metadata": {
    "colab": {
     "base_uri": "https://localhost:8080/",
     "height": 206
    },
    "executionInfo": {
     "elapsed": 24,
     "status": "ok",
     "timestamp": 1713797642848,
     "user": {
      "displayName": "Christopher Galloway",
      "userId": "16329134674817848650"
     },
     "user_tz": -120
    },
    "id": "Dobg3Gnska_v",
    "outputId": "c77a72ee-6435-4cef-a5b7-89659224642c"
   },
   "outputs": [
    {
     "data": {
      "text/html": [
       "<div>\n",
       "<style scoped>\n",
       "    .dataframe tbody tr th:only-of-type {\n",
       "        vertical-align: middle;\n",
       "    }\n",
       "\n",
       "    .dataframe tbody tr th {\n",
       "        vertical-align: top;\n",
       "    }\n",
       "\n",
       "    .dataframe thead th {\n",
       "        text-align: right;\n",
       "    }\n",
       "</style>\n",
       "<table border=\"1\" class=\"dataframe\">\n",
       "  <thead>\n",
       "    <tr style=\"text-align: right;\">\n",
       "      <th></th>\n",
       "      <th>Name</th>\n",
       "      <th>Age</th>\n",
       "      <th>Salary</th>\n",
       "      <th>Department</th>\n",
       "      <th>Gender</th>\n",
       "      <th>Hire_Date</th>\n",
       "      <th>Performance_Rating</th>\n",
       "      <th>ID</th>\n",
       "    </tr>\n",
       "  </thead>\n",
       "  <tbody>\n",
       "    <tr>\n",
       "      <th>0</th>\n",
       "      <td>Alice</td>\n",
       "      <td>25.0</td>\n",
       "      <td>50000</td>\n",
       "      <td>HR</td>\n",
       "      <td>Female</td>\n",
       "      <td>2020-03-15</td>\n",
       "      <td>4.5</td>\n",
       "      <td>1.5</td>\n",
       "    </tr>\n",
       "    <tr>\n",
       "      <th>1</th>\n",
       "      <td>Bob</td>\n",
       "      <td>30.0</td>\n",
       "      <td>60000</td>\n",
       "      <td>None</td>\n",
       "      <td>Male</td>\n",
       "      <td>2019-05-20</td>\n",
       "      <td>3.8</td>\n",
       "      <td>1.6</td>\n",
       "    </tr>\n",
       "    <tr>\n",
       "      <th>2</th>\n",
       "      <td>Claire</td>\n",
       "      <td>22.0</td>\n",
       "      <td>45000€</td>\n",
       "      <td>Finance</td>\n",
       "      <td>Female</td>\n",
       "      <td>2021-01-10</td>\n",
       "      <td>NaN</td>\n",
       "      <td>1.7</td>\n",
       "    </tr>\n",
       "    <tr>\n",
       "      <th>3</th>\n",
       "      <td>David</td>\n",
       "      <td>NaN</td>\n",
       "      <td>70000</td>\n",
       "      <td>IT</td>\n",
       "      <td>Male</td>\n",
       "      <td>2018-11-05</td>\n",
       "      <td>4.0</td>\n",
       "      <td>1.8</td>\n",
       "    </tr>\n",
       "    <tr>\n",
       "      <th>4</th>\n",
       "      <td>Emma</td>\n",
       "      <td>35.0</td>\n",
       "      <td>80000</td>\n",
       "      <td>Marketing</td>\n",
       "      <td>Female</td>\n",
       "      <td>2022-02-28</td>\n",
       "      <td>4.7</td>\n",
       "      <td>1.9</td>\n",
       "    </tr>\n",
       "  </tbody>\n",
       "</table>\n",
       "</div>"
      ],
      "text/plain": [
       "     Name   Age  Salary Department  Gender   Hire_Date  Performance_Rating  \\\n",
       "0   Alice  25.0   50000         HR  Female  2020-03-15                 4.5   \n",
       "1     Bob  30.0   60000       None    Male  2019-05-20                 3.8   \n",
       "2  Claire  22.0  45000€    Finance  Female  2021-01-10                 NaN   \n",
       "3   David   NaN   70000         IT    Male  2018-11-05                 4.0   \n",
       "4    Emma  35.0   80000  Marketing  Female  2022-02-28                 4.7   \n",
       "\n",
       "    ID  \n",
       "0  1.5  \n",
       "1  1.6  \n",
       "2  1.7  \n",
       "3  1.8  \n",
       "4  1.9  "
      ]
     },
     "execution_count": 117,
     "metadata": {},
     "output_type": "execute_result"
    }
   ],
   "source": [
    "df = df.drop_duplicates().copy()\n",
    "df['Performance_Rating'] = df['Performance_Rating'].astype(float)\n",
    "df"
   ]
  },
  {
   "cell_type": "markdown",
   "metadata": {
    "id": "8ivZUndRq7Em"
   },
   "source": [
    "> **Note:** In general, if you enter some code and a DataFrame appears on your screen, this is a *new object* and would need to be assigned under the same name to \"alter the original\".\n",
    ">\n",
    "> Sometimes, however, what appears on the screen is not new (a 'copy'), but only a view of an object (a 'slice'). In those cases, it is important to save a *copy of the slice* via `.copy()`, as above."
   ]
  },
  {
   "cell_type": "markdown",
   "metadata": {
    "id": "CLtyk_7uBD8g"
   },
   "source": [
    "## 5. Dropping and creating columns"
   ]
  },
  {
   "cell_type": "markdown",
   "metadata": {
    "id": "JosLn7B6KWIA"
   },
   "source": [
    "There are times when a DataFrame contains data which is not needed. At other times, it needs additional information."
   ]
  },
  {
   "cell_type": "markdown",
   "metadata": {
    "id": "HzDWkEX9BMfw"
   },
   "source": [
    "### .drop()\n",
    "Used to eliminate rows or columns according to their label(s). Again, `axis`makes an appearance to specify in which direction to operate."
   ]
  },
  {
   "cell_type": "code",
   "execution_count": 118,
   "metadata": {
    "colab": {
     "base_uri": "https://localhost:8080/",
     "height": 206
    },
    "executionInfo": {
     "elapsed": 23,
     "status": "ok",
     "timestamp": 1713797642848,
     "user": {
      "displayName": "Christopher Galloway",
      "userId": "16329134674817848650"
     },
     "user_tz": -120
    },
    "id": "fbsoALGiBKL5",
    "outputId": "8d6715d3-4974-4d21-ddf3-822322813d16"
   },
   "outputs": [
    {
     "data": {
      "text/html": [
       "<div>\n",
       "<style scoped>\n",
       "    .dataframe tbody tr th:only-of-type {\n",
       "        vertical-align: middle;\n",
       "    }\n",
       "\n",
       "    .dataframe tbody tr th {\n",
       "        vertical-align: top;\n",
       "    }\n",
       "\n",
       "    .dataframe thead th {\n",
       "        text-align: right;\n",
       "    }\n",
       "</style>\n",
       "<table border=\"1\" class=\"dataframe\">\n",
       "  <thead>\n",
       "    <tr style=\"text-align: right;\">\n",
       "      <th></th>\n",
       "      <th>Name</th>\n",
       "      <th>Age</th>\n",
       "      <th>Salary</th>\n",
       "      <th>Department</th>\n",
       "      <th>Gender</th>\n",
       "      <th>Hire_Date</th>\n",
       "      <th>Performance_Rating</th>\n",
       "    </tr>\n",
       "  </thead>\n",
       "  <tbody>\n",
       "    <tr>\n",
       "      <th>0</th>\n",
       "      <td>Alice</td>\n",
       "      <td>25.0</td>\n",
       "      <td>50000</td>\n",
       "      <td>HR</td>\n",
       "      <td>Female</td>\n",
       "      <td>2020-03-15</td>\n",
       "      <td>4.5</td>\n",
       "    </tr>\n",
       "    <tr>\n",
       "      <th>1</th>\n",
       "      <td>Bob</td>\n",
       "      <td>30.0</td>\n",
       "      <td>60000</td>\n",
       "      <td>None</td>\n",
       "      <td>Male</td>\n",
       "      <td>2019-05-20</td>\n",
       "      <td>3.8</td>\n",
       "    </tr>\n",
       "    <tr>\n",
       "      <th>2</th>\n",
       "      <td>Claire</td>\n",
       "      <td>22.0</td>\n",
       "      <td>45000€</td>\n",
       "      <td>Finance</td>\n",
       "      <td>Female</td>\n",
       "      <td>2021-01-10</td>\n",
       "      <td>NaN</td>\n",
       "    </tr>\n",
       "    <tr>\n",
       "      <th>3</th>\n",
       "      <td>David</td>\n",
       "      <td>NaN</td>\n",
       "      <td>70000</td>\n",
       "      <td>IT</td>\n",
       "      <td>Male</td>\n",
       "      <td>2018-11-05</td>\n",
       "      <td>4.0</td>\n",
       "    </tr>\n",
       "    <tr>\n",
       "      <th>4</th>\n",
       "      <td>Emma</td>\n",
       "      <td>35.0</td>\n",
       "      <td>80000</td>\n",
       "      <td>Marketing</td>\n",
       "      <td>Female</td>\n",
       "      <td>2022-02-28</td>\n",
       "      <td>4.7</td>\n",
       "    </tr>\n",
       "  </tbody>\n",
       "</table>\n",
       "</div>"
      ],
      "text/plain": [
       "     Name   Age  Salary Department  Gender   Hire_Date  Performance_Rating\n",
       "0   Alice  25.0   50000         HR  Female  2020-03-15                 4.5\n",
       "1     Bob  30.0   60000       None    Male  2019-05-20                 3.8\n",
       "2  Claire  22.0  45000€    Finance  Female  2021-01-10                 NaN\n",
       "3   David   NaN   70000         IT    Male  2018-11-05                 4.0\n",
       "4    Emma  35.0   80000  Marketing  Female  2022-02-28                 4.7"
      ]
     },
     "execution_count": 118,
     "metadata": {},
     "output_type": "execute_result"
    }
   ],
   "source": [
    "df.drop('ID',axis=1)"
   ]
  },
  {
   "cell_type": "code",
   "execution_count": 119,
   "metadata": {
    "colab": {
     "base_uri": "https://localhost:8080/",
     "height": 175
    },
    "executionInfo": {
     "elapsed": 23,
     "status": "ok",
     "timestamp": 1713797642848,
     "user": {
      "displayName": "Christopher Galloway",
      "userId": "16329134674817848650"
     },
     "user_tz": -120
    },
    "id": "JTGgKRlHP7GS",
    "outputId": "b3b1239e-51a1-4ba7-e34b-31d46366f842"
   },
   "outputs": [
    {
     "data": {
      "text/html": [
       "<div>\n",
       "<style scoped>\n",
       "    .dataframe tbody tr th:only-of-type {\n",
       "        vertical-align: middle;\n",
       "    }\n",
       "\n",
       "    .dataframe tbody tr th {\n",
       "        vertical-align: top;\n",
       "    }\n",
       "\n",
       "    .dataframe thead th {\n",
       "        text-align: right;\n",
       "    }\n",
       "</style>\n",
       "<table border=\"1\" class=\"dataframe\">\n",
       "  <thead>\n",
       "    <tr style=\"text-align: right;\">\n",
       "      <th></th>\n",
       "      <th>Name</th>\n",
       "      <th>Age</th>\n",
       "      <th>Salary</th>\n",
       "      <th>Department</th>\n",
       "      <th>Gender</th>\n",
       "      <th>Hire_Date</th>\n",
       "      <th>Performance_Rating</th>\n",
       "      <th>ID</th>\n",
       "    </tr>\n",
       "  </thead>\n",
       "  <tbody>\n",
       "    <tr>\n",
       "      <th>0</th>\n",
       "      <td>Alice</td>\n",
       "      <td>25.0</td>\n",
       "      <td>50000</td>\n",
       "      <td>HR</td>\n",
       "      <td>Female</td>\n",
       "      <td>2020-03-15</td>\n",
       "      <td>4.5</td>\n",
       "      <td>1.5</td>\n",
       "    </tr>\n",
       "    <tr>\n",
       "      <th>1</th>\n",
       "      <td>Bob</td>\n",
       "      <td>30.0</td>\n",
       "      <td>60000</td>\n",
       "      <td>None</td>\n",
       "      <td>Male</td>\n",
       "      <td>2019-05-20</td>\n",
       "      <td>3.8</td>\n",
       "      <td>1.6</td>\n",
       "    </tr>\n",
       "    <tr>\n",
       "      <th>2</th>\n",
       "      <td>Claire</td>\n",
       "      <td>22.0</td>\n",
       "      <td>45000€</td>\n",
       "      <td>Finance</td>\n",
       "      <td>Female</td>\n",
       "      <td>2021-01-10</td>\n",
       "      <td>NaN</td>\n",
       "      <td>1.7</td>\n",
       "    </tr>\n",
       "    <tr>\n",
       "      <th>3</th>\n",
       "      <td>David</td>\n",
       "      <td>NaN</td>\n",
       "      <td>70000</td>\n",
       "      <td>IT</td>\n",
       "      <td>Male</td>\n",
       "      <td>2018-11-05</td>\n",
       "      <td>4.0</td>\n",
       "      <td>1.8</td>\n",
       "    </tr>\n",
       "  </tbody>\n",
       "</table>\n",
       "</div>"
      ],
      "text/plain": [
       "     Name   Age  Salary Department  Gender   Hire_Date  Performance_Rating  \\\n",
       "0   Alice  25.0   50000         HR  Female  2020-03-15                 4.5   \n",
       "1     Bob  30.0   60000       None    Male  2019-05-20                 3.8   \n",
       "2  Claire  22.0  45000€    Finance  Female  2021-01-10                 NaN   \n",
       "3   David   NaN   70000         IT    Male  2018-11-05                 4.0   \n",
       "\n",
       "    ID  \n",
       "0  1.5  \n",
       "1  1.6  \n",
       "2  1.7  \n",
       "3  1.8  "
      ]
     },
     "execution_count": 119,
     "metadata": {},
     "output_type": "execute_result"
    }
   ],
   "source": [
    "df.drop(4,axis=0)"
   ]
  },
  {
   "cell_type": "markdown",
   "metadata": {
    "id": "mkg-SwaGBg1g"
   },
   "source": [
    "### Create a column\n",
    "You can create a new column by simply assigning it a value."
   ]
  },
  {
   "cell_type": "code",
   "execution_count": 120,
   "metadata": {
    "colab": {
     "base_uri": "https://localhost:8080/",
     "height": 206
    },
    "executionInfo": {
     "elapsed": 22,
     "status": "ok",
     "timestamp": 1713797642848,
     "user": {
      "displayName": "Christopher Galloway",
      "userId": "16329134674817848650"
     },
     "user_tz": -120
    },
    "id": "4E4spRyVBgRu",
    "outputId": "55515154-b906-4a23-a39f-b3334cecc2c5"
   },
   "outputs": [
    {
     "data": {
      "text/html": [
       "<div>\n",
       "<style scoped>\n",
       "    .dataframe tbody tr th:only-of-type {\n",
       "        vertical-align: middle;\n",
       "    }\n",
       "\n",
       "    .dataframe tbody tr th {\n",
       "        vertical-align: top;\n",
       "    }\n",
       "\n",
       "    .dataframe thead th {\n",
       "        text-align: right;\n",
       "    }\n",
       "</style>\n",
       "<table border=\"1\" class=\"dataframe\">\n",
       "  <thead>\n",
       "    <tr style=\"text-align: right;\">\n",
       "      <th></th>\n",
       "      <th>Name</th>\n",
       "      <th>Age</th>\n",
       "      <th>Salary</th>\n",
       "      <th>Department</th>\n",
       "      <th>Gender</th>\n",
       "      <th>Hire_Date</th>\n",
       "      <th>Performance_Rating</th>\n",
       "      <th>ID</th>\n",
       "      <th>new_column</th>\n",
       "    </tr>\n",
       "  </thead>\n",
       "  <tbody>\n",
       "    <tr>\n",
       "      <th>0</th>\n",
       "      <td>Alice</td>\n",
       "      <td>25.0</td>\n",
       "      <td>50000</td>\n",
       "      <td>HR</td>\n",
       "      <td>Female</td>\n",
       "      <td>2020-03-15</td>\n",
       "      <td>4.5</td>\n",
       "      <td>1.5</td>\n",
       "      <td>some_value</td>\n",
       "    </tr>\n",
       "    <tr>\n",
       "      <th>1</th>\n",
       "      <td>Bob</td>\n",
       "      <td>30.0</td>\n",
       "      <td>60000</td>\n",
       "      <td>None</td>\n",
       "      <td>Male</td>\n",
       "      <td>2019-05-20</td>\n",
       "      <td>3.8</td>\n",
       "      <td>1.6</td>\n",
       "      <td>some_value</td>\n",
       "    </tr>\n",
       "    <tr>\n",
       "      <th>2</th>\n",
       "      <td>Claire</td>\n",
       "      <td>22.0</td>\n",
       "      <td>45000€</td>\n",
       "      <td>Finance</td>\n",
       "      <td>Female</td>\n",
       "      <td>2021-01-10</td>\n",
       "      <td>NaN</td>\n",
       "      <td>1.7</td>\n",
       "      <td>some_value</td>\n",
       "    </tr>\n",
       "    <tr>\n",
       "      <th>3</th>\n",
       "      <td>David</td>\n",
       "      <td>NaN</td>\n",
       "      <td>70000</td>\n",
       "      <td>IT</td>\n",
       "      <td>Male</td>\n",
       "      <td>2018-11-05</td>\n",
       "      <td>4.0</td>\n",
       "      <td>1.8</td>\n",
       "      <td>some_value</td>\n",
       "    </tr>\n",
       "    <tr>\n",
       "      <th>4</th>\n",
       "      <td>Emma</td>\n",
       "      <td>35.0</td>\n",
       "      <td>80000</td>\n",
       "      <td>Marketing</td>\n",
       "      <td>Female</td>\n",
       "      <td>2022-02-28</td>\n",
       "      <td>4.7</td>\n",
       "      <td>1.9</td>\n",
       "      <td>some_value</td>\n",
       "    </tr>\n",
       "  </tbody>\n",
       "</table>\n",
       "</div>"
      ],
      "text/plain": [
       "     Name   Age  Salary Department  Gender   Hire_Date  Performance_Rating  \\\n",
       "0   Alice  25.0   50000         HR  Female  2020-03-15                 4.5   \n",
       "1     Bob  30.0   60000       None    Male  2019-05-20                 3.8   \n",
       "2  Claire  22.0  45000€    Finance  Female  2021-01-10                 NaN   \n",
       "3   David   NaN   70000         IT    Male  2018-11-05                 4.0   \n",
       "4    Emma  35.0   80000  Marketing  Female  2022-02-28                 4.7   \n",
       "\n",
       "    ID  new_column  \n",
       "0  1.5  some_value  \n",
       "1  1.6  some_value  \n",
       "2  1.7  some_value  \n",
       "3  1.8  some_value  \n",
       "4  1.9  some_value  "
      ]
     },
     "execution_count": 120,
     "metadata": {},
     "output_type": "execute_result"
    }
   ],
   "source": [
    "df['new_column'] = 'some_value'\n",
    "df"
   ]
  },
  {
   "cell_type": "markdown",
   "metadata": {
    "id": "ZaAInDLXB3OT"
   },
   "source": [
    "A new column can also be a derived from one or more existing columns."
   ]
  },
  {
   "cell_type": "code",
   "execution_count": 121,
   "metadata": {
    "colab": {
     "base_uri": "https://localhost:8080/",
     "height": 206
    },
    "executionInfo": {
     "elapsed": 430,
     "status": "ok",
     "timestamp": 1713797643256,
     "user": {
      "displayName": "Christopher Galloway",
      "userId": "16329134674817848650"
     },
     "user_tz": -120
    },
    "id": "e4yXbuZ3B1tp",
    "outputId": "812854d8-5b33-4436-c697-86b600bc8cc9"
   },
   "outputs": [
    {
     "data": {
      "text/html": [
       "<div>\n",
       "<style scoped>\n",
       "    .dataframe tbody tr th:only-of-type {\n",
       "        vertical-align: middle;\n",
       "    }\n",
       "\n",
       "    .dataframe tbody tr th {\n",
       "        vertical-align: top;\n",
       "    }\n",
       "\n",
       "    .dataframe thead th {\n",
       "        text-align: right;\n",
       "    }\n",
       "</style>\n",
       "<table border=\"1\" class=\"dataframe\">\n",
       "  <thead>\n",
       "    <tr style=\"text-align: right;\">\n",
       "      <th></th>\n",
       "      <th>Name</th>\n",
       "      <th>Age</th>\n",
       "      <th>Salary</th>\n",
       "      <th>Department</th>\n",
       "      <th>Gender</th>\n",
       "      <th>Hire_Date</th>\n",
       "      <th>Performance_Rating</th>\n",
       "      <th>ID</th>\n",
       "      <th>new_column</th>\n",
       "      <th>another_column</th>\n",
       "    </tr>\n",
       "  </thead>\n",
       "  <tbody>\n",
       "    <tr>\n",
       "      <th>0</th>\n",
       "      <td>Alice</td>\n",
       "      <td>25.0</td>\n",
       "      <td>50000</td>\n",
       "      <td>HR</td>\n",
       "      <td>Female</td>\n",
       "      <td>2020-03-15</td>\n",
       "      <td>4.5</td>\n",
       "      <td>1.5</td>\n",
       "      <td>some_value</td>\n",
       "      <td>Female HR</td>\n",
       "    </tr>\n",
       "    <tr>\n",
       "      <th>1</th>\n",
       "      <td>Bob</td>\n",
       "      <td>30.0</td>\n",
       "      <td>60000</td>\n",
       "      <td>None</td>\n",
       "      <td>Male</td>\n",
       "      <td>2019-05-20</td>\n",
       "      <td>3.8</td>\n",
       "      <td>1.6</td>\n",
       "      <td>some_value</td>\n",
       "      <td>NaN</td>\n",
       "    </tr>\n",
       "    <tr>\n",
       "      <th>2</th>\n",
       "      <td>Claire</td>\n",
       "      <td>22.0</td>\n",
       "      <td>45000€</td>\n",
       "      <td>Finance</td>\n",
       "      <td>Female</td>\n",
       "      <td>2021-01-10</td>\n",
       "      <td>NaN</td>\n",
       "      <td>1.7</td>\n",
       "      <td>some_value</td>\n",
       "      <td>Female Finance</td>\n",
       "    </tr>\n",
       "    <tr>\n",
       "      <th>3</th>\n",
       "      <td>David</td>\n",
       "      <td>NaN</td>\n",
       "      <td>70000</td>\n",
       "      <td>IT</td>\n",
       "      <td>Male</td>\n",
       "      <td>2018-11-05</td>\n",
       "      <td>4.0</td>\n",
       "      <td>1.8</td>\n",
       "      <td>some_value</td>\n",
       "      <td>Male IT</td>\n",
       "    </tr>\n",
       "    <tr>\n",
       "      <th>4</th>\n",
       "      <td>Emma</td>\n",
       "      <td>35.0</td>\n",
       "      <td>80000</td>\n",
       "      <td>Marketing</td>\n",
       "      <td>Female</td>\n",
       "      <td>2022-02-28</td>\n",
       "      <td>4.7</td>\n",
       "      <td>1.9</td>\n",
       "      <td>some_value</td>\n",
       "      <td>Female Marketing</td>\n",
       "    </tr>\n",
       "  </tbody>\n",
       "</table>\n",
       "</div>"
      ],
      "text/plain": [
       "     Name   Age  Salary Department  Gender   Hire_Date  Performance_Rating  \\\n",
       "0   Alice  25.0   50000         HR  Female  2020-03-15                 4.5   \n",
       "1     Bob  30.0   60000       None    Male  2019-05-20                 3.8   \n",
       "2  Claire  22.0  45000€    Finance  Female  2021-01-10                 NaN   \n",
       "3   David   NaN   70000         IT    Male  2018-11-05                 4.0   \n",
       "4    Emma  35.0   80000  Marketing  Female  2022-02-28                 4.7   \n",
       "\n",
       "    ID  new_column    another_column  \n",
       "0  1.5  some_value         Female HR  \n",
       "1  1.6  some_value               NaN  \n",
       "2  1.7  some_value    Female Finance  \n",
       "3  1.8  some_value           Male IT  \n",
       "4  1.9  some_value  Female Marketing  "
      ]
     },
     "execution_count": 121,
     "metadata": {},
     "output_type": "execute_result"
    }
   ],
   "source": [
    "df.loc[:, 'another_column'] = df['Gender'] + ' ' + df['Department']\n",
    "df"
   ]
  },
  {
   "cell_type": "markdown",
   "metadata": {
    "id": "ydf_PxcTKWKx"
   },
   "source": [
    "## 5. Conditional updating"
   ]
  },
  {
   "cell_type": "markdown",
   "metadata": {
    "id": "_p--dqpkRxjT"
   },
   "source": [
    "There are times when values need to be updated, but only if they meet certain criteria."
   ]
  },
  {
   "cell_type": "markdown",
   "metadata": {
    "id": "eWzRkWEWKifC"
   },
   "source": [
    "### Using `.loc`\n",
    "Since `.loc` allows you to filter conditionally, it is already well suited to updating values via assignment.    \n",
    "`df.loc[condition, column] = new_value`"
   ]
  },
  {
   "cell_type": "markdown",
   "metadata": {
    "id": "Ti4rGzUNLq1E"
   },
   "source": [
    "Someone has noticed that Claire's age was entered incorrectly! Let's correct it:"
   ]
  },
  {
   "cell_type": "code",
   "execution_count": 122,
   "metadata": {
    "colab": {
     "base_uri": "https://localhost:8080/",
     "height": 81
    },
    "executionInfo": {
     "elapsed": 8,
     "status": "ok",
     "timestamp": 1713797643256,
     "user": {
      "displayName": "Christopher Galloway",
      "userId": "16329134674817848650"
     },
     "user_tz": -120
    },
    "id": "uXMepBl_LiEF",
    "outputId": "7e485339-b1c9-4c46-c8cd-ea0ff0b21d07"
   },
   "outputs": [
    {
     "data": {
      "text/html": [
       "<div>\n",
       "<style scoped>\n",
       "    .dataframe tbody tr th:only-of-type {\n",
       "        vertical-align: middle;\n",
       "    }\n",
       "\n",
       "    .dataframe tbody tr th {\n",
       "        vertical-align: top;\n",
       "    }\n",
       "\n",
       "    .dataframe thead th {\n",
       "        text-align: right;\n",
       "    }\n",
       "</style>\n",
       "<table border=\"1\" class=\"dataframe\">\n",
       "  <thead>\n",
       "    <tr style=\"text-align: right;\">\n",
       "      <th></th>\n",
       "      <th>Age</th>\n",
       "    </tr>\n",
       "  </thead>\n",
       "  <tbody>\n",
       "    <tr>\n",
       "      <th>2</th>\n",
       "      <td>22.0</td>\n",
       "    </tr>\n",
       "  </tbody>\n",
       "</table>\n",
       "</div>"
      ],
      "text/plain": [
       "    Age\n",
       "2  22.0"
      ]
     },
     "execution_count": 122,
     "metadata": {},
     "output_type": "execute_result"
    }
   ],
   "source": [
    "name_mask = df['Name'] == \"Claire\"\n",
    "df.loc[name_mask,['Age']]"
   ]
  },
  {
   "cell_type": "markdown",
   "metadata": {
    "id": "zS6bj7bGMJCh"
   },
   "source": [
    "In this first step, we are able to view Claire's age. A new value can be assigned via `=`."
   ]
  },
  {
   "cell_type": "code",
   "execution_count": 123,
   "metadata": {
    "colab": {
     "base_uri": "https://localhost:8080/",
     "height": 206
    },
    "executionInfo": {
     "elapsed": 7,
     "status": "ok",
     "timestamp": 1713797643256,
     "user": {
      "displayName": "Christopher Galloway",
      "userId": "16329134674817848650"
     },
     "user_tz": -120
    },
    "id": "T7ieRcYEK-ln",
    "outputId": "c8dad555-f17f-4bb2-8df9-678069907b74"
   },
   "outputs": [
    {
     "data": {
      "text/html": [
       "<div>\n",
       "<style scoped>\n",
       "    .dataframe tbody tr th:only-of-type {\n",
       "        vertical-align: middle;\n",
       "    }\n",
       "\n",
       "    .dataframe tbody tr th {\n",
       "        vertical-align: top;\n",
       "    }\n",
       "\n",
       "    .dataframe thead th {\n",
       "        text-align: right;\n",
       "    }\n",
       "</style>\n",
       "<table border=\"1\" class=\"dataframe\">\n",
       "  <thead>\n",
       "    <tr style=\"text-align: right;\">\n",
       "      <th></th>\n",
       "      <th>Name</th>\n",
       "      <th>Age</th>\n",
       "      <th>Salary</th>\n",
       "      <th>Department</th>\n",
       "      <th>Gender</th>\n",
       "      <th>Hire_Date</th>\n",
       "      <th>Performance_Rating</th>\n",
       "      <th>ID</th>\n",
       "      <th>new_column</th>\n",
       "      <th>another_column</th>\n",
       "    </tr>\n",
       "  </thead>\n",
       "  <tbody>\n",
       "    <tr>\n",
       "      <th>0</th>\n",
       "      <td>Alice</td>\n",
       "      <td>25.0</td>\n",
       "      <td>50000</td>\n",
       "      <td>HR</td>\n",
       "      <td>Female</td>\n",
       "      <td>2020-03-15</td>\n",
       "      <td>4.5</td>\n",
       "      <td>1.5</td>\n",
       "      <td>some_value</td>\n",
       "      <td>Female HR</td>\n",
       "    </tr>\n",
       "    <tr>\n",
       "      <th>1</th>\n",
       "      <td>Bob</td>\n",
       "      <td>30.0</td>\n",
       "      <td>60000</td>\n",
       "      <td>None</td>\n",
       "      <td>Male</td>\n",
       "      <td>2019-05-20</td>\n",
       "      <td>3.8</td>\n",
       "      <td>1.6</td>\n",
       "      <td>some_value</td>\n",
       "      <td>NaN</td>\n",
       "    </tr>\n",
       "    <tr>\n",
       "      <th>2</th>\n",
       "      <td>Claire</td>\n",
       "      <td>27.0</td>\n",
       "      <td>10000</td>\n",
       "      <td>Finance</td>\n",
       "      <td>Female</td>\n",
       "      <td>2021-01-10</td>\n",
       "      <td>NaN</td>\n",
       "      <td>1.7</td>\n",
       "      <td>some_value</td>\n",
       "      <td>Female Finance</td>\n",
       "    </tr>\n",
       "    <tr>\n",
       "      <th>3</th>\n",
       "      <td>David</td>\n",
       "      <td>NaN</td>\n",
       "      <td>70000</td>\n",
       "      <td>IT</td>\n",
       "      <td>Male</td>\n",
       "      <td>2018-11-05</td>\n",
       "      <td>4.0</td>\n",
       "      <td>1.8</td>\n",
       "      <td>some_value</td>\n",
       "      <td>Male IT</td>\n",
       "    </tr>\n",
       "    <tr>\n",
       "      <th>4</th>\n",
       "      <td>Emma</td>\n",
       "      <td>35.0</td>\n",
       "      <td>80000</td>\n",
       "      <td>Marketing</td>\n",
       "      <td>Female</td>\n",
       "      <td>2022-02-28</td>\n",
       "      <td>4.7</td>\n",
       "      <td>1.9</td>\n",
       "      <td>some_value</td>\n",
       "      <td>Female Marketing</td>\n",
       "    </tr>\n",
       "  </tbody>\n",
       "</table>\n",
       "</div>"
      ],
      "text/plain": [
       "     Name   Age Salary Department  Gender   Hire_Date  Performance_Rating  \\\n",
       "0   Alice  25.0  50000         HR  Female  2020-03-15                 4.5   \n",
       "1     Bob  30.0  60000       None    Male  2019-05-20                 3.8   \n",
       "2  Claire  27.0  10000    Finance  Female  2021-01-10                 NaN   \n",
       "3   David   NaN  70000         IT    Male  2018-11-05                 4.0   \n",
       "4    Emma  35.0  80000  Marketing  Female  2022-02-28                 4.7   \n",
       "\n",
       "    ID  new_column    another_column  \n",
       "0  1.5  some_value         Female HR  \n",
       "1  1.6  some_value               NaN  \n",
       "2  1.7  some_value    Female Finance  \n",
       "3  1.8  some_value           Male IT  \n",
       "4  1.9  some_value  Female Marketing  "
      ]
     },
     "execution_count": 123,
     "metadata": {},
     "output_type": "execute_result"
    }
   ],
   "source": [
    "df.loc[name_mask,['Age', 'Salary']] = [27, 10000]\n",
    "df"
   ]
  },
  {
   "cell_type": "markdown",
   "metadata": {
    "id": "4DoqLI_kMZIM"
   },
   "source": [
    "Several values meeting the same condition can also be updated at the same time.    \n",
    "Let's change the 'Marketing' department to 'Public Relations'."
   ]
  },
  {
   "cell_type": "code",
   "execution_count": 124,
   "metadata": {
    "colab": {
     "base_uri": "https://localhost:8080/",
     "height": 206
    },
    "executionInfo": {
     "elapsed": 6,
     "status": "ok",
     "timestamp": 1713797643256,
     "user": {
      "displayName": "Christopher Galloway",
      "userId": "16329134674817848650"
     },
     "user_tz": -120
    },
    "id": "SJjSSBk9MgOy",
    "outputId": "ce6c32ce-f4fd-44b9-a4cb-3f006f5c9f55"
   },
   "outputs": [
    {
     "data": {
      "text/html": [
       "<div>\n",
       "<style scoped>\n",
       "    .dataframe tbody tr th:only-of-type {\n",
       "        vertical-align: middle;\n",
       "    }\n",
       "\n",
       "    .dataframe tbody tr th {\n",
       "        vertical-align: top;\n",
       "    }\n",
       "\n",
       "    .dataframe thead th {\n",
       "        text-align: right;\n",
       "    }\n",
       "</style>\n",
       "<table border=\"1\" class=\"dataframe\">\n",
       "  <thead>\n",
       "    <tr style=\"text-align: right;\">\n",
       "      <th></th>\n",
       "      <th>Name</th>\n",
       "      <th>Age</th>\n",
       "      <th>Salary</th>\n",
       "      <th>Department</th>\n",
       "      <th>Gender</th>\n",
       "      <th>Hire_Date</th>\n",
       "      <th>Performance_Rating</th>\n",
       "      <th>ID</th>\n",
       "      <th>new_column</th>\n",
       "      <th>another_column</th>\n",
       "    </tr>\n",
       "  </thead>\n",
       "  <tbody>\n",
       "    <tr>\n",
       "      <th>0</th>\n",
       "      <td>Alice</td>\n",
       "      <td>25.0</td>\n",
       "      <td>50000</td>\n",
       "      <td>HR</td>\n",
       "      <td>Female</td>\n",
       "      <td>2020-03-15</td>\n",
       "      <td>4.5</td>\n",
       "      <td>1.5</td>\n",
       "      <td>some_value</td>\n",
       "      <td>Female HR</td>\n",
       "    </tr>\n",
       "    <tr>\n",
       "      <th>1</th>\n",
       "      <td>Bob</td>\n",
       "      <td>30.0</td>\n",
       "      <td>60000</td>\n",
       "      <td>None</td>\n",
       "      <td>Male</td>\n",
       "      <td>2019-05-20</td>\n",
       "      <td>3.8</td>\n",
       "      <td>1.6</td>\n",
       "      <td>some_value</td>\n",
       "      <td>NaN</td>\n",
       "    </tr>\n",
       "    <tr>\n",
       "      <th>2</th>\n",
       "      <td>Claire</td>\n",
       "      <td>27.0</td>\n",
       "      <td>10000</td>\n",
       "      <td>Finance</td>\n",
       "      <td>Female</td>\n",
       "      <td>2021-01-10</td>\n",
       "      <td>NaN</td>\n",
       "      <td>1.7</td>\n",
       "      <td>some_value</td>\n",
       "      <td>Female Finance</td>\n",
       "    </tr>\n",
       "    <tr>\n",
       "      <th>3</th>\n",
       "      <td>David</td>\n",
       "      <td>NaN</td>\n",
       "      <td>70000</td>\n",
       "      <td>IT</td>\n",
       "      <td>Male</td>\n",
       "      <td>2018-11-05</td>\n",
       "      <td>4.0</td>\n",
       "      <td>1.8</td>\n",
       "      <td>some_value</td>\n",
       "      <td>Male IT</td>\n",
       "    </tr>\n",
       "    <tr>\n",
       "      <th>4</th>\n",
       "      <td>Emma</td>\n",
       "      <td>35.0</td>\n",
       "      <td>80000</td>\n",
       "      <td>Public Relations</td>\n",
       "      <td>Female</td>\n",
       "      <td>2022-02-28</td>\n",
       "      <td>4.7</td>\n",
       "      <td>1.9</td>\n",
       "      <td>some_value</td>\n",
       "      <td>Female Marketing</td>\n",
       "    </tr>\n",
       "  </tbody>\n",
       "</table>\n",
       "</div>"
      ],
      "text/plain": [
       "     Name   Age Salary        Department  Gender   Hire_Date  \\\n",
       "0   Alice  25.0  50000                HR  Female  2020-03-15   \n",
       "1     Bob  30.0  60000              None    Male  2019-05-20   \n",
       "2  Claire  27.0  10000           Finance  Female  2021-01-10   \n",
       "3   David   NaN  70000                IT    Male  2018-11-05   \n",
       "4    Emma  35.0  80000  Public Relations  Female  2022-02-28   \n",
       "\n",
       "   Performance_Rating   ID  new_column    another_column  \n",
       "0                 4.5  1.5  some_value         Female HR  \n",
       "1                 3.8  1.6  some_value               NaN  \n",
       "2                 NaN  1.7  some_value    Female Finance  \n",
       "3                 4.0  1.8  some_value           Male IT  \n",
       "4                 4.7  1.9  some_value  Female Marketing  "
      ]
     },
     "execution_count": 124,
     "metadata": {},
     "output_type": "execute_result"
    }
   ],
   "source": [
    "marketing_mask = df['Department'] == \"Marketing\"\n",
    "df.loc[marketing_mask, 'Department'] = \"Public Relations\"\n",
    "df"
   ]
  },
  {
   "cell_type": "markdown",
   "metadata": {
    "id": "uCBc0-eSzcpl"
   },
   "source": [
    "It is also possible to use multiple conditions when filtering and updating data.     \n",
    "Let's give everyone a raise who is under 29 and works in Finance or HR."
   ]
  },
  {
   "cell_type": "code",
   "execution_count": 125,
   "metadata": {
    "colab": {
     "base_uri": "https://localhost:8080/",
     "height": 206
    },
    "executionInfo": {
     "elapsed": 486,
     "status": "ok",
     "timestamp": 1713797643736,
     "user": {
      "displayName": "Christopher Galloway",
      "userId": "16329134674817848650"
     },
     "user_tz": -120
    },
    "id": "oVeIuwiVOs8Z",
    "outputId": "226b6601-aef6-4691-9b0e-4ea707639f92"
   },
   "outputs": [
    {
     "data": {
      "text/html": [
       "<div>\n",
       "<style scoped>\n",
       "    .dataframe tbody tr th:only-of-type {\n",
       "        vertical-align: middle;\n",
       "    }\n",
       "\n",
       "    .dataframe tbody tr th {\n",
       "        vertical-align: top;\n",
       "    }\n",
       "\n",
       "    .dataframe thead th {\n",
       "        text-align: right;\n",
       "    }\n",
       "</style>\n",
       "<table border=\"1\" class=\"dataframe\">\n",
       "  <thead>\n",
       "    <tr style=\"text-align: right;\">\n",
       "      <th></th>\n",
       "      <th>Name</th>\n",
       "      <th>Age</th>\n",
       "      <th>Salary</th>\n",
       "      <th>Department</th>\n",
       "      <th>Gender</th>\n",
       "      <th>Hire_Date</th>\n",
       "      <th>Performance_Rating</th>\n",
       "      <th>ID</th>\n",
       "      <th>new_column</th>\n",
       "      <th>another_column</th>\n",
       "    </tr>\n",
       "  </thead>\n",
       "  <tbody>\n",
       "    <tr>\n",
       "      <th>0</th>\n",
       "      <td>Alice</td>\n",
       "      <td>25.0</td>\n",
       "      <td>55000</td>\n",
       "      <td>HR</td>\n",
       "      <td>Female</td>\n",
       "      <td>2020-03-15</td>\n",
       "      <td>4.5</td>\n",
       "      <td>1.5</td>\n",
       "      <td>some_value</td>\n",
       "      <td>Female HR</td>\n",
       "    </tr>\n",
       "    <tr>\n",
       "      <th>1</th>\n",
       "      <td>Bob</td>\n",
       "      <td>30.0</td>\n",
       "      <td>60000</td>\n",
       "      <td>None</td>\n",
       "      <td>Male</td>\n",
       "      <td>2019-05-20</td>\n",
       "      <td>3.8</td>\n",
       "      <td>1.6</td>\n",
       "      <td>some_value</td>\n",
       "      <td>NaN</td>\n",
       "    </tr>\n",
       "    <tr>\n",
       "      <th>2</th>\n",
       "      <td>Claire</td>\n",
       "      <td>27.0</td>\n",
       "      <td>55000</td>\n",
       "      <td>Finance</td>\n",
       "      <td>Female</td>\n",
       "      <td>2021-01-10</td>\n",
       "      <td>NaN</td>\n",
       "      <td>1.7</td>\n",
       "      <td>some_value</td>\n",
       "      <td>Female Finance</td>\n",
       "    </tr>\n",
       "    <tr>\n",
       "      <th>3</th>\n",
       "      <td>David</td>\n",
       "      <td>NaN</td>\n",
       "      <td>70000</td>\n",
       "      <td>IT</td>\n",
       "      <td>Male</td>\n",
       "      <td>2018-11-05</td>\n",
       "      <td>4.0</td>\n",
       "      <td>1.8</td>\n",
       "      <td>some_value</td>\n",
       "      <td>Male IT</td>\n",
       "    </tr>\n",
       "    <tr>\n",
       "      <th>4</th>\n",
       "      <td>Emma</td>\n",
       "      <td>35.0</td>\n",
       "      <td>80000</td>\n",
       "      <td>Public Relations</td>\n",
       "      <td>Female</td>\n",
       "      <td>2022-02-28</td>\n",
       "      <td>4.7</td>\n",
       "      <td>1.9</td>\n",
       "      <td>some_value</td>\n",
       "      <td>Female Marketing</td>\n",
       "    </tr>\n",
       "  </tbody>\n",
       "</table>\n",
       "</div>"
      ],
      "text/plain": [
       "     Name   Age Salary        Department  Gender   Hire_Date  \\\n",
       "0   Alice  25.0  55000                HR  Female  2020-03-15   \n",
       "1     Bob  30.0  60000              None    Male  2019-05-20   \n",
       "2  Claire  27.0  55000           Finance  Female  2021-01-10   \n",
       "3   David   NaN  70000                IT    Male  2018-11-05   \n",
       "4    Emma  35.0  80000  Public Relations  Female  2022-02-28   \n",
       "\n",
       "   Performance_Rating   ID  new_column    another_column  \n",
       "0                 4.5  1.5  some_value         Female HR  \n",
       "1                 3.8  1.6  some_value               NaN  \n",
       "2                 NaN  1.7  some_value    Female Finance  \n",
       "3                 4.0  1.8  some_value           Male IT  \n",
       "4                 4.7  1.9  some_value  Female Marketing  "
      ]
     },
     "execution_count": 125,
     "metadata": {},
     "output_type": "execute_result"
    }
   ],
   "source": [
    "age_mask = df['Age'] < 29\n",
    "department_mask = df['Department'].isin(['Finance', 'HR'])\n",
    "\n",
    "df.loc[age_mask & department_mask, \"Salary\"] = 55000\n",
    "df"
   ]
  },
  {
   "cell_type": "markdown",
   "metadata": {
    "id": "t_ftS9k6RQhJ"
   },
   "source": [
    "> **Note:** One reason to assign new values with `.loc` is that it always updates the original DataFrame. Other methods may modify only a copy of the data, leading to unpredictable outcomes or lost work."
   ]
  },
  {
   "cell_type": "markdown",
   "metadata": {
    "id": "8FOBDYoD3B1b"
   },
   "source": [
    "### .where()\n",
    "Sometimes instead of looking to *meet* a condition, you may wish to update values that *fail to meet* your criteria."
   ]
  },
  {
   "cell_type": "code",
   "execution_count": 126,
   "metadata": {
    "colab": {
     "base_uri": "https://localhost:8080/",
     "height": 206
    },
    "executionInfo": {
     "elapsed": 10,
     "status": "ok",
     "timestamp": 1713797643736,
     "user": {
      "displayName": "Christopher Galloway",
      "userId": "16329134674817848650"
     },
     "user_tz": -120
    },
    "id": "HhkCI3DLRfqd",
    "outputId": "83d61a5e-97b6-4f06-d74b-316424279b0a"
   },
   "outputs": [
    {
     "data": {
      "text/html": [
       "<div>\n",
       "<style scoped>\n",
       "    .dataframe tbody tr th:only-of-type {\n",
       "        vertical-align: middle;\n",
       "    }\n",
       "\n",
       "    .dataframe tbody tr th {\n",
       "        vertical-align: top;\n",
       "    }\n",
       "\n",
       "    .dataframe thead th {\n",
       "        text-align: right;\n",
       "    }\n",
       "</style>\n",
       "<table border=\"1\" class=\"dataframe\">\n",
       "  <thead>\n",
       "    <tr style=\"text-align: right;\">\n",
       "      <th></th>\n",
       "      <th>Name</th>\n",
       "      <th>Age</th>\n",
       "      <th>Salary</th>\n",
       "      <th>Department</th>\n",
       "      <th>Gender</th>\n",
       "      <th>Hire_Date</th>\n",
       "      <th>Performance_Rating</th>\n",
       "      <th>ID</th>\n",
       "      <th>new_column</th>\n",
       "      <th>another_column</th>\n",
       "    </tr>\n",
       "  </thead>\n",
       "  <tbody>\n",
       "    <tr>\n",
       "      <th>0</th>\n",
       "      <td>Alice</td>\n",
       "      <td>25.0</td>\n",
       "      <td>55000</td>\n",
       "      <td>HR</td>\n",
       "      <td>Female</td>\n",
       "      <td>2020-03-15</td>\n",
       "      <td>4.5</td>\n",
       "      <td>1.5</td>\n",
       "      <td>some_value</td>\n",
       "      <td>Female HR</td>\n",
       "    </tr>\n",
       "    <tr>\n",
       "      <th>1</th>\n",
       "      <td>Bob</td>\n",
       "      <td>30.0</td>\n",
       "      <td>60000</td>\n",
       "      <td>None</td>\n",
       "      <td>Male</td>\n",
       "      <td>2019-05-20</td>\n",
       "      <td>3.8</td>\n",
       "      <td>1.6</td>\n",
       "      <td>some_value</td>\n",
       "      <td>NaN</td>\n",
       "    </tr>\n",
       "    <tr>\n",
       "      <th>2</th>\n",
       "      <td>Claire</td>\n",
       "      <td>27.0</td>\n",
       "      <td>55000</td>\n",
       "      <td>Finance</td>\n",
       "      <td>Female</td>\n",
       "      <td>2021-01-10</td>\n",
       "      <td>NaN</td>\n",
       "      <td>1.7</td>\n",
       "      <td>some_value</td>\n",
       "      <td>Female Finance</td>\n",
       "    </tr>\n",
       "    <tr>\n",
       "      <th>3</th>\n",
       "      <td>David</td>\n",
       "      <td>NaN</td>\n",
       "      <td>70000</td>\n",
       "      <td>IT</td>\n",
       "      <td>Male</td>\n",
       "      <td>2018-11-05</td>\n",
       "      <td>4.0</td>\n",
       "      <td>1.8</td>\n",
       "      <td>some_value</td>\n",
       "      <td>Male IT</td>\n",
       "    </tr>\n",
       "    <tr>\n",
       "      <th>4</th>\n",
       "      <td>Emma</td>\n",
       "      <td>35.0</td>\n",
       "      <td>80000</td>\n",
       "      <td>Public Relations</td>\n",
       "      <td>Female</td>\n",
       "      <td>2022-02-28</td>\n",
       "      <td>4.7</td>\n",
       "      <td>1.9</td>\n",
       "      <td>some_value</td>\n",
       "      <td>Female Marketing</td>\n",
       "    </tr>\n",
       "  </tbody>\n",
       "</table>\n",
       "</div>"
      ],
      "text/plain": [
       "     Name   Age Salary        Department  Gender   Hire_Date  \\\n",
       "0   Alice  25.0  55000                HR  Female  2020-03-15   \n",
       "1     Bob  30.0  60000              None    Male  2019-05-20   \n",
       "2  Claire  27.0  55000           Finance  Female  2021-01-10   \n",
       "3   David   NaN  70000                IT    Male  2018-11-05   \n",
       "4    Emma  35.0  80000  Public Relations  Female  2022-02-28   \n",
       "\n",
       "   Performance_Rating   ID  new_column    another_column  \n",
       "0                 4.5  1.5  some_value         Female HR  \n",
       "1                 3.8  1.6  some_value               NaN  \n",
       "2                 NaN  1.7  some_value    Female Finance  \n",
       "3                 4.0  1.8  some_value           Male IT  \n",
       "4                 4.7  1.9  some_value  Female Marketing  "
      ]
     },
     "execution_count": 126,
     "metadata": {},
     "output_type": "execute_result"
    }
   ],
   "source": [
    "df"
   ]
  },
  {
   "cell_type": "markdown",
   "metadata": {
    "id": "CTxrDf4QtMoU"
   },
   "source": [
    "Let's check our employees' performance ratings and give a salary of only 30000 to anyone doing worse than a 4:"
   ]
  },
  {
   "cell_type": "code",
   "execution_count": 127,
   "metadata": {
    "colab": {
     "base_uri": "https://localhost:8080/"
    },
    "executionInfo": {
     "elapsed": 9,
     "status": "ok",
     "timestamp": 1713797643736,
     "user": {
      "displayName": "Christopher Galloway",
      "userId": "16329134674817848650"
     },
     "user_tz": -120
    },
    "id": "nM3bAoP1PASY",
    "outputId": "ccfa1559-7e53-46fe-8e33-aa79b17224d3"
   },
   "outputs": [
    {
     "data": {
      "text/plain": [
       "0    55000\n",
       "1    30000\n",
       "2    30000\n",
       "3    70000\n",
       "4    80000\n",
       "Name: Salary, dtype: object"
      ]
     },
     "execution_count": 127,
     "metadata": {},
     "output_type": "execute_result"
    }
   ],
   "source": [
    "df['Salary'].where(df['Performance_Rating'] >= 4, 30000)"
   ]
  },
  {
   "cell_type": "markdown",
   "metadata": {
    "id": "0h-phvZY1lYT"
   },
   "source": [
    "This is functionally equivalent to writing     \n",
    "`df.loc[~(df['Performance_Rating'] >= 4), 'Salary'] = 30000`      \n",
    "except that `.where()` requires you to explicitly *save* the result, whereas assignment is already written in with `.loc`."
   ]
  },
  {
   "cell_type": "code",
   "execution_count": 128,
   "metadata": {
    "colab": {
     "base_uri": "https://localhost:8080/"
    },
    "executionInfo": {
     "elapsed": 8,
     "status": "ok",
     "timestamp": 1713797643736,
     "user": {
      "displayName": "Christopher Galloway",
      "userId": "16329134674817848650"
     },
     "user_tz": -120
    },
    "id": "UOoOunr92Bop",
    "outputId": "f478f157-475d-4588-f9f2-be484cc2c0a1"
   },
   "outputs": [
    {
     "data": {
      "text/plain": [
       "0    55000\n",
       "1    30000\n",
       "2    30000\n",
       "3    70000\n",
       "4    80000\n",
       "Name: Salary, dtype: object"
      ]
     },
     "execution_count": 128,
     "metadata": {},
     "output_type": "execute_result"
    }
   ],
   "source": [
    "example_df = df.copy()\n",
    "example_df.loc[~(example_df['Performance_Rating'] >= 4), 'Salary'] = 30000\n",
    "example_df['Salary']"
   ]
  },
  {
   "cell_type": "markdown",
   "metadata": {
    "id": "L1nJUhHg4wZM"
   },
   "source": [
    "Since the logic of changing a value where a condition is *not met* might feel a bit strange, you can always flip the logic by negating the condition with `~`."
   ]
  },
  {
   "cell_type": "code",
   "execution_count": 129,
   "metadata": {
    "colab": {
     "base_uri": "https://localhost:8080/"
    },
    "executionInfo": {
     "elapsed": 8,
     "status": "ok",
     "timestamp": 1713797643736,
     "user": {
      "displayName": "Christopher Galloway",
      "userId": "16329134674817848650"
     },
     "user_tz": -120
    },
    "id": "KpXobtUo4vyw",
    "outputId": "6d626563-a241-4095-efcd-390e2c3d95c6"
   },
   "outputs": [
    {
     "data": {
      "text/plain": [
       "0    55000\n",
       "1    30000\n",
       "2    55000\n",
       "3    70000\n",
       "4    80000\n",
       "Name: Salary, dtype: object"
      ]
     },
     "execution_count": 129,
     "metadata": {},
     "output_type": "execute_result"
    }
   ],
   "source": [
    "df['Salary'].where(~(df['Performance_Rating'] < 4), 30000)"
   ]
  },
  {
   "cell_type": "markdown",
   "metadata": {
    "id": "rAXiedYdzUC5"
   },
   "source": [
    "> ⚠️ **Watch out for null values!**\n",
    ">\n",
    "> Null values have certain behaviour characteristics that need to be accounted for when updating values conditionally:\n",
    "- Equality comparisons of all sorts evaluate to `False` *except*\n",
    "- Non-equality comparisons (`!=`) evaluate to `True`\n",
    "- Negation with `~` will then flip **either** of the above results   \n",
    ">  \n",
    "> Notice how the salary in row 2 is altered by using `.where()` and `.loc[~ ]`, but is **not altered** when using `.where(~ )`."
   ]
  },
  {
   "cell_type": "markdown",
   "metadata": {
    "id": "fmtgI6IK8POJ"
   },
   "source": [
    "### .replace()\n",
    "Offering even more options and flexibility, `.replace()` is capable of updating values across multiple columns and assigning different results to different matches, as well as handling more advanced \"pattern matching\".  "
   ]
  },
  {
   "cell_type": "markdown",
   "metadata": {
    "id": "TfgQe6lOJzmS"
   },
   "source": [
    "Imagine all our departments changed their names to something else. Instead of writing as many conditions as there are replacements, we can use `.replace()` in a variety of ways. Here is an example using a dictionary:"
   ]
  },
  {
   "cell_type": "code",
   "execution_count": 130,
   "metadata": {
    "colab": {
     "base_uri": "https://localhost:8080/",
     "height": 293
    },
    "executionInfo": {
     "elapsed": 7,
     "status": "ok",
     "timestamp": 1713797643736,
     "user": {
      "displayName": "Christopher Galloway",
      "userId": "16329134674817848650"
     },
     "user_tz": -120
    },
    "id": "ed2RNKPn8eZu",
    "outputId": "c1050d2c-9cb2-427c-c7a7-1e1cc88820cb"
   },
   "outputs": [
    {
     "data": {
      "text/html": [
       "<div>\n",
       "<style scoped>\n",
       "    .dataframe tbody tr th:only-of-type {\n",
       "        vertical-align: middle;\n",
       "    }\n",
       "\n",
       "    .dataframe tbody tr th {\n",
       "        vertical-align: top;\n",
       "    }\n",
       "\n",
       "    .dataframe thead th {\n",
       "        text-align: right;\n",
       "    }\n",
       "</style>\n",
       "<table border=\"1\" class=\"dataframe\">\n",
       "  <thead>\n",
       "    <tr style=\"text-align: right;\">\n",
       "      <th></th>\n",
       "      <th>Name</th>\n",
       "      <th>Age</th>\n",
       "      <th>Salary</th>\n",
       "      <th>Department</th>\n",
       "      <th>Gender</th>\n",
       "      <th>Hire_Date</th>\n",
       "      <th>Performance_Rating</th>\n",
       "      <th>ID</th>\n",
       "      <th>new_column</th>\n",
       "      <th>another_column</th>\n",
       "    </tr>\n",
       "  </thead>\n",
       "  <tbody>\n",
       "    <tr>\n",
       "      <th>0</th>\n",
       "      <td>Alice</td>\n",
       "      <td>25.0</td>\n",
       "      <td>55000</td>\n",
       "      <td>Human Resources</td>\n",
       "      <td>Female</td>\n",
       "      <td>2020-03-15</td>\n",
       "      <td>4.5</td>\n",
       "      <td>1.5</td>\n",
       "      <td>some_value</td>\n",
       "      <td>Female HR</td>\n",
       "    </tr>\n",
       "    <tr>\n",
       "      <th>1</th>\n",
       "      <td>Bob</td>\n",
       "      <td>30.0</td>\n",
       "      <td>60000</td>\n",
       "      <td>None</td>\n",
       "      <td>Male</td>\n",
       "      <td>2019-05-20</td>\n",
       "      <td>3.8</td>\n",
       "      <td>1.6</td>\n",
       "      <td>some_value</td>\n",
       "      <td>NaN</td>\n",
       "    </tr>\n",
       "    <tr>\n",
       "      <th>2</th>\n",
       "      <td>Claire</td>\n",
       "      <td>27.0</td>\n",
       "      <td>55000</td>\n",
       "      <td>Accounting</td>\n",
       "      <td>Female</td>\n",
       "      <td>2021-01-10</td>\n",
       "      <td>NaN</td>\n",
       "      <td>1.7</td>\n",
       "      <td>some_value</td>\n",
       "      <td>Female Finance</td>\n",
       "    </tr>\n",
       "    <tr>\n",
       "      <th>3</th>\n",
       "      <td>David</td>\n",
       "      <td>NaN</td>\n",
       "      <td>70000</td>\n",
       "      <td>Tech</td>\n",
       "      <td>Male</td>\n",
       "      <td>2018-11-05</td>\n",
       "      <td>4.0</td>\n",
       "      <td>1.8</td>\n",
       "      <td>some_value</td>\n",
       "      <td>Male IT</td>\n",
       "    </tr>\n",
       "    <tr>\n",
       "      <th>4</th>\n",
       "      <td>Emma</td>\n",
       "      <td>35.0</td>\n",
       "      <td>80000</td>\n",
       "      <td>Marketing</td>\n",
       "      <td>Female</td>\n",
       "      <td>2022-02-28</td>\n",
       "      <td>4.7</td>\n",
       "      <td>1.9</td>\n",
       "      <td>some_value</td>\n",
       "      <td>Female Marketing</td>\n",
       "    </tr>\n",
       "  </tbody>\n",
       "</table>\n",
       "</div>"
      ],
      "text/plain": [
       "     Name   Age Salary       Department  Gender   Hire_Date  \\\n",
       "0   Alice  25.0  55000  Human Resources  Female  2020-03-15   \n",
       "1     Bob  30.0  60000             None    Male  2019-05-20   \n",
       "2  Claire  27.0  55000       Accounting  Female  2021-01-10   \n",
       "3   David   NaN  70000             Tech    Male  2018-11-05   \n",
       "4    Emma  35.0  80000        Marketing  Female  2022-02-28   \n",
       "\n",
       "   Performance_Rating   ID  new_column    another_column  \n",
       "0                 4.5  1.5  some_value         Female HR  \n",
       "1                 3.8  1.6  some_value               NaN  \n",
       "2                 NaN  1.7  some_value    Female Finance  \n",
       "3                 4.0  1.8  some_value           Male IT  \n",
       "4                 4.7  1.9  some_value  Female Marketing  "
      ]
     },
     "execution_count": 130,
     "metadata": {},
     "output_type": "execute_result"
    }
   ],
   "source": [
    "replace_dict = {'HR': 'Human Resources',\n",
    "                'Finance':'Accounting',\n",
    "                'IT':'Tech',\n",
    "                'Public Relations':'Marketing'}\n",
    "\n",
    "df.replace(replace_dict)"
   ]
  },
  {
   "cell_type": "markdown",
   "metadata": {
    "id": "Wda5kUCNK-et"
   },
   "source": [
    "You can direct the changes to a single column as well:"
   ]
  },
  {
   "cell_type": "code",
   "execution_count": 131,
   "metadata": {
    "colab": {
     "base_uri": "https://localhost:8080/"
    },
    "executionInfo": {
     "elapsed": 6,
     "status": "ok",
     "timestamp": 1713797643736,
     "user": {
      "displayName": "Christopher Galloway",
      "userId": "16329134674817848650"
     },
     "user_tz": -120
    },
    "id": "BWUrPeesKrV1",
    "outputId": "4324401d-f222-457b-9bfc-02111def2ec1"
   },
   "outputs": [
    {
     "data": {
      "text/plain": [
       "0    Human Resources\n",
       "1               None\n",
       "2         Accounting\n",
       "3               Tech\n",
       "4          Marketing\n",
       "Name: Department, dtype: object"
      ]
     },
     "execution_count": 131,
     "metadata": {},
     "output_type": "execute_result"
    }
   ],
   "source": [
    "df['Department'].replace(replace_dict)"
   ]
  },
  {
   "cell_type": "markdown",
   "metadata": {
    "id": "ghK-_4nQLWI1"
   },
   "source": [
    "Pattern matching can be useful when trying to replace information in multiple columns with slightly differing values. This is done with the argument `regex=True`. Notice the code below changes values in both Department and `another_column`."
   ]
  },
  {
   "cell_type": "code",
   "execution_count": 132,
   "metadata": {
    "colab": {
     "base_uri": "https://localhost:8080/",
     "height": 293
    },
    "executionInfo": {
     "elapsed": 7,
     "status": "ok",
     "timestamp": 1713797644308,
     "user": {
      "displayName": "Christopher Galloway",
      "userId": "16329134674817848650"
     },
     "user_tz": -120
    },
    "id": "p0jnITGzLiHB",
    "outputId": "7942b847-901c-4bf3-c6a9-b5bf6d787912"
   },
   "outputs": [
    {
     "data": {
      "text/html": [
       "<div>\n",
       "<style scoped>\n",
       "    .dataframe tbody tr th:only-of-type {\n",
       "        vertical-align: middle;\n",
       "    }\n",
       "\n",
       "    .dataframe tbody tr th {\n",
       "        vertical-align: top;\n",
       "    }\n",
       "\n",
       "    .dataframe thead th {\n",
       "        text-align: right;\n",
       "    }\n",
       "</style>\n",
       "<table border=\"1\" class=\"dataframe\">\n",
       "  <thead>\n",
       "    <tr style=\"text-align: right;\">\n",
       "      <th></th>\n",
       "      <th>Name</th>\n",
       "      <th>Age</th>\n",
       "      <th>Salary</th>\n",
       "      <th>Department</th>\n",
       "      <th>Gender</th>\n",
       "      <th>Hire_Date</th>\n",
       "      <th>Performance_Rating</th>\n",
       "      <th>ID</th>\n",
       "      <th>new_column</th>\n",
       "      <th>another_column</th>\n",
       "    </tr>\n",
       "  </thead>\n",
       "  <tbody>\n",
       "    <tr>\n",
       "      <th>0</th>\n",
       "      <td>Alice</td>\n",
       "      <td>25.0</td>\n",
       "      <td>55000</td>\n",
       "      <td>Human Resources</td>\n",
       "      <td>Female</td>\n",
       "      <td>2020-03-15</td>\n",
       "      <td>4.5</td>\n",
       "      <td>1.5</td>\n",
       "      <td>some_value</td>\n",
       "      <td>Female Human Resources</td>\n",
       "    </tr>\n",
       "    <tr>\n",
       "      <th>1</th>\n",
       "      <td>Bob</td>\n",
       "      <td>30.0</td>\n",
       "      <td>60000</td>\n",
       "      <td>None</td>\n",
       "      <td>Male</td>\n",
       "      <td>2019-05-20</td>\n",
       "      <td>3.8</td>\n",
       "      <td>1.6</td>\n",
       "      <td>some_value</td>\n",
       "      <td>NaN</td>\n",
       "    </tr>\n",
       "    <tr>\n",
       "      <th>2</th>\n",
       "      <td>Claire</td>\n",
       "      <td>27.0</td>\n",
       "      <td>55000</td>\n",
       "      <td>Accounting</td>\n",
       "      <td>Female</td>\n",
       "      <td>2021-01-10</td>\n",
       "      <td>NaN</td>\n",
       "      <td>1.7</td>\n",
       "      <td>some_value</td>\n",
       "      <td>Female Accounting</td>\n",
       "    </tr>\n",
       "    <tr>\n",
       "      <th>3</th>\n",
       "      <td>David</td>\n",
       "      <td>NaN</td>\n",
       "      <td>70000</td>\n",
       "      <td>Tech</td>\n",
       "      <td>Male</td>\n",
       "      <td>2018-11-05</td>\n",
       "      <td>4.0</td>\n",
       "      <td>1.8</td>\n",
       "      <td>some_value</td>\n",
       "      <td>Male Tech</td>\n",
       "    </tr>\n",
       "    <tr>\n",
       "      <th>4</th>\n",
       "      <td>Emma</td>\n",
       "      <td>35.0</td>\n",
       "      <td>80000</td>\n",
       "      <td>Marketing</td>\n",
       "      <td>Female</td>\n",
       "      <td>2022-02-28</td>\n",
       "      <td>4.7</td>\n",
       "      <td>1.9</td>\n",
       "      <td>some_value</td>\n",
       "      <td>Female Marketing</td>\n",
       "    </tr>\n",
       "  </tbody>\n",
       "</table>\n",
       "</div>"
      ],
      "text/plain": [
       "     Name   Age Salary       Department  Gender   Hire_Date  \\\n",
       "0   Alice  25.0  55000  Human Resources  Female  2020-03-15   \n",
       "1     Bob  30.0  60000             None    Male  2019-05-20   \n",
       "2  Claire  27.0  55000       Accounting  Female  2021-01-10   \n",
       "3   David   NaN  70000             Tech    Male  2018-11-05   \n",
       "4    Emma  35.0  80000        Marketing  Female  2022-02-28   \n",
       "\n",
       "   Performance_Rating   ID  new_column          another_column  \n",
       "0                 4.5  1.5  some_value  Female Human Resources  \n",
       "1                 3.8  1.6  some_value                     NaN  \n",
       "2                 NaN  1.7  some_value       Female Accounting  \n",
       "3                 4.0  1.8  some_value               Male Tech  \n",
       "4                 4.7  1.9  some_value        Female Marketing  "
      ]
     },
     "execution_count": 132,
     "metadata": {},
     "output_type": "execute_result"
    }
   ],
   "source": [
    "replace_dict = {'HR': 'Human Resources',\n",
    "                'Finance':'Accounting',\n",
    "                'IT':'Tech',\n",
    "                'Public Relations':'Marketing'}\n",
    "df.replace(replace_dict, regex=True)"
   ]
  },
  {
   "cell_type": "markdown",
   "metadata": {
    "id": "k9DyzUs-nGxT"
   },
   "source": [
    "## Challenges"
   ]
  },
  {
   "cell_type": "code",
   "execution_count": 133,
   "metadata": {
    "colab": {
     "base_uri": "https://localhost:8080/",
     "height": 394
    },
    "executionInfo": {
     "elapsed": 6,
     "status": "ok",
     "timestamp": 1713797644308,
     "user": {
      "displayName": "Christopher Galloway",
      "userId": "16329134674817848650"
     },
     "user_tz": -120
    },
    "id": "HuQUZ1qeoTER",
    "outputId": "395b7c30-172f-46ed-e337-9cd478cdec4a"
   },
   "outputs": [
    {
     "data": {
      "text/html": [
       "<div>\n",
       "<style scoped>\n",
       "    .dataframe tbody tr th:only-of-type {\n",
       "        vertical-align: middle;\n",
       "    }\n",
       "\n",
       "    .dataframe tbody tr th {\n",
       "        vertical-align: top;\n",
       "    }\n",
       "\n",
       "    .dataframe thead th {\n",
       "        text-align: right;\n",
       "    }\n",
       "</style>\n",
       "<table border=\"1\" class=\"dataframe\">\n",
       "  <thead>\n",
       "    <tr style=\"text-align: right;\">\n",
       "      <th></th>\n",
       "      <th>City</th>\n",
       "      <th>Population</th>\n",
       "      <th>Area_sq_miles</th>\n",
       "      <th>Country</th>\n",
       "      <th>Year_Founded</th>\n",
       "    </tr>\n",
       "  </thead>\n",
       "  <tbody>\n",
       "    <tr>\n",
       "      <th>0</th>\n",
       "      <td>New York</td>\n",
       "      <td>8622698</td>\n",
       "      <td>302.6</td>\n",
       "      <td>USA</td>\n",
       "      <td>1624.0</td>\n",
       "    </tr>\n",
       "    <tr>\n",
       "      <th>1</th>\n",
       "      <td>New York</td>\n",
       "      <td>8622698</td>\n",
       "      <td>302.6</td>\n",
       "      <td>USA</td>\n",
       "      <td>1624.0</td>\n",
       "    </tr>\n",
       "    <tr>\n",
       "      <th>2</th>\n",
       "      <td>Los Angeles</td>\n",
       "      <td>3990456</td>\n",
       "      <td>468.7</td>\n",
       "      <td>USA</td>\n",
       "      <td>1781.0</td>\n",
       "    </tr>\n",
       "    <tr>\n",
       "      <th>3</th>\n",
       "      <td>Chicago</td>\n",
       "      <td>None</td>\n",
       "      <td>227.3</td>\n",
       "      <td>USA</td>\n",
       "      <td>1833.0</td>\n",
       "    </tr>\n",
       "    <tr>\n",
       "      <th>4</th>\n",
       "      <td>Houston</td>\n",
       "      <td>2312717</td>\n",
       "      <td>627.8</td>\n",
       "      <td>USA</td>\n",
       "      <td>1836.0</td>\n",
       "    </tr>\n",
       "    <tr>\n",
       "      <th>5</th>\n",
       "      <td>San Francisco</td>\n",
       "      <td>870887</td>\n",
       "      <td>46.9</td>\n",
       "      <td>USA</td>\n",
       "      <td>NaN</td>\n",
       "    </tr>\n",
       "    <tr>\n",
       "      <th>6</th>\n",
       "      <td>London</td>\n",
       "      <td>8982000</td>\n",
       "      <td>607.0</td>\n",
       "      <td>United Kingdom</td>\n",
       "      <td>43.0</td>\n",
       "    </tr>\n",
       "    <tr>\n",
       "      <th>7</th>\n",
       "      <td>Paris</td>\n",
       "      <td>2140526</td>\n",
       "      <td>NaN</td>\n",
       "      <td>France</td>\n",
       "      <td>52.0</td>\n",
       "    </tr>\n",
       "    <tr>\n",
       "      <th>8</th>\n",
       "      <td>Tokyo</td>\n",
       "      <td>None</td>\n",
       "      <td>845.8</td>\n",
       "      <td>Japan</td>\n",
       "      <td>660.0</td>\n",
       "    </tr>\n",
       "    <tr>\n",
       "      <th>9</th>\n",
       "      <td>Sydney</td>\n",
       "      <td>2079700</td>\n",
       "      <td>2058.4</td>\n",
       "      <td>Australia</td>\n",
       "      <td>1788.0</td>\n",
       "    </tr>\n",
       "    <tr>\n",
       "      <th>10</th>\n",
       "      <td>Toronto</td>\n",
       "      <td>2930000</td>\n",
       "      <td>630.2</td>\n",
       "      <td>Canada</td>\n",
       "      <td>NaN</td>\n",
       "    </tr>\n",
       "  </tbody>\n",
       "</table>\n",
       "</div>"
      ],
      "text/plain": [
       "             City Population  Area_sq_miles         Country  Year_Founded\n",
       "0        New York    8622698          302.6             USA        1624.0\n",
       "1        New York    8622698          302.6             USA        1624.0\n",
       "2     Los Angeles    3990456          468.7             USA        1781.0\n",
       "3         Chicago       None          227.3             USA        1833.0\n",
       "4         Houston    2312717          627.8             USA        1836.0\n",
       "5   San Francisco     870887           46.9             USA           NaN\n",
       "6          London    8982000          607.0  United Kingdom          43.0\n",
       "7           Paris    2140526            NaN          France          52.0\n",
       "8           Tokyo       None          845.8           Japan         660.0\n",
       "9          Sydney    2079700         2058.4       Australia        1788.0\n",
       "10        Toronto    2930000          630.2          Canada           NaN"
      ]
     },
     "execution_count": 133,
     "metadata": {},
     "output_type": "execute_result"
    }
   ],
   "source": [
    "data = {\n",
    "    'City': ['New York', 'New York', 'Los Angeles', 'Chicago', 'Houston', 'San Francisco', 'London', 'Paris', 'Tokyo', 'Sydney', 'Toronto'],\n",
    "    'Population': [8622698, 8622698, 3990456, None, 2312717, 870887, 8982000, 2140526, None, '2079700', 2930000],\n",
    "    'Area_sq_miles': [302.6, 302.6, 468.7, 227.3, 627.8, 46.9, 607, None, 845.8, 2058.4, 630.2],\n",
    "    'Country': ['USA', 'USA', 'USA', 'USA', 'USA', 'USA', 'United Kingdom', 'France', 'Japan', 'Australia', 'Canada'],\n",
    "    'Year_Founded': [1624, 1624, 1781, 1833, 1836, None, 43, 52, 660, 1788, None]\n",
    "}\n",
    "\n",
    "cities_df = pd.DataFrame(data)\n",
    "\n",
    "cities_df"
   ]
  },
  {
   "cell_type": "markdown",
   "metadata": {
    "id": "fqs30sGipaye"
   },
   "source": [
    "### Challenge 1\n",
    "Convert the 'Population' column to numeric\n"
   ]
  },
  {
   "cell_type": "code",
   "execution_count": 134,
   "metadata": {
    "id": "HwjDYPi-pyeA"
   },
   "outputs": [
    {
     "name": "stdout",
     "output_type": "stream",
     "text": [
      "<class 'pandas.core.frame.DataFrame'>\n",
      "RangeIndex: 11 entries, 0 to 10\n",
      "Data columns (total 5 columns):\n",
      " #   Column         Non-Null Count  Dtype  \n",
      "---  ------         --------------  -----  \n",
      " 0   City           11 non-null     object \n",
      " 1   Population     9 non-null      float64\n",
      " 2   Area_sq_miles  10 non-null     float64\n",
      " 3   Country        11 non-null     object \n",
      " 4   Year_Founded   9 non-null      float64\n",
      "dtypes: float64(3), object(2)\n",
      "memory usage: 572.0+ bytes\n"
     ]
    }
   ],
   "source": [
    "# Your code here\n",
    "cities_df['Population'] = cities_df['Population'].astype('float')\n",
    "cities_df.info()"
   ]
  },
  {
   "cell_type": "markdown",
   "metadata": {
    "id": "ol1muBplpadB"
   },
   "source": [
    "### Challenge 2\n",
    "Fill missing area values with the median area\n",
    "\n"
   ]
  },
  {
   "cell_type": "code",
   "execution_count": 135,
   "metadata": {
    "id": "j7on2ZaEpp0b"
   },
   "outputs": [
    {
     "data": {
      "text/html": [
       "<div>\n",
       "<style scoped>\n",
       "    .dataframe tbody tr th:only-of-type {\n",
       "        vertical-align: middle;\n",
       "    }\n",
       "\n",
       "    .dataframe tbody tr th {\n",
       "        vertical-align: top;\n",
       "    }\n",
       "\n",
       "    .dataframe thead th {\n",
       "        text-align: right;\n",
       "    }\n",
       "</style>\n",
       "<table border=\"1\" class=\"dataframe\">\n",
       "  <thead>\n",
       "    <tr style=\"text-align: right;\">\n",
       "      <th></th>\n",
       "      <th>City</th>\n",
       "      <th>Population</th>\n",
       "      <th>Area_sq_miles</th>\n",
       "      <th>Country</th>\n",
       "      <th>Year_Founded</th>\n",
       "    </tr>\n",
       "  </thead>\n",
       "  <tbody>\n",
       "    <tr>\n",
       "      <th>0</th>\n",
       "      <td>New York</td>\n",
       "      <td>8622698.0</td>\n",
       "      <td>302.60</td>\n",
       "      <td>USA</td>\n",
       "      <td>1624.0</td>\n",
       "    </tr>\n",
       "    <tr>\n",
       "      <th>1</th>\n",
       "      <td>New York</td>\n",
       "      <td>8622698.0</td>\n",
       "      <td>302.60</td>\n",
       "      <td>USA</td>\n",
       "      <td>1624.0</td>\n",
       "    </tr>\n",
       "    <tr>\n",
       "      <th>2</th>\n",
       "      <td>Los Angeles</td>\n",
       "      <td>3990456.0</td>\n",
       "      <td>468.70</td>\n",
       "      <td>USA</td>\n",
       "      <td>1781.0</td>\n",
       "    </tr>\n",
       "    <tr>\n",
       "      <th>3</th>\n",
       "      <td>Chicago</td>\n",
       "      <td>NaN</td>\n",
       "      <td>227.30</td>\n",
       "      <td>USA</td>\n",
       "      <td>1833.0</td>\n",
       "    </tr>\n",
       "    <tr>\n",
       "      <th>4</th>\n",
       "      <td>Houston</td>\n",
       "      <td>2312717.0</td>\n",
       "      <td>627.80</td>\n",
       "      <td>USA</td>\n",
       "      <td>1836.0</td>\n",
       "    </tr>\n",
       "    <tr>\n",
       "      <th>5</th>\n",
       "      <td>San Francisco</td>\n",
       "      <td>870887.0</td>\n",
       "      <td>46.90</td>\n",
       "      <td>USA</td>\n",
       "      <td>NaN</td>\n",
       "    </tr>\n",
       "    <tr>\n",
       "      <th>6</th>\n",
       "      <td>London</td>\n",
       "      <td>8982000.0</td>\n",
       "      <td>607.00</td>\n",
       "      <td>United Kingdom</td>\n",
       "      <td>43.0</td>\n",
       "    </tr>\n",
       "    <tr>\n",
       "      <th>7</th>\n",
       "      <td>Paris</td>\n",
       "      <td>2140526.0</td>\n",
       "      <td>537.85</td>\n",
       "      <td>France</td>\n",
       "      <td>52.0</td>\n",
       "    </tr>\n",
       "    <tr>\n",
       "      <th>8</th>\n",
       "      <td>Tokyo</td>\n",
       "      <td>NaN</td>\n",
       "      <td>845.80</td>\n",
       "      <td>Japan</td>\n",
       "      <td>660.0</td>\n",
       "    </tr>\n",
       "    <tr>\n",
       "      <th>9</th>\n",
       "      <td>Sydney</td>\n",
       "      <td>2079700.0</td>\n",
       "      <td>2058.40</td>\n",
       "      <td>Australia</td>\n",
       "      <td>1788.0</td>\n",
       "    </tr>\n",
       "    <tr>\n",
       "      <th>10</th>\n",
       "      <td>Toronto</td>\n",
       "      <td>2930000.0</td>\n",
       "      <td>630.20</td>\n",
       "      <td>Canada</td>\n",
       "      <td>NaN</td>\n",
       "    </tr>\n",
       "  </tbody>\n",
       "</table>\n",
       "</div>"
      ],
      "text/plain": [
       "             City  Population  Area_sq_miles         Country  Year_Founded\n",
       "0        New York   8622698.0         302.60             USA        1624.0\n",
       "1        New York   8622698.0         302.60             USA        1624.0\n",
       "2     Los Angeles   3990456.0         468.70             USA        1781.0\n",
       "3         Chicago         NaN         227.30             USA        1833.0\n",
       "4         Houston   2312717.0         627.80             USA        1836.0\n",
       "5   San Francisco    870887.0          46.90             USA           NaN\n",
       "6          London   8982000.0         607.00  United Kingdom          43.0\n",
       "7           Paris   2140526.0         537.85          France          52.0\n",
       "8           Tokyo         NaN         845.80           Japan         660.0\n",
       "9          Sydney   2079700.0        2058.40       Australia        1788.0\n",
       "10        Toronto   2930000.0         630.20          Canada           NaN"
      ]
     },
     "execution_count": 135,
     "metadata": {},
     "output_type": "execute_result"
    }
   ],
   "source": [
    "# Your code here\n",
    "area_median = cities_df['Area_sq_miles'].median()\n",
    "#cities_df['Area_sq_miles'].fillna(area_median, inplace = True)\n",
    "#cities_df\n",
    "\n",
    "cities_df.loc[cities_df['Area_sq_miles'].isnull(), 'Area_sq_miles'] = cities_df['Area_sq_miles'].median()\n",
    "cities_df"
   ]
  },
  {
   "cell_type": "markdown",
   "metadata": {
    "id": "NdfOfRr6pasC"
   },
   "source": [
    "### Challenge 3\n",
    "Remove duplicates from the DataFrame\n"
   ]
  },
  {
   "cell_type": "code",
   "execution_count": 136,
   "metadata": {
    "id": "bJqVqYWSpx4V"
   },
   "outputs": [
    {
     "data": {
      "text/html": [
       "<div>\n",
       "<style scoped>\n",
       "    .dataframe tbody tr th:only-of-type {\n",
       "        vertical-align: middle;\n",
       "    }\n",
       "\n",
       "    .dataframe tbody tr th {\n",
       "        vertical-align: top;\n",
       "    }\n",
       "\n",
       "    .dataframe thead th {\n",
       "        text-align: right;\n",
       "    }\n",
       "</style>\n",
       "<table border=\"1\" class=\"dataframe\">\n",
       "  <thead>\n",
       "    <tr style=\"text-align: right;\">\n",
       "      <th></th>\n",
       "      <th>City</th>\n",
       "      <th>Population</th>\n",
       "      <th>Area_sq_miles</th>\n",
       "      <th>Country</th>\n",
       "      <th>Year_Founded</th>\n",
       "    </tr>\n",
       "  </thead>\n",
       "  <tbody>\n",
       "    <tr>\n",
       "      <th>0</th>\n",
       "      <td>New York</td>\n",
       "      <td>8622698.0</td>\n",
       "      <td>302.60</td>\n",
       "      <td>USA</td>\n",
       "      <td>1624.0</td>\n",
       "    </tr>\n",
       "    <tr>\n",
       "      <th>2</th>\n",
       "      <td>Los Angeles</td>\n",
       "      <td>3990456.0</td>\n",
       "      <td>468.70</td>\n",
       "      <td>USA</td>\n",
       "      <td>1781.0</td>\n",
       "    </tr>\n",
       "    <tr>\n",
       "      <th>3</th>\n",
       "      <td>Chicago</td>\n",
       "      <td>NaN</td>\n",
       "      <td>227.30</td>\n",
       "      <td>USA</td>\n",
       "      <td>1833.0</td>\n",
       "    </tr>\n",
       "    <tr>\n",
       "      <th>4</th>\n",
       "      <td>Houston</td>\n",
       "      <td>2312717.0</td>\n",
       "      <td>627.80</td>\n",
       "      <td>USA</td>\n",
       "      <td>1836.0</td>\n",
       "    </tr>\n",
       "    <tr>\n",
       "      <th>5</th>\n",
       "      <td>San Francisco</td>\n",
       "      <td>870887.0</td>\n",
       "      <td>46.90</td>\n",
       "      <td>USA</td>\n",
       "      <td>NaN</td>\n",
       "    </tr>\n",
       "    <tr>\n",
       "      <th>6</th>\n",
       "      <td>London</td>\n",
       "      <td>8982000.0</td>\n",
       "      <td>607.00</td>\n",
       "      <td>United Kingdom</td>\n",
       "      <td>43.0</td>\n",
       "    </tr>\n",
       "    <tr>\n",
       "      <th>7</th>\n",
       "      <td>Paris</td>\n",
       "      <td>2140526.0</td>\n",
       "      <td>537.85</td>\n",
       "      <td>France</td>\n",
       "      <td>52.0</td>\n",
       "    </tr>\n",
       "    <tr>\n",
       "      <th>8</th>\n",
       "      <td>Tokyo</td>\n",
       "      <td>NaN</td>\n",
       "      <td>845.80</td>\n",
       "      <td>Japan</td>\n",
       "      <td>660.0</td>\n",
       "    </tr>\n",
       "    <tr>\n",
       "      <th>9</th>\n",
       "      <td>Sydney</td>\n",
       "      <td>2079700.0</td>\n",
       "      <td>2058.40</td>\n",
       "      <td>Australia</td>\n",
       "      <td>1788.0</td>\n",
       "    </tr>\n",
       "    <tr>\n",
       "      <th>10</th>\n",
       "      <td>Toronto</td>\n",
       "      <td>2930000.0</td>\n",
       "      <td>630.20</td>\n",
       "      <td>Canada</td>\n",
       "      <td>NaN</td>\n",
       "    </tr>\n",
       "  </tbody>\n",
       "</table>\n",
       "</div>"
      ],
      "text/plain": [
       "             City  Population  Area_sq_miles         Country  Year_Founded\n",
       "0        New York   8622698.0         302.60             USA        1624.0\n",
       "2     Los Angeles   3990456.0         468.70             USA        1781.0\n",
       "3         Chicago         NaN         227.30             USA        1833.0\n",
       "4         Houston   2312717.0         627.80             USA        1836.0\n",
       "5   San Francisco    870887.0          46.90             USA           NaN\n",
       "6          London   8982000.0         607.00  United Kingdom          43.0\n",
       "7           Paris   2140526.0         537.85          France          52.0\n",
       "8           Tokyo         NaN         845.80           Japan         660.0\n",
       "9          Sydney   2079700.0        2058.40       Australia        1788.0\n",
       "10        Toronto   2930000.0         630.20          Canada           NaN"
      ]
     },
     "execution_count": 136,
     "metadata": {},
     "output_type": "execute_result"
    }
   ],
   "source": [
    "# Your code here\n",
    "cities_df = cities_df.drop_duplicates()\n",
    "#reset index?\n",
    "cities_df\n",
    "#removing duplicates after filling in areas by mean?"
   ]
  },
  {
   "cell_type": "markdown",
   "metadata": {
    "id": "G1JN_GLuoRGJ"
   },
   "source": [
    "### Challenge 4\n",
    "Fill missing population values with the mean population\n"
   ]
  },
  {
   "cell_type": "code",
   "execution_count": 137,
   "metadata": {
    "id": "iGXsT8sioQq0"
   },
   "outputs": [
    {
     "name": "stdout",
     "output_type": "stream",
     "text": [
      "             City  Population  Area_sq_miles         Country  Year_Founded\n",
      "0        New York   8622698.0         302.60             USA        1624.0\n",
      "2     Los Angeles   3990456.0         468.70             USA        1781.0\n",
      "3         Chicago         NaN         227.30             USA        1833.0\n",
      "4         Houston   2312717.0         627.80             USA        1836.0\n",
      "5   San Francisco    870887.0          46.90             USA           NaN\n",
      "6          London   8982000.0         607.00  United Kingdom          43.0\n",
      "7           Paris   2140526.0         537.85          France          52.0\n",
      "8           Tokyo         NaN         845.80           Japan         660.0\n",
      "9          Sydney   2079700.0        2058.40       Australia        1788.0\n",
      "10        Toronto   2930000.0         630.20          Canada           NaN\n",
      "\n",
      "              City  Population  Area_sq_miles         Country  Year_Founded\n",
      "0        New York   8622698.0         302.60             USA        1624.0\n",
      "2     Los Angeles   3990456.0         468.70             USA        1781.0\n",
      "3         Chicago   3991123.0         227.30             USA        1833.0\n",
      "4         Houston   2312717.0         627.80             USA        1836.0\n",
      "5   San Francisco    870887.0          46.90             USA           NaN\n",
      "6          London   8982000.0         607.00  United Kingdom          43.0\n",
      "7           Paris   2140526.0         537.85          France          52.0\n",
      "8           Tokyo   3991123.0         845.80           Japan         660.0\n",
      "9          Sydney   2079700.0        2058.40       Australia        1788.0\n",
      "10        Toronto   2930000.0         630.20          Canada           NaN\n"
     ]
    }
   ],
   "source": [
    "# Your code here\n",
    "print(cities_df)\n",
    "population_mean = cities_df['Population'].mean()\n",
    "#is None null? How does null looks like? what if no value is entered, just \", ,\"?\n",
    "cities_df.loc[cities_df['Population'].isna(), 'Population'] = population_mean # or .isnull()\n",
    "print('\\n', cities_df)"
   ]
  },
  {
   "cell_type": "markdown",
   "metadata": {
    "id": "-25f7A9Bpa32"
   },
   "source": [
    "### Challenge 5\n",
    "Update the 'Year_Founded' to 1800 for cities with missing year values"
   ]
  },
  {
   "cell_type": "code",
   "execution_count": 138,
   "metadata": {
    "id": "2zzsGB47pyvv"
   },
   "outputs": [
    {
     "name": "stdout",
     "output_type": "stream",
     "text": [
      "             City  Population  Area_sq_miles         Country  Year_Founded\n",
      "0        New York   8622698.0         302.60             USA        1624.0\n",
      "2     Los Angeles   3990456.0         468.70             USA        1781.0\n",
      "3         Chicago   3991123.0         227.30             USA        1833.0\n",
      "4         Houston   2312717.0         627.80             USA        1836.0\n",
      "5   San Francisco    870887.0          46.90             USA           NaN\n",
      "6          London   8982000.0         607.00  United Kingdom          43.0\n",
      "7           Paris   2140526.0         537.85          France          52.0\n",
      "8           Tokyo   3991123.0         845.80           Japan         660.0\n",
      "9          Sydney   2079700.0        2058.40       Australia        1788.0\n",
      "10        Toronto   2930000.0         630.20          Canada           NaN\n",
      "\n",
      "              City  Population  Area_sq_miles         Country  Year_Founded\n",
      "0        New York   8622698.0         302.60             USA        1624.0\n",
      "2     Los Angeles   3990456.0         468.70             USA        1781.0\n",
      "3         Chicago   3991123.0         227.30             USA        1833.0\n",
      "4         Houston   2312717.0         627.80             USA        1836.0\n",
      "5   San Francisco    870887.0          46.90             USA        1800.0\n",
      "6          London   8982000.0         607.00  United Kingdom          43.0\n",
      "7           Paris   2140526.0         537.85          France          52.0\n",
      "8           Tokyo   3991123.0         845.80           Japan         660.0\n",
      "9          Sydney   2079700.0        2058.40       Australia        1788.0\n",
      "10        Toronto   2930000.0         630.20          Canada        1800.0\n"
     ]
    }
   ],
   "source": [
    "# Your code here\n",
    "print(cities_df)\n",
    "cities_df.loc[cities_df['Year_Founded'].isna(), 'Year_Founded'] = 1800 #or is.null()\n",
    "print('\\n', cities_df)"
   ]
  },
  {
   "cell_type": "markdown",
   "metadata": {
    "id": "V5tGN2GyqLuH"
   },
   "source": [
    "### Challenge 6\n",
    "Update the 'Year_Founded' to 1800 for cities in the USA founded before 1800\n"
   ]
  },
  {
   "cell_type": "code",
   "execution_count": 139,
   "metadata": {
    "id": "8mVMwS0LqLuP"
   },
   "outputs": [
    {
     "name": "stdout",
     "output_type": "stream",
     "text": [
      "             City  Population  Area_sq_miles         Country  Year_Founded\n",
      "0        New York   8622698.0         302.60             USA        1624.0\n",
      "2     Los Angeles   3990456.0         468.70             USA        1781.0\n",
      "3         Chicago   3991123.0         227.30             USA        1833.0\n",
      "4         Houston   2312717.0         627.80             USA        1836.0\n",
      "5   San Francisco    870887.0          46.90             USA        1800.0\n",
      "6          London   8982000.0         607.00  United Kingdom          43.0\n",
      "7           Paris   2140526.0         537.85          France          52.0\n",
      "8           Tokyo   3991123.0         845.80           Japan         660.0\n",
      "9          Sydney   2079700.0        2058.40       Australia        1788.0\n",
      "10        Toronto   2930000.0         630.20          Canada        1800.0\n",
      "\n",
      "              City  Population  Area_sq_miles         Country  Year_Founded\n",
      "0        New York   8622698.0         302.60             USA        1800.0\n",
      "2     Los Angeles   3990456.0         468.70             USA        1800.0\n",
      "3         Chicago   3991123.0         227.30             USA        1833.0\n",
      "4         Houston   2312717.0         627.80             USA        1836.0\n",
      "5   San Francisco    870887.0          46.90             USA        1800.0\n",
      "6          London   8982000.0         607.00  United Kingdom        1800.0\n",
      "7           Paris   2140526.0         537.85          France        1800.0\n",
      "8           Tokyo   3991123.0         845.80           Japan        1800.0\n",
      "9          Sydney   2079700.0        2058.40       Australia        1800.0\n",
      "10        Toronto   2930000.0         630.20          Canada        1800.0\n"
     ]
    }
   ],
   "source": [
    "# Your code here\n",
    "print(cities_df)\n",
    "cities_df.loc[cities_df['Year_Founded'] < 1800, 'Year_Founded'] = 1800\n",
    "print('\\n', cities_df)"
   ]
  },
  {
   "cell_type": "markdown",
   "metadata": {
    "id": "R3lqTNbttvoy"
   },
   "source": [
    "### Challenge 7\n",
    "Set the 'Population' to 8 million for cities with a population greater than 8 million"
   ]
  },
  {
   "cell_type": "code",
   "execution_count": 140,
   "metadata": {
    "id": "OiWzxxk0tvoy"
   },
   "outputs": [
    {
     "name": "stdout",
     "output_type": "stream",
     "text": [
      "             City  Population  Area_sq_miles         Country  Year_Founded\n",
      "0        New York   8622698.0         302.60             USA        1800.0\n",
      "2     Los Angeles   3990456.0         468.70             USA        1800.0\n",
      "3         Chicago   3991123.0         227.30             USA        1833.0\n",
      "4         Houston   2312717.0         627.80             USA        1836.0\n",
      "5   San Francisco    870887.0          46.90             USA        1800.0\n",
      "6          London   8982000.0         607.00  United Kingdom        1800.0\n",
      "7           Paris   2140526.0         537.85          France        1800.0\n",
      "8           Tokyo   3991123.0         845.80           Japan        1800.0\n",
      "9          Sydney   2079700.0        2058.40       Australia        1800.0\n",
      "10        Toronto   2930000.0         630.20          Canada        1800.0\n",
      "\n",
      "              City  Population  Area_sq_miles         Country  Year_Founded\n",
      "0        New York   8000000.0         302.60             USA        1800.0\n",
      "2     Los Angeles   3990456.0         468.70             USA        1800.0\n",
      "3         Chicago   3991123.0         227.30             USA        1833.0\n",
      "4         Houston   2312717.0         627.80             USA        1836.0\n",
      "5   San Francisco    870887.0          46.90             USA        1800.0\n",
      "6          London   8000000.0         607.00  United Kingdom        1800.0\n",
      "7           Paris   2140526.0         537.85          France        1800.0\n",
      "8           Tokyo   3991123.0         845.80           Japan        1800.0\n",
      "9          Sydney   2079700.0        2058.40       Australia        1800.0\n",
      "10        Toronto   2930000.0         630.20          Canada        1800.0\n"
     ]
    }
   ],
   "source": [
    "# Your code here\n",
    "print(cities_df)\n",
    "cities_df.loc[cities_df['Population'] > 8000000, 'Population'] = 8000000\n",
    "print('\\n', cities_df)"
   ]
  },
  {
   "cell_type": "markdown",
   "metadata": {
    "id": "2koTA9lOtvoz"
   },
   "source": [
    "### Challenge 8\n",
    "Use .replace() to update 'Country' names 'United Kingdom' to 'UK' and 'Canada' to 'CAN'\n"
   ]
  },
  {
   "cell_type": "code",
   "execution_count": 141,
   "metadata": {
    "id": "0bpQDAy_tvoz"
   },
   "outputs": [
    {
     "name": "stdout",
     "output_type": "stream",
     "text": [
      "             City  Population  Area_sq_miles         Country  Year_Founded\n",
      "0        New York   8000000.0         302.60             USA        1800.0\n",
      "2     Los Angeles   3990456.0         468.70             USA        1800.0\n",
      "3         Chicago   3991123.0         227.30             USA        1833.0\n",
      "4         Houston   2312717.0         627.80             USA        1836.0\n",
      "5   San Francisco    870887.0          46.90             USA        1800.0\n",
      "6          London   8000000.0         607.00  United Kingdom        1800.0\n",
      "7           Paris   2140526.0         537.85          France        1800.0\n",
      "8           Tokyo   3991123.0         845.80           Japan        1800.0\n",
      "9          Sydney   2079700.0        2058.40       Australia        1800.0\n",
      "10        Toronto   2930000.0         630.20          Canada        1800.0\n",
      "             City  Population  Area_sq_miles Country  Year_Founded\n",
      "0        New York   8000000.0         302.60     USA        1800.0\n",
      "2     Los Angeles   3990456.0         468.70     USA        1800.0\n",
      "3         Chicago   3991123.0         227.30     USA        1833.0\n",
      "4         Houston   2312717.0         627.80     USA        1836.0\n",
      "5   San Francisco    870887.0          46.90     USA        1800.0\n",
      "6          London   8000000.0         607.00      UK        1800.0\n",
      "7           Paris   2140526.0         537.85     FRA        1800.0\n",
      "8           Tokyo   3991123.0         845.80     JAP        1800.0\n",
      "9          Sydney   2079700.0        2058.40     AUS        1800.0\n",
      "10        Toronto   2930000.0         630.20     CAN        1800.0\n"
     ]
    }
   ],
   "source": [
    "# Your code here\n",
    "print(cities_df)\n",
    "cities_df.loc[cities_df['Country'] == 'United Kingdom', 'Country'] = 'UK'\n",
    "cities_df.loc[cities_df['Country'] == 'Canada', 'Country'] = 'CAN'\n",
    "cities_df.loc[cities_df['Country'] == 'France', 'Country'] = 'FRA'\n",
    "cities_df.loc[cities_df['Country'] == 'Japan', 'Country'] = 'JAP'\n",
    "cities_df.loc[cities_df['Country'] == 'Australia', 'Country'] = 'AUS'\n",
    "print(cities_df)"
   ]
  },
  {
   "cell_type": "markdown",
   "metadata": {
    "id": "KMICdiUUC468"
   },
   "source": [
    "### Challenge 9\n",
    "Concatenate 'City' and 'Country' columns into a new 'Location' column\n"
   ]
  },
  {
   "cell_type": "code",
   "execution_count": 142,
   "metadata": {
    "id": "a2uWmAIMC468"
   },
   "outputs": [
    {
     "name": "stdout",
     "output_type": "stream",
     "text": [
      "             City  Population  Area_sq_miles Country  Year_Founded\n",
      "0        New York   8000000.0         302.60     USA        1800.0\n",
      "2     Los Angeles   3990456.0         468.70     USA        1800.0\n",
      "3         Chicago   3991123.0         227.30     USA        1833.0\n",
      "4         Houston   2312717.0         627.80     USA        1836.0\n",
      "5   San Francisco    870887.0          46.90     USA        1800.0\n",
      "6          London   8000000.0         607.00      UK        1800.0\n",
      "7           Paris   2140526.0         537.85     FRA        1800.0\n",
      "8           Tokyo   3991123.0         845.80     JAP        1800.0\n",
      "9          Sydney   2079700.0        2058.40     AUS        1800.0\n",
      "10        Toronto   2930000.0         630.20     CAN        1800.0\n",
      "\n",
      "              City  Population  Area_sq_miles Country  Year_Founded  \\\n",
      "0        New York   8000000.0         302.60     USA        1800.0   \n",
      "2     Los Angeles   3990456.0         468.70     USA        1800.0   \n",
      "3         Chicago   3991123.0         227.30     USA        1833.0   \n",
      "4         Houston   2312717.0         627.80     USA        1836.0   \n",
      "5   San Francisco    870887.0          46.90     USA        1800.0   \n",
      "6          London   8000000.0         607.00      UK        1800.0   \n",
      "7           Paris   2140526.0         537.85     FRA        1800.0   \n",
      "8           Tokyo   3991123.0         845.80     JAP        1800.0   \n",
      "9          Sydney   2079700.0        2058.40     AUS        1800.0   \n",
      "10        Toronto   2930000.0         630.20     CAN        1800.0   \n",
      "\n",
      "              Location  \n",
      "0        New York, USA  \n",
      "2     Los Angeles, USA  \n",
      "3         Chicago, USA  \n",
      "4         Houston, USA  \n",
      "5   San Francisco, USA  \n",
      "6           London, UK  \n",
      "7           Paris, FRA  \n",
      "8           Tokyo, JAP  \n",
      "9          Sydney, AUS  \n",
      "10        Toronto, CAN  \n"
     ]
    }
   ],
   "source": [
    "# Your code here\n",
    "print(cities_df)\n",
    "\n",
    "cities_location_df = pd.DataFrame(cities_df['City'] + ', ' + cities_df['Country'], columns = ['Location'])\n",
    "cities_df = pd.concat([cities_df, cities_location_df], axis = 1)\n",
    "print('\\n', cities_df)"
   ]
  },
  {
   "cell_type": "markdown",
   "metadata": {
    "id": "_g5pZQL2C468"
   },
   "source": [
    "### Challenge 10\n",
    "Drop the 'Location' column"
   ]
  },
  {
   "cell_type": "code",
   "execution_count": 143,
   "metadata": {
    "id": "C9LQcxojC468"
   },
   "outputs": [
    {
     "name": "stdout",
     "output_type": "stream",
     "text": [
      "             City  Population  Area_sq_miles Country  Year_Founded  \\\n",
      "0        New York   8000000.0         302.60     USA        1800.0   \n",
      "2     Los Angeles   3990456.0         468.70     USA        1800.0   \n",
      "3         Chicago   3991123.0         227.30     USA        1833.0   \n",
      "4         Houston   2312717.0         627.80     USA        1836.0   \n",
      "5   San Francisco    870887.0          46.90     USA        1800.0   \n",
      "6          London   8000000.0         607.00      UK        1800.0   \n",
      "7           Paris   2140526.0         537.85     FRA        1800.0   \n",
      "8           Tokyo   3991123.0         845.80     JAP        1800.0   \n",
      "9          Sydney   2079700.0        2058.40     AUS        1800.0   \n",
      "10        Toronto   2930000.0         630.20     CAN        1800.0   \n",
      "\n",
      "              Location  \n",
      "0        New York, USA  \n",
      "2     Los Angeles, USA  \n",
      "3         Chicago, USA  \n",
      "4         Houston, USA  \n",
      "5   San Francisco, USA  \n",
      "6           London, UK  \n",
      "7           Paris, FRA  \n",
      "8           Tokyo, JAP  \n",
      "9          Sydney, AUS  \n",
      "10        Toronto, CAN  \n",
      "\n",
      "              City  Population  Area_sq_miles Country  Year_Founded\n",
      "0        New York   8000000.0         302.60     USA        1800.0\n",
      "2     Los Angeles   3990456.0         468.70     USA        1800.0\n",
      "3         Chicago   3991123.0         227.30     USA        1833.0\n",
      "4         Houston   2312717.0         627.80     USA        1836.0\n",
      "5   San Francisco    870887.0          46.90     USA        1800.0\n",
      "6          London   8000000.0         607.00      UK        1800.0\n",
      "7           Paris   2140526.0         537.85     FRA        1800.0\n",
      "8           Tokyo   3991123.0         845.80     JAP        1800.0\n",
      "9          Sydney   2079700.0        2058.40     AUS        1800.0\n",
      "10        Toronto   2930000.0         630.20     CAN        1800.0\n"
     ]
    }
   ],
   "source": [
    "# Your code here\n",
    "print(cities_df)\n",
    "cities_df = cities_df.drop('Location', axis = 1)\n",
    "print('\\n', cities_df)"
   ]
  },
  {
   "cell_type": "markdown",
   "metadata": {
    "id": "f7p3NXKWC468"
   },
   "source": [
    "### Challenge 11\n",
    "Create a new column 'Size' and assign it a value 'unknown' to all rows\n"
   ]
  },
  {
   "cell_type": "code",
   "execution_count": 144,
   "metadata": {
    "id": "V-mjTukpC468"
   },
   "outputs": [
    {
     "data": {
      "text/html": [
       "<div>\n",
       "<style scoped>\n",
       "    .dataframe tbody tr th:only-of-type {\n",
       "        vertical-align: middle;\n",
       "    }\n",
       "\n",
       "    .dataframe tbody tr th {\n",
       "        vertical-align: top;\n",
       "    }\n",
       "\n",
       "    .dataframe thead th {\n",
       "        text-align: right;\n",
       "    }\n",
       "</style>\n",
       "<table border=\"1\" class=\"dataframe\">\n",
       "  <thead>\n",
       "    <tr style=\"text-align: right;\">\n",
       "      <th></th>\n",
       "      <th>City</th>\n",
       "      <th>Population</th>\n",
       "      <th>Area_sq_miles</th>\n",
       "      <th>Country</th>\n",
       "      <th>Year_Founded</th>\n",
       "      <th>Size</th>\n",
       "    </tr>\n",
       "  </thead>\n",
       "  <tbody>\n",
       "    <tr>\n",
       "      <th>0</th>\n",
       "      <td>New York</td>\n",
       "      <td>8000000.0</td>\n",
       "      <td>302.60</td>\n",
       "      <td>USA</td>\n",
       "      <td>1800.0</td>\n",
       "      <td>unknown</td>\n",
       "    </tr>\n",
       "    <tr>\n",
       "      <th>2</th>\n",
       "      <td>Los Angeles</td>\n",
       "      <td>3990456.0</td>\n",
       "      <td>468.70</td>\n",
       "      <td>USA</td>\n",
       "      <td>1800.0</td>\n",
       "      <td>unknown</td>\n",
       "    </tr>\n",
       "    <tr>\n",
       "      <th>3</th>\n",
       "      <td>Chicago</td>\n",
       "      <td>3991123.0</td>\n",
       "      <td>227.30</td>\n",
       "      <td>USA</td>\n",
       "      <td>1833.0</td>\n",
       "      <td>unknown</td>\n",
       "    </tr>\n",
       "    <tr>\n",
       "      <th>4</th>\n",
       "      <td>Houston</td>\n",
       "      <td>2312717.0</td>\n",
       "      <td>627.80</td>\n",
       "      <td>USA</td>\n",
       "      <td>1836.0</td>\n",
       "      <td>unknown</td>\n",
       "    </tr>\n",
       "    <tr>\n",
       "      <th>5</th>\n",
       "      <td>San Francisco</td>\n",
       "      <td>870887.0</td>\n",
       "      <td>46.90</td>\n",
       "      <td>USA</td>\n",
       "      <td>1800.0</td>\n",
       "      <td>unknown</td>\n",
       "    </tr>\n",
       "    <tr>\n",
       "      <th>6</th>\n",
       "      <td>London</td>\n",
       "      <td>8000000.0</td>\n",
       "      <td>607.00</td>\n",
       "      <td>UK</td>\n",
       "      <td>1800.0</td>\n",
       "      <td>unknown</td>\n",
       "    </tr>\n",
       "    <tr>\n",
       "      <th>7</th>\n",
       "      <td>Paris</td>\n",
       "      <td>2140526.0</td>\n",
       "      <td>537.85</td>\n",
       "      <td>FRA</td>\n",
       "      <td>1800.0</td>\n",
       "      <td>unknown</td>\n",
       "    </tr>\n",
       "    <tr>\n",
       "      <th>8</th>\n",
       "      <td>Tokyo</td>\n",
       "      <td>3991123.0</td>\n",
       "      <td>845.80</td>\n",
       "      <td>JAP</td>\n",
       "      <td>1800.0</td>\n",
       "      <td>unknown</td>\n",
       "    </tr>\n",
       "    <tr>\n",
       "      <th>9</th>\n",
       "      <td>Sydney</td>\n",
       "      <td>2079700.0</td>\n",
       "      <td>2058.40</td>\n",
       "      <td>AUS</td>\n",
       "      <td>1800.0</td>\n",
       "      <td>unknown</td>\n",
       "    </tr>\n",
       "    <tr>\n",
       "      <th>10</th>\n",
       "      <td>Toronto</td>\n",
       "      <td>2930000.0</td>\n",
       "      <td>630.20</td>\n",
       "      <td>CAN</td>\n",
       "      <td>1800.0</td>\n",
       "      <td>unknown</td>\n",
       "    </tr>\n",
       "  </tbody>\n",
       "</table>\n",
       "</div>"
      ],
      "text/plain": [
       "             City  Population  Area_sq_miles Country  Year_Founded     Size\n",
       "0        New York   8000000.0         302.60     USA        1800.0  unknown\n",
       "2     Los Angeles   3990456.0         468.70     USA        1800.0  unknown\n",
       "3         Chicago   3991123.0         227.30     USA        1833.0  unknown\n",
       "4         Houston   2312717.0         627.80     USA        1836.0  unknown\n",
       "5   San Francisco    870887.0          46.90     USA        1800.0  unknown\n",
       "6          London   8000000.0         607.00      UK        1800.0  unknown\n",
       "7           Paris   2140526.0         537.85     FRA        1800.0  unknown\n",
       "8           Tokyo   3991123.0         845.80     JAP        1800.0  unknown\n",
       "9          Sydney   2079700.0        2058.40     AUS        1800.0  unknown\n",
       "10        Toronto   2930000.0         630.20     CAN        1800.0  unknown"
      ]
     },
     "execution_count": 144,
     "metadata": {},
     "output_type": "execute_result"
    }
   ],
   "source": [
    "# Your code here\n",
    "cities_df['Size'] = 'unknown'\n",
    "cities_df"
   ]
  },
  {
   "cell_type": "markdown",
   "metadata": {
    "id": "m5yLjExEC468"
   },
   "source": [
    "### Challenge 12\n",
    "Change Size to 'Small' for all cities with 'Area_sq_miles' less than 400.  \n",
    "Change Size to 'Big' for all cities with 'Area_sq_miles' bigger than 400."
   ]
  },
  {
   "cell_type": "code",
   "execution_count": 145,
   "metadata": {
    "id": "GsmfH82EC469"
   },
   "outputs": [
    {
     "data": {
      "text/html": [
       "<div>\n",
       "<style scoped>\n",
       "    .dataframe tbody tr th:only-of-type {\n",
       "        vertical-align: middle;\n",
       "    }\n",
       "\n",
       "    .dataframe tbody tr th {\n",
       "        vertical-align: top;\n",
       "    }\n",
       "\n",
       "    .dataframe thead th {\n",
       "        text-align: right;\n",
       "    }\n",
       "</style>\n",
       "<table border=\"1\" class=\"dataframe\">\n",
       "  <thead>\n",
       "    <tr style=\"text-align: right;\">\n",
       "      <th></th>\n",
       "      <th>City</th>\n",
       "      <th>Population</th>\n",
       "      <th>Area_sq_miles</th>\n",
       "      <th>Country</th>\n",
       "      <th>Year_Founded</th>\n",
       "      <th>Size</th>\n",
       "    </tr>\n",
       "  </thead>\n",
       "  <tbody>\n",
       "    <tr>\n",
       "      <th>0</th>\n",
       "      <td>New York</td>\n",
       "      <td>8000000.0</td>\n",
       "      <td>302.60</td>\n",
       "      <td>USA</td>\n",
       "      <td>1800.0</td>\n",
       "      <td>Small</td>\n",
       "    </tr>\n",
       "    <tr>\n",
       "      <th>2</th>\n",
       "      <td>Los Angeles</td>\n",
       "      <td>3990456.0</td>\n",
       "      <td>468.70</td>\n",
       "      <td>USA</td>\n",
       "      <td>1800.0</td>\n",
       "      <td>Big</td>\n",
       "    </tr>\n",
       "    <tr>\n",
       "      <th>3</th>\n",
       "      <td>Chicago</td>\n",
       "      <td>3991123.0</td>\n",
       "      <td>227.30</td>\n",
       "      <td>USA</td>\n",
       "      <td>1833.0</td>\n",
       "      <td>Small</td>\n",
       "    </tr>\n",
       "    <tr>\n",
       "      <th>4</th>\n",
       "      <td>Houston</td>\n",
       "      <td>2312717.0</td>\n",
       "      <td>627.80</td>\n",
       "      <td>USA</td>\n",
       "      <td>1836.0</td>\n",
       "      <td>Big</td>\n",
       "    </tr>\n",
       "    <tr>\n",
       "      <th>5</th>\n",
       "      <td>San Francisco</td>\n",
       "      <td>870887.0</td>\n",
       "      <td>46.90</td>\n",
       "      <td>USA</td>\n",
       "      <td>1800.0</td>\n",
       "      <td>Small</td>\n",
       "    </tr>\n",
       "    <tr>\n",
       "      <th>6</th>\n",
       "      <td>London</td>\n",
       "      <td>8000000.0</td>\n",
       "      <td>607.00</td>\n",
       "      <td>UK</td>\n",
       "      <td>1800.0</td>\n",
       "      <td>Big</td>\n",
       "    </tr>\n",
       "    <tr>\n",
       "      <th>7</th>\n",
       "      <td>Paris</td>\n",
       "      <td>2140526.0</td>\n",
       "      <td>537.85</td>\n",
       "      <td>FRA</td>\n",
       "      <td>1800.0</td>\n",
       "      <td>Big</td>\n",
       "    </tr>\n",
       "    <tr>\n",
       "      <th>8</th>\n",
       "      <td>Tokyo</td>\n",
       "      <td>3991123.0</td>\n",
       "      <td>845.80</td>\n",
       "      <td>JAP</td>\n",
       "      <td>1800.0</td>\n",
       "      <td>Big</td>\n",
       "    </tr>\n",
       "    <tr>\n",
       "      <th>9</th>\n",
       "      <td>Sydney</td>\n",
       "      <td>2079700.0</td>\n",
       "      <td>2058.40</td>\n",
       "      <td>AUS</td>\n",
       "      <td>1800.0</td>\n",
       "      <td>Big</td>\n",
       "    </tr>\n",
       "    <tr>\n",
       "      <th>10</th>\n",
       "      <td>Toronto</td>\n",
       "      <td>2930000.0</td>\n",
       "      <td>630.20</td>\n",
       "      <td>CAN</td>\n",
       "      <td>1800.0</td>\n",
       "      <td>Big</td>\n",
       "    </tr>\n",
       "  </tbody>\n",
       "</table>\n",
       "</div>"
      ],
      "text/plain": [
       "             City  Population  Area_sq_miles Country  Year_Founded   Size\n",
       "0        New York   8000000.0         302.60     USA        1800.0  Small\n",
       "2     Los Angeles   3990456.0         468.70     USA        1800.0    Big\n",
       "3         Chicago   3991123.0         227.30     USA        1833.0  Small\n",
       "4         Houston   2312717.0         627.80     USA        1836.0    Big\n",
       "5   San Francisco    870887.0          46.90     USA        1800.0  Small\n",
       "6          London   8000000.0         607.00      UK        1800.0    Big\n",
       "7           Paris   2140526.0         537.85     FRA        1800.0    Big\n",
       "8           Tokyo   3991123.0         845.80     JAP        1800.0    Big\n",
       "9          Sydney   2079700.0        2058.40     AUS        1800.0    Big\n",
       "10        Toronto   2930000.0         630.20     CAN        1800.0    Big"
      ]
     },
     "execution_count": 145,
     "metadata": {},
     "output_type": "execute_result"
    }
   ],
   "source": [
    "# Your code here\n",
    "cities_df.loc[cities_df['Area_sq_miles'] < 400, 'Size'] = 'Small'\n",
    "cities_df['Size'] = cities_df['Size'].where(cities_df['Area_sq_miles'] < 400, 'Big')\n",
    "cities_df['Size'] = cities_df['Size'].replace({'unknown': 400})\n",
    "cities_df"
   ]
  }
 ],
 "metadata": {
  "colab": {
   "provenance": [
    {
     "file_id": "130UsZcM6Wd5o4vbbWqVLeSQJZMf6ZQsT",
     "timestamp": 1710344715111
    }
   ],
   "toc_visible": true
  },
  "kernelspec": {
   "display_name": "base",
   "language": "python",
   "name": "python3"
  },
  "language_info": {
   "codemirror_mode": {
    "name": "ipython",
    "version": 3
   },
   "file_extension": ".py",
   "mimetype": "text/x-python",
   "name": "python",
   "nbconvert_exporter": "python",
   "pygments_lexer": "ipython3",
   "version": "3.12.4"
  }
 },
 "nbformat": 4,
 "nbformat_minor": 0
}
