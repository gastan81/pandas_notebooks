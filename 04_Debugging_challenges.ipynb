{
 "cells": [
  {
   "cell_type": "markdown",
   "metadata": {
    "id": "eGqyDOiK4nv5"
   },
   "source": [
    "# Debugging Python code\n",
    "\n",
    "Go through the exercises below.\n",
    "\n",
    "- Each exercise contains some code with **one or more mistakes**.\n",
    "- **Important**: note that the mistakes can either prompt an error or not. Some mistakes are \"logical errors\", and you will have to understand why the output is not the desired one.\n",
    "- There might be multiple ways to fix the mistakes.\n",
    "- Improving the code readability is also encouraged."
   ]
  },
  {
   "cell_type": "code",
   "execution_count": 4,
   "metadata": {
    "id": "7teQ1W7aJKqR"
   },
   "outputs": [],
   "source": [
    "# data creation\n",
    "beatles = [\"John Lennon\", \"Paul McCartney\", \"George Harrison\", \"Ringo Starr\"]\n",
    "\n",
    "numbers = [1, 2, 3, 4, 5]\n",
    "\n",
    "capitals = {\"Germany\": \"Berlin\",\n",
    "            \"Russia\": \"Moscow\",\n",
    "            \"France\": \"Paris\",\n",
    "            \"China\": \"Beijing\",\n",
    "            \"Egypt\": \"Cairo\",\n",
    "            \"Brazil\": \"Sao Paulo\"\n",
    "            }\n",
    "\n",
    "top_profitable_films = {\n",
    "    \"Film\": [\"Avengers: Endgame\", \"Avatar\", \"Titanic\", \"Star Wars: The Force Awakens\", \"Jurassic World\",\n",
    "             \"The Lion King\", \"The Avengers\", \"Frozen II\", \"Frozen\", \"Beauty and the Beast\"],\n",
    "    \"Year\": [\"2019\", \"2007\", \"1997\", \"2015\", \"2015\", \"2019\", \"2012\", \"2019\", \"2013\", \"2017\"],\n",
    "    \"Worldwide Gross (in billions)\": [\"2.798\", \"2.789\", \"2.194\", \"2.073\", \"1.673\", \"1.656\", \"1.519\",\n",
    "                                      \"1.450\", \"1.276\", \"1.263\"]\n",
    "    }"
   ]
  },
  {
   "cell_type": "markdown",
   "metadata": {
    "id": "BaJkDo5mMZX2"
   },
   "source": [
    "## Exercise 1:"
   ]
  },
  {
   "cell_type": "code",
   "execution_count": null,
   "metadata": {
    "colab": {
     "base_uri": "https://localhost:8080/",
     "height": 162
    },
    "executionInfo": {
     "elapsed": 3,
     "status": "error",
     "timestamp": 1711030461837,
     "user": {
      "displayName": "Guillem Perdigo",
      "userId": "04677264432036902014"
     },
     "user_tz": -60
    },
    "id": "05L7VqDMKfx2",
    "outputId": "a23b2365-cabd-4e3f-dacc-e38b37d85d9c"
   },
   "outputs": [],
   "source": [
    "for c in Capitals.keys():\n",
    "  print(f\"{c} is the capital of {Capitals[c]}.\")"
   ]
  },
  {
   "cell_type": "code",
   "execution_count": 6,
   "metadata": {
    "id": "6pVyeB8poUGk"
   },
   "outputs": [
    {
     "name": "stdout",
     "output_type": "stream",
     "text": [
      "Berlin is the capital of Germany.\n",
      "Moscow is the capital of Russia.\n",
      "Paris is the capital of France.\n",
      "Beijing is the capital of China.\n",
      "Cairo is the capital of Egypt.\n",
      "Sao Paulo is the capital of Brazil.\n"
     ]
    }
   ],
   "source": [
    "# your code here\n",
    "for c in capitals.keys():\n",
    "  print(f\"{capitals[c]} is the capital of {c}.\")"
   ]
  },
  {
   "cell_type": "markdown",
   "metadata": {
    "id": "Ktqf8UlUT7Wo"
   },
   "source": [
    "## Exercise 2:\n",
    "Let's imagine we want to show our love for Ringo Starr and print a love statement for him as many times as numbers are in the `numbers` list. For all Beatles who are not Ringo, we want to print as many times a hate statement. The output should look like this:\n",
    "\n",
    "```\n",
    "I hate John Lennon!\n",
    "I hate Paul McCartney!\n",
    "I hate George Harrison!\n",
    "I love Ringo Starr!\n",
    "\n",
    "\n",
    "I hate John Lennon!\n",
    "I hate Paul McCartney!\n",
    "I hate George Harrison!\n",
    "I love Ringo Starr!\n",
    "\n",
    "\n",
    "I hate John Lennon!\n",
    "I hate Paul McCartney!\n",
    "I hate George Harrison!\n",
    "I love Ringo Starr!\n",
    "\n",
    "\n",
    "I hate John Lennon!\n",
    "I hate Paul McCartney!\n",
    "I hate George Harrison!\n",
    "I love Ringo Starr!\n",
    "\n",
    "\n",
    "I hate John Lennon!\n",
    "I hate Paul McCartney!\n",
    "I hate George Harrison!\n",
    "I love Ringo Starr!\n",
    "```\n",
    "\n"
   ]
  },
  {
   "cell_type": "code",
   "execution_count": null,
   "metadata": {
    "id": "cb212PumTUM-"
   },
   "outputs": [],
   "source": [
    "for beatle in beatles:\n",
    "  if beatle = \"Ringo Starr\":\n",
    "    for n in numbers:\n",
    "      print(f\"I love {beatle}!\")\n",
    "  if beatle != \"Ringo Starr\":\n",
    "    print(f\"I hate {beatle}!\")\n",
    "      print(\"\\n\")"
   ]
  },
  {
   "cell_type": "code",
   "execution_count": 7,
   "metadata": {
    "id": "J69Sx-XfoafE"
   },
   "outputs": [
    {
     "name": "stdout",
     "output_type": "stream",
     "text": [
      "I hate John Lennon!\n",
      "I hate Paul McCartney!\n",
      "I hate George Harrison!\n",
      "I love Ringo Starr!\n",
      "\n",
      "\n",
      "I hate John Lennon!\n",
      "I hate Paul McCartney!\n",
      "I hate George Harrison!\n",
      "I love Ringo Starr!\n",
      "\n",
      "\n",
      "I hate John Lennon!\n",
      "I hate Paul McCartney!\n",
      "I hate George Harrison!\n",
      "I love Ringo Starr!\n",
      "\n",
      "\n",
      "I hate John Lennon!\n",
      "I hate Paul McCartney!\n",
      "I hate George Harrison!\n",
      "I love Ringo Starr!\n",
      "\n",
      "\n",
      "I hate John Lennon!\n",
      "I hate Paul McCartney!\n",
      "I hate George Harrison!\n",
      "I love Ringo Starr!\n",
      "\n",
      "\n"
     ]
    }
   ],
   "source": [
    "# your code here\n",
    "# https://www.youtube.com/watch?v=hV8JFj17AtY\n",
    "for n in numbers:\n",
    "  for beatle in beatles:\n",
    "    if beatle == \"Ringo Starr\":\n",
    "      print(f\"I love {beatle}!\")\n",
    "    if beatle != \"Ringo Starr\":\n",
    "      print(f\"I hate {beatle}!\")\n",
    "  print(\"\\n\")"
   ]
  },
  {
   "cell_type": "markdown",
   "metadata": {
    "id": "cOKlhWRqMQF1"
   },
   "source": [
    "## Exercise 3:"
   ]
  },
  {
   "cell_type": "code",
   "execution_count": null,
   "metadata": {
    "id": "h6PF4HQfMiex"
   },
   "outputs": [],
   "source": [
    "#!pip install pandas\n",
    "import pandas as pd\n",
    "\n",
    "top_profitable_films = pd.DataFrame(top_profitable_films)\n",
    "top_profitable_films.head"
   ]
  },
  {
   "cell_type": "code",
   "execution_count": 8,
   "metadata": {
    "id": "WbQipHEgoe-m"
   },
   "outputs": [
    {
     "data": {
      "text/plain": [
       "<bound method NDFrame.head of                            Film  Year Worldwide Gross (in billions)\n",
       "0             Avengers: Endgame  2019                         2.798\n",
       "1                        Avatar  2007                         2.789\n",
       "2                       Titanic  1997                         2.194\n",
       "3  Star Wars: The Force Awakens  2015                         2.073\n",
       "4                Jurassic World  2015                         1.673\n",
       "5                 The Lion King  2019                         1.656\n",
       "6                  The Avengers  2012                         1.519\n",
       "7                     Frozen II  2019                         1.450\n",
       "8                        Frozen  2013                         1.276\n",
       "9          Beauty and the Beast  2017                         1.263>"
      ]
     },
     "execution_count": 8,
     "metadata": {},
     "output_type": "execute_result"
    }
   ],
   "source": [
    "# your code here\n",
    "import pandas as pd\n",
    "top_profitable_films = pd.DataFrame(top_profitable_films)\n",
    "top_profitable_films.head"
   ]
  },
  {
   "cell_type": "code",
   "execution_count": null,
   "metadata": {},
   "outputs": [
    {
     "name": "stdout",
     "output_type": "stream",
     "text": [
      "c:\\Program Files\\Python312\\python.exe\n"
     ]
    }
   ],
   "source": [
    "import sys\n",
    "print(sys.executable)"
   ]
  },
  {
   "cell_type": "markdown",
   "metadata": {
    "id": "nuQNxD6HOcMP"
   },
   "source": [
    "## Exercise 4:\n",
    "\n",
    "We realised that, in our top_films_df, the year of the movie Avatar is wrong. We want to replace it for the correct one, 2009:"
   ]
  },
  {
   "cell_type": "code",
   "execution_count": null,
   "metadata": {
    "id": "03M8YhGWRW5f"
   },
   "outputs": [],
   "source": [
    "top_films_df[top_films_df[\"Film\"]==\"Avatar\"][\"Year\"] = \"2009\""
   ]
  },
  {
   "cell_type": "code",
   "execution_count": 9,
   "metadata": {
    "id": "EqszsErnolRF"
   },
   "outputs": [
    {
     "name": "stdout",
     "output_type": "stream",
     "text": [
      "                           Film  Year Worldwide Gross (in billions)\n",
      "0             Avengers: Endgame  2019                         2.798\n",
      "1                        Avatar  2009                         2.789\n",
      "2                       Titanic  1997                         2.194\n",
      "3  Star Wars: The Force Awakens  2015                         2.073\n",
      "4                Jurassic World  2015                         1.673\n",
      "5                 The Lion King  2019                         1.656\n",
      "6                  The Avengers  2012                         1.519\n",
      "7                     Frozen II  2019                         1.450\n",
      "8                        Frozen  2013                         1.276\n",
      "9          Beauty and the Beast  2017                         1.263\n"
     ]
    }
   ],
   "source": [
    "# your code here\n",
    "top_profitable_films.loc[top_profitable_films[\"Film\"]==\"Avatar\", \"Year\"] = 2009\n",
    "print(top_profitable_films)"
   ]
  },
  {
   "cell_type": "markdown",
   "metadata": {
    "id": "OwCeBaNYS_aM"
   },
   "source": [
    "## Exercise 5:\n",
    "\n",
    "We want to get the average gross profit of all films:"
   ]
  },
  {
   "cell_type": "code",
   "execution_count": null,
   "metadata": {
    "id": "ChhryXzVZK4G"
   },
   "outputs": [],
   "source": [
    "pd.to_numeric(top_profitable_films[\"Worldwide Gross (in billions)\"])"
   ]
  },
  {
   "cell_type": "code",
   "execution_count": 10,
   "metadata": {
    "id": "-6k9YAj9oqzn"
   },
   "outputs": [
    {
     "data": {
      "text/plain": [
       "1.8691000000000002"
      ]
     },
     "execution_count": 10,
     "metadata": {},
     "output_type": "execute_result"
    }
   ],
   "source": [
    "# your code here\n",
    "pd.to_numeric(top_profitable_films[\"Worldwide Gross (in billions)\"]).mean()\n",
    "#.astype('float')"
   ]
  }
 ],
 "metadata": {
  "colab": {
   "provenance": []
  },
  "kernelspec": {
   "display_name": "base",
   "language": "python",
   "name": "python3"
  },
  "language_info": {
   "codemirror_mode": {
    "name": "ipython",
    "version": 3
   },
   "file_extension": ".py",
   "mimetype": "text/x-python",
   "name": "python",
   "nbconvert_exporter": "python",
   "pygments_lexer": "ipython3",
   "version": "3.12.4"
  }
 },
 "nbformat": 4,
 "nbformat_minor": 0
}
