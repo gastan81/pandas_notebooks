{
 "cells": [
  {
   "cell_type": "markdown",
   "metadata": {
    "id": "eGqyDOiK4nv5"
   },
   "source": [
    "# Debugging Python code\n",
    "\n",
    "Go through the exercises below.\n",
    "\n",
    "- Each exercise contains some code with **one or more mistakes**.\n",
    "- **Important**: note that the mistakes can either prompt an error or not. Some mistakes are \"logical errors\", and you will have to understand why the output is not the desired one.\n",
    "- There might be multiple ways to fix the mistakes.\n",
    "- Improving the code readability is also encouraged."
   ]
  },
  {
   "cell_type": "code",
   "execution_count": 3,
   "metadata": {
    "id": "7teQ1W7aJKqR"
   },
   "outputs": [],
   "source": [
    "# data creation\n",
    "beatles = [\"John Lennon\", \"Paul McCartney\", \"George Harrison\", \"Ringo Starr\"]\n",
    "\n",
    "numbers = [1, 2, 3, 4, 5]\n",
    "\n",
    "capitals = {\"Germany\": \"Berlin\",\n",
    "            \"Russia\": \"Moscow\",\n",
    "            \"France\": \"Paris\",\n",
    "            \"China\": \"Beijing\",\n",
    "            \"Egypt\": \"Cairo\",\n",
    "            \"Brazil\": \"Sao Paulo\"\n",
    "            }\n",
    "\n",
    "top_profitable_films = {\n",
    "    \"Film\": [\"Avengers: Endgame\", \"Avatar\", \"Titanic\", \"Star Wars: The Force Awakens\", \"Jurassic World\",\n",
    "             \"The Lion King\", \"The Avengers\", \"Frozen II\", \"Frozen\", \"Beauty and the Beast\"],\n",
    "    \"Year\": [\"2019\", \"2007\", \"1997\", \"2015\", \"2015\", \"2019\", \"2012\", \"2019\", \"2013\", \"2017\"],\n",
    "    \"Worldwide Gross (in billions)\": [\"2.798\", \"2.789\", \"2.194\", \"2.073\", \"1.673\", \"1.656\", \"1.519\",\n",
    "                                      \"1.450\", \"1.276\", \"1.263\"]\n",
    "    }"
   ]
  },
  {
   "cell_type": "markdown",
   "metadata": {
    "id": "BaJkDo5mMZX2"
   },
   "source": [
    "## Exercise 1:"
   ]
  },
  {
   "cell_type": "code",
   "execution_count": 4,
   "metadata": {
    "colab": {
     "base_uri": "https://localhost:8080/",
     "height": 162
    },
    "executionInfo": {
     "elapsed": 3,
     "status": "error",
     "timestamp": 1711030461837,
     "user": {
      "displayName": "Guillem Perdigo",
      "userId": "04677264432036902014"
     },
     "user_tz": -60
    },
    "id": "05L7VqDMKfx2",
    "outputId": "a23b2365-cabd-4e3f-dacc-e38b37d85d9c"
   },
   "outputs": [
    {
     "ename": "NameError",
     "evalue": "name 'Capitals' is not defined",
     "output_type": "error",
     "traceback": [
      "\u001b[1;31m---------------------------------------------------------------------------\u001b[0m",
      "\u001b[1;31mNameError\u001b[0m                                 Traceback (most recent call last)",
      "Cell \u001b[1;32mIn[4], line 1\u001b[0m\n\u001b[1;32m----> 1\u001b[0m \u001b[38;5;28;01mfor\u001b[39;00m c \u001b[38;5;129;01min\u001b[39;00m \u001b[43mCapitals\u001b[49m\u001b[38;5;241m.\u001b[39mkeys():\n\u001b[0;32m      2\u001b[0m   \u001b[38;5;28mprint\u001b[39m(\u001b[38;5;124mf\u001b[39m\u001b[38;5;124m\"\u001b[39m\u001b[38;5;132;01m{\u001b[39;00mc\u001b[38;5;132;01m}\u001b[39;00m\u001b[38;5;124m is the capital of \u001b[39m\u001b[38;5;132;01m{\u001b[39;00mCapitals[c]\u001b[38;5;132;01m}\u001b[39;00m\u001b[38;5;124m.\u001b[39m\u001b[38;5;124m\"\u001b[39m)\n",
      "\u001b[1;31mNameError\u001b[0m: name 'Capitals' is not defined"
     ]
    }
   ],
   "source": [
    "for c in Capitals.keys():\n",
    "  print(f\"{c} is the capital of {Capitals[c]}.\")"
   ]
  },
  {
   "cell_type": "code",
   "execution_count": null,
   "metadata": {
    "id": "6pVyeB8poUGk"
   },
   "outputs": [],
   "source": [
    "# your code here"
   ]
  },
  {
   "cell_type": "markdown",
   "metadata": {
    "id": "Ktqf8UlUT7Wo"
   },
   "source": [
    "## Exercise 2:\n",
    "Let's imagine we want to show our love for Ringo Starr and print a love statement for him as many times as numbers are in the `numbers` list. For all Beatles who are not Ringo, we want to print as many times a hate statement. The output should look like this:\n",
    "\n",
    "```\n",
    "I hate John Lennon!\n",
    "I hate Paul McCartney!\n",
    "I hate George Harrison!\n",
    "I love Ringo Starr!\n",
    "\n",
    "\n",
    "I hate John Lennon!\n",
    "I hate Paul McCartney!\n",
    "I hate George Harrison!\n",
    "I love Ringo Starr!\n",
    "\n",
    "\n",
    "I hate John Lennon!\n",
    "I hate Paul McCartney!\n",
    "I hate George Harrison!\n",
    "I love Ringo Starr!\n",
    "\n",
    "\n",
    "I hate John Lennon!\n",
    "I hate Paul McCartney!\n",
    "I hate George Harrison!\n",
    "I love Ringo Starr!\n",
    "\n",
    "\n",
    "I hate John Lennon!\n",
    "I hate Paul McCartney!\n",
    "I hate George Harrison!\n",
    "I love Ringo Starr!\n",
    "```\n",
    "\n"
   ]
  },
  {
   "cell_type": "code",
   "execution_count": null,
   "metadata": {
    "id": "cb212PumTUM-"
   },
   "outputs": [],
   "source": [
    "for beatle in beatles:\n",
    "  if beatle = \"Ringo Starr\":\n",
    "    for n in numbers:\n",
    "      print(f\"I love {beatle}!\")\n",
    "  if beatle != \"Ringo Starr\":\n",
    "    print(f\"I hate {beatle}!\")\n",
    "      print(\"\\n\")"
   ]
  },
  {
   "cell_type": "code",
   "execution_count": null,
   "metadata": {
    "id": "J69Sx-XfoafE"
   },
   "outputs": [],
   "source": [
    "# your code here"
   ]
  },
  {
   "cell_type": "markdown",
   "metadata": {
    "id": "cOKlhWRqMQF1"
   },
   "source": [
    "## Exercise 3:"
   ]
  },
  {
   "cell_type": "code",
   "execution_count": 13,
   "metadata": {
    "id": "h6PF4HQfMiex"
   },
   "outputs": [
    {
     "ename": "ModuleNotFoundError",
     "evalue": "No module named 'pandas'",
     "output_type": "error",
     "traceback": [
      "\u001b[1;31m---------------------------------------------------------------------------\u001b[0m",
      "\u001b[1;31mModuleNotFoundError\u001b[0m                       Traceback (most recent call last)",
      "Cell \u001b[1;32mIn[13], line 2\u001b[0m\n\u001b[0;32m      1\u001b[0m \u001b[38;5;66;03m#!pip install pandas\u001b[39;00m\n\u001b[1;32m----> 2\u001b[0m \u001b[38;5;28;01mimport\u001b[39;00m \u001b[38;5;21;01mpandas\u001b[39;00m \u001b[38;5;28;01mas\u001b[39;00m \u001b[38;5;21;01mpd\u001b[39;00m\n\u001b[0;32m      4\u001b[0m top_profitable_films \u001b[38;5;241m=\u001b[39m pd\u001b[38;5;241m.\u001b[39mDataFrame(top_profitable_films)\n\u001b[0;32m      5\u001b[0m top_profitable_films\u001b[38;5;241m.\u001b[39mhead\n",
      "\u001b[1;31mModuleNotFoundError\u001b[0m: No module named 'pandas'"
     ]
    }
   ],
   "source": [
    "#!pip install pandas\n",
    "import pandas as pd\n",
    "\n",
    "top_profitable_films = pd.DataFrame(top_profitable_films)\n",
    "top_profitable_films.head"
   ]
  },
  {
   "cell_type": "code",
   "execution_count": null,
   "metadata": {
    "id": "WbQipHEgoe-m"
   },
   "outputs": [],
   "source": [
    "# your code here"
   ]
  },
  {
   "cell_type": "code",
   "execution_count": 14,
   "metadata": {},
   "outputs": [
    {
     "name": "stdout",
     "output_type": "stream",
     "text": [
      "c:\\Program Files\\Python312\\python.exe\n"
     ]
    }
   ],
   "source": [
    "import sys\n",
    "print(sys.executable)"
   ]
  },
  {
   "cell_type": "markdown",
   "metadata": {
    "id": "nuQNxD6HOcMP"
   },
   "source": [
    "## Exercise 4:\n",
    "\n",
    "We realised that, in our top_films_df, the year of the movie Avatar is wrong. We want to replace it for the correct one, 2009:"
   ]
  },
  {
   "cell_type": "code",
   "execution_count": null,
   "metadata": {
    "id": "03M8YhGWRW5f"
   },
   "outputs": [],
   "source": [
    "top_films_df[top_films_df[\"Film\"]==\"Avatar\"][\"Year\"] = \"2009\""
   ]
  },
  {
   "cell_type": "code",
   "execution_count": null,
   "metadata": {
    "id": "EqszsErnolRF"
   },
   "outputs": [],
   "source": [
    "# your code here"
   ]
  },
  {
   "cell_type": "markdown",
   "metadata": {
    "id": "OwCeBaNYS_aM"
   },
   "source": [
    "## Exercise 5:\n",
    "\n",
    "We want to get the average gross profit of all films:"
   ]
  },
  {
   "cell_type": "code",
   "execution_count": 7,
   "metadata": {
    "id": "ChhryXzVZK4G"
   },
   "outputs": [
    {
     "ename": "NameError",
     "evalue": "name 'pd' is not defined",
     "output_type": "error",
     "traceback": [
      "\u001b[1;31m---------------------------------------------------------------------------\u001b[0m",
      "\u001b[1;31mNameError\u001b[0m                                 Traceback (most recent call last)",
      "Cell \u001b[1;32mIn[7], line 1\u001b[0m\n\u001b[1;32m----> 1\u001b[0m \u001b[43mpd\u001b[49m\u001b[38;5;241m.\u001b[39mto_numeric(top_profitable_films[\u001b[38;5;124m\"\u001b[39m\u001b[38;5;124mWorldwide Gross (in billions)\u001b[39m\u001b[38;5;124m\"\u001b[39m])\n",
      "\u001b[1;31mNameError\u001b[0m: name 'pd' is not defined"
     ]
    }
   ],
   "source": [
    "pd.to_numeric(top_profitable_films[\"Worldwide Gross (in billions)\"])"
   ]
  },
  {
   "cell_type": "code",
   "execution_count": null,
   "metadata": {
    "id": "-6k9YAj9oqzn"
   },
   "outputs": [],
   "source": [
    "# your code here"
   ]
  }
 ],
 "metadata": {
  "colab": {
   "provenance": []
  },
  "kernelspec": {
   "display_name": "Python 3",
   "name": "python3"
  },
  "language_info": {
   "codemirror_mode": {
    "name": "ipython",
    "version": 3
   },
   "file_extension": ".py",
   "mimetype": "text/x-python",
   "name": "python",
   "nbconvert_exporter": "python",
   "pygments_lexer": "ipython3",
   "version": "3.12.6"
  }
 },
 "nbformat": 4,
 "nbformat_minor": 0
}
